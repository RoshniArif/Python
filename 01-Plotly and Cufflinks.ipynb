{
 "cells": [
  {
   "cell_type": "markdown",
   "metadata": {},
   "source": [
    "___\n",
    "\n",
    "<a href='http://www.pieriandata.com'> <img src='../Pierian_Data_Logo.png' /></a>\n",
    "___\n",
    "# Plotly and Cufflinks"
   ]
  },
  {
   "cell_type": "markdown",
   "metadata": {},
   "source": [
    "Plotly is a library that allows you to create interactive plots that you can use in dashboards or websites (you can save them as html files or static images).\n",
    "\n",
    "## Installation\n",
    "\n",
    "In order for this all to work, you'll need to install plotly and cufflinks to call plots directly off of a pandas dataframe. These libraries are not currently available through **conda** but are available through **pip**. Install the libraries at your command line/terminal using:\n",
    "\n",
    "    pip install plotly\n",
    "    pip install cufflinks\n",
    "\n",
    "** NOTE: Make sure you only have one installation of Python on your computer when you do this, otherwise the installation may not work. **\n",
    "\n",
    "## Imports and Set-up"
   ]
  },
  {
   "cell_type": "code",
   "execution_count": 2,
   "metadata": {},
   "outputs": [],
   "source": [
    "import pandas as pd\n",
    "import numpy as np\n",
    "%matplotlib inline"
   ]
  },
  {
   "cell_type": "code",
   "execution_count": 3,
   "metadata": {},
   "outputs": [
    {
     "name": "stdout",
     "output_type": "stream",
     "text": [
      "4.14.3\n"
     ]
    }
   ],
   "source": [
    "from plotly import __version__\n",
    "from plotly.offline import download_plotlyjs, init_notebook_mode, plot, iplot\n",
    "\n",
    "print(__version__) # requires version >= 1.9.0"
   ]
  },
  {
   "cell_type": "code",
   "execution_count": 4,
   "metadata": {},
   "outputs": [],
   "source": [
    "import cufflinks as cf"
   ]
  },
  {
   "cell_type": "code",
   "execution_count": 5,
   "metadata": {},
   "outputs": [
    {
     "data": {
      "text/html": [
       "        <script type=\"text/javascript\">\n",
       "        window.PlotlyConfig = {MathJaxConfig: 'local'};\n",
       "        if (window.MathJax) {MathJax.Hub.Config({SVG: {font: \"STIX-Web\"}});}\n",
       "        if (typeof require !== 'undefined') {\n",
       "        require.undef(\"plotly\");\n",
       "        requirejs.config({\n",
       "            paths: {\n",
       "                'plotly': ['https://cdn.plot.ly/plotly-latest.min']\n",
       "            }\n",
       "        });\n",
       "        require(['plotly'], function(Plotly) {\n",
       "            window._Plotly = Plotly;\n",
       "        });\n",
       "        }\n",
       "        </script>\n",
       "        "
      ]
     },
     "metadata": {},
     "output_type": "display_data"
    }
   ],
   "source": [
    "# For Notebooks\n",
    "init_notebook_mode(connected=True)"
   ]
  },
  {
   "cell_type": "code",
   "execution_count": 6,
   "metadata": {},
   "outputs": [
    {
     "data": {
      "text/html": [
       "        <script type=\"text/javascript\">\n",
       "        window.PlotlyConfig = {MathJaxConfig: 'local'};\n",
       "        if (window.MathJax) {MathJax.Hub.Config({SVG: {font: \"STIX-Web\"}});}\n",
       "        if (typeof require !== 'undefined') {\n",
       "        require.undef(\"plotly\");\n",
       "        requirejs.config({\n",
       "            paths: {\n",
       "                'plotly': ['https://cdn.plot.ly/plotly-latest.min']\n",
       "            }\n",
       "        });\n",
       "        require(['plotly'], function(Plotly) {\n",
       "            window._Plotly = Plotly;\n",
       "        });\n",
       "        }\n",
       "        </script>\n",
       "        "
      ]
     },
     "metadata": {},
     "output_type": "display_data"
    }
   ],
   "source": [
    "# For offline use\n",
    "cf.go_offline()"
   ]
  },
  {
   "cell_type": "markdown",
   "metadata": {},
   "source": [
    "### Fake Data"
   ]
  },
  {
   "cell_type": "code",
   "execution_count": 7,
   "metadata": {},
   "outputs": [],
   "source": [
    "df = pd.DataFrame(np.random.randn(100,4),columns='A B C D'.split())"
   ]
  },
  {
   "cell_type": "code",
   "execution_count": 8,
   "metadata": {},
   "outputs": [
    {
     "data": {
      "text/html": [
       "<div>\n",
       "<style scoped>\n",
       "    .dataframe tbody tr th:only-of-type {\n",
       "        vertical-align: middle;\n",
       "    }\n",
       "\n",
       "    .dataframe tbody tr th {\n",
       "        vertical-align: top;\n",
       "    }\n",
       "\n",
       "    .dataframe thead th {\n",
       "        text-align: right;\n",
       "    }\n",
       "</style>\n",
       "<table border=\"1\" class=\"dataframe\">\n",
       "  <thead>\n",
       "    <tr style=\"text-align: right;\">\n",
       "      <th></th>\n",
       "      <th>A</th>\n",
       "      <th>B</th>\n",
       "      <th>C</th>\n",
       "      <th>D</th>\n",
       "    </tr>\n",
       "  </thead>\n",
       "  <tbody>\n",
       "    <tr>\n",
       "      <th>0</th>\n",
       "      <td>-1.370634</td>\n",
       "      <td>-1.419672</td>\n",
       "      <td>-0.267470</td>\n",
       "      <td>1.270782</td>\n",
       "    </tr>\n",
       "    <tr>\n",
       "      <th>1</th>\n",
       "      <td>-0.444644</td>\n",
       "      <td>0.693777</td>\n",
       "      <td>2.356469</td>\n",
       "      <td>0.315441</td>\n",
       "    </tr>\n",
       "    <tr>\n",
       "      <th>2</th>\n",
       "      <td>0.211948</td>\n",
       "      <td>-0.481285</td>\n",
       "      <td>0.918139</td>\n",
       "      <td>-0.105268</td>\n",
       "    </tr>\n",
       "    <tr>\n",
       "      <th>3</th>\n",
       "      <td>0.121883</td>\n",
       "      <td>0.035159</td>\n",
       "      <td>0.622251</td>\n",
       "      <td>2.560019</td>\n",
       "    </tr>\n",
       "    <tr>\n",
       "      <th>4</th>\n",
       "      <td>0.231098</td>\n",
       "      <td>-0.450179</td>\n",
       "      <td>1.582639</td>\n",
       "      <td>-1.217919</td>\n",
       "    </tr>\n",
       "  </tbody>\n",
       "</table>\n",
       "</div>"
      ],
      "text/plain": [
       "          A         B         C         D\n",
       "0 -1.370634 -1.419672 -0.267470  1.270782\n",
       "1 -0.444644  0.693777  2.356469  0.315441\n",
       "2  0.211948 -0.481285  0.918139 -0.105268\n",
       "3  0.121883  0.035159  0.622251  2.560019\n",
       "4  0.231098 -0.450179  1.582639 -1.217919"
      ]
     },
     "execution_count": 8,
     "metadata": {},
     "output_type": "execute_result"
    }
   ],
   "source": [
    "df.head()"
   ]
  },
  {
   "cell_type": "code",
   "execution_count": 9,
   "metadata": {},
   "outputs": [],
   "source": [
    "df2 = pd.DataFrame({'Category':['A','B','C'],'Values':[32,43,50]})"
   ]
  },
  {
   "cell_type": "code",
   "execution_count": 10,
   "metadata": {},
   "outputs": [
    {
     "data": {
      "text/html": [
       "<div>\n",
       "<style scoped>\n",
       "    .dataframe tbody tr th:only-of-type {\n",
       "        vertical-align: middle;\n",
       "    }\n",
       "\n",
       "    .dataframe tbody tr th {\n",
       "        vertical-align: top;\n",
       "    }\n",
       "\n",
       "    .dataframe thead th {\n",
       "        text-align: right;\n",
       "    }\n",
       "</style>\n",
       "<table border=\"1\" class=\"dataframe\">\n",
       "  <thead>\n",
       "    <tr style=\"text-align: right;\">\n",
       "      <th></th>\n",
       "      <th>Category</th>\n",
       "      <th>Values</th>\n",
       "    </tr>\n",
       "  </thead>\n",
       "  <tbody>\n",
       "    <tr>\n",
       "      <th>0</th>\n",
       "      <td>A</td>\n",
       "      <td>32</td>\n",
       "    </tr>\n",
       "    <tr>\n",
       "      <th>1</th>\n",
       "      <td>B</td>\n",
       "      <td>43</td>\n",
       "    </tr>\n",
       "    <tr>\n",
       "      <th>2</th>\n",
       "      <td>C</td>\n",
       "      <td>50</td>\n",
       "    </tr>\n",
       "  </tbody>\n",
       "</table>\n",
       "</div>"
      ],
      "text/plain": [
       "  Category  Values\n",
       "0        A      32\n",
       "1        B      43\n",
       "2        C      50"
      ]
     },
     "execution_count": 10,
     "metadata": {},
     "output_type": "execute_result"
    }
   ],
   "source": [
    "df2.head()"
   ]
  },
  {
   "cell_type": "markdown",
   "metadata": {},
   "source": [
    "## Using Cufflinks and iplot()\n",
    "\n",
    "* scatter\n",
    "* bar\n",
    "* box\n",
    "* spread\n",
    "* ratio\n",
    "* heatmap\n",
    "* surface\n",
    "* histogram\n",
    "* bubble"
   ]
  },
  {
   "cell_type": "markdown",
   "metadata": {},
   "source": [
    "## Scatter"
   ]
  },
  {
   "cell_type": "code",
   "execution_count": 11,
   "metadata": {},
   "outputs": [
    {
     "data": {
      "application/vnd.plotly.v1+json": {
       "config": {
        "linkText": "Export to plot.ly",
        "plotlyServerURL": "https://plot.ly",
        "showLink": true
       },
       "data": [
        {
         "line": {
          "color": "rgba(255, 153, 51, 1.0)",
          "dash": "solid",
          "shape": "linear",
          "width": 1.3
         },
         "marker": {
          "size": 10,
          "symbol": "circle"
         },
         "mode": "markers",
         "name": "B",
         "text": "",
         "type": "scatter",
         "x": [
          -1.3706341634977999,
          -0.44464357298030577,
          0.21194758281043072,
          0.12188250469054568,
          0.23109750834636394,
          -2.078611900510734,
          -1.4125718461065768,
          1.3226301173678356,
          2.210811587319438,
          0.36723881015481563,
          0.7050702807104442,
          -0.905428803606851,
          -0.7375841040593092,
          -0.4226064027471685,
          0.6645102742651933,
          -0.08735652306256615,
          -0.5813580330962289,
          0.0716254537297011,
          0.15204193295013044,
          1.2331156163625931,
          0.3672451559975761,
          -1.0078492704142434,
          -0.500538082300995,
          0.4229458212448693,
          0.6464313705076554,
          0.2139423481071675,
          0.1714393729772546,
          1.9948550663201299,
          0.4321704238991509,
          0.7392842450688996,
          0.541413784244687,
          0.31978830459683383,
          -0.017365148471931328,
          -1.0857775822469622,
          -1.193103742314076,
          1.099979033425753,
          2.2056855426999866,
          -1.6669638663240616,
          -0.08506313981755931,
          -0.02951404577227692,
          0.4881199025094287,
          -0.528706652714251,
          0.3110493410602627,
          -0.994407222597656,
          -0.28465817230024915,
          0.25556787422035,
          -1.956154522801279,
          0.3883869966365133,
          1.102046149073705,
          -0.4215054879821377,
          0.24423815726095943,
          0.4649265831057877,
          0.4866105838030112,
          0.7258641462406561,
          0.66621179780112,
          2.3012047560973246,
          0.510448614366747,
          -0.0672027437684564,
          0.9902492665119011,
          0.995358276938806,
          -0.3609097311021256,
          -0.8462895865163238,
          2.02343599829043,
          -1.9395551757350018,
          -0.09964614142319132,
          -0.6415266032082034,
          0.09126807042650653,
          -0.7604286997610876,
          -1.4705671870066,
          -1.7726401934108293,
          0.7123922422852348,
          0.8179562452087664,
          0.1397851465613479,
          -1.1900951296743383,
          1.3545683824031913,
          -0.9862518332678586,
          0.07713600519368458,
          0.9665930002866592,
          -0.8836743785929374,
          0.031183626981489555,
          -0.4541590764346655,
          -0.3059995675381995,
          -0.31819475456499857,
          -0.829947107638954,
          0.5502331119843076,
          -2.2427912701229795,
          0.9643634596297002,
          0.4082628205500436,
          -0.472746067463226,
          0.15807422758994447,
          -1.2478598233983356,
          0.9421325113086404,
          0.07985387835658049,
          1.377428942663169,
          -0.17424251486922068,
          -0.8619395928622705,
          -0.7438063014346141,
          1.0724948530588314,
          -0.2917142520456285,
          -0.4723161335846429
         ],
         "y": [
          -1.4196724829893959,
          0.6937772020980084,
          -0.4812846650690201,
          0.035158586908787745,
          -0.45017873068516073,
          -0.030059928365334238,
          -1.856233899690452,
          -0.5590337797075252,
          -0.5804073030280686,
          1.150854046333595,
          -0.6733858899708351,
          0.8266969326608955,
          1.7988410661820298,
          1.1778011802008324,
          0.10006808003616055,
          0.4809616447255042,
          1.287644232127595,
          1.836146110025685,
          -0.11151507322238065,
          -1.251458276052178,
          -1.4470616711917,
          0.10723640266054896,
          -0.9686962871440572,
          1.4393440412212073,
          0.13304099023488128,
          0.4908125547596066,
          0.5220823956304467,
          0.3507904194832665,
          0.2581747768061723,
          0.12205361739481664,
          -0.4198161734207942,
          -0.37561858442804985,
          -1.6277731441939807,
          1.2670489958455784,
          -0.8279945448260254,
          1.5243878128552988,
          -1.3063636827096152,
          -0.005083638785516138,
          0.5029272510206665,
          0.3076220408997537,
          -1.6764059119651478,
          -1.5851239702752005,
          -0.8117329131730747,
          -0.663458209419483,
          0.0856691449911914,
          0.3456908076693621,
          0.9819318143923648,
          -1.1238915488432348,
          0.07568901601486262,
          -0.6329608158228868,
          -0.04523711591711723,
          -0.8385342648127595,
          1.3551895570715595,
          1.1454304810086735,
          0.15400312415551504,
          0.5266222368882257,
          -1.6216902724729327,
          -1.1645414566296808,
          -1.3257935329411572,
          1.0928850861133592,
          0.4397168800217103,
          0.22162291000438433,
          -0.4214110310069617,
          1.359394341005347,
          0.755569142671456,
          -0.047668341509316696,
          1.618663837028353,
          0.07553200040376101,
          1.4332407885042495,
          -0.6812263824951286,
          0.4548067533565884,
          0.8378693195141234,
          0.7205082805758841,
          0.5173519389365746,
          0.16254471065118895,
          0.7989306048084983,
          -0.7530959571258489,
          0.792995916875926,
          -1.3084157648844408,
          -0.6948613980554555,
          -1.3657188199513584,
          -0.12912859493672632,
          1.4763979073116997,
          -1.2508979201194812,
          -0.520025141114111,
          -0.6953210758379533,
          0.5677098245114643,
          -0.2624853987239584,
          2.5523006410694515,
          0.6324875821159565,
          -0.1924944987687054,
          -0.5871756946439045,
          -0.02944436942818076,
          -1.9818632242606096,
          -1.5142323202732133,
          0.8230299179180144,
          -1.3975522801520963,
          -0.7152243646234195,
          0.34084939962171656,
          1.9520183792854542
         ]
        }
       ],
       "layout": {
        "legend": {
         "bgcolor": "#F5F6F9",
         "font": {
          "color": "#4D5663"
         }
        },
        "paper_bgcolor": "#F5F6F9",
        "plot_bgcolor": "#F5F6F9",
        "template": {
         "data": {
          "bar": [
           {
            "error_x": {
             "color": "#2a3f5f"
            },
            "error_y": {
             "color": "#2a3f5f"
            },
            "marker": {
             "line": {
              "color": "#E5ECF6",
              "width": 0.5
             }
            },
            "type": "bar"
           }
          ],
          "barpolar": [
           {
            "marker": {
             "line": {
              "color": "#E5ECF6",
              "width": 0.5
             }
            },
            "type": "barpolar"
           }
          ],
          "carpet": [
           {
            "aaxis": {
             "endlinecolor": "#2a3f5f",
             "gridcolor": "white",
             "linecolor": "white",
             "minorgridcolor": "white",
             "startlinecolor": "#2a3f5f"
            },
            "baxis": {
             "endlinecolor": "#2a3f5f",
             "gridcolor": "white",
             "linecolor": "white",
             "minorgridcolor": "white",
             "startlinecolor": "#2a3f5f"
            },
            "type": "carpet"
           }
          ],
          "choropleth": [
           {
            "colorbar": {
             "outlinewidth": 0,
             "ticks": ""
            },
            "type": "choropleth"
           }
          ],
          "contour": [
           {
            "colorbar": {
             "outlinewidth": 0,
             "ticks": ""
            },
            "colorscale": [
             [
              0,
              "#0d0887"
             ],
             [
              0.1111111111111111,
              "#46039f"
             ],
             [
              0.2222222222222222,
              "#7201a8"
             ],
             [
              0.3333333333333333,
              "#9c179e"
             ],
             [
              0.4444444444444444,
              "#bd3786"
             ],
             [
              0.5555555555555556,
              "#d8576b"
             ],
             [
              0.6666666666666666,
              "#ed7953"
             ],
             [
              0.7777777777777778,
              "#fb9f3a"
             ],
             [
              0.8888888888888888,
              "#fdca26"
             ],
             [
              1,
              "#f0f921"
             ]
            ],
            "type": "contour"
           }
          ],
          "contourcarpet": [
           {
            "colorbar": {
             "outlinewidth": 0,
             "ticks": ""
            },
            "type": "contourcarpet"
           }
          ],
          "heatmap": [
           {
            "colorbar": {
             "outlinewidth": 0,
             "ticks": ""
            },
            "colorscale": [
             [
              0,
              "#0d0887"
             ],
             [
              0.1111111111111111,
              "#46039f"
             ],
             [
              0.2222222222222222,
              "#7201a8"
             ],
             [
              0.3333333333333333,
              "#9c179e"
             ],
             [
              0.4444444444444444,
              "#bd3786"
             ],
             [
              0.5555555555555556,
              "#d8576b"
             ],
             [
              0.6666666666666666,
              "#ed7953"
             ],
             [
              0.7777777777777778,
              "#fb9f3a"
             ],
             [
              0.8888888888888888,
              "#fdca26"
             ],
             [
              1,
              "#f0f921"
             ]
            ],
            "type": "heatmap"
           }
          ],
          "heatmapgl": [
           {
            "colorbar": {
             "outlinewidth": 0,
             "ticks": ""
            },
            "colorscale": [
             [
              0,
              "#0d0887"
             ],
             [
              0.1111111111111111,
              "#46039f"
             ],
             [
              0.2222222222222222,
              "#7201a8"
             ],
             [
              0.3333333333333333,
              "#9c179e"
             ],
             [
              0.4444444444444444,
              "#bd3786"
             ],
             [
              0.5555555555555556,
              "#d8576b"
             ],
             [
              0.6666666666666666,
              "#ed7953"
             ],
             [
              0.7777777777777778,
              "#fb9f3a"
             ],
             [
              0.8888888888888888,
              "#fdca26"
             ],
             [
              1,
              "#f0f921"
             ]
            ],
            "type": "heatmapgl"
           }
          ],
          "histogram": [
           {
            "marker": {
             "colorbar": {
              "outlinewidth": 0,
              "ticks": ""
             }
            },
            "type": "histogram"
           }
          ],
          "histogram2d": [
           {
            "colorbar": {
             "outlinewidth": 0,
             "ticks": ""
            },
            "colorscale": [
             [
              0,
              "#0d0887"
             ],
             [
              0.1111111111111111,
              "#46039f"
             ],
             [
              0.2222222222222222,
              "#7201a8"
             ],
             [
              0.3333333333333333,
              "#9c179e"
             ],
             [
              0.4444444444444444,
              "#bd3786"
             ],
             [
              0.5555555555555556,
              "#d8576b"
             ],
             [
              0.6666666666666666,
              "#ed7953"
             ],
             [
              0.7777777777777778,
              "#fb9f3a"
             ],
             [
              0.8888888888888888,
              "#fdca26"
             ],
             [
              1,
              "#f0f921"
             ]
            ],
            "type": "histogram2d"
           }
          ],
          "histogram2dcontour": [
           {
            "colorbar": {
             "outlinewidth": 0,
             "ticks": ""
            },
            "colorscale": [
             [
              0,
              "#0d0887"
             ],
             [
              0.1111111111111111,
              "#46039f"
             ],
             [
              0.2222222222222222,
              "#7201a8"
             ],
             [
              0.3333333333333333,
              "#9c179e"
             ],
             [
              0.4444444444444444,
              "#bd3786"
             ],
             [
              0.5555555555555556,
              "#d8576b"
             ],
             [
              0.6666666666666666,
              "#ed7953"
             ],
             [
              0.7777777777777778,
              "#fb9f3a"
             ],
             [
              0.8888888888888888,
              "#fdca26"
             ],
             [
              1,
              "#f0f921"
             ]
            ],
            "type": "histogram2dcontour"
           }
          ],
          "mesh3d": [
           {
            "colorbar": {
             "outlinewidth": 0,
             "ticks": ""
            },
            "type": "mesh3d"
           }
          ],
          "parcoords": [
           {
            "line": {
             "colorbar": {
              "outlinewidth": 0,
              "ticks": ""
             }
            },
            "type": "parcoords"
           }
          ],
          "pie": [
           {
            "automargin": true,
            "type": "pie"
           }
          ],
          "scatter": [
           {
            "marker": {
             "colorbar": {
              "outlinewidth": 0,
              "ticks": ""
             }
            },
            "type": "scatter"
           }
          ],
          "scatter3d": [
           {
            "line": {
             "colorbar": {
              "outlinewidth": 0,
              "ticks": ""
             }
            },
            "marker": {
             "colorbar": {
              "outlinewidth": 0,
              "ticks": ""
             }
            },
            "type": "scatter3d"
           }
          ],
          "scattercarpet": [
           {
            "marker": {
             "colorbar": {
              "outlinewidth": 0,
              "ticks": ""
             }
            },
            "type": "scattercarpet"
           }
          ],
          "scattergeo": [
           {
            "marker": {
             "colorbar": {
              "outlinewidth": 0,
              "ticks": ""
             }
            },
            "type": "scattergeo"
           }
          ],
          "scattergl": [
           {
            "marker": {
             "colorbar": {
              "outlinewidth": 0,
              "ticks": ""
             }
            },
            "type": "scattergl"
           }
          ],
          "scattermapbox": [
           {
            "marker": {
             "colorbar": {
              "outlinewidth": 0,
              "ticks": ""
             }
            },
            "type": "scattermapbox"
           }
          ],
          "scatterpolar": [
           {
            "marker": {
             "colorbar": {
              "outlinewidth": 0,
              "ticks": ""
             }
            },
            "type": "scatterpolar"
           }
          ],
          "scatterpolargl": [
           {
            "marker": {
             "colorbar": {
              "outlinewidth": 0,
              "ticks": ""
             }
            },
            "type": "scatterpolargl"
           }
          ],
          "scatterternary": [
           {
            "marker": {
             "colorbar": {
              "outlinewidth": 0,
              "ticks": ""
             }
            },
            "type": "scatterternary"
           }
          ],
          "surface": [
           {
            "colorbar": {
             "outlinewidth": 0,
             "ticks": ""
            },
            "colorscale": [
             [
              0,
              "#0d0887"
             ],
             [
              0.1111111111111111,
              "#46039f"
             ],
             [
              0.2222222222222222,
              "#7201a8"
             ],
             [
              0.3333333333333333,
              "#9c179e"
             ],
             [
              0.4444444444444444,
              "#bd3786"
             ],
             [
              0.5555555555555556,
              "#d8576b"
             ],
             [
              0.6666666666666666,
              "#ed7953"
             ],
             [
              0.7777777777777778,
              "#fb9f3a"
             ],
             [
              0.8888888888888888,
              "#fdca26"
             ],
             [
              1,
              "#f0f921"
             ]
            ],
            "type": "surface"
           }
          ],
          "table": [
           {
            "cells": {
             "fill": {
              "color": "#EBF0F8"
             },
             "line": {
              "color": "white"
             }
            },
            "header": {
             "fill": {
              "color": "#C8D4E3"
             },
             "line": {
              "color": "white"
             }
            },
            "type": "table"
           }
          ]
         },
         "layout": {
          "annotationdefaults": {
           "arrowcolor": "#2a3f5f",
           "arrowhead": 0,
           "arrowwidth": 1
          },
          "autotypenumbers": "strict",
          "coloraxis": {
           "colorbar": {
            "outlinewidth": 0,
            "ticks": ""
           }
          },
          "colorscale": {
           "diverging": [
            [
             0,
             "#8e0152"
            ],
            [
             0.1,
             "#c51b7d"
            ],
            [
             0.2,
             "#de77ae"
            ],
            [
             0.3,
             "#f1b6da"
            ],
            [
             0.4,
             "#fde0ef"
            ],
            [
             0.5,
             "#f7f7f7"
            ],
            [
             0.6,
             "#e6f5d0"
            ],
            [
             0.7,
             "#b8e186"
            ],
            [
             0.8,
             "#7fbc41"
            ],
            [
             0.9,
             "#4d9221"
            ],
            [
             1,
             "#276419"
            ]
           ],
           "sequential": [
            [
             0,
             "#0d0887"
            ],
            [
             0.1111111111111111,
             "#46039f"
            ],
            [
             0.2222222222222222,
             "#7201a8"
            ],
            [
             0.3333333333333333,
             "#9c179e"
            ],
            [
             0.4444444444444444,
             "#bd3786"
            ],
            [
             0.5555555555555556,
             "#d8576b"
            ],
            [
             0.6666666666666666,
             "#ed7953"
            ],
            [
             0.7777777777777778,
             "#fb9f3a"
            ],
            [
             0.8888888888888888,
             "#fdca26"
            ],
            [
             1,
             "#f0f921"
            ]
           ],
           "sequentialminus": [
            [
             0,
             "#0d0887"
            ],
            [
             0.1111111111111111,
             "#46039f"
            ],
            [
             0.2222222222222222,
             "#7201a8"
            ],
            [
             0.3333333333333333,
             "#9c179e"
            ],
            [
             0.4444444444444444,
             "#bd3786"
            ],
            [
             0.5555555555555556,
             "#d8576b"
            ],
            [
             0.6666666666666666,
             "#ed7953"
            ],
            [
             0.7777777777777778,
             "#fb9f3a"
            ],
            [
             0.8888888888888888,
             "#fdca26"
            ],
            [
             1,
             "#f0f921"
            ]
           ]
          },
          "colorway": [
           "#636efa",
           "#EF553B",
           "#00cc96",
           "#ab63fa",
           "#FFA15A",
           "#19d3f3",
           "#FF6692",
           "#B6E880",
           "#FF97FF",
           "#FECB52"
          ],
          "font": {
           "color": "#2a3f5f"
          },
          "geo": {
           "bgcolor": "white",
           "lakecolor": "white",
           "landcolor": "#E5ECF6",
           "showlakes": true,
           "showland": true,
           "subunitcolor": "white"
          },
          "hoverlabel": {
           "align": "left"
          },
          "hovermode": "closest",
          "mapbox": {
           "style": "light"
          },
          "paper_bgcolor": "white",
          "plot_bgcolor": "#E5ECF6",
          "polar": {
           "angularaxis": {
            "gridcolor": "white",
            "linecolor": "white",
            "ticks": ""
           },
           "bgcolor": "#E5ECF6",
           "radialaxis": {
            "gridcolor": "white",
            "linecolor": "white",
            "ticks": ""
           }
          },
          "scene": {
           "xaxis": {
            "backgroundcolor": "#E5ECF6",
            "gridcolor": "white",
            "gridwidth": 2,
            "linecolor": "white",
            "showbackground": true,
            "ticks": "",
            "zerolinecolor": "white"
           },
           "yaxis": {
            "backgroundcolor": "#E5ECF6",
            "gridcolor": "white",
            "gridwidth": 2,
            "linecolor": "white",
            "showbackground": true,
            "ticks": "",
            "zerolinecolor": "white"
           },
           "zaxis": {
            "backgroundcolor": "#E5ECF6",
            "gridcolor": "white",
            "gridwidth": 2,
            "linecolor": "white",
            "showbackground": true,
            "ticks": "",
            "zerolinecolor": "white"
           }
          },
          "shapedefaults": {
           "line": {
            "color": "#2a3f5f"
           }
          },
          "ternary": {
           "aaxis": {
            "gridcolor": "white",
            "linecolor": "white",
            "ticks": ""
           },
           "baxis": {
            "gridcolor": "white",
            "linecolor": "white",
            "ticks": ""
           },
           "bgcolor": "#E5ECF6",
           "caxis": {
            "gridcolor": "white",
            "linecolor": "white",
            "ticks": ""
           }
          },
          "title": {
           "x": 0.05
          },
          "xaxis": {
           "automargin": true,
           "gridcolor": "white",
           "linecolor": "white",
           "ticks": "",
           "title": {
            "standoff": 15
           },
           "zerolinecolor": "white",
           "zerolinewidth": 2
          },
          "yaxis": {
           "automargin": true,
           "gridcolor": "white",
           "linecolor": "white",
           "ticks": "",
           "title": {
            "standoff": 15
           },
           "zerolinecolor": "white",
           "zerolinewidth": 2
          }
         }
        },
        "title": {
         "font": {
          "color": "#4D5663"
         }
        },
        "xaxis": {
         "gridcolor": "#E1E5ED",
         "showgrid": true,
         "tickfont": {
          "color": "#4D5663"
         },
         "title": {
          "font": {
           "color": "#4D5663"
          },
          "text": ""
         },
         "zerolinecolor": "#E1E5ED"
        },
        "yaxis": {
         "gridcolor": "#E1E5ED",
         "showgrid": true,
         "tickfont": {
          "color": "#4D5663"
         },
         "title": {
          "font": {
           "color": "#4D5663"
          },
          "text": ""
         },
         "zerolinecolor": "#E1E5ED"
        }
       }
      },
      "text/html": [
       "<div>                            <div id=\"65b61aaf-2db5-4c94-8b31-3cf79d666c3f\" class=\"plotly-graph-div\" style=\"height:525px; width:100%;\"></div>            <script type=\"text/javascript\">                require([\"plotly\"], function(Plotly) {                    window.PLOTLYENV=window.PLOTLYENV || {};\n",
       "                    window.PLOTLYENV.BASE_URL='https://plot.ly';                                    if (document.getElementById(\"65b61aaf-2db5-4c94-8b31-3cf79d666c3f\")) {                    Plotly.newPlot(                        \"65b61aaf-2db5-4c94-8b31-3cf79d666c3f\",                        [{\"line\": {\"color\": \"rgba(255, 153, 51, 1.0)\", \"dash\": \"solid\", \"shape\": \"linear\", \"width\": 1.3}, \"marker\": {\"size\": 10, \"symbol\": \"circle\"}, \"mode\": \"markers\", \"name\": \"B\", \"text\": \"\", \"type\": \"scatter\", \"x\": [-1.3706341634977999, -0.44464357298030577, 0.21194758281043072, 0.12188250469054568, 0.23109750834636394, -2.078611900510734, -1.4125718461065768, 1.3226301173678356, 2.210811587319438, 0.36723881015481563, 0.7050702807104442, -0.905428803606851, -0.7375841040593092, -0.4226064027471685, 0.6645102742651933, -0.08735652306256615, -0.5813580330962289, 0.0716254537297011, 0.15204193295013044, 1.2331156163625931, 0.3672451559975761, -1.0078492704142434, -0.500538082300995, 0.4229458212448693, 0.6464313705076554, 0.2139423481071675, 0.1714393729772546, 1.9948550663201299, 0.4321704238991509, 0.7392842450688996, 0.541413784244687, 0.31978830459683383, -0.017365148471931328, -1.0857775822469622, -1.193103742314076, 1.099979033425753, 2.2056855426999866, -1.6669638663240616, -0.08506313981755931, -0.02951404577227692, 0.4881199025094287, -0.528706652714251, 0.3110493410602627, -0.994407222597656, -0.28465817230024915, 0.25556787422035, -1.956154522801279, 0.3883869966365133, 1.102046149073705, -0.4215054879821377, 0.24423815726095943, 0.4649265831057877, 0.4866105838030112, 0.7258641462406561, 0.66621179780112, 2.3012047560973246, 0.510448614366747, -0.0672027437684564, 0.9902492665119011, 0.995358276938806, -0.3609097311021256, -0.8462895865163238, 2.02343599829043, -1.9395551757350018, -0.09964614142319132, -0.6415266032082034, 0.09126807042650653, -0.7604286997610876, -1.4705671870066, -1.7726401934108293, 0.7123922422852348, 0.8179562452087664, 0.1397851465613479, -1.1900951296743383, 1.3545683824031913, -0.9862518332678586, 0.07713600519368458, 0.9665930002866592, -0.8836743785929374, 0.031183626981489555, -0.4541590764346655, -0.3059995675381995, -0.31819475456499857, -0.829947107638954, 0.5502331119843076, -2.2427912701229795, 0.9643634596297002, 0.4082628205500436, -0.472746067463226, 0.15807422758994447, -1.2478598233983356, 0.9421325113086404, 0.07985387835658049, 1.377428942663169, -0.17424251486922068, -0.8619395928622705, -0.7438063014346141, 1.0724948530588314, -0.2917142520456285, -0.4723161335846429], \"y\": [-1.4196724829893959, 0.6937772020980084, -0.4812846650690201, 0.035158586908787745, -0.45017873068516073, -0.030059928365334238, -1.856233899690452, -0.5590337797075252, -0.5804073030280686, 1.150854046333595, -0.6733858899708351, 0.8266969326608955, 1.7988410661820298, 1.1778011802008324, 0.10006808003616055, 0.4809616447255042, 1.287644232127595, 1.836146110025685, -0.11151507322238065, -1.251458276052178, -1.4470616711917, 0.10723640266054896, -0.9686962871440572, 1.4393440412212073, 0.13304099023488128, 0.4908125547596066, 0.5220823956304467, 0.3507904194832665, 0.2581747768061723, 0.12205361739481664, -0.4198161734207942, -0.37561858442804985, -1.6277731441939807, 1.2670489958455784, -0.8279945448260254, 1.5243878128552988, -1.3063636827096152, -0.005083638785516138, 0.5029272510206665, 0.3076220408997537, -1.6764059119651478, -1.5851239702752005, -0.8117329131730747, -0.663458209419483, 0.0856691449911914, 0.3456908076693621, 0.9819318143923648, -1.1238915488432348, 0.07568901601486262, -0.6329608158228868, -0.04523711591711723, -0.8385342648127595, 1.3551895570715595, 1.1454304810086735, 0.15400312415551504, 0.5266222368882257, -1.6216902724729327, -1.1645414566296808, -1.3257935329411572, 1.0928850861133592, 0.4397168800217103, 0.22162291000438433, -0.4214110310069617, 1.359394341005347, 0.755569142671456, -0.047668341509316696, 1.618663837028353, 0.07553200040376101, 1.4332407885042495, -0.6812263824951286, 0.4548067533565884, 0.8378693195141234, 0.7205082805758841, 0.5173519389365746, 0.16254471065118895, 0.7989306048084983, -0.7530959571258489, 0.792995916875926, -1.3084157648844408, -0.6948613980554555, -1.3657188199513584, -0.12912859493672632, 1.4763979073116997, -1.2508979201194812, -0.520025141114111, -0.6953210758379533, 0.5677098245114643, -0.2624853987239584, 2.5523006410694515, 0.6324875821159565, -0.1924944987687054, -0.5871756946439045, -0.02944436942818076, -1.9818632242606096, -1.5142323202732133, 0.8230299179180144, -1.3975522801520963, -0.7152243646234195, 0.34084939962171656, 1.9520183792854542]}],                        {\"legend\": {\"bgcolor\": \"#F5F6F9\", \"font\": {\"color\": \"#4D5663\"}}, \"paper_bgcolor\": \"#F5F6F9\", \"plot_bgcolor\": \"#F5F6F9\", \"template\": {\"data\": {\"bar\": [{\"error_x\": {\"color\": \"#2a3f5f\"}, \"error_y\": {\"color\": \"#2a3f5f\"}, \"marker\": {\"line\": {\"color\": \"#E5ECF6\", \"width\": 0.5}}, \"type\": \"bar\"}], \"barpolar\": [{\"marker\": {\"line\": {\"color\": \"#E5ECF6\", \"width\": 0.5}}, \"type\": \"barpolar\"}], \"carpet\": [{\"aaxis\": {\"endlinecolor\": \"#2a3f5f\", \"gridcolor\": \"white\", \"linecolor\": \"white\", \"minorgridcolor\": \"white\", \"startlinecolor\": \"#2a3f5f\"}, \"baxis\": {\"endlinecolor\": \"#2a3f5f\", \"gridcolor\": \"white\", \"linecolor\": \"white\", \"minorgridcolor\": \"white\", \"startlinecolor\": \"#2a3f5f\"}, \"type\": \"carpet\"}], \"choropleth\": [{\"colorbar\": {\"outlinewidth\": 0, \"ticks\": \"\"}, \"type\": \"choropleth\"}], \"contour\": [{\"colorbar\": {\"outlinewidth\": 0, \"ticks\": \"\"}, \"colorscale\": [[0.0, \"#0d0887\"], [0.1111111111111111, \"#46039f\"], [0.2222222222222222, \"#7201a8\"], [0.3333333333333333, \"#9c179e\"], [0.4444444444444444, \"#bd3786\"], [0.5555555555555556, \"#d8576b\"], [0.6666666666666666, \"#ed7953\"], [0.7777777777777778, \"#fb9f3a\"], [0.8888888888888888, \"#fdca26\"], [1.0, \"#f0f921\"]], \"type\": \"contour\"}], \"contourcarpet\": [{\"colorbar\": {\"outlinewidth\": 0, \"ticks\": \"\"}, \"type\": \"contourcarpet\"}], \"heatmap\": [{\"colorbar\": {\"outlinewidth\": 0, \"ticks\": \"\"}, \"colorscale\": [[0.0, \"#0d0887\"], [0.1111111111111111, \"#46039f\"], [0.2222222222222222, \"#7201a8\"], [0.3333333333333333, \"#9c179e\"], [0.4444444444444444, \"#bd3786\"], [0.5555555555555556, \"#d8576b\"], [0.6666666666666666, \"#ed7953\"], [0.7777777777777778, \"#fb9f3a\"], [0.8888888888888888, \"#fdca26\"], [1.0, \"#f0f921\"]], \"type\": \"heatmap\"}], \"heatmapgl\": [{\"colorbar\": {\"outlinewidth\": 0, \"ticks\": \"\"}, \"colorscale\": [[0.0, \"#0d0887\"], [0.1111111111111111, \"#46039f\"], [0.2222222222222222, \"#7201a8\"], [0.3333333333333333, \"#9c179e\"], [0.4444444444444444, \"#bd3786\"], [0.5555555555555556, \"#d8576b\"], [0.6666666666666666, \"#ed7953\"], [0.7777777777777778, \"#fb9f3a\"], [0.8888888888888888, \"#fdca26\"], [1.0, \"#f0f921\"]], \"type\": \"heatmapgl\"}], \"histogram\": [{\"marker\": {\"colorbar\": {\"outlinewidth\": 0, \"ticks\": \"\"}}, \"type\": \"histogram\"}], \"histogram2d\": [{\"colorbar\": {\"outlinewidth\": 0, \"ticks\": \"\"}, \"colorscale\": [[0.0, \"#0d0887\"], [0.1111111111111111, \"#46039f\"], [0.2222222222222222, \"#7201a8\"], [0.3333333333333333, \"#9c179e\"], [0.4444444444444444, \"#bd3786\"], [0.5555555555555556, \"#d8576b\"], [0.6666666666666666, \"#ed7953\"], [0.7777777777777778, \"#fb9f3a\"], [0.8888888888888888, \"#fdca26\"], [1.0, \"#f0f921\"]], \"type\": \"histogram2d\"}], \"histogram2dcontour\": [{\"colorbar\": {\"outlinewidth\": 0, \"ticks\": \"\"}, \"colorscale\": [[0.0, \"#0d0887\"], [0.1111111111111111, \"#46039f\"], [0.2222222222222222, \"#7201a8\"], [0.3333333333333333, \"#9c179e\"], [0.4444444444444444, \"#bd3786\"], [0.5555555555555556, \"#d8576b\"], [0.6666666666666666, \"#ed7953\"], [0.7777777777777778, \"#fb9f3a\"], [0.8888888888888888, \"#fdca26\"], [1.0, \"#f0f921\"]], \"type\": \"histogram2dcontour\"}], \"mesh3d\": [{\"colorbar\": {\"outlinewidth\": 0, \"ticks\": \"\"}, \"type\": \"mesh3d\"}], \"parcoords\": [{\"line\": {\"colorbar\": {\"outlinewidth\": 0, \"ticks\": \"\"}}, \"type\": \"parcoords\"}], \"pie\": [{\"automargin\": true, \"type\": \"pie\"}], \"scatter\": [{\"marker\": {\"colorbar\": {\"outlinewidth\": 0, \"ticks\": \"\"}}, \"type\": \"scatter\"}], \"scatter3d\": [{\"line\": {\"colorbar\": {\"outlinewidth\": 0, \"ticks\": \"\"}}, \"marker\": {\"colorbar\": {\"outlinewidth\": 0, \"ticks\": \"\"}}, \"type\": \"scatter3d\"}], \"scattercarpet\": [{\"marker\": {\"colorbar\": {\"outlinewidth\": 0, \"ticks\": \"\"}}, \"type\": \"scattercarpet\"}], \"scattergeo\": [{\"marker\": {\"colorbar\": {\"outlinewidth\": 0, \"ticks\": \"\"}}, \"type\": \"scattergeo\"}], \"scattergl\": [{\"marker\": {\"colorbar\": {\"outlinewidth\": 0, \"ticks\": \"\"}}, \"type\": \"scattergl\"}], \"scattermapbox\": [{\"marker\": {\"colorbar\": {\"outlinewidth\": 0, \"ticks\": \"\"}}, \"type\": \"scattermapbox\"}], \"scatterpolar\": [{\"marker\": {\"colorbar\": {\"outlinewidth\": 0, \"ticks\": \"\"}}, \"type\": \"scatterpolar\"}], \"scatterpolargl\": [{\"marker\": {\"colorbar\": {\"outlinewidth\": 0, \"ticks\": \"\"}}, \"type\": \"scatterpolargl\"}], \"scatterternary\": [{\"marker\": {\"colorbar\": {\"outlinewidth\": 0, \"ticks\": \"\"}}, \"type\": \"scatterternary\"}], \"surface\": [{\"colorbar\": {\"outlinewidth\": 0, \"ticks\": \"\"}, \"colorscale\": [[0.0, \"#0d0887\"], [0.1111111111111111, \"#46039f\"], [0.2222222222222222, \"#7201a8\"], [0.3333333333333333, \"#9c179e\"], [0.4444444444444444, \"#bd3786\"], [0.5555555555555556, \"#d8576b\"], [0.6666666666666666, \"#ed7953\"], [0.7777777777777778, \"#fb9f3a\"], [0.8888888888888888, \"#fdca26\"], [1.0, \"#f0f921\"]], \"type\": \"surface\"}], \"table\": [{\"cells\": {\"fill\": {\"color\": \"#EBF0F8\"}, \"line\": {\"color\": \"white\"}}, \"header\": {\"fill\": {\"color\": \"#C8D4E3\"}, \"line\": {\"color\": \"white\"}}, \"type\": \"table\"}]}, \"layout\": {\"annotationdefaults\": {\"arrowcolor\": \"#2a3f5f\", \"arrowhead\": 0, \"arrowwidth\": 1}, \"autotypenumbers\": \"strict\", \"coloraxis\": {\"colorbar\": {\"outlinewidth\": 0, \"ticks\": \"\"}}, \"colorscale\": {\"diverging\": [[0, \"#8e0152\"], [0.1, \"#c51b7d\"], [0.2, \"#de77ae\"], [0.3, \"#f1b6da\"], [0.4, \"#fde0ef\"], [0.5, \"#f7f7f7\"], [0.6, \"#e6f5d0\"], [0.7, \"#b8e186\"], [0.8, \"#7fbc41\"], [0.9, \"#4d9221\"], [1, \"#276419\"]], \"sequential\": [[0.0, \"#0d0887\"], [0.1111111111111111, \"#46039f\"], [0.2222222222222222, \"#7201a8\"], [0.3333333333333333, \"#9c179e\"], [0.4444444444444444, \"#bd3786\"], [0.5555555555555556, \"#d8576b\"], [0.6666666666666666, \"#ed7953\"], [0.7777777777777778, \"#fb9f3a\"], [0.8888888888888888, \"#fdca26\"], [1.0, \"#f0f921\"]], \"sequentialminus\": [[0.0, \"#0d0887\"], [0.1111111111111111, \"#46039f\"], [0.2222222222222222, \"#7201a8\"], [0.3333333333333333, \"#9c179e\"], [0.4444444444444444, \"#bd3786\"], [0.5555555555555556, \"#d8576b\"], [0.6666666666666666, \"#ed7953\"], [0.7777777777777778, \"#fb9f3a\"], [0.8888888888888888, \"#fdca26\"], [1.0, \"#f0f921\"]]}, \"colorway\": [\"#636efa\", \"#EF553B\", \"#00cc96\", \"#ab63fa\", \"#FFA15A\", \"#19d3f3\", \"#FF6692\", \"#B6E880\", \"#FF97FF\", \"#FECB52\"], \"font\": {\"color\": \"#2a3f5f\"}, \"geo\": {\"bgcolor\": \"white\", \"lakecolor\": \"white\", \"landcolor\": \"#E5ECF6\", \"showlakes\": true, \"showland\": true, \"subunitcolor\": \"white\"}, \"hoverlabel\": {\"align\": \"left\"}, \"hovermode\": \"closest\", \"mapbox\": {\"style\": \"light\"}, \"paper_bgcolor\": \"white\", \"plot_bgcolor\": \"#E5ECF6\", \"polar\": {\"angularaxis\": {\"gridcolor\": \"white\", \"linecolor\": \"white\", \"ticks\": \"\"}, \"bgcolor\": \"#E5ECF6\", \"radialaxis\": {\"gridcolor\": \"white\", \"linecolor\": \"white\", \"ticks\": \"\"}}, \"scene\": {\"xaxis\": {\"backgroundcolor\": \"#E5ECF6\", \"gridcolor\": \"white\", \"gridwidth\": 2, \"linecolor\": \"white\", \"showbackground\": true, \"ticks\": \"\", \"zerolinecolor\": \"white\"}, \"yaxis\": {\"backgroundcolor\": \"#E5ECF6\", \"gridcolor\": \"white\", \"gridwidth\": 2, \"linecolor\": \"white\", \"showbackground\": true, \"ticks\": \"\", \"zerolinecolor\": \"white\"}, \"zaxis\": {\"backgroundcolor\": \"#E5ECF6\", \"gridcolor\": \"white\", \"gridwidth\": 2, \"linecolor\": \"white\", \"showbackground\": true, \"ticks\": \"\", \"zerolinecolor\": \"white\"}}, \"shapedefaults\": {\"line\": {\"color\": \"#2a3f5f\"}}, \"ternary\": {\"aaxis\": {\"gridcolor\": \"white\", \"linecolor\": \"white\", \"ticks\": \"\"}, \"baxis\": {\"gridcolor\": \"white\", \"linecolor\": \"white\", \"ticks\": \"\"}, \"bgcolor\": \"#E5ECF6\", \"caxis\": {\"gridcolor\": \"white\", \"linecolor\": \"white\", \"ticks\": \"\"}}, \"title\": {\"x\": 0.05}, \"xaxis\": {\"automargin\": true, \"gridcolor\": \"white\", \"linecolor\": \"white\", \"ticks\": \"\", \"title\": {\"standoff\": 15}, \"zerolinecolor\": \"white\", \"zerolinewidth\": 2}, \"yaxis\": {\"automargin\": true, \"gridcolor\": \"white\", \"linecolor\": \"white\", \"ticks\": \"\", \"title\": {\"standoff\": 15}, \"zerolinecolor\": \"white\", \"zerolinewidth\": 2}}}, \"title\": {\"font\": {\"color\": \"#4D5663\"}}, \"xaxis\": {\"gridcolor\": \"#E1E5ED\", \"showgrid\": true, \"tickfont\": {\"color\": \"#4D5663\"}, \"title\": {\"font\": {\"color\": \"#4D5663\"}, \"text\": \"\"}, \"zerolinecolor\": \"#E1E5ED\"}, \"yaxis\": {\"gridcolor\": \"#E1E5ED\", \"showgrid\": true, \"tickfont\": {\"color\": \"#4D5663\"}, \"title\": {\"font\": {\"color\": \"#4D5663\"}, \"text\": \"\"}, \"zerolinecolor\": \"#E1E5ED\"}},                        {\"showLink\": true, \"linkText\": \"Export to plot.ly\", \"plotlyServerURL\": \"https://plot.ly\", \"responsive\": true}                    ).then(function(){\n",
       "                            \n",
       "var gd = document.getElementById('65b61aaf-2db5-4c94-8b31-3cf79d666c3f');\n",
       "var x = new MutationObserver(function (mutations, observer) {{\n",
       "        var display = window.getComputedStyle(gd).display;\n",
       "        if (!display || display === 'none') {{\n",
       "            console.log([gd, 'removed!']);\n",
       "            Plotly.purge(gd);\n",
       "            observer.disconnect();\n",
       "        }}\n",
       "}});\n",
       "\n",
       "// Listen for the removal of the full notebook cells\n",
       "var notebookContainer = gd.closest('#notebook-container');\n",
       "if (notebookContainer) {{\n",
       "    x.observe(notebookContainer, {childList: true});\n",
       "}}\n",
       "\n",
       "// Listen for the clearing of the current output cell\n",
       "var outputEl = gd.closest('.output');\n",
       "if (outputEl) {{\n",
       "    x.observe(outputEl, {childList: true});\n",
       "}}\n",
       "\n",
       "                        })                };                });            </script>        </div>"
      ]
     },
     "metadata": {},
     "output_type": "display_data"
    }
   ],
   "source": [
    "df.iplot(kind='scatter',x='A',y='B',mode='markers',size=10)"
   ]
  },
  {
   "cell_type": "markdown",
   "metadata": {},
   "source": [
    "## Bar Plots"
   ]
  },
  {
   "cell_type": "code",
   "execution_count": 12,
   "metadata": {},
   "outputs": [
    {
     "data": {
      "application/vnd.plotly.v1+json": {
       "config": {
        "linkText": "Export to plot.ly",
        "plotlyServerURL": "https://plot.ly",
        "showLink": true
       },
       "data": [
        {
         "marker": {
          "color": "rgba(255, 153, 51, 0.6)",
          "line": {
           "color": "rgba(255, 153, 51, 1.0)",
           "width": 1
          }
         },
         "name": "Values",
         "orientation": "v",
         "text": "",
         "type": "bar",
         "x": [
          "A",
          "B",
          "C"
         ],
         "y": [
          32,
          43,
          50
         ]
        }
       ],
       "layout": {
        "legend": {
         "bgcolor": "#F5F6F9",
         "font": {
          "color": "#4D5663"
         }
        },
        "paper_bgcolor": "#F5F6F9",
        "plot_bgcolor": "#F5F6F9",
        "template": {
         "data": {
          "bar": [
           {
            "error_x": {
             "color": "#2a3f5f"
            },
            "error_y": {
             "color": "#2a3f5f"
            },
            "marker": {
             "line": {
              "color": "#E5ECF6",
              "width": 0.5
             }
            },
            "type": "bar"
           }
          ],
          "barpolar": [
           {
            "marker": {
             "line": {
              "color": "#E5ECF6",
              "width": 0.5
             }
            },
            "type": "barpolar"
           }
          ],
          "carpet": [
           {
            "aaxis": {
             "endlinecolor": "#2a3f5f",
             "gridcolor": "white",
             "linecolor": "white",
             "minorgridcolor": "white",
             "startlinecolor": "#2a3f5f"
            },
            "baxis": {
             "endlinecolor": "#2a3f5f",
             "gridcolor": "white",
             "linecolor": "white",
             "minorgridcolor": "white",
             "startlinecolor": "#2a3f5f"
            },
            "type": "carpet"
           }
          ],
          "choropleth": [
           {
            "colorbar": {
             "outlinewidth": 0,
             "ticks": ""
            },
            "type": "choropleth"
           }
          ],
          "contour": [
           {
            "colorbar": {
             "outlinewidth": 0,
             "ticks": ""
            },
            "colorscale": [
             [
              0,
              "#0d0887"
             ],
             [
              0.1111111111111111,
              "#46039f"
             ],
             [
              0.2222222222222222,
              "#7201a8"
             ],
             [
              0.3333333333333333,
              "#9c179e"
             ],
             [
              0.4444444444444444,
              "#bd3786"
             ],
             [
              0.5555555555555556,
              "#d8576b"
             ],
             [
              0.6666666666666666,
              "#ed7953"
             ],
             [
              0.7777777777777778,
              "#fb9f3a"
             ],
             [
              0.8888888888888888,
              "#fdca26"
             ],
             [
              1,
              "#f0f921"
             ]
            ],
            "type": "contour"
           }
          ],
          "contourcarpet": [
           {
            "colorbar": {
             "outlinewidth": 0,
             "ticks": ""
            },
            "type": "contourcarpet"
           }
          ],
          "heatmap": [
           {
            "colorbar": {
             "outlinewidth": 0,
             "ticks": ""
            },
            "colorscale": [
             [
              0,
              "#0d0887"
             ],
             [
              0.1111111111111111,
              "#46039f"
             ],
             [
              0.2222222222222222,
              "#7201a8"
             ],
             [
              0.3333333333333333,
              "#9c179e"
             ],
             [
              0.4444444444444444,
              "#bd3786"
             ],
             [
              0.5555555555555556,
              "#d8576b"
             ],
             [
              0.6666666666666666,
              "#ed7953"
             ],
             [
              0.7777777777777778,
              "#fb9f3a"
             ],
             [
              0.8888888888888888,
              "#fdca26"
             ],
             [
              1,
              "#f0f921"
             ]
            ],
            "type": "heatmap"
           }
          ],
          "heatmapgl": [
           {
            "colorbar": {
             "outlinewidth": 0,
             "ticks": ""
            },
            "colorscale": [
             [
              0,
              "#0d0887"
             ],
             [
              0.1111111111111111,
              "#46039f"
             ],
             [
              0.2222222222222222,
              "#7201a8"
             ],
             [
              0.3333333333333333,
              "#9c179e"
             ],
             [
              0.4444444444444444,
              "#bd3786"
             ],
             [
              0.5555555555555556,
              "#d8576b"
             ],
             [
              0.6666666666666666,
              "#ed7953"
             ],
             [
              0.7777777777777778,
              "#fb9f3a"
             ],
             [
              0.8888888888888888,
              "#fdca26"
             ],
             [
              1,
              "#f0f921"
             ]
            ],
            "type": "heatmapgl"
           }
          ],
          "histogram": [
           {
            "marker": {
             "colorbar": {
              "outlinewidth": 0,
              "ticks": ""
             }
            },
            "type": "histogram"
           }
          ],
          "histogram2d": [
           {
            "colorbar": {
             "outlinewidth": 0,
             "ticks": ""
            },
            "colorscale": [
             [
              0,
              "#0d0887"
             ],
             [
              0.1111111111111111,
              "#46039f"
             ],
             [
              0.2222222222222222,
              "#7201a8"
             ],
             [
              0.3333333333333333,
              "#9c179e"
             ],
             [
              0.4444444444444444,
              "#bd3786"
             ],
             [
              0.5555555555555556,
              "#d8576b"
             ],
             [
              0.6666666666666666,
              "#ed7953"
             ],
             [
              0.7777777777777778,
              "#fb9f3a"
             ],
             [
              0.8888888888888888,
              "#fdca26"
             ],
             [
              1,
              "#f0f921"
             ]
            ],
            "type": "histogram2d"
           }
          ],
          "histogram2dcontour": [
           {
            "colorbar": {
             "outlinewidth": 0,
             "ticks": ""
            },
            "colorscale": [
             [
              0,
              "#0d0887"
             ],
             [
              0.1111111111111111,
              "#46039f"
             ],
             [
              0.2222222222222222,
              "#7201a8"
             ],
             [
              0.3333333333333333,
              "#9c179e"
             ],
             [
              0.4444444444444444,
              "#bd3786"
             ],
             [
              0.5555555555555556,
              "#d8576b"
             ],
             [
              0.6666666666666666,
              "#ed7953"
             ],
             [
              0.7777777777777778,
              "#fb9f3a"
             ],
             [
              0.8888888888888888,
              "#fdca26"
             ],
             [
              1,
              "#f0f921"
             ]
            ],
            "type": "histogram2dcontour"
           }
          ],
          "mesh3d": [
           {
            "colorbar": {
             "outlinewidth": 0,
             "ticks": ""
            },
            "type": "mesh3d"
           }
          ],
          "parcoords": [
           {
            "line": {
             "colorbar": {
              "outlinewidth": 0,
              "ticks": ""
             }
            },
            "type": "parcoords"
           }
          ],
          "pie": [
           {
            "automargin": true,
            "type": "pie"
           }
          ],
          "scatter": [
           {
            "marker": {
             "colorbar": {
              "outlinewidth": 0,
              "ticks": ""
             }
            },
            "type": "scatter"
           }
          ],
          "scatter3d": [
           {
            "line": {
             "colorbar": {
              "outlinewidth": 0,
              "ticks": ""
             }
            },
            "marker": {
             "colorbar": {
              "outlinewidth": 0,
              "ticks": ""
             }
            },
            "type": "scatter3d"
           }
          ],
          "scattercarpet": [
           {
            "marker": {
             "colorbar": {
              "outlinewidth": 0,
              "ticks": ""
             }
            },
            "type": "scattercarpet"
           }
          ],
          "scattergeo": [
           {
            "marker": {
             "colorbar": {
              "outlinewidth": 0,
              "ticks": ""
             }
            },
            "type": "scattergeo"
           }
          ],
          "scattergl": [
           {
            "marker": {
             "colorbar": {
              "outlinewidth": 0,
              "ticks": ""
             }
            },
            "type": "scattergl"
           }
          ],
          "scattermapbox": [
           {
            "marker": {
             "colorbar": {
              "outlinewidth": 0,
              "ticks": ""
             }
            },
            "type": "scattermapbox"
           }
          ],
          "scatterpolar": [
           {
            "marker": {
             "colorbar": {
              "outlinewidth": 0,
              "ticks": ""
             }
            },
            "type": "scatterpolar"
           }
          ],
          "scatterpolargl": [
           {
            "marker": {
             "colorbar": {
              "outlinewidth": 0,
              "ticks": ""
             }
            },
            "type": "scatterpolargl"
           }
          ],
          "scatterternary": [
           {
            "marker": {
             "colorbar": {
              "outlinewidth": 0,
              "ticks": ""
             }
            },
            "type": "scatterternary"
           }
          ],
          "surface": [
           {
            "colorbar": {
             "outlinewidth": 0,
             "ticks": ""
            },
            "colorscale": [
             [
              0,
              "#0d0887"
             ],
             [
              0.1111111111111111,
              "#46039f"
             ],
             [
              0.2222222222222222,
              "#7201a8"
             ],
             [
              0.3333333333333333,
              "#9c179e"
             ],
             [
              0.4444444444444444,
              "#bd3786"
             ],
             [
              0.5555555555555556,
              "#d8576b"
             ],
             [
              0.6666666666666666,
              "#ed7953"
             ],
             [
              0.7777777777777778,
              "#fb9f3a"
             ],
             [
              0.8888888888888888,
              "#fdca26"
             ],
             [
              1,
              "#f0f921"
             ]
            ],
            "type": "surface"
           }
          ],
          "table": [
           {
            "cells": {
             "fill": {
              "color": "#EBF0F8"
             },
             "line": {
              "color": "white"
             }
            },
            "header": {
             "fill": {
              "color": "#C8D4E3"
             },
             "line": {
              "color": "white"
             }
            },
            "type": "table"
           }
          ]
         },
         "layout": {
          "annotationdefaults": {
           "arrowcolor": "#2a3f5f",
           "arrowhead": 0,
           "arrowwidth": 1
          },
          "autotypenumbers": "strict",
          "coloraxis": {
           "colorbar": {
            "outlinewidth": 0,
            "ticks": ""
           }
          },
          "colorscale": {
           "diverging": [
            [
             0,
             "#8e0152"
            ],
            [
             0.1,
             "#c51b7d"
            ],
            [
             0.2,
             "#de77ae"
            ],
            [
             0.3,
             "#f1b6da"
            ],
            [
             0.4,
             "#fde0ef"
            ],
            [
             0.5,
             "#f7f7f7"
            ],
            [
             0.6,
             "#e6f5d0"
            ],
            [
             0.7,
             "#b8e186"
            ],
            [
             0.8,
             "#7fbc41"
            ],
            [
             0.9,
             "#4d9221"
            ],
            [
             1,
             "#276419"
            ]
           ],
           "sequential": [
            [
             0,
             "#0d0887"
            ],
            [
             0.1111111111111111,
             "#46039f"
            ],
            [
             0.2222222222222222,
             "#7201a8"
            ],
            [
             0.3333333333333333,
             "#9c179e"
            ],
            [
             0.4444444444444444,
             "#bd3786"
            ],
            [
             0.5555555555555556,
             "#d8576b"
            ],
            [
             0.6666666666666666,
             "#ed7953"
            ],
            [
             0.7777777777777778,
             "#fb9f3a"
            ],
            [
             0.8888888888888888,
             "#fdca26"
            ],
            [
             1,
             "#f0f921"
            ]
           ],
           "sequentialminus": [
            [
             0,
             "#0d0887"
            ],
            [
             0.1111111111111111,
             "#46039f"
            ],
            [
             0.2222222222222222,
             "#7201a8"
            ],
            [
             0.3333333333333333,
             "#9c179e"
            ],
            [
             0.4444444444444444,
             "#bd3786"
            ],
            [
             0.5555555555555556,
             "#d8576b"
            ],
            [
             0.6666666666666666,
             "#ed7953"
            ],
            [
             0.7777777777777778,
             "#fb9f3a"
            ],
            [
             0.8888888888888888,
             "#fdca26"
            ],
            [
             1,
             "#f0f921"
            ]
           ]
          },
          "colorway": [
           "#636efa",
           "#EF553B",
           "#00cc96",
           "#ab63fa",
           "#FFA15A",
           "#19d3f3",
           "#FF6692",
           "#B6E880",
           "#FF97FF",
           "#FECB52"
          ],
          "font": {
           "color": "#2a3f5f"
          },
          "geo": {
           "bgcolor": "white",
           "lakecolor": "white",
           "landcolor": "#E5ECF6",
           "showlakes": true,
           "showland": true,
           "subunitcolor": "white"
          },
          "hoverlabel": {
           "align": "left"
          },
          "hovermode": "closest",
          "mapbox": {
           "style": "light"
          },
          "paper_bgcolor": "white",
          "plot_bgcolor": "#E5ECF6",
          "polar": {
           "angularaxis": {
            "gridcolor": "white",
            "linecolor": "white",
            "ticks": ""
           },
           "bgcolor": "#E5ECF6",
           "radialaxis": {
            "gridcolor": "white",
            "linecolor": "white",
            "ticks": ""
           }
          },
          "scene": {
           "xaxis": {
            "backgroundcolor": "#E5ECF6",
            "gridcolor": "white",
            "gridwidth": 2,
            "linecolor": "white",
            "showbackground": true,
            "ticks": "",
            "zerolinecolor": "white"
           },
           "yaxis": {
            "backgroundcolor": "#E5ECF6",
            "gridcolor": "white",
            "gridwidth": 2,
            "linecolor": "white",
            "showbackground": true,
            "ticks": "",
            "zerolinecolor": "white"
           },
           "zaxis": {
            "backgroundcolor": "#E5ECF6",
            "gridcolor": "white",
            "gridwidth": 2,
            "linecolor": "white",
            "showbackground": true,
            "ticks": "",
            "zerolinecolor": "white"
           }
          },
          "shapedefaults": {
           "line": {
            "color": "#2a3f5f"
           }
          },
          "ternary": {
           "aaxis": {
            "gridcolor": "white",
            "linecolor": "white",
            "ticks": ""
           },
           "baxis": {
            "gridcolor": "white",
            "linecolor": "white",
            "ticks": ""
           },
           "bgcolor": "#E5ECF6",
           "caxis": {
            "gridcolor": "white",
            "linecolor": "white",
            "ticks": ""
           }
          },
          "title": {
           "x": 0.05
          },
          "xaxis": {
           "automargin": true,
           "gridcolor": "white",
           "linecolor": "white",
           "ticks": "",
           "title": {
            "standoff": 15
           },
           "zerolinecolor": "white",
           "zerolinewidth": 2
          },
          "yaxis": {
           "automargin": true,
           "gridcolor": "white",
           "linecolor": "white",
           "ticks": "",
           "title": {
            "standoff": 15
           },
           "zerolinecolor": "white",
           "zerolinewidth": 2
          }
         }
        },
        "title": {
         "font": {
          "color": "#4D5663"
         }
        },
        "xaxis": {
         "gridcolor": "#E1E5ED",
         "showgrid": true,
         "tickfont": {
          "color": "#4D5663"
         },
         "title": {
          "font": {
           "color": "#4D5663"
          },
          "text": ""
         },
         "zerolinecolor": "#E1E5ED"
        },
        "yaxis": {
         "gridcolor": "#E1E5ED",
         "showgrid": true,
         "tickfont": {
          "color": "#4D5663"
         },
         "title": {
          "font": {
           "color": "#4D5663"
          },
          "text": ""
         },
         "zerolinecolor": "#E1E5ED"
        }
       }
      },
      "text/html": [
       "<div>                            <div id=\"6a1ee21b-4f82-4887-a263-a206d09eb213\" class=\"plotly-graph-div\" style=\"height:525px; width:100%;\"></div>            <script type=\"text/javascript\">                require([\"plotly\"], function(Plotly) {                    window.PLOTLYENV=window.PLOTLYENV || {};\n",
       "                    window.PLOTLYENV.BASE_URL='https://plot.ly';                                    if (document.getElementById(\"6a1ee21b-4f82-4887-a263-a206d09eb213\")) {                    Plotly.newPlot(                        \"6a1ee21b-4f82-4887-a263-a206d09eb213\",                        [{\"marker\": {\"color\": \"rgba(255, 153, 51, 0.6)\", \"line\": {\"color\": \"rgba(255, 153, 51, 1.0)\", \"width\": 1}}, \"name\": \"Values\", \"orientation\": \"v\", \"text\": \"\", \"type\": \"bar\", \"x\": [\"A\", \"B\", \"C\"], \"y\": [32, 43, 50]}],                        {\"legend\": {\"bgcolor\": \"#F5F6F9\", \"font\": {\"color\": \"#4D5663\"}}, \"paper_bgcolor\": \"#F5F6F9\", \"plot_bgcolor\": \"#F5F6F9\", \"template\": {\"data\": {\"bar\": [{\"error_x\": {\"color\": \"#2a3f5f\"}, \"error_y\": {\"color\": \"#2a3f5f\"}, \"marker\": {\"line\": {\"color\": \"#E5ECF6\", \"width\": 0.5}}, \"type\": \"bar\"}], \"barpolar\": [{\"marker\": {\"line\": {\"color\": \"#E5ECF6\", \"width\": 0.5}}, \"type\": \"barpolar\"}], \"carpet\": [{\"aaxis\": {\"endlinecolor\": \"#2a3f5f\", \"gridcolor\": \"white\", \"linecolor\": \"white\", \"minorgridcolor\": \"white\", \"startlinecolor\": \"#2a3f5f\"}, \"baxis\": {\"endlinecolor\": \"#2a3f5f\", \"gridcolor\": \"white\", \"linecolor\": \"white\", \"minorgridcolor\": \"white\", \"startlinecolor\": \"#2a3f5f\"}, \"type\": \"carpet\"}], \"choropleth\": [{\"colorbar\": {\"outlinewidth\": 0, \"ticks\": \"\"}, \"type\": \"choropleth\"}], \"contour\": [{\"colorbar\": {\"outlinewidth\": 0, \"ticks\": \"\"}, \"colorscale\": [[0.0, \"#0d0887\"], [0.1111111111111111, \"#46039f\"], [0.2222222222222222, \"#7201a8\"], [0.3333333333333333, \"#9c179e\"], [0.4444444444444444, \"#bd3786\"], [0.5555555555555556, \"#d8576b\"], [0.6666666666666666, \"#ed7953\"], [0.7777777777777778, \"#fb9f3a\"], [0.8888888888888888, \"#fdca26\"], [1.0, \"#f0f921\"]], \"type\": \"contour\"}], \"contourcarpet\": [{\"colorbar\": {\"outlinewidth\": 0, \"ticks\": \"\"}, \"type\": \"contourcarpet\"}], \"heatmap\": [{\"colorbar\": {\"outlinewidth\": 0, \"ticks\": \"\"}, \"colorscale\": [[0.0, \"#0d0887\"], [0.1111111111111111, \"#46039f\"], [0.2222222222222222, \"#7201a8\"], [0.3333333333333333, \"#9c179e\"], [0.4444444444444444, \"#bd3786\"], [0.5555555555555556, \"#d8576b\"], [0.6666666666666666, \"#ed7953\"], [0.7777777777777778, \"#fb9f3a\"], [0.8888888888888888, \"#fdca26\"], [1.0, \"#f0f921\"]], \"type\": \"heatmap\"}], \"heatmapgl\": [{\"colorbar\": {\"outlinewidth\": 0, \"ticks\": \"\"}, \"colorscale\": [[0.0, \"#0d0887\"], [0.1111111111111111, \"#46039f\"], [0.2222222222222222, \"#7201a8\"], [0.3333333333333333, \"#9c179e\"], [0.4444444444444444, \"#bd3786\"], [0.5555555555555556, \"#d8576b\"], [0.6666666666666666, \"#ed7953\"], [0.7777777777777778, \"#fb9f3a\"], [0.8888888888888888, \"#fdca26\"], [1.0, \"#f0f921\"]], \"type\": \"heatmapgl\"}], \"histogram\": [{\"marker\": {\"colorbar\": {\"outlinewidth\": 0, \"ticks\": \"\"}}, \"type\": \"histogram\"}], \"histogram2d\": [{\"colorbar\": {\"outlinewidth\": 0, \"ticks\": \"\"}, \"colorscale\": [[0.0, \"#0d0887\"], [0.1111111111111111, \"#46039f\"], [0.2222222222222222, \"#7201a8\"], [0.3333333333333333, \"#9c179e\"], [0.4444444444444444, \"#bd3786\"], [0.5555555555555556, \"#d8576b\"], [0.6666666666666666, \"#ed7953\"], [0.7777777777777778, \"#fb9f3a\"], [0.8888888888888888, \"#fdca26\"], [1.0, \"#f0f921\"]], \"type\": \"histogram2d\"}], \"histogram2dcontour\": [{\"colorbar\": {\"outlinewidth\": 0, \"ticks\": \"\"}, \"colorscale\": [[0.0, \"#0d0887\"], [0.1111111111111111, \"#46039f\"], [0.2222222222222222, \"#7201a8\"], [0.3333333333333333, \"#9c179e\"], [0.4444444444444444, \"#bd3786\"], [0.5555555555555556, \"#d8576b\"], [0.6666666666666666, \"#ed7953\"], [0.7777777777777778, \"#fb9f3a\"], [0.8888888888888888, \"#fdca26\"], [1.0, \"#f0f921\"]], \"type\": \"histogram2dcontour\"}], \"mesh3d\": [{\"colorbar\": {\"outlinewidth\": 0, \"ticks\": \"\"}, \"type\": \"mesh3d\"}], \"parcoords\": [{\"line\": {\"colorbar\": {\"outlinewidth\": 0, \"ticks\": \"\"}}, \"type\": \"parcoords\"}], \"pie\": [{\"automargin\": true, \"type\": \"pie\"}], \"scatter\": [{\"marker\": {\"colorbar\": {\"outlinewidth\": 0, \"ticks\": \"\"}}, \"type\": \"scatter\"}], \"scatter3d\": [{\"line\": {\"colorbar\": {\"outlinewidth\": 0, \"ticks\": \"\"}}, \"marker\": {\"colorbar\": {\"outlinewidth\": 0, \"ticks\": \"\"}}, \"type\": \"scatter3d\"}], \"scattercarpet\": [{\"marker\": {\"colorbar\": {\"outlinewidth\": 0, \"ticks\": \"\"}}, \"type\": \"scattercarpet\"}], \"scattergeo\": [{\"marker\": {\"colorbar\": {\"outlinewidth\": 0, \"ticks\": \"\"}}, \"type\": \"scattergeo\"}], \"scattergl\": [{\"marker\": {\"colorbar\": {\"outlinewidth\": 0, \"ticks\": \"\"}}, \"type\": \"scattergl\"}], \"scattermapbox\": [{\"marker\": {\"colorbar\": {\"outlinewidth\": 0, \"ticks\": \"\"}}, \"type\": \"scattermapbox\"}], \"scatterpolar\": [{\"marker\": {\"colorbar\": {\"outlinewidth\": 0, \"ticks\": \"\"}}, \"type\": \"scatterpolar\"}], \"scatterpolargl\": [{\"marker\": {\"colorbar\": {\"outlinewidth\": 0, \"ticks\": \"\"}}, \"type\": \"scatterpolargl\"}], \"scatterternary\": [{\"marker\": {\"colorbar\": {\"outlinewidth\": 0, \"ticks\": \"\"}}, \"type\": \"scatterternary\"}], \"surface\": [{\"colorbar\": {\"outlinewidth\": 0, \"ticks\": \"\"}, \"colorscale\": [[0.0, \"#0d0887\"], [0.1111111111111111, \"#46039f\"], [0.2222222222222222, \"#7201a8\"], [0.3333333333333333, \"#9c179e\"], [0.4444444444444444, \"#bd3786\"], [0.5555555555555556, \"#d8576b\"], [0.6666666666666666, \"#ed7953\"], [0.7777777777777778, \"#fb9f3a\"], [0.8888888888888888, \"#fdca26\"], [1.0, \"#f0f921\"]], \"type\": \"surface\"}], \"table\": [{\"cells\": {\"fill\": {\"color\": \"#EBF0F8\"}, \"line\": {\"color\": \"white\"}}, \"header\": {\"fill\": {\"color\": \"#C8D4E3\"}, \"line\": {\"color\": \"white\"}}, \"type\": \"table\"}]}, \"layout\": {\"annotationdefaults\": {\"arrowcolor\": \"#2a3f5f\", \"arrowhead\": 0, \"arrowwidth\": 1}, \"autotypenumbers\": \"strict\", \"coloraxis\": {\"colorbar\": {\"outlinewidth\": 0, \"ticks\": \"\"}}, \"colorscale\": {\"diverging\": [[0, \"#8e0152\"], [0.1, \"#c51b7d\"], [0.2, \"#de77ae\"], [0.3, \"#f1b6da\"], [0.4, \"#fde0ef\"], [0.5, \"#f7f7f7\"], [0.6, \"#e6f5d0\"], [0.7, \"#b8e186\"], [0.8, \"#7fbc41\"], [0.9, \"#4d9221\"], [1, \"#276419\"]], \"sequential\": [[0.0, \"#0d0887\"], [0.1111111111111111, \"#46039f\"], [0.2222222222222222, \"#7201a8\"], [0.3333333333333333, \"#9c179e\"], [0.4444444444444444, \"#bd3786\"], [0.5555555555555556, \"#d8576b\"], [0.6666666666666666, \"#ed7953\"], [0.7777777777777778, \"#fb9f3a\"], [0.8888888888888888, \"#fdca26\"], [1.0, \"#f0f921\"]], \"sequentialminus\": [[0.0, \"#0d0887\"], [0.1111111111111111, \"#46039f\"], [0.2222222222222222, \"#7201a8\"], [0.3333333333333333, \"#9c179e\"], [0.4444444444444444, \"#bd3786\"], [0.5555555555555556, \"#d8576b\"], [0.6666666666666666, \"#ed7953\"], [0.7777777777777778, \"#fb9f3a\"], [0.8888888888888888, \"#fdca26\"], [1.0, \"#f0f921\"]]}, \"colorway\": [\"#636efa\", \"#EF553B\", \"#00cc96\", \"#ab63fa\", \"#FFA15A\", \"#19d3f3\", \"#FF6692\", \"#B6E880\", \"#FF97FF\", \"#FECB52\"], \"font\": {\"color\": \"#2a3f5f\"}, \"geo\": {\"bgcolor\": \"white\", \"lakecolor\": \"white\", \"landcolor\": \"#E5ECF6\", \"showlakes\": true, \"showland\": true, \"subunitcolor\": \"white\"}, \"hoverlabel\": {\"align\": \"left\"}, \"hovermode\": \"closest\", \"mapbox\": {\"style\": \"light\"}, \"paper_bgcolor\": \"white\", \"plot_bgcolor\": \"#E5ECF6\", \"polar\": {\"angularaxis\": {\"gridcolor\": \"white\", \"linecolor\": \"white\", \"ticks\": \"\"}, \"bgcolor\": \"#E5ECF6\", \"radialaxis\": {\"gridcolor\": \"white\", \"linecolor\": \"white\", \"ticks\": \"\"}}, \"scene\": {\"xaxis\": {\"backgroundcolor\": \"#E5ECF6\", \"gridcolor\": \"white\", \"gridwidth\": 2, \"linecolor\": \"white\", \"showbackground\": true, \"ticks\": \"\", \"zerolinecolor\": \"white\"}, \"yaxis\": {\"backgroundcolor\": \"#E5ECF6\", \"gridcolor\": \"white\", \"gridwidth\": 2, \"linecolor\": \"white\", \"showbackground\": true, \"ticks\": \"\", \"zerolinecolor\": \"white\"}, \"zaxis\": {\"backgroundcolor\": \"#E5ECF6\", \"gridcolor\": \"white\", \"gridwidth\": 2, \"linecolor\": \"white\", \"showbackground\": true, \"ticks\": \"\", \"zerolinecolor\": \"white\"}}, \"shapedefaults\": {\"line\": {\"color\": \"#2a3f5f\"}}, \"ternary\": {\"aaxis\": {\"gridcolor\": \"white\", \"linecolor\": \"white\", \"ticks\": \"\"}, \"baxis\": {\"gridcolor\": \"white\", \"linecolor\": \"white\", \"ticks\": \"\"}, \"bgcolor\": \"#E5ECF6\", \"caxis\": {\"gridcolor\": \"white\", \"linecolor\": \"white\", \"ticks\": \"\"}}, \"title\": {\"x\": 0.05}, \"xaxis\": {\"automargin\": true, \"gridcolor\": \"white\", \"linecolor\": \"white\", \"ticks\": \"\", \"title\": {\"standoff\": 15}, \"zerolinecolor\": \"white\", \"zerolinewidth\": 2}, \"yaxis\": {\"automargin\": true, \"gridcolor\": \"white\", \"linecolor\": \"white\", \"ticks\": \"\", \"title\": {\"standoff\": 15}, \"zerolinecolor\": \"white\", \"zerolinewidth\": 2}}}, \"title\": {\"font\": {\"color\": \"#4D5663\"}}, \"xaxis\": {\"gridcolor\": \"#E1E5ED\", \"showgrid\": true, \"tickfont\": {\"color\": \"#4D5663\"}, \"title\": {\"font\": {\"color\": \"#4D5663\"}, \"text\": \"\"}, \"zerolinecolor\": \"#E1E5ED\"}, \"yaxis\": {\"gridcolor\": \"#E1E5ED\", \"showgrid\": true, \"tickfont\": {\"color\": \"#4D5663\"}, \"title\": {\"font\": {\"color\": \"#4D5663\"}, \"text\": \"\"}, \"zerolinecolor\": \"#E1E5ED\"}},                        {\"showLink\": true, \"linkText\": \"Export to plot.ly\", \"plotlyServerURL\": \"https://plot.ly\", \"responsive\": true}                    ).then(function(){\n",
       "                            \n",
       "var gd = document.getElementById('6a1ee21b-4f82-4887-a263-a206d09eb213');\n",
       "var x = new MutationObserver(function (mutations, observer) {{\n",
       "        var display = window.getComputedStyle(gd).display;\n",
       "        if (!display || display === 'none') {{\n",
       "            console.log([gd, 'removed!']);\n",
       "            Plotly.purge(gd);\n",
       "            observer.disconnect();\n",
       "        }}\n",
       "}});\n",
       "\n",
       "// Listen for the removal of the full notebook cells\n",
       "var notebookContainer = gd.closest('#notebook-container');\n",
       "if (notebookContainer) {{\n",
       "    x.observe(notebookContainer, {childList: true});\n",
       "}}\n",
       "\n",
       "// Listen for the clearing of the current output cell\n",
       "var outputEl = gd.closest('.output');\n",
       "if (outputEl) {{\n",
       "    x.observe(outputEl, {childList: true});\n",
       "}}\n",
       "\n",
       "                        })                };                });            </script>        </div>"
      ]
     },
     "metadata": {},
     "output_type": "display_data"
    }
   ],
   "source": [
    "df2.iplot(kind='bar',x='Category',y='Values')"
   ]
  },
  {
   "cell_type": "code",
   "execution_count": 13,
   "metadata": {},
   "outputs": [
    {
     "data": {
      "application/vnd.plotly.v1+json": {
       "config": {
        "linkText": "Export to plot.ly",
        "plotlyServerURL": "https://plot.ly",
        "showLink": true
       },
       "data": [
        {
         "marker": {
          "color": "rgba(255, 153, 51, 0.6)",
          "line": {
           "color": "rgba(255, 153, 51, 1.0)",
           "width": 1
          }
         },
         "name": "None",
         "orientation": "v",
         "text": "",
         "type": "bar",
         "x": [
          "A",
          "B",
          "C",
          "D"
         ],
         "y": [
          100,
          100,
          100,
          100
         ]
        }
       ],
       "layout": {
        "legend": {
         "bgcolor": "#F5F6F9",
         "font": {
          "color": "#4D5663"
         }
        },
        "paper_bgcolor": "#F5F6F9",
        "plot_bgcolor": "#F5F6F9",
        "template": {
         "data": {
          "bar": [
           {
            "error_x": {
             "color": "#2a3f5f"
            },
            "error_y": {
             "color": "#2a3f5f"
            },
            "marker": {
             "line": {
              "color": "#E5ECF6",
              "width": 0.5
             }
            },
            "type": "bar"
           }
          ],
          "barpolar": [
           {
            "marker": {
             "line": {
              "color": "#E5ECF6",
              "width": 0.5
             }
            },
            "type": "barpolar"
           }
          ],
          "carpet": [
           {
            "aaxis": {
             "endlinecolor": "#2a3f5f",
             "gridcolor": "white",
             "linecolor": "white",
             "minorgridcolor": "white",
             "startlinecolor": "#2a3f5f"
            },
            "baxis": {
             "endlinecolor": "#2a3f5f",
             "gridcolor": "white",
             "linecolor": "white",
             "minorgridcolor": "white",
             "startlinecolor": "#2a3f5f"
            },
            "type": "carpet"
           }
          ],
          "choropleth": [
           {
            "colorbar": {
             "outlinewidth": 0,
             "ticks": ""
            },
            "type": "choropleth"
           }
          ],
          "contour": [
           {
            "colorbar": {
             "outlinewidth": 0,
             "ticks": ""
            },
            "colorscale": [
             [
              0,
              "#0d0887"
             ],
             [
              0.1111111111111111,
              "#46039f"
             ],
             [
              0.2222222222222222,
              "#7201a8"
             ],
             [
              0.3333333333333333,
              "#9c179e"
             ],
             [
              0.4444444444444444,
              "#bd3786"
             ],
             [
              0.5555555555555556,
              "#d8576b"
             ],
             [
              0.6666666666666666,
              "#ed7953"
             ],
             [
              0.7777777777777778,
              "#fb9f3a"
             ],
             [
              0.8888888888888888,
              "#fdca26"
             ],
             [
              1,
              "#f0f921"
             ]
            ],
            "type": "contour"
           }
          ],
          "contourcarpet": [
           {
            "colorbar": {
             "outlinewidth": 0,
             "ticks": ""
            },
            "type": "contourcarpet"
           }
          ],
          "heatmap": [
           {
            "colorbar": {
             "outlinewidth": 0,
             "ticks": ""
            },
            "colorscale": [
             [
              0,
              "#0d0887"
             ],
             [
              0.1111111111111111,
              "#46039f"
             ],
             [
              0.2222222222222222,
              "#7201a8"
             ],
             [
              0.3333333333333333,
              "#9c179e"
             ],
             [
              0.4444444444444444,
              "#bd3786"
             ],
             [
              0.5555555555555556,
              "#d8576b"
             ],
             [
              0.6666666666666666,
              "#ed7953"
             ],
             [
              0.7777777777777778,
              "#fb9f3a"
             ],
             [
              0.8888888888888888,
              "#fdca26"
             ],
             [
              1,
              "#f0f921"
             ]
            ],
            "type": "heatmap"
           }
          ],
          "heatmapgl": [
           {
            "colorbar": {
             "outlinewidth": 0,
             "ticks": ""
            },
            "colorscale": [
             [
              0,
              "#0d0887"
             ],
             [
              0.1111111111111111,
              "#46039f"
             ],
             [
              0.2222222222222222,
              "#7201a8"
             ],
             [
              0.3333333333333333,
              "#9c179e"
             ],
             [
              0.4444444444444444,
              "#bd3786"
             ],
             [
              0.5555555555555556,
              "#d8576b"
             ],
             [
              0.6666666666666666,
              "#ed7953"
             ],
             [
              0.7777777777777778,
              "#fb9f3a"
             ],
             [
              0.8888888888888888,
              "#fdca26"
             ],
             [
              1,
              "#f0f921"
             ]
            ],
            "type": "heatmapgl"
           }
          ],
          "histogram": [
           {
            "marker": {
             "colorbar": {
              "outlinewidth": 0,
              "ticks": ""
             }
            },
            "type": "histogram"
           }
          ],
          "histogram2d": [
           {
            "colorbar": {
             "outlinewidth": 0,
             "ticks": ""
            },
            "colorscale": [
             [
              0,
              "#0d0887"
             ],
             [
              0.1111111111111111,
              "#46039f"
             ],
             [
              0.2222222222222222,
              "#7201a8"
             ],
             [
              0.3333333333333333,
              "#9c179e"
             ],
             [
              0.4444444444444444,
              "#bd3786"
             ],
             [
              0.5555555555555556,
              "#d8576b"
             ],
             [
              0.6666666666666666,
              "#ed7953"
             ],
             [
              0.7777777777777778,
              "#fb9f3a"
             ],
             [
              0.8888888888888888,
              "#fdca26"
             ],
             [
              1,
              "#f0f921"
             ]
            ],
            "type": "histogram2d"
           }
          ],
          "histogram2dcontour": [
           {
            "colorbar": {
             "outlinewidth": 0,
             "ticks": ""
            },
            "colorscale": [
             [
              0,
              "#0d0887"
             ],
             [
              0.1111111111111111,
              "#46039f"
             ],
             [
              0.2222222222222222,
              "#7201a8"
             ],
             [
              0.3333333333333333,
              "#9c179e"
             ],
             [
              0.4444444444444444,
              "#bd3786"
             ],
             [
              0.5555555555555556,
              "#d8576b"
             ],
             [
              0.6666666666666666,
              "#ed7953"
             ],
             [
              0.7777777777777778,
              "#fb9f3a"
             ],
             [
              0.8888888888888888,
              "#fdca26"
             ],
             [
              1,
              "#f0f921"
             ]
            ],
            "type": "histogram2dcontour"
           }
          ],
          "mesh3d": [
           {
            "colorbar": {
             "outlinewidth": 0,
             "ticks": ""
            },
            "type": "mesh3d"
           }
          ],
          "parcoords": [
           {
            "line": {
             "colorbar": {
              "outlinewidth": 0,
              "ticks": ""
             }
            },
            "type": "parcoords"
           }
          ],
          "pie": [
           {
            "automargin": true,
            "type": "pie"
           }
          ],
          "scatter": [
           {
            "marker": {
             "colorbar": {
              "outlinewidth": 0,
              "ticks": ""
             }
            },
            "type": "scatter"
           }
          ],
          "scatter3d": [
           {
            "line": {
             "colorbar": {
              "outlinewidth": 0,
              "ticks": ""
             }
            },
            "marker": {
             "colorbar": {
              "outlinewidth": 0,
              "ticks": ""
             }
            },
            "type": "scatter3d"
           }
          ],
          "scattercarpet": [
           {
            "marker": {
             "colorbar": {
              "outlinewidth": 0,
              "ticks": ""
             }
            },
            "type": "scattercarpet"
           }
          ],
          "scattergeo": [
           {
            "marker": {
             "colorbar": {
              "outlinewidth": 0,
              "ticks": ""
             }
            },
            "type": "scattergeo"
           }
          ],
          "scattergl": [
           {
            "marker": {
             "colorbar": {
              "outlinewidth": 0,
              "ticks": ""
             }
            },
            "type": "scattergl"
           }
          ],
          "scattermapbox": [
           {
            "marker": {
             "colorbar": {
              "outlinewidth": 0,
              "ticks": ""
             }
            },
            "type": "scattermapbox"
           }
          ],
          "scatterpolar": [
           {
            "marker": {
             "colorbar": {
              "outlinewidth": 0,
              "ticks": ""
             }
            },
            "type": "scatterpolar"
           }
          ],
          "scatterpolargl": [
           {
            "marker": {
             "colorbar": {
              "outlinewidth": 0,
              "ticks": ""
             }
            },
            "type": "scatterpolargl"
           }
          ],
          "scatterternary": [
           {
            "marker": {
             "colorbar": {
              "outlinewidth": 0,
              "ticks": ""
             }
            },
            "type": "scatterternary"
           }
          ],
          "surface": [
           {
            "colorbar": {
             "outlinewidth": 0,
             "ticks": ""
            },
            "colorscale": [
             [
              0,
              "#0d0887"
             ],
             [
              0.1111111111111111,
              "#46039f"
             ],
             [
              0.2222222222222222,
              "#7201a8"
             ],
             [
              0.3333333333333333,
              "#9c179e"
             ],
             [
              0.4444444444444444,
              "#bd3786"
             ],
             [
              0.5555555555555556,
              "#d8576b"
             ],
             [
              0.6666666666666666,
              "#ed7953"
             ],
             [
              0.7777777777777778,
              "#fb9f3a"
             ],
             [
              0.8888888888888888,
              "#fdca26"
             ],
             [
              1,
              "#f0f921"
             ]
            ],
            "type": "surface"
           }
          ],
          "table": [
           {
            "cells": {
             "fill": {
              "color": "#EBF0F8"
             },
             "line": {
              "color": "white"
             }
            },
            "header": {
             "fill": {
              "color": "#C8D4E3"
             },
             "line": {
              "color": "white"
             }
            },
            "type": "table"
           }
          ]
         },
         "layout": {
          "annotationdefaults": {
           "arrowcolor": "#2a3f5f",
           "arrowhead": 0,
           "arrowwidth": 1
          },
          "autotypenumbers": "strict",
          "coloraxis": {
           "colorbar": {
            "outlinewidth": 0,
            "ticks": ""
           }
          },
          "colorscale": {
           "diverging": [
            [
             0,
             "#8e0152"
            ],
            [
             0.1,
             "#c51b7d"
            ],
            [
             0.2,
             "#de77ae"
            ],
            [
             0.3,
             "#f1b6da"
            ],
            [
             0.4,
             "#fde0ef"
            ],
            [
             0.5,
             "#f7f7f7"
            ],
            [
             0.6,
             "#e6f5d0"
            ],
            [
             0.7,
             "#b8e186"
            ],
            [
             0.8,
             "#7fbc41"
            ],
            [
             0.9,
             "#4d9221"
            ],
            [
             1,
             "#276419"
            ]
           ],
           "sequential": [
            [
             0,
             "#0d0887"
            ],
            [
             0.1111111111111111,
             "#46039f"
            ],
            [
             0.2222222222222222,
             "#7201a8"
            ],
            [
             0.3333333333333333,
             "#9c179e"
            ],
            [
             0.4444444444444444,
             "#bd3786"
            ],
            [
             0.5555555555555556,
             "#d8576b"
            ],
            [
             0.6666666666666666,
             "#ed7953"
            ],
            [
             0.7777777777777778,
             "#fb9f3a"
            ],
            [
             0.8888888888888888,
             "#fdca26"
            ],
            [
             1,
             "#f0f921"
            ]
           ],
           "sequentialminus": [
            [
             0,
             "#0d0887"
            ],
            [
             0.1111111111111111,
             "#46039f"
            ],
            [
             0.2222222222222222,
             "#7201a8"
            ],
            [
             0.3333333333333333,
             "#9c179e"
            ],
            [
             0.4444444444444444,
             "#bd3786"
            ],
            [
             0.5555555555555556,
             "#d8576b"
            ],
            [
             0.6666666666666666,
             "#ed7953"
            ],
            [
             0.7777777777777778,
             "#fb9f3a"
            ],
            [
             0.8888888888888888,
             "#fdca26"
            ],
            [
             1,
             "#f0f921"
            ]
           ]
          },
          "colorway": [
           "#636efa",
           "#EF553B",
           "#00cc96",
           "#ab63fa",
           "#FFA15A",
           "#19d3f3",
           "#FF6692",
           "#B6E880",
           "#FF97FF",
           "#FECB52"
          ],
          "font": {
           "color": "#2a3f5f"
          },
          "geo": {
           "bgcolor": "white",
           "lakecolor": "white",
           "landcolor": "#E5ECF6",
           "showlakes": true,
           "showland": true,
           "subunitcolor": "white"
          },
          "hoverlabel": {
           "align": "left"
          },
          "hovermode": "closest",
          "mapbox": {
           "style": "light"
          },
          "paper_bgcolor": "white",
          "plot_bgcolor": "#E5ECF6",
          "polar": {
           "angularaxis": {
            "gridcolor": "white",
            "linecolor": "white",
            "ticks": ""
           },
           "bgcolor": "#E5ECF6",
           "radialaxis": {
            "gridcolor": "white",
            "linecolor": "white",
            "ticks": ""
           }
          },
          "scene": {
           "xaxis": {
            "backgroundcolor": "#E5ECF6",
            "gridcolor": "white",
            "gridwidth": 2,
            "linecolor": "white",
            "showbackground": true,
            "ticks": "",
            "zerolinecolor": "white"
           },
           "yaxis": {
            "backgroundcolor": "#E5ECF6",
            "gridcolor": "white",
            "gridwidth": 2,
            "linecolor": "white",
            "showbackground": true,
            "ticks": "",
            "zerolinecolor": "white"
           },
           "zaxis": {
            "backgroundcolor": "#E5ECF6",
            "gridcolor": "white",
            "gridwidth": 2,
            "linecolor": "white",
            "showbackground": true,
            "ticks": "",
            "zerolinecolor": "white"
           }
          },
          "shapedefaults": {
           "line": {
            "color": "#2a3f5f"
           }
          },
          "ternary": {
           "aaxis": {
            "gridcolor": "white",
            "linecolor": "white",
            "ticks": ""
           },
           "baxis": {
            "gridcolor": "white",
            "linecolor": "white",
            "ticks": ""
           },
           "bgcolor": "#E5ECF6",
           "caxis": {
            "gridcolor": "white",
            "linecolor": "white",
            "ticks": ""
           }
          },
          "title": {
           "x": 0.05
          },
          "xaxis": {
           "automargin": true,
           "gridcolor": "white",
           "linecolor": "white",
           "ticks": "",
           "title": {
            "standoff": 15
           },
           "zerolinecolor": "white",
           "zerolinewidth": 2
          },
          "yaxis": {
           "automargin": true,
           "gridcolor": "white",
           "linecolor": "white",
           "ticks": "",
           "title": {
            "standoff": 15
           },
           "zerolinecolor": "white",
           "zerolinewidth": 2
          }
         }
        },
        "title": {
         "font": {
          "color": "#4D5663"
         }
        },
        "xaxis": {
         "gridcolor": "#E1E5ED",
         "showgrid": true,
         "tickfont": {
          "color": "#4D5663"
         },
         "title": {
          "font": {
           "color": "#4D5663"
          },
          "text": ""
         },
         "zerolinecolor": "#E1E5ED"
        },
        "yaxis": {
         "gridcolor": "#E1E5ED",
         "showgrid": true,
         "tickfont": {
          "color": "#4D5663"
         },
         "title": {
          "font": {
           "color": "#4D5663"
          },
          "text": ""
         },
         "zerolinecolor": "#E1E5ED"
        }
       }
      },
      "text/html": [
       "<div>                            <div id=\"99809dd5-ae39-4b41-b74a-5f1a4baeb06f\" class=\"plotly-graph-div\" style=\"height:525px; width:100%;\"></div>            <script type=\"text/javascript\">                require([\"plotly\"], function(Plotly) {                    window.PLOTLYENV=window.PLOTLYENV || {};\n",
       "                    window.PLOTLYENV.BASE_URL='https://plot.ly';                                    if (document.getElementById(\"99809dd5-ae39-4b41-b74a-5f1a4baeb06f\")) {                    Plotly.newPlot(                        \"99809dd5-ae39-4b41-b74a-5f1a4baeb06f\",                        [{\"marker\": {\"color\": \"rgba(255, 153, 51, 0.6)\", \"line\": {\"color\": \"rgba(255, 153, 51, 1.0)\", \"width\": 1}}, \"name\": \"None\", \"orientation\": \"v\", \"text\": \"\", \"type\": \"bar\", \"x\": [\"A\", \"B\", \"C\", \"D\"], \"y\": [100, 100, 100, 100]}],                        {\"legend\": {\"bgcolor\": \"#F5F6F9\", \"font\": {\"color\": \"#4D5663\"}}, \"paper_bgcolor\": \"#F5F6F9\", \"plot_bgcolor\": \"#F5F6F9\", \"template\": {\"data\": {\"bar\": [{\"error_x\": {\"color\": \"#2a3f5f\"}, \"error_y\": {\"color\": \"#2a3f5f\"}, \"marker\": {\"line\": {\"color\": \"#E5ECF6\", \"width\": 0.5}}, \"type\": \"bar\"}], \"barpolar\": [{\"marker\": {\"line\": {\"color\": \"#E5ECF6\", \"width\": 0.5}}, \"type\": \"barpolar\"}], \"carpet\": [{\"aaxis\": {\"endlinecolor\": \"#2a3f5f\", \"gridcolor\": \"white\", \"linecolor\": \"white\", \"minorgridcolor\": \"white\", \"startlinecolor\": \"#2a3f5f\"}, \"baxis\": {\"endlinecolor\": \"#2a3f5f\", \"gridcolor\": \"white\", \"linecolor\": \"white\", \"minorgridcolor\": \"white\", \"startlinecolor\": \"#2a3f5f\"}, \"type\": \"carpet\"}], \"choropleth\": [{\"colorbar\": {\"outlinewidth\": 0, \"ticks\": \"\"}, \"type\": \"choropleth\"}], \"contour\": [{\"colorbar\": {\"outlinewidth\": 0, \"ticks\": \"\"}, \"colorscale\": [[0.0, \"#0d0887\"], [0.1111111111111111, \"#46039f\"], [0.2222222222222222, \"#7201a8\"], [0.3333333333333333, \"#9c179e\"], [0.4444444444444444, \"#bd3786\"], [0.5555555555555556, \"#d8576b\"], [0.6666666666666666, \"#ed7953\"], [0.7777777777777778, \"#fb9f3a\"], [0.8888888888888888, \"#fdca26\"], [1.0, \"#f0f921\"]], \"type\": \"contour\"}], \"contourcarpet\": [{\"colorbar\": {\"outlinewidth\": 0, \"ticks\": \"\"}, \"type\": \"contourcarpet\"}], \"heatmap\": [{\"colorbar\": {\"outlinewidth\": 0, \"ticks\": \"\"}, \"colorscale\": [[0.0, \"#0d0887\"], [0.1111111111111111, \"#46039f\"], [0.2222222222222222, \"#7201a8\"], [0.3333333333333333, \"#9c179e\"], [0.4444444444444444, \"#bd3786\"], [0.5555555555555556, \"#d8576b\"], [0.6666666666666666, \"#ed7953\"], [0.7777777777777778, \"#fb9f3a\"], [0.8888888888888888, \"#fdca26\"], [1.0, \"#f0f921\"]], \"type\": \"heatmap\"}], \"heatmapgl\": [{\"colorbar\": {\"outlinewidth\": 0, \"ticks\": \"\"}, \"colorscale\": [[0.0, \"#0d0887\"], [0.1111111111111111, \"#46039f\"], [0.2222222222222222, \"#7201a8\"], [0.3333333333333333, \"#9c179e\"], [0.4444444444444444, \"#bd3786\"], [0.5555555555555556, \"#d8576b\"], [0.6666666666666666, \"#ed7953\"], [0.7777777777777778, \"#fb9f3a\"], [0.8888888888888888, \"#fdca26\"], [1.0, \"#f0f921\"]], \"type\": \"heatmapgl\"}], \"histogram\": [{\"marker\": {\"colorbar\": {\"outlinewidth\": 0, \"ticks\": \"\"}}, \"type\": \"histogram\"}], \"histogram2d\": [{\"colorbar\": {\"outlinewidth\": 0, \"ticks\": \"\"}, \"colorscale\": [[0.0, \"#0d0887\"], [0.1111111111111111, \"#46039f\"], [0.2222222222222222, \"#7201a8\"], [0.3333333333333333, \"#9c179e\"], [0.4444444444444444, \"#bd3786\"], [0.5555555555555556, \"#d8576b\"], [0.6666666666666666, \"#ed7953\"], [0.7777777777777778, \"#fb9f3a\"], [0.8888888888888888, \"#fdca26\"], [1.0, \"#f0f921\"]], \"type\": \"histogram2d\"}], \"histogram2dcontour\": [{\"colorbar\": {\"outlinewidth\": 0, \"ticks\": \"\"}, \"colorscale\": [[0.0, \"#0d0887\"], [0.1111111111111111, \"#46039f\"], [0.2222222222222222, \"#7201a8\"], [0.3333333333333333, \"#9c179e\"], [0.4444444444444444, \"#bd3786\"], [0.5555555555555556, \"#d8576b\"], [0.6666666666666666, \"#ed7953\"], [0.7777777777777778, \"#fb9f3a\"], [0.8888888888888888, \"#fdca26\"], [1.0, \"#f0f921\"]], \"type\": \"histogram2dcontour\"}], \"mesh3d\": [{\"colorbar\": {\"outlinewidth\": 0, \"ticks\": \"\"}, \"type\": \"mesh3d\"}], \"parcoords\": [{\"line\": {\"colorbar\": {\"outlinewidth\": 0, \"ticks\": \"\"}}, \"type\": \"parcoords\"}], \"pie\": [{\"automargin\": true, \"type\": \"pie\"}], \"scatter\": [{\"marker\": {\"colorbar\": {\"outlinewidth\": 0, \"ticks\": \"\"}}, \"type\": \"scatter\"}], \"scatter3d\": [{\"line\": {\"colorbar\": {\"outlinewidth\": 0, \"ticks\": \"\"}}, \"marker\": {\"colorbar\": {\"outlinewidth\": 0, \"ticks\": \"\"}}, \"type\": \"scatter3d\"}], \"scattercarpet\": [{\"marker\": {\"colorbar\": {\"outlinewidth\": 0, \"ticks\": \"\"}}, \"type\": \"scattercarpet\"}], \"scattergeo\": [{\"marker\": {\"colorbar\": {\"outlinewidth\": 0, \"ticks\": \"\"}}, \"type\": \"scattergeo\"}], \"scattergl\": [{\"marker\": {\"colorbar\": {\"outlinewidth\": 0, \"ticks\": \"\"}}, \"type\": \"scattergl\"}], \"scattermapbox\": [{\"marker\": {\"colorbar\": {\"outlinewidth\": 0, \"ticks\": \"\"}}, \"type\": \"scattermapbox\"}], \"scatterpolar\": [{\"marker\": {\"colorbar\": {\"outlinewidth\": 0, \"ticks\": \"\"}}, \"type\": \"scatterpolar\"}], \"scatterpolargl\": [{\"marker\": {\"colorbar\": {\"outlinewidth\": 0, \"ticks\": \"\"}}, \"type\": \"scatterpolargl\"}], \"scatterternary\": [{\"marker\": {\"colorbar\": {\"outlinewidth\": 0, \"ticks\": \"\"}}, \"type\": \"scatterternary\"}], \"surface\": [{\"colorbar\": {\"outlinewidth\": 0, \"ticks\": \"\"}, \"colorscale\": [[0.0, \"#0d0887\"], [0.1111111111111111, \"#46039f\"], [0.2222222222222222, \"#7201a8\"], [0.3333333333333333, \"#9c179e\"], [0.4444444444444444, \"#bd3786\"], [0.5555555555555556, \"#d8576b\"], [0.6666666666666666, \"#ed7953\"], [0.7777777777777778, \"#fb9f3a\"], [0.8888888888888888, \"#fdca26\"], [1.0, \"#f0f921\"]], \"type\": \"surface\"}], \"table\": [{\"cells\": {\"fill\": {\"color\": \"#EBF0F8\"}, \"line\": {\"color\": \"white\"}}, \"header\": {\"fill\": {\"color\": \"#C8D4E3\"}, \"line\": {\"color\": \"white\"}}, \"type\": \"table\"}]}, \"layout\": {\"annotationdefaults\": {\"arrowcolor\": \"#2a3f5f\", \"arrowhead\": 0, \"arrowwidth\": 1}, \"autotypenumbers\": \"strict\", \"coloraxis\": {\"colorbar\": {\"outlinewidth\": 0, \"ticks\": \"\"}}, \"colorscale\": {\"diverging\": [[0, \"#8e0152\"], [0.1, \"#c51b7d\"], [0.2, \"#de77ae\"], [0.3, \"#f1b6da\"], [0.4, \"#fde0ef\"], [0.5, \"#f7f7f7\"], [0.6, \"#e6f5d0\"], [0.7, \"#b8e186\"], [0.8, \"#7fbc41\"], [0.9, \"#4d9221\"], [1, \"#276419\"]], \"sequential\": [[0.0, \"#0d0887\"], [0.1111111111111111, \"#46039f\"], [0.2222222222222222, \"#7201a8\"], [0.3333333333333333, \"#9c179e\"], [0.4444444444444444, \"#bd3786\"], [0.5555555555555556, \"#d8576b\"], [0.6666666666666666, \"#ed7953\"], [0.7777777777777778, \"#fb9f3a\"], [0.8888888888888888, \"#fdca26\"], [1.0, \"#f0f921\"]], \"sequentialminus\": [[0.0, \"#0d0887\"], [0.1111111111111111, \"#46039f\"], [0.2222222222222222, \"#7201a8\"], [0.3333333333333333, \"#9c179e\"], [0.4444444444444444, \"#bd3786\"], [0.5555555555555556, \"#d8576b\"], [0.6666666666666666, \"#ed7953\"], [0.7777777777777778, \"#fb9f3a\"], [0.8888888888888888, \"#fdca26\"], [1.0, \"#f0f921\"]]}, \"colorway\": [\"#636efa\", \"#EF553B\", \"#00cc96\", \"#ab63fa\", \"#FFA15A\", \"#19d3f3\", \"#FF6692\", \"#B6E880\", \"#FF97FF\", \"#FECB52\"], \"font\": {\"color\": \"#2a3f5f\"}, \"geo\": {\"bgcolor\": \"white\", \"lakecolor\": \"white\", \"landcolor\": \"#E5ECF6\", \"showlakes\": true, \"showland\": true, \"subunitcolor\": \"white\"}, \"hoverlabel\": {\"align\": \"left\"}, \"hovermode\": \"closest\", \"mapbox\": {\"style\": \"light\"}, \"paper_bgcolor\": \"white\", \"plot_bgcolor\": \"#E5ECF6\", \"polar\": {\"angularaxis\": {\"gridcolor\": \"white\", \"linecolor\": \"white\", \"ticks\": \"\"}, \"bgcolor\": \"#E5ECF6\", \"radialaxis\": {\"gridcolor\": \"white\", \"linecolor\": \"white\", \"ticks\": \"\"}}, \"scene\": {\"xaxis\": {\"backgroundcolor\": \"#E5ECF6\", \"gridcolor\": \"white\", \"gridwidth\": 2, \"linecolor\": \"white\", \"showbackground\": true, \"ticks\": \"\", \"zerolinecolor\": \"white\"}, \"yaxis\": {\"backgroundcolor\": \"#E5ECF6\", \"gridcolor\": \"white\", \"gridwidth\": 2, \"linecolor\": \"white\", \"showbackground\": true, \"ticks\": \"\", \"zerolinecolor\": \"white\"}, \"zaxis\": {\"backgroundcolor\": \"#E5ECF6\", \"gridcolor\": \"white\", \"gridwidth\": 2, \"linecolor\": \"white\", \"showbackground\": true, \"ticks\": \"\", \"zerolinecolor\": \"white\"}}, \"shapedefaults\": {\"line\": {\"color\": \"#2a3f5f\"}}, \"ternary\": {\"aaxis\": {\"gridcolor\": \"white\", \"linecolor\": \"white\", \"ticks\": \"\"}, \"baxis\": {\"gridcolor\": \"white\", \"linecolor\": \"white\", \"ticks\": \"\"}, \"bgcolor\": \"#E5ECF6\", \"caxis\": {\"gridcolor\": \"white\", \"linecolor\": \"white\", \"ticks\": \"\"}}, \"title\": {\"x\": 0.05}, \"xaxis\": {\"automargin\": true, \"gridcolor\": \"white\", \"linecolor\": \"white\", \"ticks\": \"\", \"title\": {\"standoff\": 15}, \"zerolinecolor\": \"white\", \"zerolinewidth\": 2}, \"yaxis\": {\"automargin\": true, \"gridcolor\": \"white\", \"linecolor\": \"white\", \"ticks\": \"\", \"title\": {\"standoff\": 15}, \"zerolinecolor\": \"white\", \"zerolinewidth\": 2}}}, \"title\": {\"font\": {\"color\": \"#4D5663\"}}, \"xaxis\": {\"gridcolor\": \"#E1E5ED\", \"showgrid\": true, \"tickfont\": {\"color\": \"#4D5663\"}, \"title\": {\"font\": {\"color\": \"#4D5663\"}, \"text\": \"\"}, \"zerolinecolor\": \"#E1E5ED\"}, \"yaxis\": {\"gridcolor\": \"#E1E5ED\", \"showgrid\": true, \"tickfont\": {\"color\": \"#4D5663\"}, \"title\": {\"font\": {\"color\": \"#4D5663\"}, \"text\": \"\"}, \"zerolinecolor\": \"#E1E5ED\"}},                        {\"showLink\": true, \"linkText\": \"Export to plot.ly\", \"plotlyServerURL\": \"https://plot.ly\", \"responsive\": true}                    ).then(function(){\n",
       "                            \n",
       "var gd = document.getElementById('99809dd5-ae39-4b41-b74a-5f1a4baeb06f');\n",
       "var x = new MutationObserver(function (mutations, observer) {{\n",
       "        var display = window.getComputedStyle(gd).display;\n",
       "        if (!display || display === 'none') {{\n",
       "            console.log([gd, 'removed!']);\n",
       "            Plotly.purge(gd);\n",
       "            observer.disconnect();\n",
       "        }}\n",
       "}});\n",
       "\n",
       "// Listen for the removal of the full notebook cells\n",
       "var notebookContainer = gd.closest('#notebook-container');\n",
       "if (notebookContainer) {{\n",
       "    x.observe(notebookContainer, {childList: true});\n",
       "}}\n",
       "\n",
       "// Listen for the clearing of the current output cell\n",
       "var outputEl = gd.closest('.output');\n",
       "if (outputEl) {{\n",
       "    x.observe(outputEl, {childList: true});\n",
       "}}\n",
       "\n",
       "                        })                };                });            </script>        </div>"
      ]
     },
     "metadata": {},
     "output_type": "display_data"
    }
   ],
   "source": [
    "df.count().iplot(kind='bar')"
   ]
  },
  {
   "cell_type": "markdown",
   "metadata": {},
   "source": [
    "## Boxplots"
   ]
  },
  {
   "cell_type": "code",
   "execution_count": 14,
   "metadata": {},
   "outputs": [
    {
     "data": {
      "application/vnd.plotly.v1+json": {
       "config": {
        "linkText": "Export to plot.ly",
        "plotlyServerURL": "https://plot.ly",
        "showLink": true
       },
       "data": [
        {
         "boxpoints": false,
         "line": {
          "width": 1.3
         },
         "marker": {
          "color": "rgba(255, 153, 51, 1.0)"
         },
         "name": "A",
         "orientation": "v",
         "type": "box",
         "y": [
          -1.3706341634977999,
          -0.44464357298030577,
          0.21194758281043072,
          0.12188250469054568,
          0.23109750834636394,
          -2.078611900510734,
          -1.4125718461065768,
          1.3226301173678356,
          2.210811587319438,
          0.36723881015481563,
          0.7050702807104442,
          -0.905428803606851,
          -0.7375841040593092,
          -0.4226064027471685,
          0.6645102742651933,
          -0.08735652306256615,
          -0.5813580330962289,
          0.0716254537297011,
          0.15204193295013044,
          1.2331156163625931,
          0.3672451559975761,
          -1.0078492704142434,
          -0.500538082300995,
          0.4229458212448693,
          0.6464313705076554,
          0.2139423481071675,
          0.1714393729772546,
          1.9948550663201299,
          0.4321704238991509,
          0.7392842450688996,
          0.541413784244687,
          0.31978830459683383,
          -0.017365148471931328,
          -1.0857775822469622,
          -1.193103742314076,
          1.099979033425753,
          2.2056855426999866,
          -1.6669638663240616,
          -0.08506313981755931,
          -0.02951404577227692,
          0.4881199025094287,
          -0.528706652714251,
          0.3110493410602627,
          -0.994407222597656,
          -0.28465817230024915,
          0.25556787422035,
          -1.956154522801279,
          0.3883869966365133,
          1.102046149073705,
          -0.4215054879821377,
          0.24423815726095943,
          0.4649265831057877,
          0.4866105838030112,
          0.7258641462406561,
          0.66621179780112,
          2.3012047560973246,
          0.510448614366747,
          -0.0672027437684564,
          0.9902492665119011,
          0.995358276938806,
          -0.3609097311021256,
          -0.8462895865163238,
          2.02343599829043,
          -1.9395551757350018,
          -0.09964614142319132,
          -0.6415266032082034,
          0.09126807042650653,
          -0.7604286997610876,
          -1.4705671870066,
          -1.7726401934108293,
          0.7123922422852348,
          0.8179562452087664,
          0.1397851465613479,
          -1.1900951296743383,
          1.3545683824031913,
          -0.9862518332678586,
          0.07713600519368458,
          0.9665930002866592,
          -0.8836743785929374,
          0.031183626981489555,
          -0.4541590764346655,
          -0.3059995675381995,
          -0.31819475456499857,
          -0.829947107638954,
          0.5502331119843076,
          -2.2427912701229795,
          0.9643634596297002,
          0.4082628205500436,
          -0.472746067463226,
          0.15807422758994447,
          -1.2478598233983356,
          0.9421325113086404,
          0.07985387835658049,
          1.377428942663169,
          -0.17424251486922068,
          -0.8619395928622705,
          -0.7438063014346141,
          1.0724948530588314,
          -0.2917142520456285,
          -0.4723161335846429
         ]
        },
        {
         "boxpoints": false,
         "line": {
          "width": 1.3
         },
         "marker": {
          "color": "rgba(55, 128, 191, 1.0)"
         },
         "name": "B",
         "orientation": "v",
         "type": "box",
         "y": [
          -1.4196724829893959,
          0.6937772020980084,
          -0.4812846650690201,
          0.035158586908787745,
          -0.45017873068516073,
          -0.030059928365334238,
          -1.856233899690452,
          -0.5590337797075252,
          -0.5804073030280686,
          1.150854046333595,
          -0.6733858899708351,
          0.8266969326608955,
          1.7988410661820298,
          1.1778011802008324,
          0.10006808003616055,
          0.4809616447255042,
          1.287644232127595,
          1.836146110025685,
          -0.11151507322238065,
          -1.251458276052178,
          -1.4470616711917,
          0.10723640266054896,
          -0.9686962871440572,
          1.4393440412212073,
          0.13304099023488128,
          0.4908125547596066,
          0.5220823956304467,
          0.3507904194832665,
          0.2581747768061723,
          0.12205361739481664,
          -0.4198161734207942,
          -0.37561858442804985,
          -1.6277731441939807,
          1.2670489958455784,
          -0.8279945448260254,
          1.5243878128552988,
          -1.3063636827096152,
          -0.005083638785516138,
          0.5029272510206665,
          0.3076220408997537,
          -1.6764059119651478,
          -1.5851239702752005,
          -0.8117329131730747,
          -0.663458209419483,
          0.0856691449911914,
          0.3456908076693621,
          0.9819318143923648,
          -1.1238915488432348,
          0.07568901601486262,
          -0.6329608158228868,
          -0.04523711591711723,
          -0.8385342648127595,
          1.3551895570715595,
          1.1454304810086735,
          0.15400312415551504,
          0.5266222368882257,
          -1.6216902724729327,
          -1.1645414566296808,
          -1.3257935329411572,
          1.0928850861133592,
          0.4397168800217103,
          0.22162291000438433,
          -0.4214110310069617,
          1.359394341005347,
          0.755569142671456,
          -0.047668341509316696,
          1.618663837028353,
          0.07553200040376101,
          1.4332407885042495,
          -0.6812263824951286,
          0.4548067533565884,
          0.8378693195141234,
          0.7205082805758841,
          0.5173519389365746,
          0.16254471065118895,
          0.7989306048084983,
          -0.7530959571258489,
          0.792995916875926,
          -1.3084157648844408,
          -0.6948613980554555,
          -1.3657188199513584,
          -0.12912859493672632,
          1.4763979073116997,
          -1.2508979201194812,
          -0.520025141114111,
          -0.6953210758379533,
          0.5677098245114643,
          -0.2624853987239584,
          2.5523006410694515,
          0.6324875821159565,
          -0.1924944987687054,
          -0.5871756946439045,
          -0.02944436942818076,
          -1.9818632242606096,
          -1.5142323202732133,
          0.8230299179180144,
          -1.3975522801520963,
          -0.7152243646234195,
          0.34084939962171656,
          1.9520183792854542
         ]
        },
        {
         "boxpoints": false,
         "line": {
          "width": 1.3
         },
         "marker": {
          "color": "rgba(50, 171, 96, 1.0)"
         },
         "name": "C",
         "orientation": "v",
         "type": "box",
         "y": [
          -0.26746978994900555,
          2.3564687792981025,
          0.9181394123452596,
          0.6222507870671455,
          1.582638642834771,
          -0.24615722818260605,
          2.4380488659753934,
          0.9767449241238326,
          -0.2698621373104807,
          0.9744394754800235,
          -0.8225843088846546,
          -1.0368531598599837,
          2.5880721618925047,
          0.08748524044269824,
          -0.2494050612545062,
          -1.5283833204592536,
          1.1265142577492033,
          -0.8164542323621912,
          -0.3397840134675861,
          -0.010003535979367569,
          0.012291095492325934,
          -0.2959295883512938,
          1.4719794587638853,
          0.5156996984149198,
          0.9402598027304149,
          -0.6133157750171416,
          -0.3342519403060851,
          1.867659538516592,
          -0.13614359738634726,
          1.6538217851304051,
          -0.5399792444678289,
          0.8231754660788133,
          -0.6845452566505845,
          1.6315740318328997,
          0.862164461446557,
          0.3755760247132678,
          0.6269662213934344,
          -1.7017816920270734,
          1.1570783646027152,
          0.14800634363582788,
          -1.8993759579560812,
          0.3222762134504421,
          -0.07470995872587621,
          -0.024133779889820677,
          -0.12713423385337635,
          -0.585649804599596,
          1.3867501799354642,
          -1.6477621492077392,
          -1.7473889786572288,
          -0.9322736946725885,
          0.863261635570091,
          1.368550896007332,
          0.3028554107303457,
          -0.2318497635636668,
          -1.0637903210653838,
          0.8715935971481547,
          -0.666432582526232,
          -1.4978946173319956,
          0.24867008285154873,
          1.2240571933030144,
          0.19453772820828144,
          1.187496676297169,
          0.03581789845398097,
          -0.7927403128027556,
          -0.3336644452097193,
          0.019625882267146913,
          -0.9924772268740895,
          1.0001100781242585,
          0.2111278540045392,
          0.40882434546640334,
          0.13323454904917018,
          -0.33733935475835186,
          0.7774545019837307,
          0.5577021693673793,
          0.09739797345406256,
          1.5373575058155147,
          -1.5082373496248003,
          1.586501833646212,
          -0.5294725172554345,
          -0.30998298825803655,
          -0.6788919317976443,
          1.672882536865222,
          -0.6660514206113448,
          -0.9345012367390731,
          -1.4669705466958005,
          0.07035789983529755,
          -1.4032505352807945,
          1.7689111968809879,
          -0.19844344560314478,
          -0.40038193016732043,
          0.04329104181436085,
          0.40083594554201213,
          1.3119613356546358,
          -0.6827434615000966,
          -0.7185051107281525,
          0.4205631782559048,
          0.10612500333978087,
          0.5336950914526908,
          2.1507113717848303,
          1.197182568034859
         ]
        },
        {
         "boxpoints": false,
         "line": {
          "width": 1.3
         },
         "marker": {
          "color": "rgba(128, 0, 128, 1.0)"
         },
         "name": "D",
         "orientation": "v",
         "type": "box",
         "y": [
          1.270781806067053,
          0.3154408424411026,
          -0.10526839163099147,
          2.5600192582589374,
          -1.2179187621860124,
          0.37129157767021215,
          1.0967997272360106,
          0.8923144777313083,
          -1.7037498944214629,
          -0.8630606486421002,
          0.43978025816466665,
          0.4723319142191631,
          0.649963633686165,
          0.6759233746855181,
          -1.2220584534626644,
          0.4666643127321919,
          0.02807325642432011,
          0.3644860935466444,
          -0.6789619122001068,
          -1.0054305129692656,
          0.12997294444060797,
          -1.269003841081698,
          -0.9796080810237936,
          -0.3088770264156233,
          1.241467021621208,
          0.8768681493842748,
          0.038222443558742145,
          -1.4702152961513721,
          -1.444907056140843,
          -0.471464690614252,
          0.05499541973541216,
          0.029655614181858934,
          -0.31039150868855475,
          -0.35952132643763735,
          -0.2037403878719324,
          -0.5575050452693112,
          0.00809725602635568,
          1.00624432044223,
          1.0303908909005464,
          0.054511986672174356,
          0.27648536166354826,
          1.1012620363177252,
          0.9947459191271949,
          -1.6124939641984772,
          -0.08764426899411765,
          0.4118193090522227,
          -1.6536965147305271,
          2.0252771466162196,
          0.7039547188679173,
          0.8785479558955114,
          -0.30029576401389074,
          -1.2757376192226533,
          -0.01265801454794506,
          -0.5466167455347981,
          1.520503081982652,
          1.7467407388411598,
          0.2576703116948325,
          1.1977205844782886,
          -1.3511300922923384,
          -1.0772764026873447,
          0.03369331835276964,
          -0.3330535138860441,
          -0.9659005560635886,
          -0.4947752346949864,
          0.6599549626639645,
          -1.5022983391146427,
          0.384469628806515,
          -1.821500409924272,
          -0.2634662097482622,
          0.4297261846783113,
          -1.138528339160372,
          -0.44815914132312556,
          0.35984201426264883,
          0.20612245764875556,
          1.1556461873420554,
          -0.1509426981768724,
          0.7511787767048612,
          0.7442448808676135,
          0.49051853867483497,
          -0.12589218799752233,
          -0.9426270376730208,
          -0.6386623781732003,
          0.2331736856222689,
          0.3793989075617643,
          -0.7514949933361587,
          -1.1395063263361749,
          2.678874662810904,
          -0.41387971473063473,
          0.014884534437804397,
          0.19504162801801575,
          -1.9668312470895433,
          -1.8011735460987088,
          1.2357113224299532,
          -0.6143704271613246,
          0.932425234835989,
          0.6791046831283395,
          1.07047868424384,
          -2.102912433957582,
          -0.9225001532946917,
          1.5186496161278766
         ]
        }
       ],
       "layout": {
        "legend": {
         "bgcolor": "#F5F6F9",
         "font": {
          "color": "#4D5663"
         }
        },
        "paper_bgcolor": "#F5F6F9",
        "plot_bgcolor": "#F5F6F9",
        "template": {
         "data": {
          "bar": [
           {
            "error_x": {
             "color": "#2a3f5f"
            },
            "error_y": {
             "color": "#2a3f5f"
            },
            "marker": {
             "line": {
              "color": "#E5ECF6",
              "width": 0.5
             }
            },
            "type": "bar"
           }
          ],
          "barpolar": [
           {
            "marker": {
             "line": {
              "color": "#E5ECF6",
              "width": 0.5
             }
            },
            "type": "barpolar"
           }
          ],
          "carpet": [
           {
            "aaxis": {
             "endlinecolor": "#2a3f5f",
             "gridcolor": "white",
             "linecolor": "white",
             "minorgridcolor": "white",
             "startlinecolor": "#2a3f5f"
            },
            "baxis": {
             "endlinecolor": "#2a3f5f",
             "gridcolor": "white",
             "linecolor": "white",
             "minorgridcolor": "white",
             "startlinecolor": "#2a3f5f"
            },
            "type": "carpet"
           }
          ],
          "choropleth": [
           {
            "colorbar": {
             "outlinewidth": 0,
             "ticks": ""
            },
            "type": "choropleth"
           }
          ],
          "contour": [
           {
            "colorbar": {
             "outlinewidth": 0,
             "ticks": ""
            },
            "colorscale": [
             [
              0,
              "#0d0887"
             ],
             [
              0.1111111111111111,
              "#46039f"
             ],
             [
              0.2222222222222222,
              "#7201a8"
             ],
             [
              0.3333333333333333,
              "#9c179e"
             ],
             [
              0.4444444444444444,
              "#bd3786"
             ],
             [
              0.5555555555555556,
              "#d8576b"
             ],
             [
              0.6666666666666666,
              "#ed7953"
             ],
             [
              0.7777777777777778,
              "#fb9f3a"
             ],
             [
              0.8888888888888888,
              "#fdca26"
             ],
             [
              1,
              "#f0f921"
             ]
            ],
            "type": "contour"
           }
          ],
          "contourcarpet": [
           {
            "colorbar": {
             "outlinewidth": 0,
             "ticks": ""
            },
            "type": "contourcarpet"
           }
          ],
          "heatmap": [
           {
            "colorbar": {
             "outlinewidth": 0,
             "ticks": ""
            },
            "colorscale": [
             [
              0,
              "#0d0887"
             ],
             [
              0.1111111111111111,
              "#46039f"
             ],
             [
              0.2222222222222222,
              "#7201a8"
             ],
             [
              0.3333333333333333,
              "#9c179e"
             ],
             [
              0.4444444444444444,
              "#bd3786"
             ],
             [
              0.5555555555555556,
              "#d8576b"
             ],
             [
              0.6666666666666666,
              "#ed7953"
             ],
             [
              0.7777777777777778,
              "#fb9f3a"
             ],
             [
              0.8888888888888888,
              "#fdca26"
             ],
             [
              1,
              "#f0f921"
             ]
            ],
            "type": "heatmap"
           }
          ],
          "heatmapgl": [
           {
            "colorbar": {
             "outlinewidth": 0,
             "ticks": ""
            },
            "colorscale": [
             [
              0,
              "#0d0887"
             ],
             [
              0.1111111111111111,
              "#46039f"
             ],
             [
              0.2222222222222222,
              "#7201a8"
             ],
             [
              0.3333333333333333,
              "#9c179e"
             ],
             [
              0.4444444444444444,
              "#bd3786"
             ],
             [
              0.5555555555555556,
              "#d8576b"
             ],
             [
              0.6666666666666666,
              "#ed7953"
             ],
             [
              0.7777777777777778,
              "#fb9f3a"
             ],
             [
              0.8888888888888888,
              "#fdca26"
             ],
             [
              1,
              "#f0f921"
             ]
            ],
            "type": "heatmapgl"
           }
          ],
          "histogram": [
           {
            "marker": {
             "colorbar": {
              "outlinewidth": 0,
              "ticks": ""
             }
            },
            "type": "histogram"
           }
          ],
          "histogram2d": [
           {
            "colorbar": {
             "outlinewidth": 0,
             "ticks": ""
            },
            "colorscale": [
             [
              0,
              "#0d0887"
             ],
             [
              0.1111111111111111,
              "#46039f"
             ],
             [
              0.2222222222222222,
              "#7201a8"
             ],
             [
              0.3333333333333333,
              "#9c179e"
             ],
             [
              0.4444444444444444,
              "#bd3786"
             ],
             [
              0.5555555555555556,
              "#d8576b"
             ],
             [
              0.6666666666666666,
              "#ed7953"
             ],
             [
              0.7777777777777778,
              "#fb9f3a"
             ],
             [
              0.8888888888888888,
              "#fdca26"
             ],
             [
              1,
              "#f0f921"
             ]
            ],
            "type": "histogram2d"
           }
          ],
          "histogram2dcontour": [
           {
            "colorbar": {
             "outlinewidth": 0,
             "ticks": ""
            },
            "colorscale": [
             [
              0,
              "#0d0887"
             ],
             [
              0.1111111111111111,
              "#46039f"
             ],
             [
              0.2222222222222222,
              "#7201a8"
             ],
             [
              0.3333333333333333,
              "#9c179e"
             ],
             [
              0.4444444444444444,
              "#bd3786"
             ],
             [
              0.5555555555555556,
              "#d8576b"
             ],
             [
              0.6666666666666666,
              "#ed7953"
             ],
             [
              0.7777777777777778,
              "#fb9f3a"
             ],
             [
              0.8888888888888888,
              "#fdca26"
             ],
             [
              1,
              "#f0f921"
             ]
            ],
            "type": "histogram2dcontour"
           }
          ],
          "mesh3d": [
           {
            "colorbar": {
             "outlinewidth": 0,
             "ticks": ""
            },
            "type": "mesh3d"
           }
          ],
          "parcoords": [
           {
            "line": {
             "colorbar": {
              "outlinewidth": 0,
              "ticks": ""
             }
            },
            "type": "parcoords"
           }
          ],
          "pie": [
           {
            "automargin": true,
            "type": "pie"
           }
          ],
          "scatter": [
           {
            "marker": {
             "colorbar": {
              "outlinewidth": 0,
              "ticks": ""
             }
            },
            "type": "scatter"
           }
          ],
          "scatter3d": [
           {
            "line": {
             "colorbar": {
              "outlinewidth": 0,
              "ticks": ""
             }
            },
            "marker": {
             "colorbar": {
              "outlinewidth": 0,
              "ticks": ""
             }
            },
            "type": "scatter3d"
           }
          ],
          "scattercarpet": [
           {
            "marker": {
             "colorbar": {
              "outlinewidth": 0,
              "ticks": ""
             }
            },
            "type": "scattercarpet"
           }
          ],
          "scattergeo": [
           {
            "marker": {
             "colorbar": {
              "outlinewidth": 0,
              "ticks": ""
             }
            },
            "type": "scattergeo"
           }
          ],
          "scattergl": [
           {
            "marker": {
             "colorbar": {
              "outlinewidth": 0,
              "ticks": ""
             }
            },
            "type": "scattergl"
           }
          ],
          "scattermapbox": [
           {
            "marker": {
             "colorbar": {
              "outlinewidth": 0,
              "ticks": ""
             }
            },
            "type": "scattermapbox"
           }
          ],
          "scatterpolar": [
           {
            "marker": {
             "colorbar": {
              "outlinewidth": 0,
              "ticks": ""
             }
            },
            "type": "scatterpolar"
           }
          ],
          "scatterpolargl": [
           {
            "marker": {
             "colorbar": {
              "outlinewidth": 0,
              "ticks": ""
             }
            },
            "type": "scatterpolargl"
           }
          ],
          "scatterternary": [
           {
            "marker": {
             "colorbar": {
              "outlinewidth": 0,
              "ticks": ""
             }
            },
            "type": "scatterternary"
           }
          ],
          "surface": [
           {
            "colorbar": {
             "outlinewidth": 0,
             "ticks": ""
            },
            "colorscale": [
             [
              0,
              "#0d0887"
             ],
             [
              0.1111111111111111,
              "#46039f"
             ],
             [
              0.2222222222222222,
              "#7201a8"
             ],
             [
              0.3333333333333333,
              "#9c179e"
             ],
             [
              0.4444444444444444,
              "#bd3786"
             ],
             [
              0.5555555555555556,
              "#d8576b"
             ],
             [
              0.6666666666666666,
              "#ed7953"
             ],
             [
              0.7777777777777778,
              "#fb9f3a"
             ],
             [
              0.8888888888888888,
              "#fdca26"
             ],
             [
              1,
              "#f0f921"
             ]
            ],
            "type": "surface"
           }
          ],
          "table": [
           {
            "cells": {
             "fill": {
              "color": "#EBF0F8"
             },
             "line": {
              "color": "white"
             }
            },
            "header": {
             "fill": {
              "color": "#C8D4E3"
             },
             "line": {
              "color": "white"
             }
            },
            "type": "table"
           }
          ]
         },
         "layout": {
          "annotationdefaults": {
           "arrowcolor": "#2a3f5f",
           "arrowhead": 0,
           "arrowwidth": 1
          },
          "autotypenumbers": "strict",
          "coloraxis": {
           "colorbar": {
            "outlinewidth": 0,
            "ticks": ""
           }
          },
          "colorscale": {
           "diverging": [
            [
             0,
             "#8e0152"
            ],
            [
             0.1,
             "#c51b7d"
            ],
            [
             0.2,
             "#de77ae"
            ],
            [
             0.3,
             "#f1b6da"
            ],
            [
             0.4,
             "#fde0ef"
            ],
            [
             0.5,
             "#f7f7f7"
            ],
            [
             0.6,
             "#e6f5d0"
            ],
            [
             0.7,
             "#b8e186"
            ],
            [
             0.8,
             "#7fbc41"
            ],
            [
             0.9,
             "#4d9221"
            ],
            [
             1,
             "#276419"
            ]
           ],
           "sequential": [
            [
             0,
             "#0d0887"
            ],
            [
             0.1111111111111111,
             "#46039f"
            ],
            [
             0.2222222222222222,
             "#7201a8"
            ],
            [
             0.3333333333333333,
             "#9c179e"
            ],
            [
             0.4444444444444444,
             "#bd3786"
            ],
            [
             0.5555555555555556,
             "#d8576b"
            ],
            [
             0.6666666666666666,
             "#ed7953"
            ],
            [
             0.7777777777777778,
             "#fb9f3a"
            ],
            [
             0.8888888888888888,
             "#fdca26"
            ],
            [
             1,
             "#f0f921"
            ]
           ],
           "sequentialminus": [
            [
             0,
             "#0d0887"
            ],
            [
             0.1111111111111111,
             "#46039f"
            ],
            [
             0.2222222222222222,
             "#7201a8"
            ],
            [
             0.3333333333333333,
             "#9c179e"
            ],
            [
             0.4444444444444444,
             "#bd3786"
            ],
            [
             0.5555555555555556,
             "#d8576b"
            ],
            [
             0.6666666666666666,
             "#ed7953"
            ],
            [
             0.7777777777777778,
             "#fb9f3a"
            ],
            [
             0.8888888888888888,
             "#fdca26"
            ],
            [
             1,
             "#f0f921"
            ]
           ]
          },
          "colorway": [
           "#636efa",
           "#EF553B",
           "#00cc96",
           "#ab63fa",
           "#FFA15A",
           "#19d3f3",
           "#FF6692",
           "#B6E880",
           "#FF97FF",
           "#FECB52"
          ],
          "font": {
           "color": "#2a3f5f"
          },
          "geo": {
           "bgcolor": "white",
           "lakecolor": "white",
           "landcolor": "#E5ECF6",
           "showlakes": true,
           "showland": true,
           "subunitcolor": "white"
          },
          "hoverlabel": {
           "align": "left"
          },
          "hovermode": "closest",
          "mapbox": {
           "style": "light"
          },
          "paper_bgcolor": "white",
          "plot_bgcolor": "#E5ECF6",
          "polar": {
           "angularaxis": {
            "gridcolor": "white",
            "linecolor": "white",
            "ticks": ""
           },
           "bgcolor": "#E5ECF6",
           "radialaxis": {
            "gridcolor": "white",
            "linecolor": "white",
            "ticks": ""
           }
          },
          "scene": {
           "xaxis": {
            "backgroundcolor": "#E5ECF6",
            "gridcolor": "white",
            "gridwidth": 2,
            "linecolor": "white",
            "showbackground": true,
            "ticks": "",
            "zerolinecolor": "white"
           },
           "yaxis": {
            "backgroundcolor": "#E5ECF6",
            "gridcolor": "white",
            "gridwidth": 2,
            "linecolor": "white",
            "showbackground": true,
            "ticks": "",
            "zerolinecolor": "white"
           },
           "zaxis": {
            "backgroundcolor": "#E5ECF6",
            "gridcolor": "white",
            "gridwidth": 2,
            "linecolor": "white",
            "showbackground": true,
            "ticks": "",
            "zerolinecolor": "white"
           }
          },
          "shapedefaults": {
           "line": {
            "color": "#2a3f5f"
           }
          },
          "ternary": {
           "aaxis": {
            "gridcolor": "white",
            "linecolor": "white",
            "ticks": ""
           },
           "baxis": {
            "gridcolor": "white",
            "linecolor": "white",
            "ticks": ""
           },
           "bgcolor": "#E5ECF6",
           "caxis": {
            "gridcolor": "white",
            "linecolor": "white",
            "ticks": ""
           }
          },
          "title": {
           "x": 0.05
          },
          "xaxis": {
           "automargin": true,
           "gridcolor": "white",
           "linecolor": "white",
           "ticks": "",
           "title": {
            "standoff": 15
           },
           "zerolinecolor": "white",
           "zerolinewidth": 2
          },
          "yaxis": {
           "automargin": true,
           "gridcolor": "white",
           "linecolor": "white",
           "ticks": "",
           "title": {
            "standoff": 15
           },
           "zerolinecolor": "white",
           "zerolinewidth": 2
          }
         }
        },
        "title": {
         "font": {
          "color": "#4D5663"
         }
        },
        "xaxis": {
         "gridcolor": "#E1E5ED",
         "showgrid": true,
         "tickfont": {
          "color": "#4D5663"
         },
         "title": {
          "font": {
           "color": "#4D5663"
          },
          "text": ""
         },
         "zerolinecolor": "#E1E5ED"
        },
        "yaxis": {
         "gridcolor": "#E1E5ED",
         "showgrid": true,
         "tickfont": {
          "color": "#4D5663"
         },
         "title": {
          "font": {
           "color": "#4D5663"
          },
          "text": ""
         },
         "zerolinecolor": "#E1E5ED"
        }
       }
      },
      "text/html": [
       "<div>                            <div id=\"bd128f3f-395a-43ad-8a34-5bbfb89c7faf\" class=\"plotly-graph-div\" style=\"height:525px; width:100%;\"></div>            <script type=\"text/javascript\">                require([\"plotly\"], function(Plotly) {                    window.PLOTLYENV=window.PLOTLYENV || {};\n",
       "                    window.PLOTLYENV.BASE_URL='https://plot.ly';                                    if (document.getElementById(\"bd128f3f-395a-43ad-8a34-5bbfb89c7faf\")) {                    Plotly.newPlot(                        \"bd128f3f-395a-43ad-8a34-5bbfb89c7faf\",                        [{\"boxpoints\": false, \"line\": {\"width\": 1.3}, \"marker\": {\"color\": \"rgba(255, 153, 51, 1.0)\"}, \"name\": \"A\", \"orientation\": \"v\", \"type\": \"box\", \"y\": [-1.3706341634977999, -0.44464357298030577, 0.21194758281043072, 0.12188250469054568, 0.23109750834636394, -2.078611900510734, -1.4125718461065768, 1.3226301173678356, 2.210811587319438, 0.36723881015481563, 0.7050702807104442, -0.905428803606851, -0.7375841040593092, -0.4226064027471685, 0.6645102742651933, -0.08735652306256615, -0.5813580330962289, 0.0716254537297011, 0.15204193295013044, 1.2331156163625931, 0.3672451559975761, -1.0078492704142434, -0.500538082300995, 0.4229458212448693, 0.6464313705076554, 0.2139423481071675, 0.1714393729772546, 1.9948550663201299, 0.4321704238991509, 0.7392842450688996, 0.541413784244687, 0.31978830459683383, -0.017365148471931328, -1.0857775822469622, -1.193103742314076, 1.099979033425753, 2.2056855426999866, -1.6669638663240616, -0.08506313981755931, -0.02951404577227692, 0.4881199025094287, -0.528706652714251, 0.3110493410602627, -0.994407222597656, -0.28465817230024915, 0.25556787422035, -1.956154522801279, 0.3883869966365133, 1.102046149073705, -0.4215054879821377, 0.24423815726095943, 0.4649265831057877, 0.4866105838030112, 0.7258641462406561, 0.66621179780112, 2.3012047560973246, 0.510448614366747, -0.0672027437684564, 0.9902492665119011, 0.995358276938806, -0.3609097311021256, -0.8462895865163238, 2.02343599829043, -1.9395551757350018, -0.09964614142319132, -0.6415266032082034, 0.09126807042650653, -0.7604286997610876, -1.4705671870066, -1.7726401934108293, 0.7123922422852348, 0.8179562452087664, 0.1397851465613479, -1.1900951296743383, 1.3545683824031913, -0.9862518332678586, 0.07713600519368458, 0.9665930002866592, -0.8836743785929374, 0.031183626981489555, -0.4541590764346655, -0.3059995675381995, -0.31819475456499857, -0.829947107638954, 0.5502331119843076, -2.2427912701229795, 0.9643634596297002, 0.4082628205500436, -0.472746067463226, 0.15807422758994447, -1.2478598233983356, 0.9421325113086404, 0.07985387835658049, 1.377428942663169, -0.17424251486922068, -0.8619395928622705, -0.7438063014346141, 1.0724948530588314, -0.2917142520456285, -0.4723161335846429]}, {\"boxpoints\": false, \"line\": {\"width\": 1.3}, \"marker\": {\"color\": \"rgba(55, 128, 191, 1.0)\"}, \"name\": \"B\", \"orientation\": \"v\", \"type\": \"box\", \"y\": [-1.4196724829893959, 0.6937772020980084, -0.4812846650690201, 0.035158586908787745, -0.45017873068516073, -0.030059928365334238, -1.856233899690452, -0.5590337797075252, -0.5804073030280686, 1.150854046333595, -0.6733858899708351, 0.8266969326608955, 1.7988410661820298, 1.1778011802008324, 0.10006808003616055, 0.4809616447255042, 1.287644232127595, 1.836146110025685, -0.11151507322238065, -1.251458276052178, -1.4470616711917, 0.10723640266054896, -0.9686962871440572, 1.4393440412212073, 0.13304099023488128, 0.4908125547596066, 0.5220823956304467, 0.3507904194832665, 0.2581747768061723, 0.12205361739481664, -0.4198161734207942, -0.37561858442804985, -1.6277731441939807, 1.2670489958455784, -0.8279945448260254, 1.5243878128552988, -1.3063636827096152, -0.005083638785516138, 0.5029272510206665, 0.3076220408997537, -1.6764059119651478, -1.5851239702752005, -0.8117329131730747, -0.663458209419483, 0.0856691449911914, 0.3456908076693621, 0.9819318143923648, -1.1238915488432348, 0.07568901601486262, -0.6329608158228868, -0.04523711591711723, -0.8385342648127595, 1.3551895570715595, 1.1454304810086735, 0.15400312415551504, 0.5266222368882257, -1.6216902724729327, -1.1645414566296808, -1.3257935329411572, 1.0928850861133592, 0.4397168800217103, 0.22162291000438433, -0.4214110310069617, 1.359394341005347, 0.755569142671456, -0.047668341509316696, 1.618663837028353, 0.07553200040376101, 1.4332407885042495, -0.6812263824951286, 0.4548067533565884, 0.8378693195141234, 0.7205082805758841, 0.5173519389365746, 0.16254471065118895, 0.7989306048084983, -0.7530959571258489, 0.792995916875926, -1.3084157648844408, -0.6948613980554555, -1.3657188199513584, -0.12912859493672632, 1.4763979073116997, -1.2508979201194812, -0.520025141114111, -0.6953210758379533, 0.5677098245114643, -0.2624853987239584, 2.5523006410694515, 0.6324875821159565, -0.1924944987687054, -0.5871756946439045, -0.02944436942818076, -1.9818632242606096, -1.5142323202732133, 0.8230299179180144, -1.3975522801520963, -0.7152243646234195, 0.34084939962171656, 1.9520183792854542]}, {\"boxpoints\": false, \"line\": {\"width\": 1.3}, \"marker\": {\"color\": \"rgba(50, 171, 96, 1.0)\"}, \"name\": \"C\", \"orientation\": \"v\", \"type\": \"box\", \"y\": [-0.26746978994900555, 2.3564687792981025, 0.9181394123452596, 0.6222507870671455, 1.582638642834771, -0.24615722818260605, 2.4380488659753934, 0.9767449241238326, -0.2698621373104807, 0.9744394754800235, -0.8225843088846546, -1.0368531598599837, 2.5880721618925047, 0.08748524044269824, -0.2494050612545062, -1.5283833204592536, 1.1265142577492033, -0.8164542323621912, -0.3397840134675861, -0.010003535979367569, 0.012291095492325934, -0.2959295883512938, 1.4719794587638853, 0.5156996984149198, 0.9402598027304149, -0.6133157750171416, -0.3342519403060851, 1.867659538516592, -0.13614359738634726, 1.6538217851304051, -0.5399792444678289, 0.8231754660788133, -0.6845452566505845, 1.6315740318328997, 0.862164461446557, 0.3755760247132678, 0.6269662213934344, -1.7017816920270734, 1.1570783646027152, 0.14800634363582788, -1.8993759579560812, 0.3222762134504421, -0.07470995872587621, -0.024133779889820677, -0.12713423385337635, -0.585649804599596, 1.3867501799354642, -1.6477621492077392, -1.7473889786572288, -0.9322736946725885, 0.863261635570091, 1.368550896007332, 0.3028554107303457, -0.2318497635636668, -1.0637903210653838, 0.8715935971481547, -0.666432582526232, -1.4978946173319956, 0.24867008285154873, 1.2240571933030144, 0.19453772820828144, 1.187496676297169, 0.03581789845398097, -0.7927403128027556, -0.3336644452097193, 0.019625882267146913, -0.9924772268740895, 1.0001100781242585, 0.2111278540045392, 0.40882434546640334, 0.13323454904917018, -0.33733935475835186, 0.7774545019837307, 0.5577021693673793, 0.09739797345406256, 1.5373575058155147, -1.5082373496248003, 1.586501833646212, -0.5294725172554345, -0.30998298825803655, -0.6788919317976443, 1.672882536865222, -0.6660514206113448, -0.9345012367390731, -1.4669705466958005, 0.07035789983529755, -1.4032505352807945, 1.7689111968809879, -0.19844344560314478, -0.40038193016732043, 0.04329104181436085, 0.40083594554201213, 1.3119613356546358, -0.6827434615000966, -0.7185051107281525, 0.4205631782559048, 0.10612500333978087, 0.5336950914526908, 2.1507113717848303, 1.197182568034859]}, {\"boxpoints\": false, \"line\": {\"width\": 1.3}, \"marker\": {\"color\": \"rgba(128, 0, 128, 1.0)\"}, \"name\": \"D\", \"orientation\": \"v\", \"type\": \"box\", \"y\": [1.270781806067053, 0.3154408424411026, -0.10526839163099147, 2.5600192582589374, -1.2179187621860124, 0.37129157767021215, 1.0967997272360106, 0.8923144777313083, -1.7037498944214629, -0.8630606486421002, 0.43978025816466665, 0.4723319142191631, 0.649963633686165, 0.6759233746855181, -1.2220584534626644, 0.4666643127321919, 0.02807325642432011, 0.3644860935466444, -0.6789619122001068, -1.0054305129692656, 0.12997294444060797, -1.269003841081698, -0.9796080810237936, -0.3088770264156233, 1.241467021621208, 0.8768681493842748, 0.038222443558742145, -1.4702152961513721, -1.444907056140843, -0.471464690614252, 0.05499541973541216, 0.029655614181858934, -0.31039150868855475, -0.35952132643763735, -0.2037403878719324, -0.5575050452693112, 0.00809725602635568, 1.00624432044223, 1.0303908909005464, 0.054511986672174356, 0.27648536166354826, 1.1012620363177252, 0.9947459191271949, -1.6124939641984772, -0.08764426899411765, 0.4118193090522227, -1.6536965147305271, 2.0252771466162196, 0.7039547188679173, 0.8785479558955114, -0.30029576401389074, -1.2757376192226533, -0.01265801454794506, -0.5466167455347981, 1.520503081982652, 1.7467407388411598, 0.2576703116948325, 1.1977205844782886, -1.3511300922923384, -1.0772764026873447, 0.03369331835276964, -0.3330535138860441, -0.9659005560635886, -0.4947752346949864, 0.6599549626639645, -1.5022983391146427, 0.384469628806515, -1.821500409924272, -0.2634662097482622, 0.4297261846783113, -1.138528339160372, -0.44815914132312556, 0.35984201426264883, 0.20612245764875556, 1.1556461873420554, -0.1509426981768724, 0.7511787767048612, 0.7442448808676135, 0.49051853867483497, -0.12589218799752233, -0.9426270376730208, -0.6386623781732003, 0.2331736856222689, 0.3793989075617643, -0.7514949933361587, -1.1395063263361749, 2.678874662810904, -0.41387971473063473, 0.014884534437804397, 0.19504162801801575, -1.9668312470895433, -1.8011735460987088, 1.2357113224299532, -0.6143704271613246, 0.932425234835989, 0.6791046831283395, 1.07047868424384, -2.102912433957582, -0.9225001532946917, 1.5186496161278766]}],                        {\"legend\": {\"bgcolor\": \"#F5F6F9\", \"font\": {\"color\": \"#4D5663\"}}, \"paper_bgcolor\": \"#F5F6F9\", \"plot_bgcolor\": \"#F5F6F9\", \"template\": {\"data\": {\"bar\": [{\"error_x\": {\"color\": \"#2a3f5f\"}, \"error_y\": {\"color\": \"#2a3f5f\"}, \"marker\": {\"line\": {\"color\": \"#E5ECF6\", \"width\": 0.5}}, \"type\": \"bar\"}], \"barpolar\": [{\"marker\": {\"line\": {\"color\": \"#E5ECF6\", \"width\": 0.5}}, \"type\": \"barpolar\"}], \"carpet\": [{\"aaxis\": {\"endlinecolor\": \"#2a3f5f\", \"gridcolor\": \"white\", \"linecolor\": \"white\", \"minorgridcolor\": \"white\", \"startlinecolor\": \"#2a3f5f\"}, \"baxis\": {\"endlinecolor\": \"#2a3f5f\", \"gridcolor\": \"white\", \"linecolor\": \"white\", \"minorgridcolor\": \"white\", \"startlinecolor\": \"#2a3f5f\"}, \"type\": \"carpet\"}], \"choropleth\": [{\"colorbar\": {\"outlinewidth\": 0, \"ticks\": \"\"}, \"type\": \"choropleth\"}], \"contour\": [{\"colorbar\": {\"outlinewidth\": 0, \"ticks\": \"\"}, \"colorscale\": [[0.0, \"#0d0887\"], [0.1111111111111111, \"#46039f\"], [0.2222222222222222, \"#7201a8\"], [0.3333333333333333, \"#9c179e\"], [0.4444444444444444, \"#bd3786\"], [0.5555555555555556, \"#d8576b\"], [0.6666666666666666, \"#ed7953\"], [0.7777777777777778, \"#fb9f3a\"], [0.8888888888888888, \"#fdca26\"], [1.0, \"#f0f921\"]], \"type\": \"contour\"}], \"contourcarpet\": [{\"colorbar\": {\"outlinewidth\": 0, \"ticks\": \"\"}, \"type\": \"contourcarpet\"}], \"heatmap\": [{\"colorbar\": {\"outlinewidth\": 0, \"ticks\": \"\"}, \"colorscale\": [[0.0, \"#0d0887\"], [0.1111111111111111, \"#46039f\"], [0.2222222222222222, \"#7201a8\"], [0.3333333333333333, \"#9c179e\"], [0.4444444444444444, \"#bd3786\"], [0.5555555555555556, \"#d8576b\"], [0.6666666666666666, \"#ed7953\"], [0.7777777777777778, \"#fb9f3a\"], [0.8888888888888888, \"#fdca26\"], [1.0, \"#f0f921\"]], \"type\": \"heatmap\"}], \"heatmapgl\": [{\"colorbar\": {\"outlinewidth\": 0, \"ticks\": \"\"}, \"colorscale\": [[0.0, \"#0d0887\"], [0.1111111111111111, \"#46039f\"], [0.2222222222222222, \"#7201a8\"], [0.3333333333333333, \"#9c179e\"], [0.4444444444444444, \"#bd3786\"], [0.5555555555555556, \"#d8576b\"], [0.6666666666666666, \"#ed7953\"], [0.7777777777777778, \"#fb9f3a\"], [0.8888888888888888, \"#fdca26\"], [1.0, \"#f0f921\"]], \"type\": \"heatmapgl\"}], \"histogram\": [{\"marker\": {\"colorbar\": {\"outlinewidth\": 0, \"ticks\": \"\"}}, \"type\": \"histogram\"}], \"histogram2d\": [{\"colorbar\": {\"outlinewidth\": 0, \"ticks\": \"\"}, \"colorscale\": [[0.0, \"#0d0887\"], [0.1111111111111111, \"#46039f\"], [0.2222222222222222, \"#7201a8\"], [0.3333333333333333, \"#9c179e\"], [0.4444444444444444, \"#bd3786\"], [0.5555555555555556, \"#d8576b\"], [0.6666666666666666, \"#ed7953\"], [0.7777777777777778, \"#fb9f3a\"], [0.8888888888888888, \"#fdca26\"], [1.0, \"#f0f921\"]], \"type\": \"histogram2d\"}], \"histogram2dcontour\": [{\"colorbar\": {\"outlinewidth\": 0, \"ticks\": \"\"}, \"colorscale\": [[0.0, \"#0d0887\"], [0.1111111111111111, \"#46039f\"], [0.2222222222222222, \"#7201a8\"], [0.3333333333333333, \"#9c179e\"], [0.4444444444444444, \"#bd3786\"], [0.5555555555555556, \"#d8576b\"], [0.6666666666666666, \"#ed7953\"], [0.7777777777777778, \"#fb9f3a\"], [0.8888888888888888, \"#fdca26\"], [1.0, \"#f0f921\"]], \"type\": \"histogram2dcontour\"}], \"mesh3d\": [{\"colorbar\": {\"outlinewidth\": 0, \"ticks\": \"\"}, \"type\": \"mesh3d\"}], \"parcoords\": [{\"line\": {\"colorbar\": {\"outlinewidth\": 0, \"ticks\": \"\"}}, \"type\": \"parcoords\"}], \"pie\": [{\"automargin\": true, \"type\": \"pie\"}], \"scatter\": [{\"marker\": {\"colorbar\": {\"outlinewidth\": 0, \"ticks\": \"\"}}, \"type\": \"scatter\"}], \"scatter3d\": [{\"line\": {\"colorbar\": {\"outlinewidth\": 0, \"ticks\": \"\"}}, \"marker\": {\"colorbar\": {\"outlinewidth\": 0, \"ticks\": \"\"}}, \"type\": \"scatter3d\"}], \"scattercarpet\": [{\"marker\": {\"colorbar\": {\"outlinewidth\": 0, \"ticks\": \"\"}}, \"type\": \"scattercarpet\"}], \"scattergeo\": [{\"marker\": {\"colorbar\": {\"outlinewidth\": 0, \"ticks\": \"\"}}, \"type\": \"scattergeo\"}], \"scattergl\": [{\"marker\": {\"colorbar\": {\"outlinewidth\": 0, \"ticks\": \"\"}}, \"type\": \"scattergl\"}], \"scattermapbox\": [{\"marker\": {\"colorbar\": {\"outlinewidth\": 0, \"ticks\": \"\"}}, \"type\": \"scattermapbox\"}], \"scatterpolar\": [{\"marker\": {\"colorbar\": {\"outlinewidth\": 0, \"ticks\": \"\"}}, \"type\": \"scatterpolar\"}], \"scatterpolargl\": [{\"marker\": {\"colorbar\": {\"outlinewidth\": 0, \"ticks\": \"\"}}, \"type\": \"scatterpolargl\"}], \"scatterternary\": [{\"marker\": {\"colorbar\": {\"outlinewidth\": 0, \"ticks\": \"\"}}, \"type\": \"scatterternary\"}], \"surface\": [{\"colorbar\": {\"outlinewidth\": 0, \"ticks\": \"\"}, \"colorscale\": [[0.0, \"#0d0887\"], [0.1111111111111111, \"#46039f\"], [0.2222222222222222, \"#7201a8\"], [0.3333333333333333, \"#9c179e\"], [0.4444444444444444, \"#bd3786\"], [0.5555555555555556, \"#d8576b\"], [0.6666666666666666, \"#ed7953\"], [0.7777777777777778, \"#fb9f3a\"], [0.8888888888888888, \"#fdca26\"], [1.0, \"#f0f921\"]], \"type\": \"surface\"}], \"table\": [{\"cells\": {\"fill\": {\"color\": \"#EBF0F8\"}, \"line\": {\"color\": \"white\"}}, \"header\": {\"fill\": {\"color\": \"#C8D4E3\"}, \"line\": {\"color\": \"white\"}}, \"type\": \"table\"}]}, \"layout\": {\"annotationdefaults\": {\"arrowcolor\": \"#2a3f5f\", \"arrowhead\": 0, \"arrowwidth\": 1}, \"autotypenumbers\": \"strict\", \"coloraxis\": {\"colorbar\": {\"outlinewidth\": 0, \"ticks\": \"\"}}, \"colorscale\": {\"diverging\": [[0, \"#8e0152\"], [0.1, \"#c51b7d\"], [0.2, \"#de77ae\"], [0.3, \"#f1b6da\"], [0.4, \"#fde0ef\"], [0.5, \"#f7f7f7\"], [0.6, \"#e6f5d0\"], [0.7, \"#b8e186\"], [0.8, \"#7fbc41\"], [0.9, \"#4d9221\"], [1, \"#276419\"]], \"sequential\": [[0.0, \"#0d0887\"], [0.1111111111111111, \"#46039f\"], [0.2222222222222222, \"#7201a8\"], [0.3333333333333333, \"#9c179e\"], [0.4444444444444444, \"#bd3786\"], [0.5555555555555556, \"#d8576b\"], [0.6666666666666666, \"#ed7953\"], [0.7777777777777778, \"#fb9f3a\"], [0.8888888888888888, \"#fdca26\"], [1.0, \"#f0f921\"]], \"sequentialminus\": [[0.0, \"#0d0887\"], [0.1111111111111111, \"#46039f\"], [0.2222222222222222, \"#7201a8\"], [0.3333333333333333, \"#9c179e\"], [0.4444444444444444, \"#bd3786\"], [0.5555555555555556, \"#d8576b\"], [0.6666666666666666, \"#ed7953\"], [0.7777777777777778, \"#fb9f3a\"], [0.8888888888888888, \"#fdca26\"], [1.0, \"#f0f921\"]]}, \"colorway\": [\"#636efa\", \"#EF553B\", \"#00cc96\", \"#ab63fa\", \"#FFA15A\", \"#19d3f3\", \"#FF6692\", \"#B6E880\", \"#FF97FF\", \"#FECB52\"], \"font\": {\"color\": \"#2a3f5f\"}, \"geo\": {\"bgcolor\": \"white\", \"lakecolor\": \"white\", \"landcolor\": \"#E5ECF6\", \"showlakes\": true, \"showland\": true, \"subunitcolor\": \"white\"}, \"hoverlabel\": {\"align\": \"left\"}, \"hovermode\": \"closest\", \"mapbox\": {\"style\": \"light\"}, \"paper_bgcolor\": \"white\", \"plot_bgcolor\": \"#E5ECF6\", \"polar\": {\"angularaxis\": {\"gridcolor\": \"white\", \"linecolor\": \"white\", \"ticks\": \"\"}, \"bgcolor\": \"#E5ECF6\", \"radialaxis\": {\"gridcolor\": \"white\", \"linecolor\": \"white\", \"ticks\": \"\"}}, \"scene\": {\"xaxis\": {\"backgroundcolor\": \"#E5ECF6\", \"gridcolor\": \"white\", \"gridwidth\": 2, \"linecolor\": \"white\", \"showbackground\": true, \"ticks\": \"\", \"zerolinecolor\": \"white\"}, \"yaxis\": {\"backgroundcolor\": \"#E5ECF6\", \"gridcolor\": \"white\", \"gridwidth\": 2, \"linecolor\": \"white\", \"showbackground\": true, \"ticks\": \"\", \"zerolinecolor\": \"white\"}, \"zaxis\": {\"backgroundcolor\": \"#E5ECF6\", \"gridcolor\": \"white\", \"gridwidth\": 2, \"linecolor\": \"white\", \"showbackground\": true, \"ticks\": \"\", \"zerolinecolor\": \"white\"}}, \"shapedefaults\": {\"line\": {\"color\": \"#2a3f5f\"}}, \"ternary\": {\"aaxis\": {\"gridcolor\": \"white\", \"linecolor\": \"white\", \"ticks\": \"\"}, \"baxis\": {\"gridcolor\": \"white\", \"linecolor\": \"white\", \"ticks\": \"\"}, \"bgcolor\": \"#E5ECF6\", \"caxis\": {\"gridcolor\": \"white\", \"linecolor\": \"white\", \"ticks\": \"\"}}, \"title\": {\"x\": 0.05}, \"xaxis\": {\"automargin\": true, \"gridcolor\": \"white\", \"linecolor\": \"white\", \"ticks\": \"\", \"title\": {\"standoff\": 15}, \"zerolinecolor\": \"white\", \"zerolinewidth\": 2}, \"yaxis\": {\"automargin\": true, \"gridcolor\": \"white\", \"linecolor\": \"white\", \"ticks\": \"\", \"title\": {\"standoff\": 15}, \"zerolinecolor\": \"white\", \"zerolinewidth\": 2}}}, \"title\": {\"font\": {\"color\": \"#4D5663\"}}, \"xaxis\": {\"gridcolor\": \"#E1E5ED\", \"showgrid\": true, \"tickfont\": {\"color\": \"#4D5663\"}, \"title\": {\"font\": {\"color\": \"#4D5663\"}, \"text\": \"\"}, \"zerolinecolor\": \"#E1E5ED\"}, \"yaxis\": {\"gridcolor\": \"#E1E5ED\", \"showgrid\": true, \"tickfont\": {\"color\": \"#4D5663\"}, \"title\": {\"font\": {\"color\": \"#4D5663\"}, \"text\": \"\"}, \"zerolinecolor\": \"#E1E5ED\"}},                        {\"showLink\": true, \"linkText\": \"Export to plot.ly\", \"plotlyServerURL\": \"https://plot.ly\", \"responsive\": true}                    ).then(function(){\n",
       "                            \n",
       "var gd = document.getElementById('bd128f3f-395a-43ad-8a34-5bbfb89c7faf');\n",
       "var x = new MutationObserver(function (mutations, observer) {{\n",
       "        var display = window.getComputedStyle(gd).display;\n",
       "        if (!display || display === 'none') {{\n",
       "            console.log([gd, 'removed!']);\n",
       "            Plotly.purge(gd);\n",
       "            observer.disconnect();\n",
       "        }}\n",
       "}});\n",
       "\n",
       "// Listen for the removal of the full notebook cells\n",
       "var notebookContainer = gd.closest('#notebook-container');\n",
       "if (notebookContainer) {{\n",
       "    x.observe(notebookContainer, {childList: true});\n",
       "}}\n",
       "\n",
       "// Listen for the clearing of the current output cell\n",
       "var outputEl = gd.closest('.output');\n",
       "if (outputEl) {{\n",
       "    x.observe(outputEl, {childList: true});\n",
       "}}\n",
       "\n",
       "                        })                };                });            </script>        </div>"
      ]
     },
     "metadata": {},
     "output_type": "display_data"
    }
   ],
   "source": [
    "df.iplot(kind='box')"
   ]
  },
  {
   "cell_type": "markdown",
   "metadata": {},
   "source": [
    "## 3d Surface"
   ]
  },
  {
   "cell_type": "code",
   "execution_count": 15,
   "metadata": {},
   "outputs": [
    {
     "data": {
      "application/vnd.plotly.v1+json": {
       "config": {
        "linkText": "Export to plot.ly",
        "plotlyServerURL": "https://plot.ly",
        "showLink": true
       },
       "data": [
        {
         "colorscale": [
          [
           0,
           "rgb(165,0,38)"
          ],
          [
           0.1,
           "rgb(215,48,39)"
          ],
          [
           0.2,
           "rgb(244,109,67)"
          ],
          [
           0.3,
           "rgb(253,174,97)"
          ],
          [
           0.4,
           "rgb(254,224,144)"
          ],
          [
           0.5,
           "rgb(255,255,191)"
          ],
          [
           0.6,
           "rgb(224,243,248)"
          ],
          [
           0.7,
           "rgb(171,217,233)"
          ],
          [
           0.8,
           "rgb(116,173,209)"
          ],
          [
           0.9,
           "rgb(69,117,180)"
          ],
          [
           1,
           "rgb(49,54,149)"
          ]
         ],
         "type": "surface",
         "x": [
          0,
          1,
          2,
          3,
          4
         ],
         "y": [
          "x",
          "y",
          "z"
         ],
         "z": [
          [
           1,
           2,
           3,
           4,
           5
          ],
          [
           10,
           20,
           30,
           20,
           10
          ],
          [
           5,
           4,
           3,
           2,
           1
          ]
         ]
        }
       ],
       "layout": {
        "legend": {
         "bgcolor": "#F5F6F9",
         "font": {
          "color": "#4D5663"
         }
        },
        "paper_bgcolor": "#F5F6F9",
        "plot_bgcolor": "#F5F6F9",
        "template": {
         "data": {
          "bar": [
           {
            "error_x": {
             "color": "#2a3f5f"
            },
            "error_y": {
             "color": "#2a3f5f"
            },
            "marker": {
             "line": {
              "color": "#E5ECF6",
              "width": 0.5
             }
            },
            "type": "bar"
           }
          ],
          "barpolar": [
           {
            "marker": {
             "line": {
              "color": "#E5ECF6",
              "width": 0.5
             }
            },
            "type": "barpolar"
           }
          ],
          "carpet": [
           {
            "aaxis": {
             "endlinecolor": "#2a3f5f",
             "gridcolor": "white",
             "linecolor": "white",
             "minorgridcolor": "white",
             "startlinecolor": "#2a3f5f"
            },
            "baxis": {
             "endlinecolor": "#2a3f5f",
             "gridcolor": "white",
             "linecolor": "white",
             "minorgridcolor": "white",
             "startlinecolor": "#2a3f5f"
            },
            "type": "carpet"
           }
          ],
          "choropleth": [
           {
            "colorbar": {
             "outlinewidth": 0,
             "ticks": ""
            },
            "type": "choropleth"
           }
          ],
          "contour": [
           {
            "colorbar": {
             "outlinewidth": 0,
             "ticks": ""
            },
            "colorscale": [
             [
              0,
              "#0d0887"
             ],
             [
              0.1111111111111111,
              "#46039f"
             ],
             [
              0.2222222222222222,
              "#7201a8"
             ],
             [
              0.3333333333333333,
              "#9c179e"
             ],
             [
              0.4444444444444444,
              "#bd3786"
             ],
             [
              0.5555555555555556,
              "#d8576b"
             ],
             [
              0.6666666666666666,
              "#ed7953"
             ],
             [
              0.7777777777777778,
              "#fb9f3a"
             ],
             [
              0.8888888888888888,
              "#fdca26"
             ],
             [
              1,
              "#f0f921"
             ]
            ],
            "type": "contour"
           }
          ],
          "contourcarpet": [
           {
            "colorbar": {
             "outlinewidth": 0,
             "ticks": ""
            },
            "type": "contourcarpet"
           }
          ],
          "heatmap": [
           {
            "colorbar": {
             "outlinewidth": 0,
             "ticks": ""
            },
            "colorscale": [
             [
              0,
              "#0d0887"
             ],
             [
              0.1111111111111111,
              "#46039f"
             ],
             [
              0.2222222222222222,
              "#7201a8"
             ],
             [
              0.3333333333333333,
              "#9c179e"
             ],
             [
              0.4444444444444444,
              "#bd3786"
             ],
             [
              0.5555555555555556,
              "#d8576b"
             ],
             [
              0.6666666666666666,
              "#ed7953"
             ],
             [
              0.7777777777777778,
              "#fb9f3a"
             ],
             [
              0.8888888888888888,
              "#fdca26"
             ],
             [
              1,
              "#f0f921"
             ]
            ],
            "type": "heatmap"
           }
          ],
          "heatmapgl": [
           {
            "colorbar": {
             "outlinewidth": 0,
             "ticks": ""
            },
            "colorscale": [
             [
              0,
              "#0d0887"
             ],
             [
              0.1111111111111111,
              "#46039f"
             ],
             [
              0.2222222222222222,
              "#7201a8"
             ],
             [
              0.3333333333333333,
              "#9c179e"
             ],
             [
              0.4444444444444444,
              "#bd3786"
             ],
             [
              0.5555555555555556,
              "#d8576b"
             ],
             [
              0.6666666666666666,
              "#ed7953"
             ],
             [
              0.7777777777777778,
              "#fb9f3a"
             ],
             [
              0.8888888888888888,
              "#fdca26"
             ],
             [
              1,
              "#f0f921"
             ]
            ],
            "type": "heatmapgl"
           }
          ],
          "histogram": [
           {
            "marker": {
             "colorbar": {
              "outlinewidth": 0,
              "ticks": ""
             }
            },
            "type": "histogram"
           }
          ],
          "histogram2d": [
           {
            "colorbar": {
             "outlinewidth": 0,
             "ticks": ""
            },
            "colorscale": [
             [
              0,
              "#0d0887"
             ],
             [
              0.1111111111111111,
              "#46039f"
             ],
             [
              0.2222222222222222,
              "#7201a8"
             ],
             [
              0.3333333333333333,
              "#9c179e"
             ],
             [
              0.4444444444444444,
              "#bd3786"
             ],
             [
              0.5555555555555556,
              "#d8576b"
             ],
             [
              0.6666666666666666,
              "#ed7953"
             ],
             [
              0.7777777777777778,
              "#fb9f3a"
             ],
             [
              0.8888888888888888,
              "#fdca26"
             ],
             [
              1,
              "#f0f921"
             ]
            ],
            "type": "histogram2d"
           }
          ],
          "histogram2dcontour": [
           {
            "colorbar": {
             "outlinewidth": 0,
             "ticks": ""
            },
            "colorscale": [
             [
              0,
              "#0d0887"
             ],
             [
              0.1111111111111111,
              "#46039f"
             ],
             [
              0.2222222222222222,
              "#7201a8"
             ],
             [
              0.3333333333333333,
              "#9c179e"
             ],
             [
              0.4444444444444444,
              "#bd3786"
             ],
             [
              0.5555555555555556,
              "#d8576b"
             ],
             [
              0.6666666666666666,
              "#ed7953"
             ],
             [
              0.7777777777777778,
              "#fb9f3a"
             ],
             [
              0.8888888888888888,
              "#fdca26"
             ],
             [
              1,
              "#f0f921"
             ]
            ],
            "type": "histogram2dcontour"
           }
          ],
          "mesh3d": [
           {
            "colorbar": {
             "outlinewidth": 0,
             "ticks": ""
            },
            "type": "mesh3d"
           }
          ],
          "parcoords": [
           {
            "line": {
             "colorbar": {
              "outlinewidth": 0,
              "ticks": ""
             }
            },
            "type": "parcoords"
           }
          ],
          "pie": [
           {
            "automargin": true,
            "type": "pie"
           }
          ],
          "scatter": [
           {
            "marker": {
             "colorbar": {
              "outlinewidth": 0,
              "ticks": ""
             }
            },
            "type": "scatter"
           }
          ],
          "scatter3d": [
           {
            "line": {
             "colorbar": {
              "outlinewidth": 0,
              "ticks": ""
             }
            },
            "marker": {
             "colorbar": {
              "outlinewidth": 0,
              "ticks": ""
             }
            },
            "type": "scatter3d"
           }
          ],
          "scattercarpet": [
           {
            "marker": {
             "colorbar": {
              "outlinewidth": 0,
              "ticks": ""
             }
            },
            "type": "scattercarpet"
           }
          ],
          "scattergeo": [
           {
            "marker": {
             "colorbar": {
              "outlinewidth": 0,
              "ticks": ""
             }
            },
            "type": "scattergeo"
           }
          ],
          "scattergl": [
           {
            "marker": {
             "colorbar": {
              "outlinewidth": 0,
              "ticks": ""
             }
            },
            "type": "scattergl"
           }
          ],
          "scattermapbox": [
           {
            "marker": {
             "colorbar": {
              "outlinewidth": 0,
              "ticks": ""
             }
            },
            "type": "scattermapbox"
           }
          ],
          "scatterpolar": [
           {
            "marker": {
             "colorbar": {
              "outlinewidth": 0,
              "ticks": ""
             }
            },
            "type": "scatterpolar"
           }
          ],
          "scatterpolargl": [
           {
            "marker": {
             "colorbar": {
              "outlinewidth": 0,
              "ticks": ""
             }
            },
            "type": "scatterpolargl"
           }
          ],
          "scatterternary": [
           {
            "marker": {
             "colorbar": {
              "outlinewidth": 0,
              "ticks": ""
             }
            },
            "type": "scatterternary"
           }
          ],
          "surface": [
           {
            "colorbar": {
             "outlinewidth": 0,
             "ticks": ""
            },
            "colorscale": [
             [
              0,
              "#0d0887"
             ],
             [
              0.1111111111111111,
              "#46039f"
             ],
             [
              0.2222222222222222,
              "#7201a8"
             ],
             [
              0.3333333333333333,
              "#9c179e"
             ],
             [
              0.4444444444444444,
              "#bd3786"
             ],
             [
              0.5555555555555556,
              "#d8576b"
             ],
             [
              0.6666666666666666,
              "#ed7953"
             ],
             [
              0.7777777777777778,
              "#fb9f3a"
             ],
             [
              0.8888888888888888,
              "#fdca26"
             ],
             [
              1,
              "#f0f921"
             ]
            ],
            "type": "surface"
           }
          ],
          "table": [
           {
            "cells": {
             "fill": {
              "color": "#EBF0F8"
             },
             "line": {
              "color": "white"
             }
            },
            "header": {
             "fill": {
              "color": "#C8D4E3"
             },
             "line": {
              "color": "white"
             }
            },
            "type": "table"
           }
          ]
         },
         "layout": {
          "annotationdefaults": {
           "arrowcolor": "#2a3f5f",
           "arrowhead": 0,
           "arrowwidth": 1
          },
          "autotypenumbers": "strict",
          "coloraxis": {
           "colorbar": {
            "outlinewidth": 0,
            "ticks": ""
           }
          },
          "colorscale": {
           "diverging": [
            [
             0,
             "#8e0152"
            ],
            [
             0.1,
             "#c51b7d"
            ],
            [
             0.2,
             "#de77ae"
            ],
            [
             0.3,
             "#f1b6da"
            ],
            [
             0.4,
             "#fde0ef"
            ],
            [
             0.5,
             "#f7f7f7"
            ],
            [
             0.6,
             "#e6f5d0"
            ],
            [
             0.7,
             "#b8e186"
            ],
            [
             0.8,
             "#7fbc41"
            ],
            [
             0.9,
             "#4d9221"
            ],
            [
             1,
             "#276419"
            ]
           ],
           "sequential": [
            [
             0,
             "#0d0887"
            ],
            [
             0.1111111111111111,
             "#46039f"
            ],
            [
             0.2222222222222222,
             "#7201a8"
            ],
            [
             0.3333333333333333,
             "#9c179e"
            ],
            [
             0.4444444444444444,
             "#bd3786"
            ],
            [
             0.5555555555555556,
             "#d8576b"
            ],
            [
             0.6666666666666666,
             "#ed7953"
            ],
            [
             0.7777777777777778,
             "#fb9f3a"
            ],
            [
             0.8888888888888888,
             "#fdca26"
            ],
            [
             1,
             "#f0f921"
            ]
           ],
           "sequentialminus": [
            [
             0,
             "#0d0887"
            ],
            [
             0.1111111111111111,
             "#46039f"
            ],
            [
             0.2222222222222222,
             "#7201a8"
            ],
            [
             0.3333333333333333,
             "#9c179e"
            ],
            [
             0.4444444444444444,
             "#bd3786"
            ],
            [
             0.5555555555555556,
             "#d8576b"
            ],
            [
             0.6666666666666666,
             "#ed7953"
            ],
            [
             0.7777777777777778,
             "#fb9f3a"
            ],
            [
             0.8888888888888888,
             "#fdca26"
            ],
            [
             1,
             "#f0f921"
            ]
           ]
          },
          "colorway": [
           "#636efa",
           "#EF553B",
           "#00cc96",
           "#ab63fa",
           "#FFA15A",
           "#19d3f3",
           "#FF6692",
           "#B6E880",
           "#FF97FF",
           "#FECB52"
          ],
          "font": {
           "color": "#2a3f5f"
          },
          "geo": {
           "bgcolor": "white",
           "lakecolor": "white",
           "landcolor": "#E5ECF6",
           "showlakes": true,
           "showland": true,
           "subunitcolor": "white"
          },
          "hoverlabel": {
           "align": "left"
          },
          "hovermode": "closest",
          "mapbox": {
           "style": "light"
          },
          "paper_bgcolor": "white",
          "plot_bgcolor": "#E5ECF6",
          "polar": {
           "angularaxis": {
            "gridcolor": "white",
            "linecolor": "white",
            "ticks": ""
           },
           "bgcolor": "#E5ECF6",
           "radialaxis": {
            "gridcolor": "white",
            "linecolor": "white",
            "ticks": ""
           }
          },
          "scene": {
           "xaxis": {
            "backgroundcolor": "#E5ECF6",
            "gridcolor": "white",
            "gridwidth": 2,
            "linecolor": "white",
            "showbackground": true,
            "ticks": "",
            "zerolinecolor": "white"
           },
           "yaxis": {
            "backgroundcolor": "#E5ECF6",
            "gridcolor": "white",
            "gridwidth": 2,
            "linecolor": "white",
            "showbackground": true,
            "ticks": "",
            "zerolinecolor": "white"
           },
           "zaxis": {
            "backgroundcolor": "#E5ECF6",
            "gridcolor": "white",
            "gridwidth": 2,
            "linecolor": "white",
            "showbackground": true,
            "ticks": "",
            "zerolinecolor": "white"
           }
          },
          "shapedefaults": {
           "line": {
            "color": "#2a3f5f"
           }
          },
          "ternary": {
           "aaxis": {
            "gridcolor": "white",
            "linecolor": "white",
            "ticks": ""
           },
           "baxis": {
            "gridcolor": "white",
            "linecolor": "white",
            "ticks": ""
           },
           "bgcolor": "#E5ECF6",
           "caxis": {
            "gridcolor": "white",
            "linecolor": "white",
            "ticks": ""
           }
          },
          "title": {
           "x": 0.05
          },
          "xaxis": {
           "automargin": true,
           "gridcolor": "white",
           "linecolor": "white",
           "ticks": "",
           "title": {
            "standoff": 15
           },
           "zerolinecolor": "white",
           "zerolinewidth": 2
          },
          "yaxis": {
           "automargin": true,
           "gridcolor": "white",
           "linecolor": "white",
           "ticks": "",
           "title": {
            "standoff": 15
           },
           "zerolinecolor": "white",
           "zerolinewidth": 2
          }
         }
        },
        "title": {
         "font": {
          "color": "#4D5663"
         }
        },
        "xaxis": {
         "gridcolor": "#E1E5ED",
         "showgrid": true,
         "tickfont": {
          "color": "#4D5663"
         },
         "title": {
          "font": {
           "color": "#4D5663"
          },
          "text": ""
         },
         "zerolinecolor": "#E1E5ED"
        },
        "yaxis": {
         "gridcolor": "#E1E5ED",
         "showgrid": true,
         "tickfont": {
          "color": "#4D5663"
         },
         "title": {
          "font": {
           "color": "#4D5663"
          },
          "text": ""
         },
         "zerolinecolor": "#E1E5ED"
        }
       }
      },
      "text/html": [
       "<div>                            <div id=\"a9623a56-1c5a-4f25-84f3-f95267e4e9db\" class=\"plotly-graph-div\" style=\"height:525px; width:100%;\"></div>            <script type=\"text/javascript\">                require([\"plotly\"], function(Plotly) {                    window.PLOTLYENV=window.PLOTLYENV || {};\n",
       "                    window.PLOTLYENV.BASE_URL='https://plot.ly';                                    if (document.getElementById(\"a9623a56-1c5a-4f25-84f3-f95267e4e9db\")) {                    Plotly.newPlot(                        \"a9623a56-1c5a-4f25-84f3-f95267e4e9db\",                        [{\"colorscale\": [[0.0, \"rgb(165,0,38)\"], [0.1, \"rgb(215,48,39)\"], [0.2, \"rgb(244,109,67)\"], [0.3, \"rgb(253,174,97)\"], [0.4, \"rgb(254,224,144)\"], [0.5, \"rgb(255,255,191)\"], [0.6, \"rgb(224,243,248)\"], [0.7, \"rgb(171,217,233)\"], [0.8, \"rgb(116,173,209)\"], [0.9, \"rgb(69,117,180)\"], [1.0, \"rgb(49,54,149)\"]], \"type\": \"surface\", \"x\": [0, 1, 2, 3, 4], \"y\": [\"x\", \"y\", \"z\"], \"z\": [[1, 2, 3, 4, 5], [10, 20, 30, 20, 10], [5, 4, 3, 2, 1]]}],                        {\"legend\": {\"bgcolor\": \"#F5F6F9\", \"font\": {\"color\": \"#4D5663\"}}, \"paper_bgcolor\": \"#F5F6F9\", \"plot_bgcolor\": \"#F5F6F9\", \"template\": {\"data\": {\"bar\": [{\"error_x\": {\"color\": \"#2a3f5f\"}, \"error_y\": {\"color\": \"#2a3f5f\"}, \"marker\": {\"line\": {\"color\": \"#E5ECF6\", \"width\": 0.5}}, \"type\": \"bar\"}], \"barpolar\": [{\"marker\": {\"line\": {\"color\": \"#E5ECF6\", \"width\": 0.5}}, \"type\": \"barpolar\"}], \"carpet\": [{\"aaxis\": {\"endlinecolor\": \"#2a3f5f\", \"gridcolor\": \"white\", \"linecolor\": \"white\", \"minorgridcolor\": \"white\", \"startlinecolor\": \"#2a3f5f\"}, \"baxis\": {\"endlinecolor\": \"#2a3f5f\", \"gridcolor\": \"white\", \"linecolor\": \"white\", \"minorgridcolor\": \"white\", \"startlinecolor\": \"#2a3f5f\"}, \"type\": \"carpet\"}], \"choropleth\": [{\"colorbar\": {\"outlinewidth\": 0, \"ticks\": \"\"}, \"type\": \"choropleth\"}], \"contour\": [{\"colorbar\": {\"outlinewidth\": 0, \"ticks\": \"\"}, \"colorscale\": [[0.0, \"#0d0887\"], [0.1111111111111111, \"#46039f\"], [0.2222222222222222, \"#7201a8\"], [0.3333333333333333, \"#9c179e\"], [0.4444444444444444, \"#bd3786\"], [0.5555555555555556, \"#d8576b\"], [0.6666666666666666, \"#ed7953\"], [0.7777777777777778, \"#fb9f3a\"], [0.8888888888888888, \"#fdca26\"], [1.0, \"#f0f921\"]], \"type\": \"contour\"}], \"contourcarpet\": [{\"colorbar\": {\"outlinewidth\": 0, \"ticks\": \"\"}, \"type\": \"contourcarpet\"}], \"heatmap\": [{\"colorbar\": {\"outlinewidth\": 0, \"ticks\": \"\"}, \"colorscale\": [[0.0, \"#0d0887\"], [0.1111111111111111, \"#46039f\"], [0.2222222222222222, \"#7201a8\"], [0.3333333333333333, \"#9c179e\"], [0.4444444444444444, \"#bd3786\"], [0.5555555555555556, \"#d8576b\"], [0.6666666666666666, \"#ed7953\"], [0.7777777777777778, \"#fb9f3a\"], [0.8888888888888888, \"#fdca26\"], [1.0, \"#f0f921\"]], \"type\": \"heatmap\"}], \"heatmapgl\": [{\"colorbar\": {\"outlinewidth\": 0, \"ticks\": \"\"}, \"colorscale\": [[0.0, \"#0d0887\"], [0.1111111111111111, \"#46039f\"], [0.2222222222222222, \"#7201a8\"], [0.3333333333333333, \"#9c179e\"], [0.4444444444444444, \"#bd3786\"], [0.5555555555555556, \"#d8576b\"], [0.6666666666666666, \"#ed7953\"], [0.7777777777777778, \"#fb9f3a\"], [0.8888888888888888, \"#fdca26\"], [1.0, \"#f0f921\"]], \"type\": \"heatmapgl\"}], \"histogram\": [{\"marker\": {\"colorbar\": {\"outlinewidth\": 0, \"ticks\": \"\"}}, \"type\": \"histogram\"}], \"histogram2d\": [{\"colorbar\": {\"outlinewidth\": 0, \"ticks\": \"\"}, \"colorscale\": [[0.0, \"#0d0887\"], [0.1111111111111111, \"#46039f\"], [0.2222222222222222, \"#7201a8\"], [0.3333333333333333, \"#9c179e\"], [0.4444444444444444, \"#bd3786\"], [0.5555555555555556, \"#d8576b\"], [0.6666666666666666, \"#ed7953\"], [0.7777777777777778, \"#fb9f3a\"], [0.8888888888888888, \"#fdca26\"], [1.0, \"#f0f921\"]], \"type\": \"histogram2d\"}], \"histogram2dcontour\": [{\"colorbar\": {\"outlinewidth\": 0, \"ticks\": \"\"}, \"colorscale\": [[0.0, \"#0d0887\"], [0.1111111111111111, \"#46039f\"], [0.2222222222222222, \"#7201a8\"], [0.3333333333333333, \"#9c179e\"], [0.4444444444444444, \"#bd3786\"], [0.5555555555555556, \"#d8576b\"], [0.6666666666666666, \"#ed7953\"], [0.7777777777777778, \"#fb9f3a\"], [0.8888888888888888, \"#fdca26\"], [1.0, \"#f0f921\"]], \"type\": \"histogram2dcontour\"}], \"mesh3d\": [{\"colorbar\": {\"outlinewidth\": 0, \"ticks\": \"\"}, \"type\": \"mesh3d\"}], \"parcoords\": [{\"line\": {\"colorbar\": {\"outlinewidth\": 0, \"ticks\": \"\"}}, \"type\": \"parcoords\"}], \"pie\": [{\"automargin\": true, \"type\": \"pie\"}], \"scatter\": [{\"marker\": {\"colorbar\": {\"outlinewidth\": 0, \"ticks\": \"\"}}, \"type\": \"scatter\"}], \"scatter3d\": [{\"line\": {\"colorbar\": {\"outlinewidth\": 0, \"ticks\": \"\"}}, \"marker\": {\"colorbar\": {\"outlinewidth\": 0, \"ticks\": \"\"}}, \"type\": \"scatter3d\"}], \"scattercarpet\": [{\"marker\": {\"colorbar\": {\"outlinewidth\": 0, \"ticks\": \"\"}}, \"type\": \"scattercarpet\"}], \"scattergeo\": [{\"marker\": {\"colorbar\": {\"outlinewidth\": 0, \"ticks\": \"\"}}, \"type\": \"scattergeo\"}], \"scattergl\": [{\"marker\": {\"colorbar\": {\"outlinewidth\": 0, \"ticks\": \"\"}}, \"type\": \"scattergl\"}], \"scattermapbox\": [{\"marker\": {\"colorbar\": {\"outlinewidth\": 0, \"ticks\": \"\"}}, \"type\": \"scattermapbox\"}], \"scatterpolar\": [{\"marker\": {\"colorbar\": {\"outlinewidth\": 0, \"ticks\": \"\"}}, \"type\": \"scatterpolar\"}], \"scatterpolargl\": [{\"marker\": {\"colorbar\": {\"outlinewidth\": 0, \"ticks\": \"\"}}, \"type\": \"scatterpolargl\"}], \"scatterternary\": [{\"marker\": {\"colorbar\": {\"outlinewidth\": 0, \"ticks\": \"\"}}, \"type\": \"scatterternary\"}], \"surface\": [{\"colorbar\": {\"outlinewidth\": 0, \"ticks\": \"\"}, \"colorscale\": [[0.0, \"#0d0887\"], [0.1111111111111111, \"#46039f\"], [0.2222222222222222, \"#7201a8\"], [0.3333333333333333, \"#9c179e\"], [0.4444444444444444, \"#bd3786\"], [0.5555555555555556, \"#d8576b\"], [0.6666666666666666, \"#ed7953\"], [0.7777777777777778, \"#fb9f3a\"], [0.8888888888888888, \"#fdca26\"], [1.0, \"#f0f921\"]], \"type\": \"surface\"}], \"table\": [{\"cells\": {\"fill\": {\"color\": \"#EBF0F8\"}, \"line\": {\"color\": \"white\"}}, \"header\": {\"fill\": {\"color\": \"#C8D4E3\"}, \"line\": {\"color\": \"white\"}}, \"type\": \"table\"}]}, \"layout\": {\"annotationdefaults\": {\"arrowcolor\": \"#2a3f5f\", \"arrowhead\": 0, \"arrowwidth\": 1}, \"autotypenumbers\": \"strict\", \"coloraxis\": {\"colorbar\": {\"outlinewidth\": 0, \"ticks\": \"\"}}, \"colorscale\": {\"diverging\": [[0, \"#8e0152\"], [0.1, \"#c51b7d\"], [0.2, \"#de77ae\"], [0.3, \"#f1b6da\"], [0.4, \"#fde0ef\"], [0.5, \"#f7f7f7\"], [0.6, \"#e6f5d0\"], [0.7, \"#b8e186\"], [0.8, \"#7fbc41\"], [0.9, \"#4d9221\"], [1, \"#276419\"]], \"sequential\": [[0.0, \"#0d0887\"], [0.1111111111111111, \"#46039f\"], [0.2222222222222222, \"#7201a8\"], [0.3333333333333333, \"#9c179e\"], [0.4444444444444444, \"#bd3786\"], [0.5555555555555556, \"#d8576b\"], [0.6666666666666666, \"#ed7953\"], [0.7777777777777778, \"#fb9f3a\"], [0.8888888888888888, \"#fdca26\"], [1.0, \"#f0f921\"]], \"sequentialminus\": [[0.0, \"#0d0887\"], [0.1111111111111111, \"#46039f\"], [0.2222222222222222, \"#7201a8\"], [0.3333333333333333, \"#9c179e\"], [0.4444444444444444, \"#bd3786\"], [0.5555555555555556, \"#d8576b\"], [0.6666666666666666, \"#ed7953\"], [0.7777777777777778, \"#fb9f3a\"], [0.8888888888888888, \"#fdca26\"], [1.0, \"#f0f921\"]]}, \"colorway\": [\"#636efa\", \"#EF553B\", \"#00cc96\", \"#ab63fa\", \"#FFA15A\", \"#19d3f3\", \"#FF6692\", \"#B6E880\", \"#FF97FF\", \"#FECB52\"], \"font\": {\"color\": \"#2a3f5f\"}, \"geo\": {\"bgcolor\": \"white\", \"lakecolor\": \"white\", \"landcolor\": \"#E5ECF6\", \"showlakes\": true, \"showland\": true, \"subunitcolor\": \"white\"}, \"hoverlabel\": {\"align\": \"left\"}, \"hovermode\": \"closest\", \"mapbox\": {\"style\": \"light\"}, \"paper_bgcolor\": \"white\", \"plot_bgcolor\": \"#E5ECF6\", \"polar\": {\"angularaxis\": {\"gridcolor\": \"white\", \"linecolor\": \"white\", \"ticks\": \"\"}, \"bgcolor\": \"#E5ECF6\", \"radialaxis\": {\"gridcolor\": \"white\", \"linecolor\": \"white\", \"ticks\": \"\"}}, \"scene\": {\"xaxis\": {\"backgroundcolor\": \"#E5ECF6\", \"gridcolor\": \"white\", \"gridwidth\": 2, \"linecolor\": \"white\", \"showbackground\": true, \"ticks\": \"\", \"zerolinecolor\": \"white\"}, \"yaxis\": {\"backgroundcolor\": \"#E5ECF6\", \"gridcolor\": \"white\", \"gridwidth\": 2, \"linecolor\": \"white\", \"showbackground\": true, \"ticks\": \"\", \"zerolinecolor\": \"white\"}, \"zaxis\": {\"backgroundcolor\": \"#E5ECF6\", \"gridcolor\": \"white\", \"gridwidth\": 2, \"linecolor\": \"white\", \"showbackground\": true, \"ticks\": \"\", \"zerolinecolor\": \"white\"}}, \"shapedefaults\": {\"line\": {\"color\": \"#2a3f5f\"}}, \"ternary\": {\"aaxis\": {\"gridcolor\": \"white\", \"linecolor\": \"white\", \"ticks\": \"\"}, \"baxis\": {\"gridcolor\": \"white\", \"linecolor\": \"white\", \"ticks\": \"\"}, \"bgcolor\": \"#E5ECF6\", \"caxis\": {\"gridcolor\": \"white\", \"linecolor\": \"white\", \"ticks\": \"\"}}, \"title\": {\"x\": 0.05}, \"xaxis\": {\"automargin\": true, \"gridcolor\": \"white\", \"linecolor\": \"white\", \"ticks\": \"\", \"title\": {\"standoff\": 15}, \"zerolinecolor\": \"white\", \"zerolinewidth\": 2}, \"yaxis\": {\"automargin\": true, \"gridcolor\": \"white\", \"linecolor\": \"white\", \"ticks\": \"\", \"title\": {\"standoff\": 15}, \"zerolinecolor\": \"white\", \"zerolinewidth\": 2}}}, \"title\": {\"font\": {\"color\": \"#4D5663\"}}, \"xaxis\": {\"gridcolor\": \"#E1E5ED\", \"showgrid\": true, \"tickfont\": {\"color\": \"#4D5663\"}, \"title\": {\"font\": {\"color\": \"#4D5663\"}, \"text\": \"\"}, \"zerolinecolor\": \"#E1E5ED\"}, \"yaxis\": {\"gridcolor\": \"#E1E5ED\", \"showgrid\": true, \"tickfont\": {\"color\": \"#4D5663\"}, \"title\": {\"font\": {\"color\": \"#4D5663\"}, \"text\": \"\"}, \"zerolinecolor\": \"#E1E5ED\"}},                        {\"showLink\": true, \"linkText\": \"Export to plot.ly\", \"plotlyServerURL\": \"https://plot.ly\", \"responsive\": true}                    ).then(function(){\n",
       "                            \n",
       "var gd = document.getElementById('a9623a56-1c5a-4f25-84f3-f95267e4e9db');\n",
       "var x = new MutationObserver(function (mutations, observer) {{\n",
       "        var display = window.getComputedStyle(gd).display;\n",
       "        if (!display || display === 'none') {{\n",
       "            console.log([gd, 'removed!']);\n",
       "            Plotly.purge(gd);\n",
       "            observer.disconnect();\n",
       "        }}\n",
       "}});\n",
       "\n",
       "// Listen for the removal of the full notebook cells\n",
       "var notebookContainer = gd.closest('#notebook-container');\n",
       "if (notebookContainer) {{\n",
       "    x.observe(notebookContainer, {childList: true});\n",
       "}}\n",
       "\n",
       "// Listen for the clearing of the current output cell\n",
       "var outputEl = gd.closest('.output');\n",
       "if (outputEl) {{\n",
       "    x.observe(outputEl, {childList: true});\n",
       "}}\n",
       "\n",
       "                        })                };                });            </script>        </div>"
      ]
     },
     "metadata": {},
     "output_type": "display_data"
    }
   ],
   "source": [
    "df3 = pd.DataFrame({'x':[1,2,3,4,5],'y':[10,20,30,20,10],'z':[5,4,3,2,1]})\n",
    "df3.iplot(kind='surface',colorscale='rdylbu')"
   ]
  },
  {
   "cell_type": "markdown",
   "metadata": {},
   "source": [
    "## Spread"
   ]
  },
  {
   "cell_type": "code",
   "execution_count": 16,
   "metadata": {},
   "outputs": [
    {
     "name": "stderr",
     "output_type": "stream",
     "text": [
      "/Users/rxa52u7/opt/anaconda3/lib/python3.8/site-packages/cufflinks/plotlytools.py:849: FutureWarning:\n",
      "\n",
      "The pandas.np module is deprecated and will be removed from pandas in a future version. Import numpy directly instead\n",
      "\n",
      "/Users/rxa52u7/opt/anaconda3/lib/python3.8/site-packages/cufflinks/plotlytools.py:850: FutureWarning:\n",
      "\n",
      "The pandas.np module is deprecated and will be removed from pandas in a future version. Import numpy directly instead\n",
      "\n"
     ]
    },
    {
     "data": {
      "application/vnd.plotly.v1+json": {
       "config": {
        "linkText": "Export to plot.ly",
        "plotlyServerURL": "https://plot.ly",
        "showLink": true
       },
       "data": [
        {
         "line": {
          "color": "rgba(255, 153, 51, 1.0)",
          "dash": "solid",
          "shape": "linear",
          "width": 1.3
         },
         "mode": "lines",
         "name": "A",
         "text": "",
         "type": "scatter",
         "x": [
          0,
          1,
          2,
          3,
          4,
          5,
          6,
          7,
          8,
          9,
          10,
          11,
          12,
          13,
          14,
          15,
          16,
          17,
          18,
          19,
          20,
          21,
          22,
          23,
          24,
          25,
          26,
          27,
          28,
          29,
          30,
          31,
          32,
          33,
          34,
          35,
          36,
          37,
          38,
          39,
          40,
          41,
          42,
          43,
          44,
          45,
          46,
          47,
          48,
          49,
          50,
          51,
          52,
          53,
          54,
          55,
          56,
          57,
          58,
          59,
          60,
          61,
          62,
          63,
          64,
          65,
          66,
          67,
          68,
          69,
          70,
          71,
          72,
          73,
          74,
          75,
          76,
          77,
          78,
          79,
          80,
          81,
          82,
          83,
          84,
          85,
          86,
          87,
          88,
          89,
          90,
          91,
          92,
          93,
          94,
          95,
          96,
          97,
          98,
          99
         ],
         "y": [
          -1.3706341634977999,
          -0.44464357298030577,
          0.21194758281043072,
          0.12188250469054568,
          0.23109750834636394,
          -2.078611900510734,
          -1.4125718461065768,
          1.3226301173678356,
          2.210811587319438,
          0.36723881015481563,
          0.7050702807104442,
          -0.905428803606851,
          -0.7375841040593092,
          -0.4226064027471685,
          0.6645102742651933,
          -0.08735652306256615,
          -0.5813580330962289,
          0.0716254537297011,
          0.15204193295013044,
          1.2331156163625931,
          0.3672451559975761,
          -1.0078492704142434,
          -0.500538082300995,
          0.4229458212448693,
          0.6464313705076554,
          0.2139423481071675,
          0.1714393729772546,
          1.9948550663201299,
          0.4321704238991509,
          0.7392842450688996,
          0.541413784244687,
          0.31978830459683383,
          -0.017365148471931328,
          -1.0857775822469622,
          -1.193103742314076,
          1.099979033425753,
          2.2056855426999866,
          -1.6669638663240616,
          -0.08506313981755931,
          -0.02951404577227692,
          0.4881199025094287,
          -0.528706652714251,
          0.3110493410602627,
          -0.994407222597656,
          -0.28465817230024915,
          0.25556787422035,
          -1.956154522801279,
          0.3883869966365133,
          1.102046149073705,
          -0.4215054879821377,
          0.24423815726095943,
          0.4649265831057877,
          0.4866105838030112,
          0.7258641462406561,
          0.66621179780112,
          2.3012047560973246,
          0.510448614366747,
          -0.0672027437684564,
          0.9902492665119011,
          0.995358276938806,
          -0.3609097311021256,
          -0.8462895865163238,
          2.02343599829043,
          -1.9395551757350018,
          -0.09964614142319132,
          -0.6415266032082034,
          0.09126807042650653,
          -0.7604286997610876,
          -1.4705671870066,
          -1.7726401934108293,
          0.7123922422852348,
          0.8179562452087664,
          0.1397851465613479,
          -1.1900951296743383,
          1.3545683824031913,
          -0.9862518332678586,
          0.07713600519368458,
          0.9665930002866592,
          -0.8836743785929374,
          0.031183626981489555,
          -0.4541590764346655,
          -0.3059995675381995,
          -0.31819475456499857,
          -0.829947107638954,
          0.5502331119843076,
          -2.2427912701229795,
          0.9643634596297002,
          0.4082628205500436,
          -0.472746067463226,
          0.15807422758994447,
          -1.2478598233983356,
          0.9421325113086404,
          0.07985387835658049,
          1.377428942663169,
          -0.17424251486922068,
          -0.8619395928622705,
          -0.7438063014346141,
          1.0724948530588314,
          -0.2917142520456285,
          -0.4723161335846429
         ]
        },
        {
         "line": {
          "color": "rgba(55, 128, 191, 1.0)",
          "dash": "solid",
          "shape": "linear",
          "width": 1.3
         },
         "mode": "lines",
         "name": "B",
         "text": "",
         "type": "scatter",
         "x": [
          0,
          1,
          2,
          3,
          4,
          5,
          6,
          7,
          8,
          9,
          10,
          11,
          12,
          13,
          14,
          15,
          16,
          17,
          18,
          19,
          20,
          21,
          22,
          23,
          24,
          25,
          26,
          27,
          28,
          29,
          30,
          31,
          32,
          33,
          34,
          35,
          36,
          37,
          38,
          39,
          40,
          41,
          42,
          43,
          44,
          45,
          46,
          47,
          48,
          49,
          50,
          51,
          52,
          53,
          54,
          55,
          56,
          57,
          58,
          59,
          60,
          61,
          62,
          63,
          64,
          65,
          66,
          67,
          68,
          69,
          70,
          71,
          72,
          73,
          74,
          75,
          76,
          77,
          78,
          79,
          80,
          81,
          82,
          83,
          84,
          85,
          86,
          87,
          88,
          89,
          90,
          91,
          92,
          93,
          94,
          95,
          96,
          97,
          98,
          99
         ],
         "y": [
          -1.4196724829893959,
          0.6937772020980084,
          -0.4812846650690201,
          0.035158586908787745,
          -0.45017873068516073,
          -0.030059928365334238,
          -1.856233899690452,
          -0.5590337797075252,
          -0.5804073030280686,
          1.150854046333595,
          -0.6733858899708351,
          0.8266969326608955,
          1.7988410661820298,
          1.1778011802008324,
          0.10006808003616055,
          0.4809616447255042,
          1.287644232127595,
          1.836146110025685,
          -0.11151507322238065,
          -1.251458276052178,
          -1.4470616711917,
          0.10723640266054896,
          -0.9686962871440572,
          1.4393440412212073,
          0.13304099023488128,
          0.4908125547596066,
          0.5220823956304467,
          0.3507904194832665,
          0.2581747768061723,
          0.12205361739481664,
          -0.4198161734207942,
          -0.37561858442804985,
          -1.6277731441939807,
          1.2670489958455784,
          -0.8279945448260254,
          1.5243878128552988,
          -1.3063636827096152,
          -0.005083638785516138,
          0.5029272510206665,
          0.3076220408997537,
          -1.6764059119651478,
          -1.5851239702752005,
          -0.8117329131730747,
          -0.663458209419483,
          0.0856691449911914,
          0.3456908076693621,
          0.9819318143923648,
          -1.1238915488432348,
          0.07568901601486262,
          -0.6329608158228868,
          -0.04523711591711723,
          -0.8385342648127595,
          1.3551895570715595,
          1.1454304810086735,
          0.15400312415551504,
          0.5266222368882257,
          -1.6216902724729327,
          -1.1645414566296808,
          -1.3257935329411572,
          1.0928850861133592,
          0.4397168800217103,
          0.22162291000438433,
          -0.4214110310069617,
          1.359394341005347,
          0.755569142671456,
          -0.047668341509316696,
          1.618663837028353,
          0.07553200040376101,
          1.4332407885042495,
          -0.6812263824951286,
          0.4548067533565884,
          0.8378693195141234,
          0.7205082805758841,
          0.5173519389365746,
          0.16254471065118895,
          0.7989306048084983,
          -0.7530959571258489,
          0.792995916875926,
          -1.3084157648844408,
          -0.6948613980554555,
          -1.3657188199513584,
          -0.12912859493672632,
          1.4763979073116997,
          -1.2508979201194812,
          -0.520025141114111,
          -0.6953210758379533,
          0.5677098245114643,
          -0.2624853987239584,
          2.5523006410694515,
          0.6324875821159565,
          -0.1924944987687054,
          -0.5871756946439045,
          -0.02944436942818076,
          -1.9818632242606096,
          -1.5142323202732133,
          0.8230299179180144,
          -1.3975522801520963,
          -0.7152243646234195,
          0.34084939962171656,
          1.9520183792854542
         ]
        },
        {
         "connectgaps": false,
         "fill": "tozeroy",
         "line": {
          "color": "green",
          "dash": "solid",
          "shape": "linear",
          "width": 0.5
         },
         "mode": "lines",
         "name": "Spread",
         "showlegend": false,
         "type": "scatter",
         "x": [
          0,
          1,
          2,
          3,
          4,
          5,
          6,
          7,
          8,
          9,
          10,
          11,
          12,
          13,
          14,
          15,
          16,
          17,
          18,
          19,
          20,
          21,
          22,
          23,
          24,
          25,
          26,
          27,
          28,
          29,
          30,
          31,
          32,
          33,
          34,
          35,
          36,
          37,
          38,
          39,
          40,
          41,
          42,
          43,
          44,
          45,
          46,
          47,
          48,
          49,
          50,
          51,
          52,
          53,
          54,
          55,
          56,
          57,
          58,
          59,
          60,
          61,
          62,
          63,
          64,
          65,
          66,
          67,
          68,
          69,
          70,
          71,
          72,
          73,
          74,
          75,
          76,
          77,
          78,
          79,
          80,
          81,
          82,
          83,
          84,
          85,
          86,
          87,
          88,
          89,
          90,
          91,
          92,
          93,
          94,
          95,
          96,
          97,
          98,
          99
         ],
         "xaxis": "x2",
         "y": [
          0.04903831949159598,
          "",
          0.6932322478794508,
          0.08672391778175793,
          0.6812762390315247,
          "",
          0.4436620535838751,
          1.8816638970753607,
          2.7912188903475066,
          "",
          1.3784561706812792,
          "",
          "",
          "",
          0.5644421942290327,
          "",
          "",
          "",
          0.2635570061725111,
          2.484573892414771,
          1.814306827189276,
          "",
          0.46815820484306225,
          "",
          0.5133903802727742,
          "",
          "",
          1.6440646468368634,
          0.1739956470929786,
          0.6172306276740829,
          0.9612299576654812,
          0.6954068890248837,
          1.6104079957220494,
          "",
          "",
          "",
          3.512049225409602,
          "",
          "",
          "",
          2.1645258144745765,
          1.0564173175609495,
          1.1227822542333374,
          "",
          "",
          "",
          "",
          1.5122785454797483,
          1.0263571330588424,
          0.21145532784074905,
          0.28947527317807664,
          1.3034608479185472,
          "",
          "",
          0.5122086736456051,
          1.774582519209099,
          2.13213888683968,
          1.0973387128612244,
          2.3160427994530584,
          "",
          "",
          "",
          2.444847029297392,
          "",
          "",
          "",
          "",
          "",
          "",
          "",
          0.2575854889286464,
          "",
          "",
          "",
          1.1920236717520023,
          "",
          0.8302319623195334,
          0.1735970834107332,
          0.4247413862915034,
          0.7260450250369451,
          0.9115597435166929,
          "",
          "",
          0.42095081248052724,
          1.0702582530984186,
          "",
          0.3966536351182358,
          0.670748219274002,
          "",
          "",
          "",
          1.529308205952545,
          0.10929824778476124,
          3.3592921669237787,
          1.3399898054039927,
          "",
          0.6537459787174822,
          1.787719217682251,
          "",
          ""
         ],
         "yaxis": "y2"
        },
        {
         "connectgaps": false,
         "fill": "tozeroy",
         "line": {
          "color": "red",
          "dash": "solid",
          "shape": "linear",
          "width": 0.5
         },
         "mode": "lines",
         "name": "Spread",
         "showlegend": false,
         "type": "scatter",
         "x": [
          0,
          1,
          2,
          3,
          4,
          5,
          6,
          7,
          8,
          9,
          10,
          11,
          12,
          13,
          14,
          15,
          16,
          17,
          18,
          19,
          20,
          21,
          22,
          23,
          24,
          25,
          26,
          27,
          28,
          29,
          30,
          31,
          32,
          33,
          34,
          35,
          36,
          37,
          38,
          39,
          40,
          41,
          42,
          43,
          44,
          45,
          46,
          47,
          48,
          49,
          50,
          51,
          52,
          53,
          54,
          55,
          56,
          57,
          58,
          59,
          60,
          61,
          62,
          63,
          64,
          65,
          66,
          67,
          68,
          69,
          70,
          71,
          72,
          73,
          74,
          75,
          76,
          77,
          78,
          79,
          80,
          81,
          82,
          83,
          84,
          85,
          86,
          87,
          88,
          89,
          90,
          91,
          92,
          93,
          94,
          95,
          96,
          97,
          98,
          99
         ],
         "xaxis": "x2",
         "y": [
          "",
          -1.1384207750783142,
          "",
          "",
          "",
          -2.0485519721453995,
          "",
          "",
          "",
          -0.7836152361787794,
          "",
          -1.7321257362677465,
          -2.5364251702413387,
          -1.600407582948001,
          "",
          -0.5683181677880703,
          -1.8690022652238238,
          -1.7645206562959839,
          "",
          "",
          "",
          -1.1150856730747924,
          "",
          -1.016398219976338,
          "",
          -0.2768702066524391,
          -0.3506430226531921,
          "",
          "",
          "",
          "",
          "",
          "",
          -2.3528265780925404,
          -0.3651091974880506,
          -0.4244087794295457,
          "",
          -1.6618802275385454,
          -0.5879903908382258,
          -0.3371360866720306,
          "",
          "",
          "",
          -0.33094901317817305,
          -0.3703273172914405,
          -0.09012293344901212,
          -2.938086337193644,
          "",
          "",
          "",
          "",
          "",
          -0.8685789732685483,
          -0.4195663347680174,
          "",
          "",
          "",
          "",
          "",
          -0.09752680917455325,
          -0.8006266111238358,
          -1.067912496520708,
          "",
          -3.2989495167403486,
          -0.8552152840946473,
          -0.5938582616988868,
          -1.5273957666018465,
          -0.8359607001648486,
          -2.9038079755108495,
          -1.0914138109157008,
          "",
          -0.019913074305356937,
          -0.5807231340145362,
          -1.7074470686109129,
          "",
          -1.7851824380763568,
          "",
          "",
          "",
          "",
          "",
          -0.1768709726014732,
          -1.7945926618766983,
          "",
          "",
          -1.5474701942850262,
          "",
          "",
          -3.0250467085326775,
          -0.47441335452601197,
          -1.0553653246296302,
          "",
          "",
          "",
          "",
          -1.684969510780285,
          "",
          "",
          -0.6325636516673451,
          -2.424334512870097
         ],
         "yaxis": "y2"
        }
       ],
       "layout": {
        "hovermode": "x",
        "legend": {
         "bgcolor": "#F5F6F9",
         "font": {
          "color": "#4D5663"
         }
        },
        "paper_bgcolor": "#F5F6F9",
        "plot_bgcolor": "#F5F6F9",
        "template": {
         "data": {
          "bar": [
           {
            "error_x": {
             "color": "#2a3f5f"
            },
            "error_y": {
             "color": "#2a3f5f"
            },
            "marker": {
             "line": {
              "color": "#E5ECF6",
              "width": 0.5
             }
            },
            "type": "bar"
           }
          ],
          "barpolar": [
           {
            "marker": {
             "line": {
              "color": "#E5ECF6",
              "width": 0.5
             }
            },
            "type": "barpolar"
           }
          ],
          "carpet": [
           {
            "aaxis": {
             "endlinecolor": "#2a3f5f",
             "gridcolor": "white",
             "linecolor": "white",
             "minorgridcolor": "white",
             "startlinecolor": "#2a3f5f"
            },
            "baxis": {
             "endlinecolor": "#2a3f5f",
             "gridcolor": "white",
             "linecolor": "white",
             "minorgridcolor": "white",
             "startlinecolor": "#2a3f5f"
            },
            "type": "carpet"
           }
          ],
          "choropleth": [
           {
            "colorbar": {
             "outlinewidth": 0,
             "ticks": ""
            },
            "type": "choropleth"
           }
          ],
          "contour": [
           {
            "colorbar": {
             "outlinewidth": 0,
             "ticks": ""
            },
            "colorscale": [
             [
              0,
              "#0d0887"
             ],
             [
              0.1111111111111111,
              "#46039f"
             ],
             [
              0.2222222222222222,
              "#7201a8"
             ],
             [
              0.3333333333333333,
              "#9c179e"
             ],
             [
              0.4444444444444444,
              "#bd3786"
             ],
             [
              0.5555555555555556,
              "#d8576b"
             ],
             [
              0.6666666666666666,
              "#ed7953"
             ],
             [
              0.7777777777777778,
              "#fb9f3a"
             ],
             [
              0.8888888888888888,
              "#fdca26"
             ],
             [
              1,
              "#f0f921"
             ]
            ],
            "type": "contour"
           }
          ],
          "contourcarpet": [
           {
            "colorbar": {
             "outlinewidth": 0,
             "ticks": ""
            },
            "type": "contourcarpet"
           }
          ],
          "heatmap": [
           {
            "colorbar": {
             "outlinewidth": 0,
             "ticks": ""
            },
            "colorscale": [
             [
              0,
              "#0d0887"
             ],
             [
              0.1111111111111111,
              "#46039f"
             ],
             [
              0.2222222222222222,
              "#7201a8"
             ],
             [
              0.3333333333333333,
              "#9c179e"
             ],
             [
              0.4444444444444444,
              "#bd3786"
             ],
             [
              0.5555555555555556,
              "#d8576b"
             ],
             [
              0.6666666666666666,
              "#ed7953"
             ],
             [
              0.7777777777777778,
              "#fb9f3a"
             ],
             [
              0.8888888888888888,
              "#fdca26"
             ],
             [
              1,
              "#f0f921"
             ]
            ],
            "type": "heatmap"
           }
          ],
          "heatmapgl": [
           {
            "colorbar": {
             "outlinewidth": 0,
             "ticks": ""
            },
            "colorscale": [
             [
              0,
              "#0d0887"
             ],
             [
              0.1111111111111111,
              "#46039f"
             ],
             [
              0.2222222222222222,
              "#7201a8"
             ],
             [
              0.3333333333333333,
              "#9c179e"
             ],
             [
              0.4444444444444444,
              "#bd3786"
             ],
             [
              0.5555555555555556,
              "#d8576b"
             ],
             [
              0.6666666666666666,
              "#ed7953"
             ],
             [
              0.7777777777777778,
              "#fb9f3a"
             ],
             [
              0.8888888888888888,
              "#fdca26"
             ],
             [
              1,
              "#f0f921"
             ]
            ],
            "type": "heatmapgl"
           }
          ],
          "histogram": [
           {
            "marker": {
             "colorbar": {
              "outlinewidth": 0,
              "ticks": ""
             }
            },
            "type": "histogram"
           }
          ],
          "histogram2d": [
           {
            "colorbar": {
             "outlinewidth": 0,
             "ticks": ""
            },
            "colorscale": [
             [
              0,
              "#0d0887"
             ],
             [
              0.1111111111111111,
              "#46039f"
             ],
             [
              0.2222222222222222,
              "#7201a8"
             ],
             [
              0.3333333333333333,
              "#9c179e"
             ],
             [
              0.4444444444444444,
              "#bd3786"
             ],
             [
              0.5555555555555556,
              "#d8576b"
             ],
             [
              0.6666666666666666,
              "#ed7953"
             ],
             [
              0.7777777777777778,
              "#fb9f3a"
             ],
             [
              0.8888888888888888,
              "#fdca26"
             ],
             [
              1,
              "#f0f921"
             ]
            ],
            "type": "histogram2d"
           }
          ],
          "histogram2dcontour": [
           {
            "colorbar": {
             "outlinewidth": 0,
             "ticks": ""
            },
            "colorscale": [
             [
              0,
              "#0d0887"
             ],
             [
              0.1111111111111111,
              "#46039f"
             ],
             [
              0.2222222222222222,
              "#7201a8"
             ],
             [
              0.3333333333333333,
              "#9c179e"
             ],
             [
              0.4444444444444444,
              "#bd3786"
             ],
             [
              0.5555555555555556,
              "#d8576b"
             ],
             [
              0.6666666666666666,
              "#ed7953"
             ],
             [
              0.7777777777777778,
              "#fb9f3a"
             ],
             [
              0.8888888888888888,
              "#fdca26"
             ],
             [
              1,
              "#f0f921"
             ]
            ],
            "type": "histogram2dcontour"
           }
          ],
          "mesh3d": [
           {
            "colorbar": {
             "outlinewidth": 0,
             "ticks": ""
            },
            "type": "mesh3d"
           }
          ],
          "parcoords": [
           {
            "line": {
             "colorbar": {
              "outlinewidth": 0,
              "ticks": ""
             }
            },
            "type": "parcoords"
           }
          ],
          "pie": [
           {
            "automargin": true,
            "type": "pie"
           }
          ],
          "scatter": [
           {
            "marker": {
             "colorbar": {
              "outlinewidth": 0,
              "ticks": ""
             }
            },
            "type": "scatter"
           }
          ],
          "scatter3d": [
           {
            "line": {
             "colorbar": {
              "outlinewidth": 0,
              "ticks": ""
             }
            },
            "marker": {
             "colorbar": {
              "outlinewidth": 0,
              "ticks": ""
             }
            },
            "type": "scatter3d"
           }
          ],
          "scattercarpet": [
           {
            "marker": {
             "colorbar": {
              "outlinewidth": 0,
              "ticks": ""
             }
            },
            "type": "scattercarpet"
           }
          ],
          "scattergeo": [
           {
            "marker": {
             "colorbar": {
              "outlinewidth": 0,
              "ticks": ""
             }
            },
            "type": "scattergeo"
           }
          ],
          "scattergl": [
           {
            "marker": {
             "colorbar": {
              "outlinewidth": 0,
              "ticks": ""
             }
            },
            "type": "scattergl"
           }
          ],
          "scattermapbox": [
           {
            "marker": {
             "colorbar": {
              "outlinewidth": 0,
              "ticks": ""
             }
            },
            "type": "scattermapbox"
           }
          ],
          "scatterpolar": [
           {
            "marker": {
             "colorbar": {
              "outlinewidth": 0,
              "ticks": ""
             }
            },
            "type": "scatterpolar"
           }
          ],
          "scatterpolargl": [
           {
            "marker": {
             "colorbar": {
              "outlinewidth": 0,
              "ticks": ""
             }
            },
            "type": "scatterpolargl"
           }
          ],
          "scatterternary": [
           {
            "marker": {
             "colorbar": {
              "outlinewidth": 0,
              "ticks": ""
             }
            },
            "type": "scatterternary"
           }
          ],
          "surface": [
           {
            "colorbar": {
             "outlinewidth": 0,
             "ticks": ""
            },
            "colorscale": [
             [
              0,
              "#0d0887"
             ],
             [
              0.1111111111111111,
              "#46039f"
             ],
             [
              0.2222222222222222,
              "#7201a8"
             ],
             [
              0.3333333333333333,
              "#9c179e"
             ],
             [
              0.4444444444444444,
              "#bd3786"
             ],
             [
              0.5555555555555556,
              "#d8576b"
             ],
             [
              0.6666666666666666,
              "#ed7953"
             ],
             [
              0.7777777777777778,
              "#fb9f3a"
             ],
             [
              0.8888888888888888,
              "#fdca26"
             ],
             [
              1,
              "#f0f921"
             ]
            ],
            "type": "surface"
           }
          ],
          "table": [
           {
            "cells": {
             "fill": {
              "color": "#EBF0F8"
             },
             "line": {
              "color": "white"
             }
            },
            "header": {
             "fill": {
              "color": "#C8D4E3"
             },
             "line": {
              "color": "white"
             }
            },
            "type": "table"
           }
          ]
         },
         "layout": {
          "annotationdefaults": {
           "arrowcolor": "#2a3f5f",
           "arrowhead": 0,
           "arrowwidth": 1
          },
          "autotypenumbers": "strict",
          "coloraxis": {
           "colorbar": {
            "outlinewidth": 0,
            "ticks": ""
           }
          },
          "colorscale": {
           "diverging": [
            [
             0,
             "#8e0152"
            ],
            [
             0.1,
             "#c51b7d"
            ],
            [
             0.2,
             "#de77ae"
            ],
            [
             0.3,
             "#f1b6da"
            ],
            [
             0.4,
             "#fde0ef"
            ],
            [
             0.5,
             "#f7f7f7"
            ],
            [
             0.6,
             "#e6f5d0"
            ],
            [
             0.7,
             "#b8e186"
            ],
            [
             0.8,
             "#7fbc41"
            ],
            [
             0.9,
             "#4d9221"
            ],
            [
             1,
             "#276419"
            ]
           ],
           "sequential": [
            [
             0,
             "#0d0887"
            ],
            [
             0.1111111111111111,
             "#46039f"
            ],
            [
             0.2222222222222222,
             "#7201a8"
            ],
            [
             0.3333333333333333,
             "#9c179e"
            ],
            [
             0.4444444444444444,
             "#bd3786"
            ],
            [
             0.5555555555555556,
             "#d8576b"
            ],
            [
             0.6666666666666666,
             "#ed7953"
            ],
            [
             0.7777777777777778,
             "#fb9f3a"
            ],
            [
             0.8888888888888888,
             "#fdca26"
            ],
            [
             1,
             "#f0f921"
            ]
           ],
           "sequentialminus": [
            [
             0,
             "#0d0887"
            ],
            [
             0.1111111111111111,
             "#46039f"
            ],
            [
             0.2222222222222222,
             "#7201a8"
            ],
            [
             0.3333333333333333,
             "#9c179e"
            ],
            [
             0.4444444444444444,
             "#bd3786"
            ],
            [
             0.5555555555555556,
             "#d8576b"
            ],
            [
             0.6666666666666666,
             "#ed7953"
            ],
            [
             0.7777777777777778,
             "#fb9f3a"
            ],
            [
             0.8888888888888888,
             "#fdca26"
            ],
            [
             1,
             "#f0f921"
            ]
           ]
          },
          "colorway": [
           "#636efa",
           "#EF553B",
           "#00cc96",
           "#ab63fa",
           "#FFA15A",
           "#19d3f3",
           "#FF6692",
           "#B6E880",
           "#FF97FF",
           "#FECB52"
          ],
          "font": {
           "color": "#2a3f5f"
          },
          "geo": {
           "bgcolor": "white",
           "lakecolor": "white",
           "landcolor": "#E5ECF6",
           "showlakes": true,
           "showland": true,
           "subunitcolor": "white"
          },
          "hoverlabel": {
           "align": "left"
          },
          "hovermode": "closest",
          "mapbox": {
           "style": "light"
          },
          "paper_bgcolor": "white",
          "plot_bgcolor": "#E5ECF6",
          "polar": {
           "angularaxis": {
            "gridcolor": "white",
            "linecolor": "white",
            "ticks": ""
           },
           "bgcolor": "#E5ECF6",
           "radialaxis": {
            "gridcolor": "white",
            "linecolor": "white",
            "ticks": ""
           }
          },
          "scene": {
           "xaxis": {
            "backgroundcolor": "#E5ECF6",
            "gridcolor": "white",
            "gridwidth": 2,
            "linecolor": "white",
            "showbackground": true,
            "ticks": "",
            "zerolinecolor": "white"
           },
           "yaxis": {
            "backgroundcolor": "#E5ECF6",
            "gridcolor": "white",
            "gridwidth": 2,
            "linecolor": "white",
            "showbackground": true,
            "ticks": "",
            "zerolinecolor": "white"
           },
           "zaxis": {
            "backgroundcolor": "#E5ECF6",
            "gridcolor": "white",
            "gridwidth": 2,
            "linecolor": "white",
            "showbackground": true,
            "ticks": "",
            "zerolinecolor": "white"
           }
          },
          "shapedefaults": {
           "line": {
            "color": "#2a3f5f"
           }
          },
          "ternary": {
           "aaxis": {
            "gridcolor": "white",
            "linecolor": "white",
            "ticks": ""
           },
           "baxis": {
            "gridcolor": "white",
            "linecolor": "white",
            "ticks": ""
           },
           "bgcolor": "#E5ECF6",
           "caxis": {
            "gridcolor": "white",
            "linecolor": "white",
            "ticks": ""
           }
          },
          "title": {
           "x": 0.05
          },
          "xaxis": {
           "automargin": true,
           "gridcolor": "white",
           "linecolor": "white",
           "ticks": "",
           "title": {
            "standoff": 15
           },
           "zerolinecolor": "white",
           "zerolinewidth": 2
          },
          "yaxis": {
           "automargin": true,
           "gridcolor": "white",
           "linecolor": "white",
           "ticks": "",
           "title": {
            "standoff": 15
           },
           "zerolinecolor": "white",
           "zerolinewidth": 2
          }
         }
        },
        "title": {
         "font": {
          "color": "#4D5663"
         }
        },
        "xaxis": {
         "gridcolor": "#E1E5ED",
         "showgrid": true,
         "tickfont": {
          "color": "#4D5663"
         },
         "title": {
          "font": {
           "color": "#4D5663"
          },
          "text": ""
         },
         "zerolinecolor": "#E1E5ED"
        },
        "xaxis2": {
         "anchor": "y2",
         "gridcolor": "#E1E5ED",
         "showgrid": true,
         "showticklabels": false,
         "tickfont": {
          "color": "#4D5663"
         },
         "title": {
          "font": {
           "color": "#4D5663"
          },
          "text": ""
         },
         "zerolinecolor": "#E1E5ED"
        },
        "yaxis": {
         "domain": [
          0.3,
          1
         ],
         "gridcolor": "#E1E5ED",
         "showgrid": true,
         "tickfont": {
          "color": "#4D5663"
         },
         "title": {
          "font": {
           "color": "#4D5663"
          },
          "text": ""
         },
         "zerolinecolor": "#E1E5ED"
        },
        "yaxis2": {
         "domain": [
          0,
          0.25
         ],
         "gridcolor": "#E1E5ED",
         "showgrid": true,
         "tickfont": {
          "color": "#4D5663"
         },
         "title": {
          "font": {
           "color": "#4D5663"
          },
          "text": "Spread"
         },
         "zerolinecolor": "#E1E5ED"
        }
       }
      },
      "text/html": [
       "<div>                            <div id=\"7a6904fd-1940-44d9-b8f7-855bc0865e6d\" class=\"plotly-graph-div\" style=\"height:525px; width:100%;\"></div>            <script type=\"text/javascript\">                require([\"plotly\"], function(Plotly) {                    window.PLOTLYENV=window.PLOTLYENV || {};\n",
       "                    window.PLOTLYENV.BASE_URL='https://plot.ly';                                    if (document.getElementById(\"7a6904fd-1940-44d9-b8f7-855bc0865e6d\")) {                    Plotly.newPlot(                        \"7a6904fd-1940-44d9-b8f7-855bc0865e6d\",                        [{\"line\": {\"color\": \"rgba(255, 153, 51, 1.0)\", \"dash\": \"solid\", \"shape\": \"linear\", \"width\": 1.3}, \"mode\": \"lines\", \"name\": \"A\", \"text\": \"\", \"type\": \"scatter\", \"x\": [0, 1, 2, 3, 4, 5, 6, 7, 8, 9, 10, 11, 12, 13, 14, 15, 16, 17, 18, 19, 20, 21, 22, 23, 24, 25, 26, 27, 28, 29, 30, 31, 32, 33, 34, 35, 36, 37, 38, 39, 40, 41, 42, 43, 44, 45, 46, 47, 48, 49, 50, 51, 52, 53, 54, 55, 56, 57, 58, 59, 60, 61, 62, 63, 64, 65, 66, 67, 68, 69, 70, 71, 72, 73, 74, 75, 76, 77, 78, 79, 80, 81, 82, 83, 84, 85, 86, 87, 88, 89, 90, 91, 92, 93, 94, 95, 96, 97, 98, 99], \"y\": [-1.3706341634977999, -0.44464357298030577, 0.21194758281043072, 0.12188250469054568, 0.23109750834636394, -2.078611900510734, -1.4125718461065768, 1.3226301173678356, 2.210811587319438, 0.36723881015481563, 0.7050702807104442, -0.905428803606851, -0.7375841040593092, -0.4226064027471685, 0.6645102742651933, -0.08735652306256615, -0.5813580330962289, 0.0716254537297011, 0.15204193295013044, 1.2331156163625931, 0.3672451559975761, -1.0078492704142434, -0.500538082300995, 0.4229458212448693, 0.6464313705076554, 0.2139423481071675, 0.1714393729772546, 1.9948550663201299, 0.4321704238991509, 0.7392842450688996, 0.541413784244687, 0.31978830459683383, -0.017365148471931328, -1.0857775822469622, -1.193103742314076, 1.099979033425753, 2.2056855426999866, -1.6669638663240616, -0.08506313981755931, -0.02951404577227692, 0.4881199025094287, -0.528706652714251, 0.3110493410602627, -0.994407222597656, -0.28465817230024915, 0.25556787422035, -1.956154522801279, 0.3883869966365133, 1.102046149073705, -0.4215054879821377, 0.24423815726095943, 0.4649265831057877, 0.4866105838030112, 0.7258641462406561, 0.66621179780112, 2.3012047560973246, 0.510448614366747, -0.0672027437684564, 0.9902492665119011, 0.995358276938806, -0.3609097311021256, -0.8462895865163238, 2.02343599829043, -1.9395551757350018, -0.09964614142319132, -0.6415266032082034, 0.09126807042650653, -0.7604286997610876, -1.4705671870066, -1.7726401934108293, 0.7123922422852348, 0.8179562452087664, 0.1397851465613479, -1.1900951296743383, 1.3545683824031913, -0.9862518332678586, 0.07713600519368458, 0.9665930002866592, -0.8836743785929374, 0.031183626981489555, -0.4541590764346655, -0.3059995675381995, -0.31819475456499857, -0.829947107638954, 0.5502331119843076, -2.2427912701229795, 0.9643634596297002, 0.4082628205500436, -0.472746067463226, 0.15807422758994447, -1.2478598233983356, 0.9421325113086404, 0.07985387835658049, 1.377428942663169, -0.17424251486922068, -0.8619395928622705, -0.7438063014346141, 1.0724948530588314, -0.2917142520456285, -0.4723161335846429]}, {\"line\": {\"color\": \"rgba(55, 128, 191, 1.0)\", \"dash\": \"solid\", \"shape\": \"linear\", \"width\": 1.3}, \"mode\": \"lines\", \"name\": \"B\", \"text\": \"\", \"type\": \"scatter\", \"x\": [0, 1, 2, 3, 4, 5, 6, 7, 8, 9, 10, 11, 12, 13, 14, 15, 16, 17, 18, 19, 20, 21, 22, 23, 24, 25, 26, 27, 28, 29, 30, 31, 32, 33, 34, 35, 36, 37, 38, 39, 40, 41, 42, 43, 44, 45, 46, 47, 48, 49, 50, 51, 52, 53, 54, 55, 56, 57, 58, 59, 60, 61, 62, 63, 64, 65, 66, 67, 68, 69, 70, 71, 72, 73, 74, 75, 76, 77, 78, 79, 80, 81, 82, 83, 84, 85, 86, 87, 88, 89, 90, 91, 92, 93, 94, 95, 96, 97, 98, 99], \"y\": [-1.4196724829893959, 0.6937772020980084, -0.4812846650690201, 0.035158586908787745, -0.45017873068516073, -0.030059928365334238, -1.856233899690452, -0.5590337797075252, -0.5804073030280686, 1.150854046333595, -0.6733858899708351, 0.8266969326608955, 1.7988410661820298, 1.1778011802008324, 0.10006808003616055, 0.4809616447255042, 1.287644232127595, 1.836146110025685, -0.11151507322238065, -1.251458276052178, -1.4470616711917, 0.10723640266054896, -0.9686962871440572, 1.4393440412212073, 0.13304099023488128, 0.4908125547596066, 0.5220823956304467, 0.3507904194832665, 0.2581747768061723, 0.12205361739481664, -0.4198161734207942, -0.37561858442804985, -1.6277731441939807, 1.2670489958455784, -0.8279945448260254, 1.5243878128552988, -1.3063636827096152, -0.005083638785516138, 0.5029272510206665, 0.3076220408997537, -1.6764059119651478, -1.5851239702752005, -0.8117329131730747, -0.663458209419483, 0.0856691449911914, 0.3456908076693621, 0.9819318143923648, -1.1238915488432348, 0.07568901601486262, -0.6329608158228868, -0.04523711591711723, -0.8385342648127595, 1.3551895570715595, 1.1454304810086735, 0.15400312415551504, 0.5266222368882257, -1.6216902724729327, -1.1645414566296808, -1.3257935329411572, 1.0928850861133592, 0.4397168800217103, 0.22162291000438433, -0.4214110310069617, 1.359394341005347, 0.755569142671456, -0.047668341509316696, 1.618663837028353, 0.07553200040376101, 1.4332407885042495, -0.6812263824951286, 0.4548067533565884, 0.8378693195141234, 0.7205082805758841, 0.5173519389365746, 0.16254471065118895, 0.7989306048084983, -0.7530959571258489, 0.792995916875926, -1.3084157648844408, -0.6948613980554555, -1.3657188199513584, -0.12912859493672632, 1.4763979073116997, -1.2508979201194812, -0.520025141114111, -0.6953210758379533, 0.5677098245114643, -0.2624853987239584, 2.5523006410694515, 0.6324875821159565, -0.1924944987687054, -0.5871756946439045, -0.02944436942818076, -1.9818632242606096, -1.5142323202732133, 0.8230299179180144, -1.3975522801520963, -0.7152243646234195, 0.34084939962171656, 1.9520183792854542]}, {\"connectgaps\": false, \"fill\": \"tozeroy\", \"line\": {\"color\": \"green\", \"dash\": \"solid\", \"shape\": \"linear\", \"width\": 0.5}, \"mode\": \"lines\", \"name\": \"Spread\", \"showlegend\": false, \"type\": \"scatter\", \"x\": [0, 1, 2, 3, 4, 5, 6, 7, 8, 9, 10, 11, 12, 13, 14, 15, 16, 17, 18, 19, 20, 21, 22, 23, 24, 25, 26, 27, 28, 29, 30, 31, 32, 33, 34, 35, 36, 37, 38, 39, 40, 41, 42, 43, 44, 45, 46, 47, 48, 49, 50, 51, 52, 53, 54, 55, 56, 57, 58, 59, 60, 61, 62, 63, 64, 65, 66, 67, 68, 69, 70, 71, 72, 73, 74, 75, 76, 77, 78, 79, 80, 81, 82, 83, 84, 85, 86, 87, 88, 89, 90, 91, 92, 93, 94, 95, 96, 97, 98, 99], \"xaxis\": \"x2\", \"y\": [0.04903831949159598, \"\", 0.6932322478794508, 0.08672391778175793, 0.6812762390315247, \"\", 0.4436620535838751, 1.8816638970753607, 2.7912188903475066, \"\", 1.3784561706812792, \"\", \"\", \"\", 0.5644421942290327, \"\", \"\", \"\", 0.2635570061725111, 2.484573892414771, 1.814306827189276, \"\", 0.46815820484306225, \"\", 0.5133903802727742, \"\", \"\", 1.6440646468368634, 0.1739956470929786, 0.6172306276740829, 0.9612299576654812, 0.6954068890248837, 1.6104079957220494, \"\", \"\", \"\", 3.512049225409602, \"\", \"\", \"\", 2.1645258144745765, 1.0564173175609495, 1.1227822542333374, \"\", \"\", \"\", \"\", 1.5122785454797483, 1.0263571330588424, 0.21145532784074905, 0.28947527317807664, 1.3034608479185472, \"\", \"\", 0.5122086736456051, 1.774582519209099, 2.13213888683968, 1.0973387128612244, 2.3160427994530584, \"\", \"\", \"\", 2.444847029297392, \"\", \"\", \"\", \"\", \"\", \"\", \"\", 0.2575854889286464, \"\", \"\", \"\", 1.1920236717520023, \"\", 0.8302319623195334, 0.1735970834107332, 0.4247413862915034, 0.7260450250369451, 0.9115597435166929, \"\", \"\", 0.42095081248052724, 1.0702582530984186, \"\", 0.3966536351182358, 0.670748219274002, \"\", \"\", \"\", 1.529308205952545, 0.10929824778476124, 3.3592921669237787, 1.3399898054039927, \"\", 0.6537459787174822, 1.787719217682251, \"\", \"\"], \"yaxis\": \"y2\"}, {\"connectgaps\": false, \"fill\": \"tozeroy\", \"line\": {\"color\": \"red\", \"dash\": \"solid\", \"shape\": \"linear\", \"width\": 0.5}, \"mode\": \"lines\", \"name\": \"Spread\", \"showlegend\": false, \"type\": \"scatter\", \"x\": [0, 1, 2, 3, 4, 5, 6, 7, 8, 9, 10, 11, 12, 13, 14, 15, 16, 17, 18, 19, 20, 21, 22, 23, 24, 25, 26, 27, 28, 29, 30, 31, 32, 33, 34, 35, 36, 37, 38, 39, 40, 41, 42, 43, 44, 45, 46, 47, 48, 49, 50, 51, 52, 53, 54, 55, 56, 57, 58, 59, 60, 61, 62, 63, 64, 65, 66, 67, 68, 69, 70, 71, 72, 73, 74, 75, 76, 77, 78, 79, 80, 81, 82, 83, 84, 85, 86, 87, 88, 89, 90, 91, 92, 93, 94, 95, 96, 97, 98, 99], \"xaxis\": \"x2\", \"y\": [\"\", -1.1384207750783142, \"\", \"\", \"\", -2.0485519721453995, \"\", \"\", \"\", -0.7836152361787794, \"\", -1.7321257362677465, -2.5364251702413387, -1.600407582948001, \"\", -0.5683181677880703, -1.8690022652238238, -1.7645206562959839, \"\", \"\", \"\", -1.1150856730747924, \"\", -1.016398219976338, \"\", -0.2768702066524391, -0.3506430226531921, \"\", \"\", \"\", \"\", \"\", \"\", -2.3528265780925404, -0.3651091974880506, -0.4244087794295457, \"\", -1.6618802275385454, -0.5879903908382258, -0.3371360866720306, \"\", \"\", \"\", -0.33094901317817305, -0.3703273172914405, -0.09012293344901212, -2.938086337193644, \"\", \"\", \"\", \"\", \"\", -0.8685789732685483, -0.4195663347680174, \"\", \"\", \"\", \"\", \"\", -0.09752680917455325, -0.8006266111238358, -1.067912496520708, \"\", -3.2989495167403486, -0.8552152840946473, -0.5938582616988868, -1.5273957666018465, -0.8359607001648486, -2.9038079755108495, -1.0914138109157008, \"\", -0.019913074305356937, -0.5807231340145362, -1.7074470686109129, \"\", -1.7851824380763568, \"\", \"\", \"\", \"\", \"\", -0.1768709726014732, -1.7945926618766983, \"\", \"\", -1.5474701942850262, \"\", \"\", -3.0250467085326775, -0.47441335452601197, -1.0553653246296302, \"\", \"\", \"\", \"\", -1.684969510780285, \"\", \"\", -0.6325636516673451, -2.424334512870097], \"yaxis\": \"y2\"}],                        {\"hovermode\": \"x\", \"legend\": {\"bgcolor\": \"#F5F6F9\", \"font\": {\"color\": \"#4D5663\"}}, \"paper_bgcolor\": \"#F5F6F9\", \"plot_bgcolor\": \"#F5F6F9\", \"template\": {\"data\": {\"bar\": [{\"error_x\": {\"color\": \"#2a3f5f\"}, \"error_y\": {\"color\": \"#2a3f5f\"}, \"marker\": {\"line\": {\"color\": \"#E5ECF6\", \"width\": 0.5}}, \"type\": \"bar\"}], \"barpolar\": [{\"marker\": {\"line\": {\"color\": \"#E5ECF6\", \"width\": 0.5}}, \"type\": \"barpolar\"}], \"carpet\": [{\"aaxis\": {\"endlinecolor\": \"#2a3f5f\", \"gridcolor\": \"white\", \"linecolor\": \"white\", \"minorgridcolor\": \"white\", \"startlinecolor\": \"#2a3f5f\"}, \"baxis\": {\"endlinecolor\": \"#2a3f5f\", \"gridcolor\": \"white\", \"linecolor\": \"white\", \"minorgridcolor\": \"white\", \"startlinecolor\": \"#2a3f5f\"}, \"type\": \"carpet\"}], \"choropleth\": [{\"colorbar\": {\"outlinewidth\": 0, \"ticks\": \"\"}, \"type\": \"choropleth\"}], \"contour\": [{\"colorbar\": {\"outlinewidth\": 0, \"ticks\": \"\"}, \"colorscale\": [[0.0, \"#0d0887\"], [0.1111111111111111, \"#46039f\"], [0.2222222222222222, \"#7201a8\"], [0.3333333333333333, \"#9c179e\"], [0.4444444444444444, \"#bd3786\"], [0.5555555555555556, \"#d8576b\"], [0.6666666666666666, \"#ed7953\"], [0.7777777777777778, \"#fb9f3a\"], [0.8888888888888888, \"#fdca26\"], [1.0, \"#f0f921\"]], \"type\": \"contour\"}], \"contourcarpet\": [{\"colorbar\": {\"outlinewidth\": 0, \"ticks\": \"\"}, \"type\": \"contourcarpet\"}], \"heatmap\": [{\"colorbar\": {\"outlinewidth\": 0, \"ticks\": \"\"}, \"colorscale\": [[0.0, \"#0d0887\"], [0.1111111111111111, \"#46039f\"], [0.2222222222222222, \"#7201a8\"], [0.3333333333333333, \"#9c179e\"], [0.4444444444444444, \"#bd3786\"], [0.5555555555555556, \"#d8576b\"], [0.6666666666666666, \"#ed7953\"], [0.7777777777777778, \"#fb9f3a\"], [0.8888888888888888, \"#fdca26\"], [1.0, \"#f0f921\"]], \"type\": \"heatmap\"}], \"heatmapgl\": [{\"colorbar\": {\"outlinewidth\": 0, \"ticks\": \"\"}, \"colorscale\": [[0.0, \"#0d0887\"], [0.1111111111111111, \"#46039f\"], [0.2222222222222222, \"#7201a8\"], [0.3333333333333333, \"#9c179e\"], [0.4444444444444444, \"#bd3786\"], [0.5555555555555556, \"#d8576b\"], [0.6666666666666666, \"#ed7953\"], [0.7777777777777778, \"#fb9f3a\"], [0.8888888888888888, \"#fdca26\"], [1.0, \"#f0f921\"]], \"type\": \"heatmapgl\"}], \"histogram\": [{\"marker\": {\"colorbar\": {\"outlinewidth\": 0, \"ticks\": \"\"}}, \"type\": \"histogram\"}], \"histogram2d\": [{\"colorbar\": {\"outlinewidth\": 0, \"ticks\": \"\"}, \"colorscale\": [[0.0, \"#0d0887\"], [0.1111111111111111, \"#46039f\"], [0.2222222222222222, \"#7201a8\"], [0.3333333333333333, \"#9c179e\"], [0.4444444444444444, \"#bd3786\"], [0.5555555555555556, \"#d8576b\"], [0.6666666666666666, \"#ed7953\"], [0.7777777777777778, \"#fb9f3a\"], [0.8888888888888888, \"#fdca26\"], [1.0, \"#f0f921\"]], \"type\": \"histogram2d\"}], \"histogram2dcontour\": [{\"colorbar\": {\"outlinewidth\": 0, \"ticks\": \"\"}, \"colorscale\": [[0.0, \"#0d0887\"], [0.1111111111111111, \"#46039f\"], [0.2222222222222222, \"#7201a8\"], [0.3333333333333333, \"#9c179e\"], [0.4444444444444444, \"#bd3786\"], [0.5555555555555556, \"#d8576b\"], [0.6666666666666666, \"#ed7953\"], [0.7777777777777778, \"#fb9f3a\"], [0.8888888888888888, \"#fdca26\"], [1.0, \"#f0f921\"]], \"type\": \"histogram2dcontour\"}], \"mesh3d\": [{\"colorbar\": {\"outlinewidth\": 0, \"ticks\": \"\"}, \"type\": \"mesh3d\"}], \"parcoords\": [{\"line\": {\"colorbar\": {\"outlinewidth\": 0, \"ticks\": \"\"}}, \"type\": \"parcoords\"}], \"pie\": [{\"automargin\": true, \"type\": \"pie\"}], \"scatter\": [{\"marker\": {\"colorbar\": {\"outlinewidth\": 0, \"ticks\": \"\"}}, \"type\": \"scatter\"}], \"scatter3d\": [{\"line\": {\"colorbar\": {\"outlinewidth\": 0, \"ticks\": \"\"}}, \"marker\": {\"colorbar\": {\"outlinewidth\": 0, \"ticks\": \"\"}}, \"type\": \"scatter3d\"}], \"scattercarpet\": [{\"marker\": {\"colorbar\": {\"outlinewidth\": 0, \"ticks\": \"\"}}, \"type\": \"scattercarpet\"}], \"scattergeo\": [{\"marker\": {\"colorbar\": {\"outlinewidth\": 0, \"ticks\": \"\"}}, \"type\": \"scattergeo\"}], \"scattergl\": [{\"marker\": {\"colorbar\": {\"outlinewidth\": 0, \"ticks\": \"\"}}, \"type\": \"scattergl\"}], \"scattermapbox\": [{\"marker\": {\"colorbar\": {\"outlinewidth\": 0, \"ticks\": \"\"}}, \"type\": \"scattermapbox\"}], \"scatterpolar\": [{\"marker\": {\"colorbar\": {\"outlinewidth\": 0, \"ticks\": \"\"}}, \"type\": \"scatterpolar\"}], \"scatterpolargl\": [{\"marker\": {\"colorbar\": {\"outlinewidth\": 0, \"ticks\": \"\"}}, \"type\": \"scatterpolargl\"}], \"scatterternary\": [{\"marker\": {\"colorbar\": {\"outlinewidth\": 0, \"ticks\": \"\"}}, \"type\": \"scatterternary\"}], \"surface\": [{\"colorbar\": {\"outlinewidth\": 0, \"ticks\": \"\"}, \"colorscale\": [[0.0, \"#0d0887\"], [0.1111111111111111, \"#46039f\"], [0.2222222222222222, \"#7201a8\"], [0.3333333333333333, \"#9c179e\"], [0.4444444444444444, \"#bd3786\"], [0.5555555555555556, \"#d8576b\"], [0.6666666666666666, \"#ed7953\"], [0.7777777777777778, \"#fb9f3a\"], [0.8888888888888888, \"#fdca26\"], [1.0, \"#f0f921\"]], \"type\": \"surface\"}], \"table\": [{\"cells\": {\"fill\": {\"color\": \"#EBF0F8\"}, \"line\": {\"color\": \"white\"}}, \"header\": {\"fill\": {\"color\": \"#C8D4E3\"}, \"line\": {\"color\": \"white\"}}, \"type\": \"table\"}]}, \"layout\": {\"annotationdefaults\": {\"arrowcolor\": \"#2a3f5f\", \"arrowhead\": 0, \"arrowwidth\": 1}, \"autotypenumbers\": \"strict\", \"coloraxis\": {\"colorbar\": {\"outlinewidth\": 0, \"ticks\": \"\"}}, \"colorscale\": {\"diverging\": [[0, \"#8e0152\"], [0.1, \"#c51b7d\"], [0.2, \"#de77ae\"], [0.3, \"#f1b6da\"], [0.4, \"#fde0ef\"], [0.5, \"#f7f7f7\"], [0.6, \"#e6f5d0\"], [0.7, \"#b8e186\"], [0.8, \"#7fbc41\"], [0.9, \"#4d9221\"], [1, \"#276419\"]], \"sequential\": [[0.0, \"#0d0887\"], [0.1111111111111111, \"#46039f\"], [0.2222222222222222, \"#7201a8\"], [0.3333333333333333, \"#9c179e\"], [0.4444444444444444, \"#bd3786\"], [0.5555555555555556, \"#d8576b\"], [0.6666666666666666, \"#ed7953\"], [0.7777777777777778, \"#fb9f3a\"], [0.8888888888888888, \"#fdca26\"], [1.0, \"#f0f921\"]], \"sequentialminus\": [[0.0, \"#0d0887\"], [0.1111111111111111, \"#46039f\"], [0.2222222222222222, \"#7201a8\"], [0.3333333333333333, \"#9c179e\"], [0.4444444444444444, \"#bd3786\"], [0.5555555555555556, \"#d8576b\"], [0.6666666666666666, \"#ed7953\"], [0.7777777777777778, \"#fb9f3a\"], [0.8888888888888888, \"#fdca26\"], [1.0, \"#f0f921\"]]}, \"colorway\": [\"#636efa\", \"#EF553B\", \"#00cc96\", \"#ab63fa\", \"#FFA15A\", \"#19d3f3\", \"#FF6692\", \"#B6E880\", \"#FF97FF\", \"#FECB52\"], \"font\": {\"color\": \"#2a3f5f\"}, \"geo\": {\"bgcolor\": \"white\", \"lakecolor\": \"white\", \"landcolor\": \"#E5ECF6\", \"showlakes\": true, \"showland\": true, \"subunitcolor\": \"white\"}, \"hoverlabel\": {\"align\": \"left\"}, \"hovermode\": \"closest\", \"mapbox\": {\"style\": \"light\"}, \"paper_bgcolor\": \"white\", \"plot_bgcolor\": \"#E5ECF6\", \"polar\": {\"angularaxis\": {\"gridcolor\": \"white\", \"linecolor\": \"white\", \"ticks\": \"\"}, \"bgcolor\": \"#E5ECF6\", \"radialaxis\": {\"gridcolor\": \"white\", \"linecolor\": \"white\", \"ticks\": \"\"}}, \"scene\": {\"xaxis\": {\"backgroundcolor\": \"#E5ECF6\", \"gridcolor\": \"white\", \"gridwidth\": 2, \"linecolor\": \"white\", \"showbackground\": true, \"ticks\": \"\", \"zerolinecolor\": \"white\"}, \"yaxis\": {\"backgroundcolor\": \"#E5ECF6\", \"gridcolor\": \"white\", \"gridwidth\": 2, \"linecolor\": \"white\", \"showbackground\": true, \"ticks\": \"\", \"zerolinecolor\": \"white\"}, \"zaxis\": {\"backgroundcolor\": \"#E5ECF6\", \"gridcolor\": \"white\", \"gridwidth\": 2, \"linecolor\": \"white\", \"showbackground\": true, \"ticks\": \"\", \"zerolinecolor\": \"white\"}}, \"shapedefaults\": {\"line\": {\"color\": \"#2a3f5f\"}}, \"ternary\": {\"aaxis\": {\"gridcolor\": \"white\", \"linecolor\": \"white\", \"ticks\": \"\"}, \"baxis\": {\"gridcolor\": \"white\", \"linecolor\": \"white\", \"ticks\": \"\"}, \"bgcolor\": \"#E5ECF6\", \"caxis\": {\"gridcolor\": \"white\", \"linecolor\": \"white\", \"ticks\": \"\"}}, \"title\": {\"x\": 0.05}, \"xaxis\": {\"automargin\": true, \"gridcolor\": \"white\", \"linecolor\": \"white\", \"ticks\": \"\", \"title\": {\"standoff\": 15}, \"zerolinecolor\": \"white\", \"zerolinewidth\": 2}, \"yaxis\": {\"automargin\": true, \"gridcolor\": \"white\", \"linecolor\": \"white\", \"ticks\": \"\", \"title\": {\"standoff\": 15}, \"zerolinecolor\": \"white\", \"zerolinewidth\": 2}}}, \"title\": {\"font\": {\"color\": \"#4D5663\"}}, \"xaxis\": {\"gridcolor\": \"#E1E5ED\", \"showgrid\": true, \"tickfont\": {\"color\": \"#4D5663\"}, \"title\": {\"font\": {\"color\": \"#4D5663\"}, \"text\": \"\"}, \"zerolinecolor\": \"#E1E5ED\"}, \"xaxis2\": {\"anchor\": \"y2\", \"gridcolor\": \"#E1E5ED\", \"showgrid\": true, \"showticklabels\": false, \"tickfont\": {\"color\": \"#4D5663\"}, \"title\": {\"font\": {\"color\": \"#4D5663\"}, \"text\": \"\"}, \"zerolinecolor\": \"#E1E5ED\"}, \"yaxis\": {\"domain\": [0.3, 1], \"gridcolor\": \"#E1E5ED\", \"showgrid\": true, \"tickfont\": {\"color\": \"#4D5663\"}, \"title\": {\"font\": {\"color\": \"#4D5663\"}, \"text\": \"\"}, \"zerolinecolor\": \"#E1E5ED\"}, \"yaxis2\": {\"domain\": [0, 0.25], \"gridcolor\": \"#E1E5ED\", \"showgrid\": true, \"tickfont\": {\"color\": \"#4D5663\"}, \"title\": {\"font\": {\"color\": \"#4D5663\"}, \"text\": \"Spread\"}, \"zerolinecolor\": \"#E1E5ED\"}},                        {\"showLink\": true, \"linkText\": \"Export to plot.ly\", \"plotlyServerURL\": \"https://plot.ly\", \"responsive\": true}                    ).then(function(){\n",
       "                            \n",
       "var gd = document.getElementById('7a6904fd-1940-44d9-b8f7-855bc0865e6d');\n",
       "var x = new MutationObserver(function (mutations, observer) {{\n",
       "        var display = window.getComputedStyle(gd).display;\n",
       "        if (!display || display === 'none') {{\n",
       "            console.log([gd, 'removed!']);\n",
       "            Plotly.purge(gd);\n",
       "            observer.disconnect();\n",
       "        }}\n",
       "}});\n",
       "\n",
       "// Listen for the removal of the full notebook cells\n",
       "var notebookContainer = gd.closest('#notebook-container');\n",
       "if (notebookContainer) {{\n",
       "    x.observe(notebookContainer, {childList: true});\n",
       "}}\n",
       "\n",
       "// Listen for the clearing of the current output cell\n",
       "var outputEl = gd.closest('.output');\n",
       "if (outputEl) {{\n",
       "    x.observe(outputEl, {childList: true});\n",
       "}}\n",
       "\n",
       "                        })                };                });            </script>        </div>"
      ]
     },
     "metadata": {},
     "output_type": "display_data"
    }
   ],
   "source": [
    "df[['A','B']].iplot(kind='spread')"
   ]
  },
  {
   "cell_type": "markdown",
   "metadata": {},
   "source": [
    "## histogram"
   ]
  },
  {
   "cell_type": "code",
   "execution_count": 17,
   "metadata": {},
   "outputs": [
    {
     "data": {
      "application/vnd.plotly.v1+json": {
       "config": {
        "linkText": "Export to plot.ly",
        "plotlyServerURL": "https://plot.ly",
        "showLink": true
       },
       "data": [
        {
         "histfunc": "count",
         "histnorm": "",
         "marker": {
          "color": "rgba(255, 153, 51, 1.0)",
          "line": {
           "color": "#4D5663",
           "width": 1.3
          }
         },
         "name": "A",
         "nbinsx": 25,
         "opacity": 0.8,
         "orientation": "v",
         "type": "histogram",
         "x": [
          -1.3706341634977999,
          -0.44464357298030577,
          0.21194758281043072,
          0.12188250469054568,
          0.23109750834636394,
          -2.078611900510734,
          -1.4125718461065768,
          1.3226301173678356,
          2.210811587319438,
          0.36723881015481563,
          0.7050702807104442,
          -0.905428803606851,
          -0.7375841040593092,
          -0.4226064027471685,
          0.6645102742651933,
          -0.08735652306256615,
          -0.5813580330962289,
          0.0716254537297011,
          0.15204193295013044,
          1.2331156163625931,
          0.3672451559975761,
          -1.0078492704142434,
          -0.500538082300995,
          0.4229458212448693,
          0.6464313705076554,
          0.2139423481071675,
          0.1714393729772546,
          1.9948550663201299,
          0.4321704238991509,
          0.7392842450688996,
          0.541413784244687,
          0.31978830459683383,
          -0.017365148471931328,
          -1.0857775822469622,
          -1.193103742314076,
          1.099979033425753,
          2.2056855426999866,
          -1.6669638663240616,
          -0.08506313981755931,
          -0.02951404577227692,
          0.4881199025094287,
          -0.528706652714251,
          0.3110493410602627,
          -0.994407222597656,
          -0.28465817230024915,
          0.25556787422035,
          -1.956154522801279,
          0.3883869966365133,
          1.102046149073705,
          -0.4215054879821377,
          0.24423815726095943,
          0.4649265831057877,
          0.4866105838030112,
          0.7258641462406561,
          0.66621179780112,
          2.3012047560973246,
          0.510448614366747,
          -0.0672027437684564,
          0.9902492665119011,
          0.995358276938806,
          -0.3609097311021256,
          -0.8462895865163238,
          2.02343599829043,
          -1.9395551757350018,
          -0.09964614142319132,
          -0.6415266032082034,
          0.09126807042650653,
          -0.7604286997610876,
          -1.4705671870066,
          -1.7726401934108293,
          0.7123922422852348,
          0.8179562452087664,
          0.1397851465613479,
          -1.1900951296743383,
          1.3545683824031913,
          -0.9862518332678586,
          0.07713600519368458,
          0.9665930002866592,
          -0.8836743785929374,
          0.031183626981489555,
          -0.4541590764346655,
          -0.3059995675381995,
          -0.31819475456499857,
          -0.829947107638954,
          0.5502331119843076,
          -2.2427912701229795,
          0.9643634596297002,
          0.4082628205500436,
          -0.472746067463226,
          0.15807422758994447,
          -1.2478598233983356,
          0.9421325113086404,
          0.07985387835658049,
          1.377428942663169,
          -0.17424251486922068,
          -0.8619395928622705,
          -0.7438063014346141,
          1.0724948530588314,
          -0.2917142520456285,
          -0.4723161335846429
         ]
        }
       ],
       "layout": {
        "barmode": "overlay",
        "legend": {
         "bgcolor": "#F5F6F9",
         "font": {
          "color": "#4D5663"
         }
        },
        "paper_bgcolor": "#F5F6F9",
        "plot_bgcolor": "#F5F6F9",
        "template": {
         "data": {
          "bar": [
           {
            "error_x": {
             "color": "#2a3f5f"
            },
            "error_y": {
             "color": "#2a3f5f"
            },
            "marker": {
             "line": {
              "color": "#E5ECF6",
              "width": 0.5
             }
            },
            "type": "bar"
           }
          ],
          "barpolar": [
           {
            "marker": {
             "line": {
              "color": "#E5ECF6",
              "width": 0.5
             }
            },
            "type": "barpolar"
           }
          ],
          "carpet": [
           {
            "aaxis": {
             "endlinecolor": "#2a3f5f",
             "gridcolor": "white",
             "linecolor": "white",
             "minorgridcolor": "white",
             "startlinecolor": "#2a3f5f"
            },
            "baxis": {
             "endlinecolor": "#2a3f5f",
             "gridcolor": "white",
             "linecolor": "white",
             "minorgridcolor": "white",
             "startlinecolor": "#2a3f5f"
            },
            "type": "carpet"
           }
          ],
          "choropleth": [
           {
            "colorbar": {
             "outlinewidth": 0,
             "ticks": ""
            },
            "type": "choropleth"
           }
          ],
          "contour": [
           {
            "colorbar": {
             "outlinewidth": 0,
             "ticks": ""
            },
            "colorscale": [
             [
              0,
              "#0d0887"
             ],
             [
              0.1111111111111111,
              "#46039f"
             ],
             [
              0.2222222222222222,
              "#7201a8"
             ],
             [
              0.3333333333333333,
              "#9c179e"
             ],
             [
              0.4444444444444444,
              "#bd3786"
             ],
             [
              0.5555555555555556,
              "#d8576b"
             ],
             [
              0.6666666666666666,
              "#ed7953"
             ],
             [
              0.7777777777777778,
              "#fb9f3a"
             ],
             [
              0.8888888888888888,
              "#fdca26"
             ],
             [
              1,
              "#f0f921"
             ]
            ],
            "type": "contour"
           }
          ],
          "contourcarpet": [
           {
            "colorbar": {
             "outlinewidth": 0,
             "ticks": ""
            },
            "type": "contourcarpet"
           }
          ],
          "heatmap": [
           {
            "colorbar": {
             "outlinewidth": 0,
             "ticks": ""
            },
            "colorscale": [
             [
              0,
              "#0d0887"
             ],
             [
              0.1111111111111111,
              "#46039f"
             ],
             [
              0.2222222222222222,
              "#7201a8"
             ],
             [
              0.3333333333333333,
              "#9c179e"
             ],
             [
              0.4444444444444444,
              "#bd3786"
             ],
             [
              0.5555555555555556,
              "#d8576b"
             ],
             [
              0.6666666666666666,
              "#ed7953"
             ],
             [
              0.7777777777777778,
              "#fb9f3a"
             ],
             [
              0.8888888888888888,
              "#fdca26"
             ],
             [
              1,
              "#f0f921"
             ]
            ],
            "type": "heatmap"
           }
          ],
          "heatmapgl": [
           {
            "colorbar": {
             "outlinewidth": 0,
             "ticks": ""
            },
            "colorscale": [
             [
              0,
              "#0d0887"
             ],
             [
              0.1111111111111111,
              "#46039f"
             ],
             [
              0.2222222222222222,
              "#7201a8"
             ],
             [
              0.3333333333333333,
              "#9c179e"
             ],
             [
              0.4444444444444444,
              "#bd3786"
             ],
             [
              0.5555555555555556,
              "#d8576b"
             ],
             [
              0.6666666666666666,
              "#ed7953"
             ],
             [
              0.7777777777777778,
              "#fb9f3a"
             ],
             [
              0.8888888888888888,
              "#fdca26"
             ],
             [
              1,
              "#f0f921"
             ]
            ],
            "type": "heatmapgl"
           }
          ],
          "histogram": [
           {
            "marker": {
             "colorbar": {
              "outlinewidth": 0,
              "ticks": ""
             }
            },
            "type": "histogram"
           }
          ],
          "histogram2d": [
           {
            "colorbar": {
             "outlinewidth": 0,
             "ticks": ""
            },
            "colorscale": [
             [
              0,
              "#0d0887"
             ],
             [
              0.1111111111111111,
              "#46039f"
             ],
             [
              0.2222222222222222,
              "#7201a8"
             ],
             [
              0.3333333333333333,
              "#9c179e"
             ],
             [
              0.4444444444444444,
              "#bd3786"
             ],
             [
              0.5555555555555556,
              "#d8576b"
             ],
             [
              0.6666666666666666,
              "#ed7953"
             ],
             [
              0.7777777777777778,
              "#fb9f3a"
             ],
             [
              0.8888888888888888,
              "#fdca26"
             ],
             [
              1,
              "#f0f921"
             ]
            ],
            "type": "histogram2d"
           }
          ],
          "histogram2dcontour": [
           {
            "colorbar": {
             "outlinewidth": 0,
             "ticks": ""
            },
            "colorscale": [
             [
              0,
              "#0d0887"
             ],
             [
              0.1111111111111111,
              "#46039f"
             ],
             [
              0.2222222222222222,
              "#7201a8"
             ],
             [
              0.3333333333333333,
              "#9c179e"
             ],
             [
              0.4444444444444444,
              "#bd3786"
             ],
             [
              0.5555555555555556,
              "#d8576b"
             ],
             [
              0.6666666666666666,
              "#ed7953"
             ],
             [
              0.7777777777777778,
              "#fb9f3a"
             ],
             [
              0.8888888888888888,
              "#fdca26"
             ],
             [
              1,
              "#f0f921"
             ]
            ],
            "type": "histogram2dcontour"
           }
          ],
          "mesh3d": [
           {
            "colorbar": {
             "outlinewidth": 0,
             "ticks": ""
            },
            "type": "mesh3d"
           }
          ],
          "parcoords": [
           {
            "line": {
             "colorbar": {
              "outlinewidth": 0,
              "ticks": ""
             }
            },
            "type": "parcoords"
           }
          ],
          "pie": [
           {
            "automargin": true,
            "type": "pie"
           }
          ],
          "scatter": [
           {
            "marker": {
             "colorbar": {
              "outlinewidth": 0,
              "ticks": ""
             }
            },
            "type": "scatter"
           }
          ],
          "scatter3d": [
           {
            "line": {
             "colorbar": {
              "outlinewidth": 0,
              "ticks": ""
             }
            },
            "marker": {
             "colorbar": {
              "outlinewidth": 0,
              "ticks": ""
             }
            },
            "type": "scatter3d"
           }
          ],
          "scattercarpet": [
           {
            "marker": {
             "colorbar": {
              "outlinewidth": 0,
              "ticks": ""
             }
            },
            "type": "scattercarpet"
           }
          ],
          "scattergeo": [
           {
            "marker": {
             "colorbar": {
              "outlinewidth": 0,
              "ticks": ""
             }
            },
            "type": "scattergeo"
           }
          ],
          "scattergl": [
           {
            "marker": {
             "colorbar": {
              "outlinewidth": 0,
              "ticks": ""
             }
            },
            "type": "scattergl"
           }
          ],
          "scattermapbox": [
           {
            "marker": {
             "colorbar": {
              "outlinewidth": 0,
              "ticks": ""
             }
            },
            "type": "scattermapbox"
           }
          ],
          "scatterpolar": [
           {
            "marker": {
             "colorbar": {
              "outlinewidth": 0,
              "ticks": ""
             }
            },
            "type": "scatterpolar"
           }
          ],
          "scatterpolargl": [
           {
            "marker": {
             "colorbar": {
              "outlinewidth": 0,
              "ticks": ""
             }
            },
            "type": "scatterpolargl"
           }
          ],
          "scatterternary": [
           {
            "marker": {
             "colorbar": {
              "outlinewidth": 0,
              "ticks": ""
             }
            },
            "type": "scatterternary"
           }
          ],
          "surface": [
           {
            "colorbar": {
             "outlinewidth": 0,
             "ticks": ""
            },
            "colorscale": [
             [
              0,
              "#0d0887"
             ],
             [
              0.1111111111111111,
              "#46039f"
             ],
             [
              0.2222222222222222,
              "#7201a8"
             ],
             [
              0.3333333333333333,
              "#9c179e"
             ],
             [
              0.4444444444444444,
              "#bd3786"
             ],
             [
              0.5555555555555556,
              "#d8576b"
             ],
             [
              0.6666666666666666,
              "#ed7953"
             ],
             [
              0.7777777777777778,
              "#fb9f3a"
             ],
             [
              0.8888888888888888,
              "#fdca26"
             ],
             [
              1,
              "#f0f921"
             ]
            ],
            "type": "surface"
           }
          ],
          "table": [
           {
            "cells": {
             "fill": {
              "color": "#EBF0F8"
             },
             "line": {
              "color": "white"
             }
            },
            "header": {
             "fill": {
              "color": "#C8D4E3"
             },
             "line": {
              "color": "white"
             }
            },
            "type": "table"
           }
          ]
         },
         "layout": {
          "annotationdefaults": {
           "arrowcolor": "#2a3f5f",
           "arrowhead": 0,
           "arrowwidth": 1
          },
          "autotypenumbers": "strict",
          "coloraxis": {
           "colorbar": {
            "outlinewidth": 0,
            "ticks": ""
           }
          },
          "colorscale": {
           "diverging": [
            [
             0,
             "#8e0152"
            ],
            [
             0.1,
             "#c51b7d"
            ],
            [
             0.2,
             "#de77ae"
            ],
            [
             0.3,
             "#f1b6da"
            ],
            [
             0.4,
             "#fde0ef"
            ],
            [
             0.5,
             "#f7f7f7"
            ],
            [
             0.6,
             "#e6f5d0"
            ],
            [
             0.7,
             "#b8e186"
            ],
            [
             0.8,
             "#7fbc41"
            ],
            [
             0.9,
             "#4d9221"
            ],
            [
             1,
             "#276419"
            ]
           ],
           "sequential": [
            [
             0,
             "#0d0887"
            ],
            [
             0.1111111111111111,
             "#46039f"
            ],
            [
             0.2222222222222222,
             "#7201a8"
            ],
            [
             0.3333333333333333,
             "#9c179e"
            ],
            [
             0.4444444444444444,
             "#bd3786"
            ],
            [
             0.5555555555555556,
             "#d8576b"
            ],
            [
             0.6666666666666666,
             "#ed7953"
            ],
            [
             0.7777777777777778,
             "#fb9f3a"
            ],
            [
             0.8888888888888888,
             "#fdca26"
            ],
            [
             1,
             "#f0f921"
            ]
           ],
           "sequentialminus": [
            [
             0,
             "#0d0887"
            ],
            [
             0.1111111111111111,
             "#46039f"
            ],
            [
             0.2222222222222222,
             "#7201a8"
            ],
            [
             0.3333333333333333,
             "#9c179e"
            ],
            [
             0.4444444444444444,
             "#bd3786"
            ],
            [
             0.5555555555555556,
             "#d8576b"
            ],
            [
             0.6666666666666666,
             "#ed7953"
            ],
            [
             0.7777777777777778,
             "#fb9f3a"
            ],
            [
             0.8888888888888888,
             "#fdca26"
            ],
            [
             1,
             "#f0f921"
            ]
           ]
          },
          "colorway": [
           "#636efa",
           "#EF553B",
           "#00cc96",
           "#ab63fa",
           "#FFA15A",
           "#19d3f3",
           "#FF6692",
           "#B6E880",
           "#FF97FF",
           "#FECB52"
          ],
          "font": {
           "color": "#2a3f5f"
          },
          "geo": {
           "bgcolor": "white",
           "lakecolor": "white",
           "landcolor": "#E5ECF6",
           "showlakes": true,
           "showland": true,
           "subunitcolor": "white"
          },
          "hoverlabel": {
           "align": "left"
          },
          "hovermode": "closest",
          "mapbox": {
           "style": "light"
          },
          "paper_bgcolor": "white",
          "plot_bgcolor": "#E5ECF6",
          "polar": {
           "angularaxis": {
            "gridcolor": "white",
            "linecolor": "white",
            "ticks": ""
           },
           "bgcolor": "#E5ECF6",
           "radialaxis": {
            "gridcolor": "white",
            "linecolor": "white",
            "ticks": ""
           }
          },
          "scene": {
           "xaxis": {
            "backgroundcolor": "#E5ECF6",
            "gridcolor": "white",
            "gridwidth": 2,
            "linecolor": "white",
            "showbackground": true,
            "ticks": "",
            "zerolinecolor": "white"
           },
           "yaxis": {
            "backgroundcolor": "#E5ECF6",
            "gridcolor": "white",
            "gridwidth": 2,
            "linecolor": "white",
            "showbackground": true,
            "ticks": "",
            "zerolinecolor": "white"
           },
           "zaxis": {
            "backgroundcolor": "#E5ECF6",
            "gridcolor": "white",
            "gridwidth": 2,
            "linecolor": "white",
            "showbackground": true,
            "ticks": "",
            "zerolinecolor": "white"
           }
          },
          "shapedefaults": {
           "line": {
            "color": "#2a3f5f"
           }
          },
          "ternary": {
           "aaxis": {
            "gridcolor": "white",
            "linecolor": "white",
            "ticks": ""
           },
           "baxis": {
            "gridcolor": "white",
            "linecolor": "white",
            "ticks": ""
           },
           "bgcolor": "#E5ECF6",
           "caxis": {
            "gridcolor": "white",
            "linecolor": "white",
            "ticks": ""
           }
          },
          "title": {
           "x": 0.05
          },
          "xaxis": {
           "automargin": true,
           "gridcolor": "white",
           "linecolor": "white",
           "ticks": "",
           "title": {
            "standoff": 15
           },
           "zerolinecolor": "white",
           "zerolinewidth": 2
          },
          "yaxis": {
           "automargin": true,
           "gridcolor": "white",
           "linecolor": "white",
           "ticks": "",
           "title": {
            "standoff": 15
           },
           "zerolinecolor": "white",
           "zerolinewidth": 2
          }
         }
        },
        "title": {
         "font": {
          "color": "#4D5663"
         }
        },
        "xaxis": {
         "gridcolor": "#E1E5ED",
         "showgrid": true,
         "tickfont": {
          "color": "#4D5663"
         },
         "title": {
          "font": {
           "color": "#4D5663"
          },
          "text": ""
         },
         "zerolinecolor": "#E1E5ED"
        },
        "yaxis": {
         "gridcolor": "#E1E5ED",
         "showgrid": true,
         "tickfont": {
          "color": "#4D5663"
         },
         "title": {
          "font": {
           "color": "#4D5663"
          },
          "text": ""
         },
         "zerolinecolor": "#E1E5ED"
        }
       }
      },
      "text/html": [
       "<div>                            <div id=\"61082681-6d6f-47d2-af4a-f0a12b981392\" class=\"plotly-graph-div\" style=\"height:525px; width:100%;\"></div>            <script type=\"text/javascript\">                require([\"plotly\"], function(Plotly) {                    window.PLOTLYENV=window.PLOTLYENV || {};\n",
       "                    window.PLOTLYENV.BASE_URL='https://plot.ly';                                    if (document.getElementById(\"61082681-6d6f-47d2-af4a-f0a12b981392\")) {                    Plotly.newPlot(                        \"61082681-6d6f-47d2-af4a-f0a12b981392\",                        [{\"histfunc\": \"count\", \"histnorm\": \"\", \"marker\": {\"color\": \"rgba(255, 153, 51, 1.0)\", \"line\": {\"color\": \"#4D5663\", \"width\": 1.3}}, \"name\": \"A\", \"nbinsx\": 25, \"opacity\": 0.8, \"orientation\": \"v\", \"type\": \"histogram\", \"x\": [-1.3706341634977999, -0.44464357298030577, 0.21194758281043072, 0.12188250469054568, 0.23109750834636394, -2.078611900510734, -1.4125718461065768, 1.3226301173678356, 2.210811587319438, 0.36723881015481563, 0.7050702807104442, -0.905428803606851, -0.7375841040593092, -0.4226064027471685, 0.6645102742651933, -0.08735652306256615, -0.5813580330962289, 0.0716254537297011, 0.15204193295013044, 1.2331156163625931, 0.3672451559975761, -1.0078492704142434, -0.500538082300995, 0.4229458212448693, 0.6464313705076554, 0.2139423481071675, 0.1714393729772546, 1.9948550663201299, 0.4321704238991509, 0.7392842450688996, 0.541413784244687, 0.31978830459683383, -0.017365148471931328, -1.0857775822469622, -1.193103742314076, 1.099979033425753, 2.2056855426999866, -1.6669638663240616, -0.08506313981755931, -0.02951404577227692, 0.4881199025094287, -0.528706652714251, 0.3110493410602627, -0.994407222597656, -0.28465817230024915, 0.25556787422035, -1.956154522801279, 0.3883869966365133, 1.102046149073705, -0.4215054879821377, 0.24423815726095943, 0.4649265831057877, 0.4866105838030112, 0.7258641462406561, 0.66621179780112, 2.3012047560973246, 0.510448614366747, -0.0672027437684564, 0.9902492665119011, 0.995358276938806, -0.3609097311021256, -0.8462895865163238, 2.02343599829043, -1.9395551757350018, -0.09964614142319132, -0.6415266032082034, 0.09126807042650653, -0.7604286997610876, -1.4705671870066, -1.7726401934108293, 0.7123922422852348, 0.8179562452087664, 0.1397851465613479, -1.1900951296743383, 1.3545683824031913, -0.9862518332678586, 0.07713600519368458, 0.9665930002866592, -0.8836743785929374, 0.031183626981489555, -0.4541590764346655, -0.3059995675381995, -0.31819475456499857, -0.829947107638954, 0.5502331119843076, -2.2427912701229795, 0.9643634596297002, 0.4082628205500436, -0.472746067463226, 0.15807422758994447, -1.2478598233983356, 0.9421325113086404, 0.07985387835658049, 1.377428942663169, -0.17424251486922068, -0.8619395928622705, -0.7438063014346141, 1.0724948530588314, -0.2917142520456285, -0.4723161335846429]}],                        {\"barmode\": \"overlay\", \"legend\": {\"bgcolor\": \"#F5F6F9\", \"font\": {\"color\": \"#4D5663\"}}, \"paper_bgcolor\": \"#F5F6F9\", \"plot_bgcolor\": \"#F5F6F9\", \"template\": {\"data\": {\"bar\": [{\"error_x\": {\"color\": \"#2a3f5f\"}, \"error_y\": {\"color\": \"#2a3f5f\"}, \"marker\": {\"line\": {\"color\": \"#E5ECF6\", \"width\": 0.5}}, \"type\": \"bar\"}], \"barpolar\": [{\"marker\": {\"line\": {\"color\": \"#E5ECF6\", \"width\": 0.5}}, \"type\": \"barpolar\"}], \"carpet\": [{\"aaxis\": {\"endlinecolor\": \"#2a3f5f\", \"gridcolor\": \"white\", \"linecolor\": \"white\", \"minorgridcolor\": \"white\", \"startlinecolor\": \"#2a3f5f\"}, \"baxis\": {\"endlinecolor\": \"#2a3f5f\", \"gridcolor\": \"white\", \"linecolor\": \"white\", \"minorgridcolor\": \"white\", \"startlinecolor\": \"#2a3f5f\"}, \"type\": \"carpet\"}], \"choropleth\": [{\"colorbar\": {\"outlinewidth\": 0, \"ticks\": \"\"}, \"type\": \"choropleth\"}], \"contour\": [{\"colorbar\": {\"outlinewidth\": 0, \"ticks\": \"\"}, \"colorscale\": [[0.0, \"#0d0887\"], [0.1111111111111111, \"#46039f\"], [0.2222222222222222, \"#7201a8\"], [0.3333333333333333, \"#9c179e\"], [0.4444444444444444, \"#bd3786\"], [0.5555555555555556, \"#d8576b\"], [0.6666666666666666, \"#ed7953\"], [0.7777777777777778, \"#fb9f3a\"], [0.8888888888888888, \"#fdca26\"], [1.0, \"#f0f921\"]], \"type\": \"contour\"}], \"contourcarpet\": [{\"colorbar\": {\"outlinewidth\": 0, \"ticks\": \"\"}, \"type\": \"contourcarpet\"}], \"heatmap\": [{\"colorbar\": {\"outlinewidth\": 0, \"ticks\": \"\"}, \"colorscale\": [[0.0, \"#0d0887\"], [0.1111111111111111, \"#46039f\"], [0.2222222222222222, \"#7201a8\"], [0.3333333333333333, \"#9c179e\"], [0.4444444444444444, \"#bd3786\"], [0.5555555555555556, \"#d8576b\"], [0.6666666666666666, \"#ed7953\"], [0.7777777777777778, \"#fb9f3a\"], [0.8888888888888888, \"#fdca26\"], [1.0, \"#f0f921\"]], \"type\": \"heatmap\"}], \"heatmapgl\": [{\"colorbar\": {\"outlinewidth\": 0, \"ticks\": \"\"}, \"colorscale\": [[0.0, \"#0d0887\"], [0.1111111111111111, \"#46039f\"], [0.2222222222222222, \"#7201a8\"], [0.3333333333333333, \"#9c179e\"], [0.4444444444444444, \"#bd3786\"], [0.5555555555555556, \"#d8576b\"], [0.6666666666666666, \"#ed7953\"], [0.7777777777777778, \"#fb9f3a\"], [0.8888888888888888, \"#fdca26\"], [1.0, \"#f0f921\"]], \"type\": \"heatmapgl\"}], \"histogram\": [{\"marker\": {\"colorbar\": {\"outlinewidth\": 0, \"ticks\": \"\"}}, \"type\": \"histogram\"}], \"histogram2d\": [{\"colorbar\": {\"outlinewidth\": 0, \"ticks\": \"\"}, \"colorscale\": [[0.0, \"#0d0887\"], [0.1111111111111111, \"#46039f\"], [0.2222222222222222, \"#7201a8\"], [0.3333333333333333, \"#9c179e\"], [0.4444444444444444, \"#bd3786\"], [0.5555555555555556, \"#d8576b\"], [0.6666666666666666, \"#ed7953\"], [0.7777777777777778, \"#fb9f3a\"], [0.8888888888888888, \"#fdca26\"], [1.0, \"#f0f921\"]], \"type\": \"histogram2d\"}], \"histogram2dcontour\": [{\"colorbar\": {\"outlinewidth\": 0, \"ticks\": \"\"}, \"colorscale\": [[0.0, \"#0d0887\"], [0.1111111111111111, \"#46039f\"], [0.2222222222222222, \"#7201a8\"], [0.3333333333333333, \"#9c179e\"], [0.4444444444444444, \"#bd3786\"], [0.5555555555555556, \"#d8576b\"], [0.6666666666666666, \"#ed7953\"], [0.7777777777777778, \"#fb9f3a\"], [0.8888888888888888, \"#fdca26\"], [1.0, \"#f0f921\"]], \"type\": \"histogram2dcontour\"}], \"mesh3d\": [{\"colorbar\": {\"outlinewidth\": 0, \"ticks\": \"\"}, \"type\": \"mesh3d\"}], \"parcoords\": [{\"line\": {\"colorbar\": {\"outlinewidth\": 0, \"ticks\": \"\"}}, \"type\": \"parcoords\"}], \"pie\": [{\"automargin\": true, \"type\": \"pie\"}], \"scatter\": [{\"marker\": {\"colorbar\": {\"outlinewidth\": 0, \"ticks\": \"\"}}, \"type\": \"scatter\"}], \"scatter3d\": [{\"line\": {\"colorbar\": {\"outlinewidth\": 0, \"ticks\": \"\"}}, \"marker\": {\"colorbar\": {\"outlinewidth\": 0, \"ticks\": \"\"}}, \"type\": \"scatter3d\"}], \"scattercarpet\": [{\"marker\": {\"colorbar\": {\"outlinewidth\": 0, \"ticks\": \"\"}}, \"type\": \"scattercarpet\"}], \"scattergeo\": [{\"marker\": {\"colorbar\": {\"outlinewidth\": 0, \"ticks\": \"\"}}, \"type\": \"scattergeo\"}], \"scattergl\": [{\"marker\": {\"colorbar\": {\"outlinewidth\": 0, \"ticks\": \"\"}}, \"type\": \"scattergl\"}], \"scattermapbox\": [{\"marker\": {\"colorbar\": {\"outlinewidth\": 0, \"ticks\": \"\"}}, \"type\": \"scattermapbox\"}], \"scatterpolar\": [{\"marker\": {\"colorbar\": {\"outlinewidth\": 0, \"ticks\": \"\"}}, \"type\": \"scatterpolar\"}], \"scatterpolargl\": [{\"marker\": {\"colorbar\": {\"outlinewidth\": 0, \"ticks\": \"\"}}, \"type\": \"scatterpolargl\"}], \"scatterternary\": [{\"marker\": {\"colorbar\": {\"outlinewidth\": 0, \"ticks\": \"\"}}, \"type\": \"scatterternary\"}], \"surface\": [{\"colorbar\": {\"outlinewidth\": 0, \"ticks\": \"\"}, \"colorscale\": [[0.0, \"#0d0887\"], [0.1111111111111111, \"#46039f\"], [0.2222222222222222, \"#7201a8\"], [0.3333333333333333, \"#9c179e\"], [0.4444444444444444, \"#bd3786\"], [0.5555555555555556, \"#d8576b\"], [0.6666666666666666, \"#ed7953\"], [0.7777777777777778, \"#fb9f3a\"], [0.8888888888888888, \"#fdca26\"], [1.0, \"#f0f921\"]], \"type\": \"surface\"}], \"table\": [{\"cells\": {\"fill\": {\"color\": \"#EBF0F8\"}, \"line\": {\"color\": \"white\"}}, \"header\": {\"fill\": {\"color\": \"#C8D4E3\"}, \"line\": {\"color\": \"white\"}}, \"type\": \"table\"}]}, \"layout\": {\"annotationdefaults\": {\"arrowcolor\": \"#2a3f5f\", \"arrowhead\": 0, \"arrowwidth\": 1}, \"autotypenumbers\": \"strict\", \"coloraxis\": {\"colorbar\": {\"outlinewidth\": 0, \"ticks\": \"\"}}, \"colorscale\": {\"diverging\": [[0, \"#8e0152\"], [0.1, \"#c51b7d\"], [0.2, \"#de77ae\"], [0.3, \"#f1b6da\"], [0.4, \"#fde0ef\"], [0.5, \"#f7f7f7\"], [0.6, \"#e6f5d0\"], [0.7, \"#b8e186\"], [0.8, \"#7fbc41\"], [0.9, \"#4d9221\"], [1, \"#276419\"]], \"sequential\": [[0.0, \"#0d0887\"], [0.1111111111111111, \"#46039f\"], [0.2222222222222222, \"#7201a8\"], [0.3333333333333333, \"#9c179e\"], [0.4444444444444444, \"#bd3786\"], [0.5555555555555556, \"#d8576b\"], [0.6666666666666666, \"#ed7953\"], [0.7777777777777778, \"#fb9f3a\"], [0.8888888888888888, \"#fdca26\"], [1.0, \"#f0f921\"]], \"sequentialminus\": [[0.0, \"#0d0887\"], [0.1111111111111111, \"#46039f\"], [0.2222222222222222, \"#7201a8\"], [0.3333333333333333, \"#9c179e\"], [0.4444444444444444, \"#bd3786\"], [0.5555555555555556, \"#d8576b\"], [0.6666666666666666, \"#ed7953\"], [0.7777777777777778, \"#fb9f3a\"], [0.8888888888888888, \"#fdca26\"], [1.0, \"#f0f921\"]]}, \"colorway\": [\"#636efa\", \"#EF553B\", \"#00cc96\", \"#ab63fa\", \"#FFA15A\", \"#19d3f3\", \"#FF6692\", \"#B6E880\", \"#FF97FF\", \"#FECB52\"], \"font\": {\"color\": \"#2a3f5f\"}, \"geo\": {\"bgcolor\": \"white\", \"lakecolor\": \"white\", \"landcolor\": \"#E5ECF6\", \"showlakes\": true, \"showland\": true, \"subunitcolor\": \"white\"}, \"hoverlabel\": {\"align\": \"left\"}, \"hovermode\": \"closest\", \"mapbox\": {\"style\": \"light\"}, \"paper_bgcolor\": \"white\", \"plot_bgcolor\": \"#E5ECF6\", \"polar\": {\"angularaxis\": {\"gridcolor\": \"white\", \"linecolor\": \"white\", \"ticks\": \"\"}, \"bgcolor\": \"#E5ECF6\", \"radialaxis\": {\"gridcolor\": \"white\", \"linecolor\": \"white\", \"ticks\": \"\"}}, \"scene\": {\"xaxis\": {\"backgroundcolor\": \"#E5ECF6\", \"gridcolor\": \"white\", \"gridwidth\": 2, \"linecolor\": \"white\", \"showbackground\": true, \"ticks\": \"\", \"zerolinecolor\": \"white\"}, \"yaxis\": {\"backgroundcolor\": \"#E5ECF6\", \"gridcolor\": \"white\", \"gridwidth\": 2, \"linecolor\": \"white\", \"showbackground\": true, \"ticks\": \"\", \"zerolinecolor\": \"white\"}, \"zaxis\": {\"backgroundcolor\": \"#E5ECF6\", \"gridcolor\": \"white\", \"gridwidth\": 2, \"linecolor\": \"white\", \"showbackground\": true, \"ticks\": \"\", \"zerolinecolor\": \"white\"}}, \"shapedefaults\": {\"line\": {\"color\": \"#2a3f5f\"}}, \"ternary\": {\"aaxis\": {\"gridcolor\": \"white\", \"linecolor\": \"white\", \"ticks\": \"\"}, \"baxis\": {\"gridcolor\": \"white\", \"linecolor\": \"white\", \"ticks\": \"\"}, \"bgcolor\": \"#E5ECF6\", \"caxis\": {\"gridcolor\": \"white\", \"linecolor\": \"white\", \"ticks\": \"\"}}, \"title\": {\"x\": 0.05}, \"xaxis\": {\"automargin\": true, \"gridcolor\": \"white\", \"linecolor\": \"white\", \"ticks\": \"\", \"title\": {\"standoff\": 15}, \"zerolinecolor\": \"white\", \"zerolinewidth\": 2}, \"yaxis\": {\"automargin\": true, \"gridcolor\": \"white\", \"linecolor\": \"white\", \"ticks\": \"\", \"title\": {\"standoff\": 15}, \"zerolinecolor\": \"white\", \"zerolinewidth\": 2}}}, \"title\": {\"font\": {\"color\": \"#4D5663\"}}, \"xaxis\": {\"gridcolor\": \"#E1E5ED\", \"showgrid\": true, \"tickfont\": {\"color\": \"#4D5663\"}, \"title\": {\"font\": {\"color\": \"#4D5663\"}, \"text\": \"\"}, \"zerolinecolor\": \"#E1E5ED\"}, \"yaxis\": {\"gridcolor\": \"#E1E5ED\", \"showgrid\": true, \"tickfont\": {\"color\": \"#4D5663\"}, \"title\": {\"font\": {\"color\": \"#4D5663\"}, \"text\": \"\"}, \"zerolinecolor\": \"#E1E5ED\"}},                        {\"showLink\": true, \"linkText\": \"Export to plot.ly\", \"plotlyServerURL\": \"https://plot.ly\", \"responsive\": true}                    ).then(function(){\n",
       "                            \n",
       "var gd = document.getElementById('61082681-6d6f-47d2-af4a-f0a12b981392');\n",
       "var x = new MutationObserver(function (mutations, observer) {{\n",
       "        var display = window.getComputedStyle(gd).display;\n",
       "        if (!display || display === 'none') {{\n",
       "            console.log([gd, 'removed!']);\n",
       "            Plotly.purge(gd);\n",
       "            observer.disconnect();\n",
       "        }}\n",
       "}});\n",
       "\n",
       "// Listen for the removal of the full notebook cells\n",
       "var notebookContainer = gd.closest('#notebook-container');\n",
       "if (notebookContainer) {{\n",
       "    x.observe(notebookContainer, {childList: true});\n",
       "}}\n",
       "\n",
       "// Listen for the clearing of the current output cell\n",
       "var outputEl = gd.closest('.output');\n",
       "if (outputEl) {{\n",
       "    x.observe(outputEl, {childList: true});\n",
       "}}\n",
       "\n",
       "                        })                };                });            </script>        </div>"
      ]
     },
     "metadata": {},
     "output_type": "display_data"
    }
   ],
   "source": [
    "df['A'].iplot(kind='hist',bins=25)"
   ]
  },
  {
   "cell_type": "code",
   "execution_count": 18,
   "metadata": {},
   "outputs": [
    {
     "data": {
      "application/vnd.plotly.v1+json": {
       "config": {
        "linkText": "Export to plot.ly",
        "plotlyServerURL": "https://plot.ly",
        "showLink": true
       },
       "data": [
        {
         "marker": {
          "color": [
           "rgb(255, 153, 51)",
           "rgb(55, 128, 191)",
           "rgb(50, 171, 96)",
           "rgb(128, 0, 128)",
           "rgb(219, 64, 82)",
           "rgb(0, 128, 128)",
           "rgb(255, 255, 51)",
           "rgb(128, 128, 0)",
           "rgb(251, 128, 114)",
           "rgb(128, 177, 211)"
          ],
          "line": {
           "width": 1.3
          },
          "size": [
           48,
           106,
           74,
           68,
           89,
           48,
           108,
           76,
           48,
           76,
           35,
           31,
           112,
           56,
           48,
           20,
           79,
           36,
           46,
           54,
           54,
           47,
           87,
           65,
           75,
           40,
           46,
           95,
           51,
           91,
           42,
           72,
           39,
           90,
           73,
           62,
           68,
           16,
           80,
           57,
           12,
           61,
           52,
           53,
           51,
           41,
           85,
           17,
           15,
           33,
           73,
           84,
           61,
           49,
           30,
           73,
           39,
           20,
           59,
           81,
           58,
           80,
           55,
           36,
           46,
           54,
           32,
           76,
           59,
           63,
           57,
           46,
           71,
           66,
           56,
           88,
           20,
           89,
           42,
           47,
           39,
           91,
           39,
           33,
           21,
           55,
           23,
           93,
           49,
           45,
           55,
           63,
           83,
           39,
           38,
           63,
           56,
           66,
           102,
           81
          ],
          "symbol": "circle"
         },
         "mode": "markers",
         "text": "",
         "type": "scatter",
         "x": [
          -1.3706341634977999,
          -0.44464357298030577,
          0.21194758281043072,
          0.12188250469054568,
          0.23109750834636394,
          -2.078611900510734,
          -1.4125718461065768,
          1.3226301173678356,
          2.210811587319438,
          0.36723881015481563,
          0.7050702807104442,
          -0.905428803606851,
          -0.7375841040593092,
          -0.4226064027471685,
          0.6645102742651933,
          -0.08735652306256615,
          -0.5813580330962289,
          0.0716254537297011,
          0.15204193295013044,
          1.2331156163625931,
          0.3672451559975761,
          -1.0078492704142434,
          -0.500538082300995,
          0.4229458212448693,
          0.6464313705076554,
          0.2139423481071675,
          0.1714393729772546,
          1.9948550663201299,
          0.4321704238991509,
          0.7392842450688996,
          0.541413784244687,
          0.31978830459683383,
          -0.017365148471931328,
          -1.0857775822469622,
          -1.193103742314076,
          1.099979033425753,
          2.2056855426999866,
          -1.6669638663240616,
          -0.08506313981755931,
          -0.02951404577227692,
          0.4881199025094287,
          -0.528706652714251,
          0.3110493410602627,
          -0.994407222597656,
          -0.28465817230024915,
          0.25556787422035,
          -1.956154522801279,
          0.3883869966365133,
          1.102046149073705,
          -0.4215054879821377,
          0.24423815726095943,
          0.4649265831057877,
          0.4866105838030112,
          0.7258641462406561,
          0.66621179780112,
          2.3012047560973246,
          0.510448614366747,
          -0.0672027437684564,
          0.9902492665119011,
          0.995358276938806,
          -0.3609097311021256,
          -0.8462895865163238,
          2.02343599829043,
          -1.9395551757350018,
          -0.09964614142319132,
          -0.6415266032082034,
          0.09126807042650653,
          -0.7604286997610876,
          -1.4705671870066,
          -1.7726401934108293,
          0.7123922422852348,
          0.8179562452087664,
          0.1397851465613479,
          -1.1900951296743383,
          1.3545683824031913,
          -0.9862518332678586,
          0.07713600519368458,
          0.9665930002866592,
          -0.8836743785929374,
          0.031183626981489555,
          -0.4541590764346655,
          -0.3059995675381995,
          -0.31819475456499857,
          -0.829947107638954,
          0.5502331119843076,
          -2.2427912701229795,
          0.9643634596297002,
          0.4082628205500436,
          -0.472746067463226,
          0.15807422758994447,
          -1.2478598233983356,
          0.9421325113086404,
          0.07985387835658049,
          1.377428942663169,
          -0.17424251486922068,
          -0.8619395928622705,
          -0.7438063014346141,
          1.0724948530588314,
          -0.2917142520456285,
          -0.4723161335846429
         ],
         "y": [
          -1.4196724829893959,
          0.6937772020980084,
          -0.4812846650690201,
          0.035158586908787745,
          -0.45017873068516073,
          -0.030059928365334238,
          -1.856233899690452,
          -0.5590337797075252,
          -0.5804073030280686,
          1.150854046333595,
          -0.6733858899708351,
          0.8266969326608955,
          1.7988410661820298,
          1.1778011802008324,
          0.10006808003616055,
          0.4809616447255042,
          1.287644232127595,
          1.836146110025685,
          -0.11151507322238065,
          -1.251458276052178,
          -1.4470616711917,
          0.10723640266054896,
          -0.9686962871440572,
          1.4393440412212073,
          0.13304099023488128,
          0.4908125547596066,
          0.5220823956304467,
          0.3507904194832665,
          0.2581747768061723,
          0.12205361739481664,
          -0.4198161734207942,
          -0.37561858442804985,
          -1.6277731441939807,
          1.2670489958455784,
          -0.8279945448260254,
          1.5243878128552988,
          -1.3063636827096152,
          -0.005083638785516138,
          0.5029272510206665,
          0.3076220408997537,
          -1.6764059119651478,
          -1.5851239702752005,
          -0.8117329131730747,
          -0.663458209419483,
          0.0856691449911914,
          0.3456908076693621,
          0.9819318143923648,
          -1.1238915488432348,
          0.07568901601486262,
          -0.6329608158228868,
          -0.04523711591711723,
          -0.8385342648127595,
          1.3551895570715595,
          1.1454304810086735,
          0.15400312415551504,
          0.5266222368882257,
          -1.6216902724729327,
          -1.1645414566296808,
          -1.3257935329411572,
          1.0928850861133592,
          0.4397168800217103,
          0.22162291000438433,
          -0.4214110310069617,
          1.359394341005347,
          0.755569142671456,
          -0.047668341509316696,
          1.618663837028353,
          0.07553200040376101,
          1.4332407885042495,
          -0.6812263824951286,
          0.4548067533565884,
          0.8378693195141234,
          0.7205082805758841,
          0.5173519389365746,
          0.16254471065118895,
          0.7989306048084983,
          -0.7530959571258489,
          0.792995916875926,
          -1.3084157648844408,
          -0.6948613980554555,
          -1.3657188199513584,
          -0.12912859493672632,
          1.4763979073116997,
          -1.2508979201194812,
          -0.520025141114111,
          -0.6953210758379533,
          0.5677098245114643,
          -0.2624853987239584,
          2.5523006410694515,
          0.6324875821159565,
          -0.1924944987687054,
          -0.5871756946439045,
          -0.02944436942818076,
          -1.9818632242606096,
          -1.5142323202732133,
          0.8230299179180144,
          -1.3975522801520963,
          -0.7152243646234195,
          0.34084939962171656,
          1.9520183792854542
         ]
        }
       ],
       "layout": {
        "legend": {
         "bgcolor": "#F5F6F9",
         "font": {
          "color": "#4D5663"
         }
        },
        "paper_bgcolor": "#F5F6F9",
        "plot_bgcolor": "#F5F6F9",
        "template": {
         "data": {
          "bar": [
           {
            "error_x": {
             "color": "#2a3f5f"
            },
            "error_y": {
             "color": "#2a3f5f"
            },
            "marker": {
             "line": {
              "color": "#E5ECF6",
              "width": 0.5
             }
            },
            "type": "bar"
           }
          ],
          "barpolar": [
           {
            "marker": {
             "line": {
              "color": "#E5ECF6",
              "width": 0.5
             }
            },
            "type": "barpolar"
           }
          ],
          "carpet": [
           {
            "aaxis": {
             "endlinecolor": "#2a3f5f",
             "gridcolor": "white",
             "linecolor": "white",
             "minorgridcolor": "white",
             "startlinecolor": "#2a3f5f"
            },
            "baxis": {
             "endlinecolor": "#2a3f5f",
             "gridcolor": "white",
             "linecolor": "white",
             "minorgridcolor": "white",
             "startlinecolor": "#2a3f5f"
            },
            "type": "carpet"
           }
          ],
          "choropleth": [
           {
            "colorbar": {
             "outlinewidth": 0,
             "ticks": ""
            },
            "type": "choropleth"
           }
          ],
          "contour": [
           {
            "colorbar": {
             "outlinewidth": 0,
             "ticks": ""
            },
            "colorscale": [
             [
              0,
              "#0d0887"
             ],
             [
              0.1111111111111111,
              "#46039f"
             ],
             [
              0.2222222222222222,
              "#7201a8"
             ],
             [
              0.3333333333333333,
              "#9c179e"
             ],
             [
              0.4444444444444444,
              "#bd3786"
             ],
             [
              0.5555555555555556,
              "#d8576b"
             ],
             [
              0.6666666666666666,
              "#ed7953"
             ],
             [
              0.7777777777777778,
              "#fb9f3a"
             ],
             [
              0.8888888888888888,
              "#fdca26"
             ],
             [
              1,
              "#f0f921"
             ]
            ],
            "type": "contour"
           }
          ],
          "contourcarpet": [
           {
            "colorbar": {
             "outlinewidth": 0,
             "ticks": ""
            },
            "type": "contourcarpet"
           }
          ],
          "heatmap": [
           {
            "colorbar": {
             "outlinewidth": 0,
             "ticks": ""
            },
            "colorscale": [
             [
              0,
              "#0d0887"
             ],
             [
              0.1111111111111111,
              "#46039f"
             ],
             [
              0.2222222222222222,
              "#7201a8"
             ],
             [
              0.3333333333333333,
              "#9c179e"
             ],
             [
              0.4444444444444444,
              "#bd3786"
             ],
             [
              0.5555555555555556,
              "#d8576b"
             ],
             [
              0.6666666666666666,
              "#ed7953"
             ],
             [
              0.7777777777777778,
              "#fb9f3a"
             ],
             [
              0.8888888888888888,
              "#fdca26"
             ],
             [
              1,
              "#f0f921"
             ]
            ],
            "type": "heatmap"
           }
          ],
          "heatmapgl": [
           {
            "colorbar": {
             "outlinewidth": 0,
             "ticks": ""
            },
            "colorscale": [
             [
              0,
              "#0d0887"
             ],
             [
              0.1111111111111111,
              "#46039f"
             ],
             [
              0.2222222222222222,
              "#7201a8"
             ],
             [
              0.3333333333333333,
              "#9c179e"
             ],
             [
              0.4444444444444444,
              "#bd3786"
             ],
             [
              0.5555555555555556,
              "#d8576b"
             ],
             [
              0.6666666666666666,
              "#ed7953"
             ],
             [
              0.7777777777777778,
              "#fb9f3a"
             ],
             [
              0.8888888888888888,
              "#fdca26"
             ],
             [
              1,
              "#f0f921"
             ]
            ],
            "type": "heatmapgl"
           }
          ],
          "histogram": [
           {
            "marker": {
             "colorbar": {
              "outlinewidth": 0,
              "ticks": ""
             }
            },
            "type": "histogram"
           }
          ],
          "histogram2d": [
           {
            "colorbar": {
             "outlinewidth": 0,
             "ticks": ""
            },
            "colorscale": [
             [
              0,
              "#0d0887"
             ],
             [
              0.1111111111111111,
              "#46039f"
             ],
             [
              0.2222222222222222,
              "#7201a8"
             ],
             [
              0.3333333333333333,
              "#9c179e"
             ],
             [
              0.4444444444444444,
              "#bd3786"
             ],
             [
              0.5555555555555556,
              "#d8576b"
             ],
             [
              0.6666666666666666,
              "#ed7953"
             ],
             [
              0.7777777777777778,
              "#fb9f3a"
             ],
             [
              0.8888888888888888,
              "#fdca26"
             ],
             [
              1,
              "#f0f921"
             ]
            ],
            "type": "histogram2d"
           }
          ],
          "histogram2dcontour": [
           {
            "colorbar": {
             "outlinewidth": 0,
             "ticks": ""
            },
            "colorscale": [
             [
              0,
              "#0d0887"
             ],
             [
              0.1111111111111111,
              "#46039f"
             ],
             [
              0.2222222222222222,
              "#7201a8"
             ],
             [
              0.3333333333333333,
              "#9c179e"
             ],
             [
              0.4444444444444444,
              "#bd3786"
             ],
             [
              0.5555555555555556,
              "#d8576b"
             ],
             [
              0.6666666666666666,
              "#ed7953"
             ],
             [
              0.7777777777777778,
              "#fb9f3a"
             ],
             [
              0.8888888888888888,
              "#fdca26"
             ],
             [
              1,
              "#f0f921"
             ]
            ],
            "type": "histogram2dcontour"
           }
          ],
          "mesh3d": [
           {
            "colorbar": {
             "outlinewidth": 0,
             "ticks": ""
            },
            "type": "mesh3d"
           }
          ],
          "parcoords": [
           {
            "line": {
             "colorbar": {
              "outlinewidth": 0,
              "ticks": ""
             }
            },
            "type": "parcoords"
           }
          ],
          "pie": [
           {
            "automargin": true,
            "type": "pie"
           }
          ],
          "scatter": [
           {
            "marker": {
             "colorbar": {
              "outlinewidth": 0,
              "ticks": ""
             }
            },
            "type": "scatter"
           }
          ],
          "scatter3d": [
           {
            "line": {
             "colorbar": {
              "outlinewidth": 0,
              "ticks": ""
             }
            },
            "marker": {
             "colorbar": {
              "outlinewidth": 0,
              "ticks": ""
             }
            },
            "type": "scatter3d"
           }
          ],
          "scattercarpet": [
           {
            "marker": {
             "colorbar": {
              "outlinewidth": 0,
              "ticks": ""
             }
            },
            "type": "scattercarpet"
           }
          ],
          "scattergeo": [
           {
            "marker": {
             "colorbar": {
              "outlinewidth": 0,
              "ticks": ""
             }
            },
            "type": "scattergeo"
           }
          ],
          "scattergl": [
           {
            "marker": {
             "colorbar": {
              "outlinewidth": 0,
              "ticks": ""
             }
            },
            "type": "scattergl"
           }
          ],
          "scattermapbox": [
           {
            "marker": {
             "colorbar": {
              "outlinewidth": 0,
              "ticks": ""
             }
            },
            "type": "scattermapbox"
           }
          ],
          "scatterpolar": [
           {
            "marker": {
             "colorbar": {
              "outlinewidth": 0,
              "ticks": ""
             }
            },
            "type": "scatterpolar"
           }
          ],
          "scatterpolargl": [
           {
            "marker": {
             "colorbar": {
              "outlinewidth": 0,
              "ticks": ""
             }
            },
            "type": "scatterpolargl"
           }
          ],
          "scatterternary": [
           {
            "marker": {
             "colorbar": {
              "outlinewidth": 0,
              "ticks": ""
             }
            },
            "type": "scatterternary"
           }
          ],
          "surface": [
           {
            "colorbar": {
             "outlinewidth": 0,
             "ticks": ""
            },
            "colorscale": [
             [
              0,
              "#0d0887"
             ],
             [
              0.1111111111111111,
              "#46039f"
             ],
             [
              0.2222222222222222,
              "#7201a8"
             ],
             [
              0.3333333333333333,
              "#9c179e"
             ],
             [
              0.4444444444444444,
              "#bd3786"
             ],
             [
              0.5555555555555556,
              "#d8576b"
             ],
             [
              0.6666666666666666,
              "#ed7953"
             ],
             [
              0.7777777777777778,
              "#fb9f3a"
             ],
             [
              0.8888888888888888,
              "#fdca26"
             ],
             [
              1,
              "#f0f921"
             ]
            ],
            "type": "surface"
           }
          ],
          "table": [
           {
            "cells": {
             "fill": {
              "color": "#EBF0F8"
             },
             "line": {
              "color": "white"
             }
            },
            "header": {
             "fill": {
              "color": "#C8D4E3"
             },
             "line": {
              "color": "white"
             }
            },
            "type": "table"
           }
          ]
         },
         "layout": {
          "annotationdefaults": {
           "arrowcolor": "#2a3f5f",
           "arrowhead": 0,
           "arrowwidth": 1
          },
          "autotypenumbers": "strict",
          "coloraxis": {
           "colorbar": {
            "outlinewidth": 0,
            "ticks": ""
           }
          },
          "colorscale": {
           "diverging": [
            [
             0,
             "#8e0152"
            ],
            [
             0.1,
             "#c51b7d"
            ],
            [
             0.2,
             "#de77ae"
            ],
            [
             0.3,
             "#f1b6da"
            ],
            [
             0.4,
             "#fde0ef"
            ],
            [
             0.5,
             "#f7f7f7"
            ],
            [
             0.6,
             "#e6f5d0"
            ],
            [
             0.7,
             "#b8e186"
            ],
            [
             0.8,
             "#7fbc41"
            ],
            [
             0.9,
             "#4d9221"
            ],
            [
             1,
             "#276419"
            ]
           ],
           "sequential": [
            [
             0,
             "#0d0887"
            ],
            [
             0.1111111111111111,
             "#46039f"
            ],
            [
             0.2222222222222222,
             "#7201a8"
            ],
            [
             0.3333333333333333,
             "#9c179e"
            ],
            [
             0.4444444444444444,
             "#bd3786"
            ],
            [
             0.5555555555555556,
             "#d8576b"
            ],
            [
             0.6666666666666666,
             "#ed7953"
            ],
            [
             0.7777777777777778,
             "#fb9f3a"
            ],
            [
             0.8888888888888888,
             "#fdca26"
            ],
            [
             1,
             "#f0f921"
            ]
           ],
           "sequentialminus": [
            [
             0,
             "#0d0887"
            ],
            [
             0.1111111111111111,
             "#46039f"
            ],
            [
             0.2222222222222222,
             "#7201a8"
            ],
            [
             0.3333333333333333,
             "#9c179e"
            ],
            [
             0.4444444444444444,
             "#bd3786"
            ],
            [
             0.5555555555555556,
             "#d8576b"
            ],
            [
             0.6666666666666666,
             "#ed7953"
            ],
            [
             0.7777777777777778,
             "#fb9f3a"
            ],
            [
             0.8888888888888888,
             "#fdca26"
            ],
            [
             1,
             "#f0f921"
            ]
           ]
          },
          "colorway": [
           "#636efa",
           "#EF553B",
           "#00cc96",
           "#ab63fa",
           "#FFA15A",
           "#19d3f3",
           "#FF6692",
           "#B6E880",
           "#FF97FF",
           "#FECB52"
          ],
          "font": {
           "color": "#2a3f5f"
          },
          "geo": {
           "bgcolor": "white",
           "lakecolor": "white",
           "landcolor": "#E5ECF6",
           "showlakes": true,
           "showland": true,
           "subunitcolor": "white"
          },
          "hoverlabel": {
           "align": "left"
          },
          "hovermode": "closest",
          "mapbox": {
           "style": "light"
          },
          "paper_bgcolor": "white",
          "plot_bgcolor": "#E5ECF6",
          "polar": {
           "angularaxis": {
            "gridcolor": "white",
            "linecolor": "white",
            "ticks": ""
           },
           "bgcolor": "#E5ECF6",
           "radialaxis": {
            "gridcolor": "white",
            "linecolor": "white",
            "ticks": ""
           }
          },
          "scene": {
           "xaxis": {
            "backgroundcolor": "#E5ECF6",
            "gridcolor": "white",
            "gridwidth": 2,
            "linecolor": "white",
            "showbackground": true,
            "ticks": "",
            "zerolinecolor": "white"
           },
           "yaxis": {
            "backgroundcolor": "#E5ECF6",
            "gridcolor": "white",
            "gridwidth": 2,
            "linecolor": "white",
            "showbackground": true,
            "ticks": "",
            "zerolinecolor": "white"
           },
           "zaxis": {
            "backgroundcolor": "#E5ECF6",
            "gridcolor": "white",
            "gridwidth": 2,
            "linecolor": "white",
            "showbackground": true,
            "ticks": "",
            "zerolinecolor": "white"
           }
          },
          "shapedefaults": {
           "line": {
            "color": "#2a3f5f"
           }
          },
          "ternary": {
           "aaxis": {
            "gridcolor": "white",
            "linecolor": "white",
            "ticks": ""
           },
           "baxis": {
            "gridcolor": "white",
            "linecolor": "white",
            "ticks": ""
           },
           "bgcolor": "#E5ECF6",
           "caxis": {
            "gridcolor": "white",
            "linecolor": "white",
            "ticks": ""
           }
          },
          "title": {
           "x": 0.05
          },
          "xaxis": {
           "automargin": true,
           "gridcolor": "white",
           "linecolor": "white",
           "ticks": "",
           "title": {
            "standoff": 15
           },
           "zerolinecolor": "white",
           "zerolinewidth": 2
          },
          "yaxis": {
           "automargin": true,
           "gridcolor": "white",
           "linecolor": "white",
           "ticks": "",
           "title": {
            "standoff": 15
           },
           "zerolinecolor": "white",
           "zerolinewidth": 2
          }
         }
        },
        "title": {
         "font": {
          "color": "#4D5663"
         }
        },
        "xaxis": {
         "gridcolor": "#E1E5ED",
         "showgrid": true,
         "tickfont": {
          "color": "#4D5663"
         },
         "title": {
          "font": {
           "color": "#4D5663"
          },
          "text": ""
         },
         "zerolinecolor": "#E1E5ED"
        },
        "yaxis": {
         "gridcolor": "#E1E5ED",
         "showgrid": true,
         "tickfont": {
          "color": "#4D5663"
         },
         "title": {
          "font": {
           "color": "#4D5663"
          },
          "text": ""
         },
         "zerolinecolor": "#E1E5ED"
        }
       }
      },
      "text/html": [
       "<div>                            <div id=\"c57aaf68-4137-4c8b-935a-48009226de0e\" class=\"plotly-graph-div\" style=\"height:525px; width:100%;\"></div>            <script type=\"text/javascript\">                require([\"plotly\"], function(Plotly) {                    window.PLOTLYENV=window.PLOTLYENV || {};\n",
       "                    window.PLOTLYENV.BASE_URL='https://plot.ly';                                    if (document.getElementById(\"c57aaf68-4137-4c8b-935a-48009226de0e\")) {                    Plotly.newPlot(                        \"c57aaf68-4137-4c8b-935a-48009226de0e\",                        [{\"marker\": {\"color\": [\"rgb(255, 153, 51)\", \"rgb(55, 128, 191)\", \"rgb(50, 171, 96)\", \"rgb(128, 0, 128)\", \"rgb(219, 64, 82)\", \"rgb(0, 128, 128)\", \"rgb(255, 255, 51)\", \"rgb(128, 128, 0)\", \"rgb(251, 128, 114)\", \"rgb(128, 177, 211)\"], \"line\": {\"width\": 1.3}, \"size\": [48, 106, 74, 68, 89, 48, 108, 76, 48, 76, 35, 31, 112, 56, 48, 20, 79, 36, 46, 54, 54, 47, 87, 65, 75, 40, 46, 95, 51, 91, 42, 72, 39, 90, 73, 62, 68, 16, 80, 57, 12, 61, 52, 53, 51, 41, 85, 17, 15, 33, 73, 84, 61, 49, 30, 73, 39, 20, 59, 81, 58, 80, 55, 36, 46, 54, 32, 76, 59, 63, 57, 46, 71, 66, 56, 88, 20, 89, 42, 47, 39, 91, 39, 33, 21, 55, 23, 93, 49, 45, 55, 63, 83, 39, 38, 63, 56, 66, 102, 81], \"symbol\": \"circle\"}, \"mode\": \"markers\", \"text\": \"\", \"type\": \"scatter\", \"x\": [-1.3706341634977999, -0.44464357298030577, 0.21194758281043072, 0.12188250469054568, 0.23109750834636394, -2.078611900510734, -1.4125718461065768, 1.3226301173678356, 2.210811587319438, 0.36723881015481563, 0.7050702807104442, -0.905428803606851, -0.7375841040593092, -0.4226064027471685, 0.6645102742651933, -0.08735652306256615, -0.5813580330962289, 0.0716254537297011, 0.15204193295013044, 1.2331156163625931, 0.3672451559975761, -1.0078492704142434, -0.500538082300995, 0.4229458212448693, 0.6464313705076554, 0.2139423481071675, 0.1714393729772546, 1.9948550663201299, 0.4321704238991509, 0.7392842450688996, 0.541413784244687, 0.31978830459683383, -0.017365148471931328, -1.0857775822469622, -1.193103742314076, 1.099979033425753, 2.2056855426999866, -1.6669638663240616, -0.08506313981755931, -0.02951404577227692, 0.4881199025094287, -0.528706652714251, 0.3110493410602627, -0.994407222597656, -0.28465817230024915, 0.25556787422035, -1.956154522801279, 0.3883869966365133, 1.102046149073705, -0.4215054879821377, 0.24423815726095943, 0.4649265831057877, 0.4866105838030112, 0.7258641462406561, 0.66621179780112, 2.3012047560973246, 0.510448614366747, -0.0672027437684564, 0.9902492665119011, 0.995358276938806, -0.3609097311021256, -0.8462895865163238, 2.02343599829043, -1.9395551757350018, -0.09964614142319132, -0.6415266032082034, 0.09126807042650653, -0.7604286997610876, -1.4705671870066, -1.7726401934108293, 0.7123922422852348, 0.8179562452087664, 0.1397851465613479, -1.1900951296743383, 1.3545683824031913, -0.9862518332678586, 0.07713600519368458, 0.9665930002866592, -0.8836743785929374, 0.031183626981489555, -0.4541590764346655, -0.3059995675381995, -0.31819475456499857, -0.829947107638954, 0.5502331119843076, -2.2427912701229795, 0.9643634596297002, 0.4082628205500436, -0.472746067463226, 0.15807422758994447, -1.2478598233983356, 0.9421325113086404, 0.07985387835658049, 1.377428942663169, -0.17424251486922068, -0.8619395928622705, -0.7438063014346141, 1.0724948530588314, -0.2917142520456285, -0.4723161335846429], \"y\": [-1.4196724829893959, 0.6937772020980084, -0.4812846650690201, 0.035158586908787745, -0.45017873068516073, -0.030059928365334238, -1.856233899690452, -0.5590337797075252, -0.5804073030280686, 1.150854046333595, -0.6733858899708351, 0.8266969326608955, 1.7988410661820298, 1.1778011802008324, 0.10006808003616055, 0.4809616447255042, 1.287644232127595, 1.836146110025685, -0.11151507322238065, -1.251458276052178, -1.4470616711917, 0.10723640266054896, -0.9686962871440572, 1.4393440412212073, 0.13304099023488128, 0.4908125547596066, 0.5220823956304467, 0.3507904194832665, 0.2581747768061723, 0.12205361739481664, -0.4198161734207942, -0.37561858442804985, -1.6277731441939807, 1.2670489958455784, -0.8279945448260254, 1.5243878128552988, -1.3063636827096152, -0.005083638785516138, 0.5029272510206665, 0.3076220408997537, -1.6764059119651478, -1.5851239702752005, -0.8117329131730747, -0.663458209419483, 0.0856691449911914, 0.3456908076693621, 0.9819318143923648, -1.1238915488432348, 0.07568901601486262, -0.6329608158228868, -0.04523711591711723, -0.8385342648127595, 1.3551895570715595, 1.1454304810086735, 0.15400312415551504, 0.5266222368882257, -1.6216902724729327, -1.1645414566296808, -1.3257935329411572, 1.0928850861133592, 0.4397168800217103, 0.22162291000438433, -0.4214110310069617, 1.359394341005347, 0.755569142671456, -0.047668341509316696, 1.618663837028353, 0.07553200040376101, 1.4332407885042495, -0.6812263824951286, 0.4548067533565884, 0.8378693195141234, 0.7205082805758841, 0.5173519389365746, 0.16254471065118895, 0.7989306048084983, -0.7530959571258489, 0.792995916875926, -1.3084157648844408, -0.6948613980554555, -1.3657188199513584, -0.12912859493672632, 1.4763979073116997, -1.2508979201194812, -0.520025141114111, -0.6953210758379533, 0.5677098245114643, -0.2624853987239584, 2.5523006410694515, 0.6324875821159565, -0.1924944987687054, -0.5871756946439045, -0.02944436942818076, -1.9818632242606096, -1.5142323202732133, 0.8230299179180144, -1.3975522801520963, -0.7152243646234195, 0.34084939962171656, 1.9520183792854542]}],                        {\"legend\": {\"bgcolor\": \"#F5F6F9\", \"font\": {\"color\": \"#4D5663\"}}, \"paper_bgcolor\": \"#F5F6F9\", \"plot_bgcolor\": \"#F5F6F9\", \"template\": {\"data\": {\"bar\": [{\"error_x\": {\"color\": \"#2a3f5f\"}, \"error_y\": {\"color\": \"#2a3f5f\"}, \"marker\": {\"line\": {\"color\": \"#E5ECF6\", \"width\": 0.5}}, \"type\": \"bar\"}], \"barpolar\": [{\"marker\": {\"line\": {\"color\": \"#E5ECF6\", \"width\": 0.5}}, \"type\": \"barpolar\"}], \"carpet\": [{\"aaxis\": {\"endlinecolor\": \"#2a3f5f\", \"gridcolor\": \"white\", \"linecolor\": \"white\", \"minorgridcolor\": \"white\", \"startlinecolor\": \"#2a3f5f\"}, \"baxis\": {\"endlinecolor\": \"#2a3f5f\", \"gridcolor\": \"white\", \"linecolor\": \"white\", \"minorgridcolor\": \"white\", \"startlinecolor\": \"#2a3f5f\"}, \"type\": \"carpet\"}], \"choropleth\": [{\"colorbar\": {\"outlinewidth\": 0, \"ticks\": \"\"}, \"type\": \"choropleth\"}], \"contour\": [{\"colorbar\": {\"outlinewidth\": 0, \"ticks\": \"\"}, \"colorscale\": [[0.0, \"#0d0887\"], [0.1111111111111111, \"#46039f\"], [0.2222222222222222, \"#7201a8\"], [0.3333333333333333, \"#9c179e\"], [0.4444444444444444, \"#bd3786\"], [0.5555555555555556, \"#d8576b\"], [0.6666666666666666, \"#ed7953\"], [0.7777777777777778, \"#fb9f3a\"], [0.8888888888888888, \"#fdca26\"], [1.0, \"#f0f921\"]], \"type\": \"contour\"}], \"contourcarpet\": [{\"colorbar\": {\"outlinewidth\": 0, \"ticks\": \"\"}, \"type\": \"contourcarpet\"}], \"heatmap\": [{\"colorbar\": {\"outlinewidth\": 0, \"ticks\": \"\"}, \"colorscale\": [[0.0, \"#0d0887\"], [0.1111111111111111, \"#46039f\"], [0.2222222222222222, \"#7201a8\"], [0.3333333333333333, \"#9c179e\"], [0.4444444444444444, \"#bd3786\"], [0.5555555555555556, \"#d8576b\"], [0.6666666666666666, \"#ed7953\"], [0.7777777777777778, \"#fb9f3a\"], [0.8888888888888888, \"#fdca26\"], [1.0, \"#f0f921\"]], \"type\": \"heatmap\"}], \"heatmapgl\": [{\"colorbar\": {\"outlinewidth\": 0, \"ticks\": \"\"}, \"colorscale\": [[0.0, \"#0d0887\"], [0.1111111111111111, \"#46039f\"], [0.2222222222222222, \"#7201a8\"], [0.3333333333333333, \"#9c179e\"], [0.4444444444444444, \"#bd3786\"], [0.5555555555555556, \"#d8576b\"], [0.6666666666666666, \"#ed7953\"], [0.7777777777777778, \"#fb9f3a\"], [0.8888888888888888, \"#fdca26\"], [1.0, \"#f0f921\"]], \"type\": \"heatmapgl\"}], \"histogram\": [{\"marker\": {\"colorbar\": {\"outlinewidth\": 0, \"ticks\": \"\"}}, \"type\": \"histogram\"}], \"histogram2d\": [{\"colorbar\": {\"outlinewidth\": 0, \"ticks\": \"\"}, \"colorscale\": [[0.0, \"#0d0887\"], [0.1111111111111111, \"#46039f\"], [0.2222222222222222, \"#7201a8\"], [0.3333333333333333, \"#9c179e\"], [0.4444444444444444, \"#bd3786\"], [0.5555555555555556, \"#d8576b\"], [0.6666666666666666, \"#ed7953\"], [0.7777777777777778, \"#fb9f3a\"], [0.8888888888888888, \"#fdca26\"], [1.0, \"#f0f921\"]], \"type\": \"histogram2d\"}], \"histogram2dcontour\": [{\"colorbar\": {\"outlinewidth\": 0, \"ticks\": \"\"}, \"colorscale\": [[0.0, \"#0d0887\"], [0.1111111111111111, \"#46039f\"], [0.2222222222222222, \"#7201a8\"], [0.3333333333333333, \"#9c179e\"], [0.4444444444444444, \"#bd3786\"], [0.5555555555555556, \"#d8576b\"], [0.6666666666666666, \"#ed7953\"], [0.7777777777777778, \"#fb9f3a\"], [0.8888888888888888, \"#fdca26\"], [1.0, \"#f0f921\"]], \"type\": \"histogram2dcontour\"}], \"mesh3d\": [{\"colorbar\": {\"outlinewidth\": 0, \"ticks\": \"\"}, \"type\": \"mesh3d\"}], \"parcoords\": [{\"line\": {\"colorbar\": {\"outlinewidth\": 0, \"ticks\": \"\"}}, \"type\": \"parcoords\"}], \"pie\": [{\"automargin\": true, \"type\": \"pie\"}], \"scatter\": [{\"marker\": {\"colorbar\": {\"outlinewidth\": 0, \"ticks\": \"\"}}, \"type\": \"scatter\"}], \"scatter3d\": [{\"line\": {\"colorbar\": {\"outlinewidth\": 0, \"ticks\": \"\"}}, \"marker\": {\"colorbar\": {\"outlinewidth\": 0, \"ticks\": \"\"}}, \"type\": \"scatter3d\"}], \"scattercarpet\": [{\"marker\": {\"colorbar\": {\"outlinewidth\": 0, \"ticks\": \"\"}}, \"type\": \"scattercarpet\"}], \"scattergeo\": [{\"marker\": {\"colorbar\": {\"outlinewidth\": 0, \"ticks\": \"\"}}, \"type\": \"scattergeo\"}], \"scattergl\": [{\"marker\": {\"colorbar\": {\"outlinewidth\": 0, \"ticks\": \"\"}}, \"type\": \"scattergl\"}], \"scattermapbox\": [{\"marker\": {\"colorbar\": {\"outlinewidth\": 0, \"ticks\": \"\"}}, \"type\": \"scattermapbox\"}], \"scatterpolar\": [{\"marker\": {\"colorbar\": {\"outlinewidth\": 0, \"ticks\": \"\"}}, \"type\": \"scatterpolar\"}], \"scatterpolargl\": [{\"marker\": {\"colorbar\": {\"outlinewidth\": 0, \"ticks\": \"\"}}, \"type\": \"scatterpolargl\"}], \"scatterternary\": [{\"marker\": {\"colorbar\": {\"outlinewidth\": 0, \"ticks\": \"\"}}, \"type\": \"scatterternary\"}], \"surface\": [{\"colorbar\": {\"outlinewidth\": 0, \"ticks\": \"\"}, \"colorscale\": [[0.0, \"#0d0887\"], [0.1111111111111111, \"#46039f\"], [0.2222222222222222, \"#7201a8\"], [0.3333333333333333, \"#9c179e\"], [0.4444444444444444, \"#bd3786\"], [0.5555555555555556, \"#d8576b\"], [0.6666666666666666, \"#ed7953\"], [0.7777777777777778, \"#fb9f3a\"], [0.8888888888888888, \"#fdca26\"], [1.0, \"#f0f921\"]], \"type\": \"surface\"}], \"table\": [{\"cells\": {\"fill\": {\"color\": \"#EBF0F8\"}, \"line\": {\"color\": \"white\"}}, \"header\": {\"fill\": {\"color\": \"#C8D4E3\"}, \"line\": {\"color\": \"white\"}}, \"type\": \"table\"}]}, \"layout\": {\"annotationdefaults\": {\"arrowcolor\": \"#2a3f5f\", \"arrowhead\": 0, \"arrowwidth\": 1}, \"autotypenumbers\": \"strict\", \"coloraxis\": {\"colorbar\": {\"outlinewidth\": 0, \"ticks\": \"\"}}, \"colorscale\": {\"diverging\": [[0, \"#8e0152\"], [0.1, \"#c51b7d\"], [0.2, \"#de77ae\"], [0.3, \"#f1b6da\"], [0.4, \"#fde0ef\"], [0.5, \"#f7f7f7\"], [0.6, \"#e6f5d0\"], [0.7, \"#b8e186\"], [0.8, \"#7fbc41\"], [0.9, \"#4d9221\"], [1, \"#276419\"]], \"sequential\": [[0.0, \"#0d0887\"], [0.1111111111111111, \"#46039f\"], [0.2222222222222222, \"#7201a8\"], [0.3333333333333333, \"#9c179e\"], [0.4444444444444444, \"#bd3786\"], [0.5555555555555556, \"#d8576b\"], [0.6666666666666666, \"#ed7953\"], [0.7777777777777778, \"#fb9f3a\"], [0.8888888888888888, \"#fdca26\"], [1.0, \"#f0f921\"]], \"sequentialminus\": [[0.0, \"#0d0887\"], [0.1111111111111111, \"#46039f\"], [0.2222222222222222, \"#7201a8\"], [0.3333333333333333, \"#9c179e\"], [0.4444444444444444, \"#bd3786\"], [0.5555555555555556, \"#d8576b\"], [0.6666666666666666, \"#ed7953\"], [0.7777777777777778, \"#fb9f3a\"], [0.8888888888888888, \"#fdca26\"], [1.0, \"#f0f921\"]]}, \"colorway\": [\"#636efa\", \"#EF553B\", \"#00cc96\", \"#ab63fa\", \"#FFA15A\", \"#19d3f3\", \"#FF6692\", \"#B6E880\", \"#FF97FF\", \"#FECB52\"], \"font\": {\"color\": \"#2a3f5f\"}, \"geo\": {\"bgcolor\": \"white\", \"lakecolor\": \"white\", \"landcolor\": \"#E5ECF6\", \"showlakes\": true, \"showland\": true, \"subunitcolor\": \"white\"}, \"hoverlabel\": {\"align\": \"left\"}, \"hovermode\": \"closest\", \"mapbox\": {\"style\": \"light\"}, \"paper_bgcolor\": \"white\", \"plot_bgcolor\": \"#E5ECF6\", \"polar\": {\"angularaxis\": {\"gridcolor\": \"white\", \"linecolor\": \"white\", \"ticks\": \"\"}, \"bgcolor\": \"#E5ECF6\", \"radialaxis\": {\"gridcolor\": \"white\", \"linecolor\": \"white\", \"ticks\": \"\"}}, \"scene\": {\"xaxis\": {\"backgroundcolor\": \"#E5ECF6\", \"gridcolor\": \"white\", \"gridwidth\": 2, \"linecolor\": \"white\", \"showbackground\": true, \"ticks\": \"\", \"zerolinecolor\": \"white\"}, \"yaxis\": {\"backgroundcolor\": \"#E5ECF6\", \"gridcolor\": \"white\", \"gridwidth\": 2, \"linecolor\": \"white\", \"showbackground\": true, \"ticks\": \"\", \"zerolinecolor\": \"white\"}, \"zaxis\": {\"backgroundcolor\": \"#E5ECF6\", \"gridcolor\": \"white\", \"gridwidth\": 2, \"linecolor\": \"white\", \"showbackground\": true, \"ticks\": \"\", \"zerolinecolor\": \"white\"}}, \"shapedefaults\": {\"line\": {\"color\": \"#2a3f5f\"}}, \"ternary\": {\"aaxis\": {\"gridcolor\": \"white\", \"linecolor\": \"white\", \"ticks\": \"\"}, \"baxis\": {\"gridcolor\": \"white\", \"linecolor\": \"white\", \"ticks\": \"\"}, \"bgcolor\": \"#E5ECF6\", \"caxis\": {\"gridcolor\": \"white\", \"linecolor\": \"white\", \"ticks\": \"\"}}, \"title\": {\"x\": 0.05}, \"xaxis\": {\"automargin\": true, \"gridcolor\": \"white\", \"linecolor\": \"white\", \"ticks\": \"\", \"title\": {\"standoff\": 15}, \"zerolinecolor\": \"white\", \"zerolinewidth\": 2}, \"yaxis\": {\"automargin\": true, \"gridcolor\": \"white\", \"linecolor\": \"white\", \"ticks\": \"\", \"title\": {\"standoff\": 15}, \"zerolinecolor\": \"white\", \"zerolinewidth\": 2}}}, \"title\": {\"font\": {\"color\": \"#4D5663\"}}, \"xaxis\": {\"gridcolor\": \"#E1E5ED\", \"showgrid\": true, \"tickfont\": {\"color\": \"#4D5663\"}, \"title\": {\"font\": {\"color\": \"#4D5663\"}, \"text\": \"\"}, \"zerolinecolor\": \"#E1E5ED\"}, \"yaxis\": {\"gridcolor\": \"#E1E5ED\", \"showgrid\": true, \"tickfont\": {\"color\": \"#4D5663\"}, \"title\": {\"font\": {\"color\": \"#4D5663\"}, \"text\": \"\"}, \"zerolinecolor\": \"#E1E5ED\"}},                        {\"showLink\": true, \"linkText\": \"Export to plot.ly\", \"plotlyServerURL\": \"https://plot.ly\", \"responsive\": true}                    ).then(function(){\n",
       "                            \n",
       "var gd = document.getElementById('c57aaf68-4137-4c8b-935a-48009226de0e');\n",
       "var x = new MutationObserver(function (mutations, observer) {{\n",
       "        var display = window.getComputedStyle(gd).display;\n",
       "        if (!display || display === 'none') {{\n",
       "            console.log([gd, 'removed!']);\n",
       "            Plotly.purge(gd);\n",
       "            observer.disconnect();\n",
       "        }}\n",
       "}});\n",
       "\n",
       "// Listen for the removal of the full notebook cells\n",
       "var notebookContainer = gd.closest('#notebook-container');\n",
       "if (notebookContainer) {{\n",
       "    x.observe(notebookContainer, {childList: true});\n",
       "}}\n",
       "\n",
       "// Listen for the clearing of the current output cell\n",
       "var outputEl = gd.closest('.output');\n",
       "if (outputEl) {{\n",
       "    x.observe(outputEl, {childList: true});\n",
       "}}\n",
       "\n",
       "                        })                };                });            </script>        </div>"
      ]
     },
     "metadata": {},
     "output_type": "display_data"
    }
   ],
   "source": [
    "df.iplot(kind='bubble',x='A',y='B',size='C')"
   ]
  },
  {
   "cell_type": "markdown",
   "metadata": {},
   "source": [
    "## scatter_matrix()\n",
    "\n",
    "Similar to sns.pairplot()"
   ]
  },
  {
   "cell_type": "code",
   "execution_count": 19,
   "metadata": {},
   "outputs": [
    {
     "data": {
      "application/vnd.plotly.v1+json": {
       "config": {
        "linkText": "Export to plot.ly",
        "plotlyServerURL": "https://plot.ly",
        "showLink": true
       },
       "data": [
        {
         "histfunc": "count",
         "histnorm": "",
         "marker": {
          "color": "rgba(255, 153, 51, 1.0)",
          "line": {
           "color": "#4D5663",
           "width": 1.3
          }
         },
         "name": "A",
         "nbinsx": 10,
         "opacity": 0.8,
         "orientation": "v",
         "type": "histogram",
         "x": [
          -1.3706341634977999,
          -0.44464357298030577,
          0.21194758281043072,
          0.12188250469054568,
          0.23109750834636394,
          -2.078611900510734,
          -1.4125718461065768,
          1.3226301173678356,
          2.210811587319438,
          0.36723881015481563,
          0.7050702807104442,
          -0.905428803606851,
          -0.7375841040593092,
          -0.4226064027471685,
          0.6645102742651933,
          -0.08735652306256615,
          -0.5813580330962289,
          0.0716254537297011,
          0.15204193295013044,
          1.2331156163625931,
          0.3672451559975761,
          -1.0078492704142434,
          -0.500538082300995,
          0.4229458212448693,
          0.6464313705076554,
          0.2139423481071675,
          0.1714393729772546,
          1.9948550663201299,
          0.4321704238991509,
          0.7392842450688996,
          0.541413784244687,
          0.31978830459683383,
          -0.017365148471931328,
          -1.0857775822469622,
          -1.193103742314076,
          1.099979033425753,
          2.2056855426999866,
          -1.6669638663240616,
          -0.08506313981755931,
          -0.02951404577227692,
          0.4881199025094287,
          -0.528706652714251,
          0.3110493410602627,
          -0.994407222597656,
          -0.28465817230024915,
          0.25556787422035,
          -1.956154522801279,
          0.3883869966365133,
          1.102046149073705,
          -0.4215054879821377,
          0.24423815726095943,
          0.4649265831057877,
          0.4866105838030112,
          0.7258641462406561,
          0.66621179780112,
          2.3012047560973246,
          0.510448614366747,
          -0.0672027437684564,
          0.9902492665119011,
          0.995358276938806,
          -0.3609097311021256,
          -0.8462895865163238,
          2.02343599829043,
          -1.9395551757350018,
          -0.09964614142319132,
          -0.6415266032082034,
          0.09126807042650653,
          -0.7604286997610876,
          -1.4705671870066,
          -1.7726401934108293,
          0.7123922422852348,
          0.8179562452087664,
          0.1397851465613479,
          -1.1900951296743383,
          1.3545683824031913,
          -0.9862518332678586,
          0.07713600519368458,
          0.9665930002866592,
          -0.8836743785929374,
          0.031183626981489555,
          -0.4541590764346655,
          -0.3059995675381995,
          -0.31819475456499857,
          -0.829947107638954,
          0.5502331119843076,
          -2.2427912701229795,
          0.9643634596297002,
          0.4082628205500436,
          -0.472746067463226,
          0.15807422758994447,
          -1.2478598233983356,
          0.9421325113086404,
          0.07985387835658049,
          1.377428942663169,
          -0.17424251486922068,
          -0.8619395928622705,
          -0.7438063014346141,
          1.0724948530588314,
          -0.2917142520456285,
          -0.4723161335846429
         ],
         "xaxis": "x",
         "yaxis": "y"
        },
        {
         "line": {
          "color": "rgba(128, 128, 128, 1.0)",
          "dash": "solid",
          "shape": "linear",
          "width": 1.3
         },
         "marker": {
          "size": 2,
          "symbol": "circle"
         },
         "mode": "markers",
         "name": "A",
         "text": "",
         "type": "scatter",
         "x": [
          -1.4196724829893959,
          0.6937772020980084,
          -0.4812846650690201,
          0.035158586908787745,
          -0.45017873068516073,
          -0.030059928365334238,
          -1.856233899690452,
          -0.5590337797075252,
          -0.5804073030280686,
          1.150854046333595,
          -0.6733858899708351,
          0.8266969326608955,
          1.7988410661820298,
          1.1778011802008324,
          0.10006808003616055,
          0.4809616447255042,
          1.287644232127595,
          1.836146110025685,
          -0.11151507322238065,
          -1.251458276052178,
          -1.4470616711917,
          0.10723640266054896,
          -0.9686962871440572,
          1.4393440412212073,
          0.13304099023488128,
          0.4908125547596066,
          0.5220823956304467,
          0.3507904194832665,
          0.2581747768061723,
          0.12205361739481664,
          -0.4198161734207942,
          -0.37561858442804985,
          -1.6277731441939807,
          1.2670489958455784,
          -0.8279945448260254,
          1.5243878128552988,
          -1.3063636827096152,
          -0.005083638785516138,
          0.5029272510206665,
          0.3076220408997537,
          -1.6764059119651478,
          -1.5851239702752005,
          -0.8117329131730747,
          -0.663458209419483,
          0.0856691449911914,
          0.3456908076693621,
          0.9819318143923648,
          -1.1238915488432348,
          0.07568901601486262,
          -0.6329608158228868,
          -0.04523711591711723,
          -0.8385342648127595,
          1.3551895570715595,
          1.1454304810086735,
          0.15400312415551504,
          0.5266222368882257,
          -1.6216902724729327,
          -1.1645414566296808,
          -1.3257935329411572,
          1.0928850861133592,
          0.4397168800217103,
          0.22162291000438433,
          -0.4214110310069617,
          1.359394341005347,
          0.755569142671456,
          -0.047668341509316696,
          1.618663837028353,
          0.07553200040376101,
          1.4332407885042495,
          -0.6812263824951286,
          0.4548067533565884,
          0.8378693195141234,
          0.7205082805758841,
          0.5173519389365746,
          0.16254471065118895,
          0.7989306048084983,
          -0.7530959571258489,
          0.792995916875926,
          -1.3084157648844408,
          -0.6948613980554555,
          -1.3657188199513584,
          -0.12912859493672632,
          1.4763979073116997,
          -1.2508979201194812,
          -0.520025141114111,
          -0.6953210758379533,
          0.5677098245114643,
          -0.2624853987239584,
          2.5523006410694515,
          0.6324875821159565,
          -0.1924944987687054,
          -0.5871756946439045,
          -0.02944436942818076,
          -1.9818632242606096,
          -1.5142323202732133,
          0.8230299179180144,
          -1.3975522801520963,
          -0.7152243646234195,
          0.34084939962171656,
          1.9520183792854542
         ],
         "xaxis": "x2",
         "y": [
          -1.3706341634977999,
          -0.44464357298030577,
          0.21194758281043072,
          0.12188250469054568,
          0.23109750834636394,
          -2.078611900510734,
          -1.4125718461065768,
          1.3226301173678356,
          2.210811587319438,
          0.36723881015481563,
          0.7050702807104442,
          -0.905428803606851,
          -0.7375841040593092,
          -0.4226064027471685,
          0.6645102742651933,
          -0.08735652306256615,
          -0.5813580330962289,
          0.0716254537297011,
          0.15204193295013044,
          1.2331156163625931,
          0.3672451559975761,
          -1.0078492704142434,
          -0.500538082300995,
          0.4229458212448693,
          0.6464313705076554,
          0.2139423481071675,
          0.1714393729772546,
          1.9948550663201299,
          0.4321704238991509,
          0.7392842450688996,
          0.541413784244687,
          0.31978830459683383,
          -0.017365148471931328,
          -1.0857775822469622,
          -1.193103742314076,
          1.099979033425753,
          2.2056855426999866,
          -1.6669638663240616,
          -0.08506313981755931,
          -0.02951404577227692,
          0.4881199025094287,
          -0.528706652714251,
          0.3110493410602627,
          -0.994407222597656,
          -0.28465817230024915,
          0.25556787422035,
          -1.956154522801279,
          0.3883869966365133,
          1.102046149073705,
          -0.4215054879821377,
          0.24423815726095943,
          0.4649265831057877,
          0.4866105838030112,
          0.7258641462406561,
          0.66621179780112,
          2.3012047560973246,
          0.510448614366747,
          -0.0672027437684564,
          0.9902492665119011,
          0.995358276938806,
          -0.3609097311021256,
          -0.8462895865163238,
          2.02343599829043,
          -1.9395551757350018,
          -0.09964614142319132,
          -0.6415266032082034,
          0.09126807042650653,
          -0.7604286997610876,
          -1.4705671870066,
          -1.7726401934108293,
          0.7123922422852348,
          0.8179562452087664,
          0.1397851465613479,
          -1.1900951296743383,
          1.3545683824031913,
          -0.9862518332678586,
          0.07713600519368458,
          0.9665930002866592,
          -0.8836743785929374,
          0.031183626981489555,
          -0.4541590764346655,
          -0.3059995675381995,
          -0.31819475456499857,
          -0.829947107638954,
          0.5502331119843076,
          -2.2427912701229795,
          0.9643634596297002,
          0.4082628205500436,
          -0.472746067463226,
          0.15807422758994447,
          -1.2478598233983356,
          0.9421325113086404,
          0.07985387835658049,
          1.377428942663169,
          -0.17424251486922068,
          -0.8619395928622705,
          -0.7438063014346141,
          1.0724948530588314,
          -0.2917142520456285,
          -0.4723161335846429
         ],
         "yaxis": "y2"
        },
        {
         "line": {
          "color": "rgba(128, 128, 128, 1.0)",
          "dash": "solid",
          "shape": "linear",
          "width": 1.3
         },
         "marker": {
          "size": 2,
          "symbol": "circle"
         },
         "mode": "markers",
         "name": "A",
         "text": "",
         "type": "scatter",
         "x": [
          -0.26746978994900555,
          2.3564687792981025,
          0.9181394123452596,
          0.6222507870671455,
          1.582638642834771,
          -0.24615722818260605,
          2.4380488659753934,
          0.9767449241238326,
          -0.2698621373104807,
          0.9744394754800235,
          -0.8225843088846546,
          -1.0368531598599837,
          2.5880721618925047,
          0.08748524044269824,
          -0.2494050612545062,
          -1.5283833204592536,
          1.1265142577492033,
          -0.8164542323621912,
          -0.3397840134675861,
          -0.010003535979367569,
          0.012291095492325934,
          -0.2959295883512938,
          1.4719794587638853,
          0.5156996984149198,
          0.9402598027304149,
          -0.6133157750171416,
          -0.3342519403060851,
          1.867659538516592,
          -0.13614359738634726,
          1.6538217851304051,
          -0.5399792444678289,
          0.8231754660788133,
          -0.6845452566505845,
          1.6315740318328997,
          0.862164461446557,
          0.3755760247132678,
          0.6269662213934344,
          -1.7017816920270734,
          1.1570783646027152,
          0.14800634363582788,
          -1.8993759579560812,
          0.3222762134504421,
          -0.07470995872587621,
          -0.024133779889820677,
          -0.12713423385337635,
          -0.585649804599596,
          1.3867501799354642,
          -1.6477621492077392,
          -1.7473889786572288,
          -0.9322736946725885,
          0.863261635570091,
          1.368550896007332,
          0.3028554107303457,
          -0.2318497635636668,
          -1.0637903210653838,
          0.8715935971481547,
          -0.666432582526232,
          -1.4978946173319956,
          0.24867008285154873,
          1.2240571933030144,
          0.19453772820828144,
          1.187496676297169,
          0.03581789845398097,
          -0.7927403128027556,
          -0.3336644452097193,
          0.019625882267146913,
          -0.9924772268740895,
          1.0001100781242585,
          0.2111278540045392,
          0.40882434546640334,
          0.13323454904917018,
          -0.33733935475835186,
          0.7774545019837307,
          0.5577021693673793,
          0.09739797345406256,
          1.5373575058155147,
          -1.5082373496248003,
          1.586501833646212,
          -0.5294725172554345,
          -0.30998298825803655,
          -0.6788919317976443,
          1.672882536865222,
          -0.6660514206113448,
          -0.9345012367390731,
          -1.4669705466958005,
          0.07035789983529755,
          -1.4032505352807945,
          1.7689111968809879,
          -0.19844344560314478,
          -0.40038193016732043,
          0.04329104181436085,
          0.40083594554201213,
          1.3119613356546358,
          -0.6827434615000966,
          -0.7185051107281525,
          0.4205631782559048,
          0.10612500333978087,
          0.5336950914526908,
          2.1507113717848303,
          1.197182568034859
         ],
         "xaxis": "x3",
         "y": [
          -1.3706341634977999,
          -0.44464357298030577,
          0.21194758281043072,
          0.12188250469054568,
          0.23109750834636394,
          -2.078611900510734,
          -1.4125718461065768,
          1.3226301173678356,
          2.210811587319438,
          0.36723881015481563,
          0.7050702807104442,
          -0.905428803606851,
          -0.7375841040593092,
          -0.4226064027471685,
          0.6645102742651933,
          -0.08735652306256615,
          -0.5813580330962289,
          0.0716254537297011,
          0.15204193295013044,
          1.2331156163625931,
          0.3672451559975761,
          -1.0078492704142434,
          -0.500538082300995,
          0.4229458212448693,
          0.6464313705076554,
          0.2139423481071675,
          0.1714393729772546,
          1.9948550663201299,
          0.4321704238991509,
          0.7392842450688996,
          0.541413784244687,
          0.31978830459683383,
          -0.017365148471931328,
          -1.0857775822469622,
          -1.193103742314076,
          1.099979033425753,
          2.2056855426999866,
          -1.6669638663240616,
          -0.08506313981755931,
          -0.02951404577227692,
          0.4881199025094287,
          -0.528706652714251,
          0.3110493410602627,
          -0.994407222597656,
          -0.28465817230024915,
          0.25556787422035,
          -1.956154522801279,
          0.3883869966365133,
          1.102046149073705,
          -0.4215054879821377,
          0.24423815726095943,
          0.4649265831057877,
          0.4866105838030112,
          0.7258641462406561,
          0.66621179780112,
          2.3012047560973246,
          0.510448614366747,
          -0.0672027437684564,
          0.9902492665119011,
          0.995358276938806,
          -0.3609097311021256,
          -0.8462895865163238,
          2.02343599829043,
          -1.9395551757350018,
          -0.09964614142319132,
          -0.6415266032082034,
          0.09126807042650653,
          -0.7604286997610876,
          -1.4705671870066,
          -1.7726401934108293,
          0.7123922422852348,
          0.8179562452087664,
          0.1397851465613479,
          -1.1900951296743383,
          1.3545683824031913,
          -0.9862518332678586,
          0.07713600519368458,
          0.9665930002866592,
          -0.8836743785929374,
          0.031183626981489555,
          -0.4541590764346655,
          -0.3059995675381995,
          -0.31819475456499857,
          -0.829947107638954,
          0.5502331119843076,
          -2.2427912701229795,
          0.9643634596297002,
          0.4082628205500436,
          -0.472746067463226,
          0.15807422758994447,
          -1.2478598233983356,
          0.9421325113086404,
          0.07985387835658049,
          1.377428942663169,
          -0.17424251486922068,
          -0.8619395928622705,
          -0.7438063014346141,
          1.0724948530588314,
          -0.2917142520456285,
          -0.4723161335846429
         ],
         "yaxis": "y3"
        },
        {
         "line": {
          "color": "rgba(128, 128, 128, 1.0)",
          "dash": "solid",
          "shape": "linear",
          "width": 1.3
         },
         "marker": {
          "size": 2,
          "symbol": "circle"
         },
         "mode": "markers",
         "name": "A",
         "text": "",
         "type": "scatter",
         "x": [
          1.270781806067053,
          0.3154408424411026,
          -0.10526839163099147,
          2.5600192582589374,
          -1.2179187621860124,
          0.37129157767021215,
          1.0967997272360106,
          0.8923144777313083,
          -1.7037498944214629,
          -0.8630606486421002,
          0.43978025816466665,
          0.4723319142191631,
          0.649963633686165,
          0.6759233746855181,
          -1.2220584534626644,
          0.4666643127321919,
          0.02807325642432011,
          0.3644860935466444,
          -0.6789619122001068,
          -1.0054305129692656,
          0.12997294444060797,
          -1.269003841081698,
          -0.9796080810237936,
          -0.3088770264156233,
          1.241467021621208,
          0.8768681493842748,
          0.038222443558742145,
          -1.4702152961513721,
          -1.444907056140843,
          -0.471464690614252,
          0.05499541973541216,
          0.029655614181858934,
          -0.31039150868855475,
          -0.35952132643763735,
          -0.2037403878719324,
          -0.5575050452693112,
          0.00809725602635568,
          1.00624432044223,
          1.0303908909005464,
          0.054511986672174356,
          0.27648536166354826,
          1.1012620363177252,
          0.9947459191271949,
          -1.6124939641984772,
          -0.08764426899411765,
          0.4118193090522227,
          -1.6536965147305271,
          2.0252771466162196,
          0.7039547188679173,
          0.8785479558955114,
          -0.30029576401389074,
          -1.2757376192226533,
          -0.01265801454794506,
          -0.5466167455347981,
          1.520503081982652,
          1.7467407388411598,
          0.2576703116948325,
          1.1977205844782886,
          -1.3511300922923384,
          -1.0772764026873447,
          0.03369331835276964,
          -0.3330535138860441,
          -0.9659005560635886,
          -0.4947752346949864,
          0.6599549626639645,
          -1.5022983391146427,
          0.384469628806515,
          -1.821500409924272,
          -0.2634662097482622,
          0.4297261846783113,
          -1.138528339160372,
          -0.44815914132312556,
          0.35984201426264883,
          0.20612245764875556,
          1.1556461873420554,
          -0.1509426981768724,
          0.7511787767048612,
          0.7442448808676135,
          0.49051853867483497,
          -0.12589218799752233,
          -0.9426270376730208,
          -0.6386623781732003,
          0.2331736856222689,
          0.3793989075617643,
          -0.7514949933361587,
          -1.1395063263361749,
          2.678874662810904,
          -0.41387971473063473,
          0.014884534437804397,
          0.19504162801801575,
          -1.9668312470895433,
          -1.8011735460987088,
          1.2357113224299532,
          -0.6143704271613246,
          0.932425234835989,
          0.6791046831283395,
          1.07047868424384,
          -2.102912433957582,
          -0.9225001532946917,
          1.5186496161278766
         ],
         "xaxis": "x4",
         "y": [
          -1.3706341634977999,
          -0.44464357298030577,
          0.21194758281043072,
          0.12188250469054568,
          0.23109750834636394,
          -2.078611900510734,
          -1.4125718461065768,
          1.3226301173678356,
          2.210811587319438,
          0.36723881015481563,
          0.7050702807104442,
          -0.905428803606851,
          -0.7375841040593092,
          -0.4226064027471685,
          0.6645102742651933,
          -0.08735652306256615,
          -0.5813580330962289,
          0.0716254537297011,
          0.15204193295013044,
          1.2331156163625931,
          0.3672451559975761,
          -1.0078492704142434,
          -0.500538082300995,
          0.4229458212448693,
          0.6464313705076554,
          0.2139423481071675,
          0.1714393729772546,
          1.9948550663201299,
          0.4321704238991509,
          0.7392842450688996,
          0.541413784244687,
          0.31978830459683383,
          -0.017365148471931328,
          -1.0857775822469622,
          -1.193103742314076,
          1.099979033425753,
          2.2056855426999866,
          -1.6669638663240616,
          -0.08506313981755931,
          -0.02951404577227692,
          0.4881199025094287,
          -0.528706652714251,
          0.3110493410602627,
          -0.994407222597656,
          -0.28465817230024915,
          0.25556787422035,
          -1.956154522801279,
          0.3883869966365133,
          1.102046149073705,
          -0.4215054879821377,
          0.24423815726095943,
          0.4649265831057877,
          0.4866105838030112,
          0.7258641462406561,
          0.66621179780112,
          2.3012047560973246,
          0.510448614366747,
          -0.0672027437684564,
          0.9902492665119011,
          0.995358276938806,
          -0.3609097311021256,
          -0.8462895865163238,
          2.02343599829043,
          -1.9395551757350018,
          -0.09964614142319132,
          -0.6415266032082034,
          0.09126807042650653,
          -0.7604286997610876,
          -1.4705671870066,
          -1.7726401934108293,
          0.7123922422852348,
          0.8179562452087664,
          0.1397851465613479,
          -1.1900951296743383,
          1.3545683824031913,
          -0.9862518332678586,
          0.07713600519368458,
          0.9665930002866592,
          -0.8836743785929374,
          0.031183626981489555,
          -0.4541590764346655,
          -0.3059995675381995,
          -0.31819475456499857,
          -0.829947107638954,
          0.5502331119843076,
          -2.2427912701229795,
          0.9643634596297002,
          0.4082628205500436,
          -0.472746067463226,
          0.15807422758994447,
          -1.2478598233983356,
          0.9421325113086404,
          0.07985387835658049,
          1.377428942663169,
          -0.17424251486922068,
          -0.8619395928622705,
          -0.7438063014346141,
          1.0724948530588314,
          -0.2917142520456285,
          -0.4723161335846429
         ],
         "yaxis": "y4"
        },
        {
         "line": {
          "color": "rgba(128, 128, 128, 1.0)",
          "dash": "solid",
          "shape": "linear",
          "width": 1.3
         },
         "marker": {
          "size": 2,
          "symbol": "circle"
         },
         "mode": "markers",
         "name": "B",
         "text": "",
         "type": "scatter",
         "x": [
          -1.3706341634977999,
          -0.44464357298030577,
          0.21194758281043072,
          0.12188250469054568,
          0.23109750834636394,
          -2.078611900510734,
          -1.4125718461065768,
          1.3226301173678356,
          2.210811587319438,
          0.36723881015481563,
          0.7050702807104442,
          -0.905428803606851,
          -0.7375841040593092,
          -0.4226064027471685,
          0.6645102742651933,
          -0.08735652306256615,
          -0.5813580330962289,
          0.0716254537297011,
          0.15204193295013044,
          1.2331156163625931,
          0.3672451559975761,
          -1.0078492704142434,
          -0.500538082300995,
          0.4229458212448693,
          0.6464313705076554,
          0.2139423481071675,
          0.1714393729772546,
          1.9948550663201299,
          0.4321704238991509,
          0.7392842450688996,
          0.541413784244687,
          0.31978830459683383,
          -0.017365148471931328,
          -1.0857775822469622,
          -1.193103742314076,
          1.099979033425753,
          2.2056855426999866,
          -1.6669638663240616,
          -0.08506313981755931,
          -0.02951404577227692,
          0.4881199025094287,
          -0.528706652714251,
          0.3110493410602627,
          -0.994407222597656,
          -0.28465817230024915,
          0.25556787422035,
          -1.956154522801279,
          0.3883869966365133,
          1.102046149073705,
          -0.4215054879821377,
          0.24423815726095943,
          0.4649265831057877,
          0.4866105838030112,
          0.7258641462406561,
          0.66621179780112,
          2.3012047560973246,
          0.510448614366747,
          -0.0672027437684564,
          0.9902492665119011,
          0.995358276938806,
          -0.3609097311021256,
          -0.8462895865163238,
          2.02343599829043,
          -1.9395551757350018,
          -0.09964614142319132,
          -0.6415266032082034,
          0.09126807042650653,
          -0.7604286997610876,
          -1.4705671870066,
          -1.7726401934108293,
          0.7123922422852348,
          0.8179562452087664,
          0.1397851465613479,
          -1.1900951296743383,
          1.3545683824031913,
          -0.9862518332678586,
          0.07713600519368458,
          0.9665930002866592,
          -0.8836743785929374,
          0.031183626981489555,
          -0.4541590764346655,
          -0.3059995675381995,
          -0.31819475456499857,
          -0.829947107638954,
          0.5502331119843076,
          -2.2427912701229795,
          0.9643634596297002,
          0.4082628205500436,
          -0.472746067463226,
          0.15807422758994447,
          -1.2478598233983356,
          0.9421325113086404,
          0.07985387835658049,
          1.377428942663169,
          -0.17424251486922068,
          -0.8619395928622705,
          -0.7438063014346141,
          1.0724948530588314,
          -0.2917142520456285,
          -0.4723161335846429
         ],
         "xaxis": "x5",
         "y": [
          -1.4196724829893959,
          0.6937772020980084,
          -0.4812846650690201,
          0.035158586908787745,
          -0.45017873068516073,
          -0.030059928365334238,
          -1.856233899690452,
          -0.5590337797075252,
          -0.5804073030280686,
          1.150854046333595,
          -0.6733858899708351,
          0.8266969326608955,
          1.7988410661820298,
          1.1778011802008324,
          0.10006808003616055,
          0.4809616447255042,
          1.287644232127595,
          1.836146110025685,
          -0.11151507322238065,
          -1.251458276052178,
          -1.4470616711917,
          0.10723640266054896,
          -0.9686962871440572,
          1.4393440412212073,
          0.13304099023488128,
          0.4908125547596066,
          0.5220823956304467,
          0.3507904194832665,
          0.2581747768061723,
          0.12205361739481664,
          -0.4198161734207942,
          -0.37561858442804985,
          -1.6277731441939807,
          1.2670489958455784,
          -0.8279945448260254,
          1.5243878128552988,
          -1.3063636827096152,
          -0.005083638785516138,
          0.5029272510206665,
          0.3076220408997537,
          -1.6764059119651478,
          -1.5851239702752005,
          -0.8117329131730747,
          -0.663458209419483,
          0.0856691449911914,
          0.3456908076693621,
          0.9819318143923648,
          -1.1238915488432348,
          0.07568901601486262,
          -0.6329608158228868,
          -0.04523711591711723,
          -0.8385342648127595,
          1.3551895570715595,
          1.1454304810086735,
          0.15400312415551504,
          0.5266222368882257,
          -1.6216902724729327,
          -1.1645414566296808,
          -1.3257935329411572,
          1.0928850861133592,
          0.4397168800217103,
          0.22162291000438433,
          -0.4214110310069617,
          1.359394341005347,
          0.755569142671456,
          -0.047668341509316696,
          1.618663837028353,
          0.07553200040376101,
          1.4332407885042495,
          -0.6812263824951286,
          0.4548067533565884,
          0.8378693195141234,
          0.7205082805758841,
          0.5173519389365746,
          0.16254471065118895,
          0.7989306048084983,
          -0.7530959571258489,
          0.792995916875926,
          -1.3084157648844408,
          -0.6948613980554555,
          -1.3657188199513584,
          -0.12912859493672632,
          1.4763979073116997,
          -1.2508979201194812,
          -0.520025141114111,
          -0.6953210758379533,
          0.5677098245114643,
          -0.2624853987239584,
          2.5523006410694515,
          0.6324875821159565,
          -0.1924944987687054,
          -0.5871756946439045,
          -0.02944436942818076,
          -1.9818632242606096,
          -1.5142323202732133,
          0.8230299179180144,
          -1.3975522801520963,
          -0.7152243646234195,
          0.34084939962171656,
          1.9520183792854542
         ],
         "yaxis": "y5"
        },
        {
         "histfunc": "count",
         "histnorm": "",
         "marker": {
          "color": "rgba(55, 128, 191, 1.0)",
          "line": {
           "color": "#4D5663",
           "width": 1.3
          }
         },
         "name": "B",
         "nbinsx": 10,
         "opacity": 0.8,
         "orientation": "v",
         "type": "histogram",
         "x": [
          -1.4196724829893959,
          0.6937772020980084,
          -0.4812846650690201,
          0.035158586908787745,
          -0.45017873068516073,
          -0.030059928365334238,
          -1.856233899690452,
          -0.5590337797075252,
          -0.5804073030280686,
          1.150854046333595,
          -0.6733858899708351,
          0.8266969326608955,
          1.7988410661820298,
          1.1778011802008324,
          0.10006808003616055,
          0.4809616447255042,
          1.287644232127595,
          1.836146110025685,
          -0.11151507322238065,
          -1.251458276052178,
          -1.4470616711917,
          0.10723640266054896,
          -0.9686962871440572,
          1.4393440412212073,
          0.13304099023488128,
          0.4908125547596066,
          0.5220823956304467,
          0.3507904194832665,
          0.2581747768061723,
          0.12205361739481664,
          -0.4198161734207942,
          -0.37561858442804985,
          -1.6277731441939807,
          1.2670489958455784,
          -0.8279945448260254,
          1.5243878128552988,
          -1.3063636827096152,
          -0.005083638785516138,
          0.5029272510206665,
          0.3076220408997537,
          -1.6764059119651478,
          -1.5851239702752005,
          -0.8117329131730747,
          -0.663458209419483,
          0.0856691449911914,
          0.3456908076693621,
          0.9819318143923648,
          -1.1238915488432348,
          0.07568901601486262,
          -0.6329608158228868,
          -0.04523711591711723,
          -0.8385342648127595,
          1.3551895570715595,
          1.1454304810086735,
          0.15400312415551504,
          0.5266222368882257,
          -1.6216902724729327,
          -1.1645414566296808,
          -1.3257935329411572,
          1.0928850861133592,
          0.4397168800217103,
          0.22162291000438433,
          -0.4214110310069617,
          1.359394341005347,
          0.755569142671456,
          -0.047668341509316696,
          1.618663837028353,
          0.07553200040376101,
          1.4332407885042495,
          -0.6812263824951286,
          0.4548067533565884,
          0.8378693195141234,
          0.7205082805758841,
          0.5173519389365746,
          0.16254471065118895,
          0.7989306048084983,
          -0.7530959571258489,
          0.792995916875926,
          -1.3084157648844408,
          -0.6948613980554555,
          -1.3657188199513584,
          -0.12912859493672632,
          1.4763979073116997,
          -1.2508979201194812,
          -0.520025141114111,
          -0.6953210758379533,
          0.5677098245114643,
          -0.2624853987239584,
          2.5523006410694515,
          0.6324875821159565,
          -0.1924944987687054,
          -0.5871756946439045,
          -0.02944436942818076,
          -1.9818632242606096,
          -1.5142323202732133,
          0.8230299179180144,
          -1.3975522801520963,
          -0.7152243646234195,
          0.34084939962171656,
          1.9520183792854542
         ],
         "xaxis": "x6",
         "yaxis": "y6"
        },
        {
         "line": {
          "color": "rgba(128, 128, 128, 1.0)",
          "dash": "solid",
          "shape": "linear",
          "width": 1.3
         },
         "marker": {
          "size": 2,
          "symbol": "circle"
         },
         "mode": "markers",
         "name": "B",
         "text": "",
         "type": "scatter",
         "x": [
          -0.26746978994900555,
          2.3564687792981025,
          0.9181394123452596,
          0.6222507870671455,
          1.582638642834771,
          -0.24615722818260605,
          2.4380488659753934,
          0.9767449241238326,
          -0.2698621373104807,
          0.9744394754800235,
          -0.8225843088846546,
          -1.0368531598599837,
          2.5880721618925047,
          0.08748524044269824,
          -0.2494050612545062,
          -1.5283833204592536,
          1.1265142577492033,
          -0.8164542323621912,
          -0.3397840134675861,
          -0.010003535979367569,
          0.012291095492325934,
          -0.2959295883512938,
          1.4719794587638853,
          0.5156996984149198,
          0.9402598027304149,
          -0.6133157750171416,
          -0.3342519403060851,
          1.867659538516592,
          -0.13614359738634726,
          1.6538217851304051,
          -0.5399792444678289,
          0.8231754660788133,
          -0.6845452566505845,
          1.6315740318328997,
          0.862164461446557,
          0.3755760247132678,
          0.6269662213934344,
          -1.7017816920270734,
          1.1570783646027152,
          0.14800634363582788,
          -1.8993759579560812,
          0.3222762134504421,
          -0.07470995872587621,
          -0.024133779889820677,
          -0.12713423385337635,
          -0.585649804599596,
          1.3867501799354642,
          -1.6477621492077392,
          -1.7473889786572288,
          -0.9322736946725885,
          0.863261635570091,
          1.368550896007332,
          0.3028554107303457,
          -0.2318497635636668,
          -1.0637903210653838,
          0.8715935971481547,
          -0.666432582526232,
          -1.4978946173319956,
          0.24867008285154873,
          1.2240571933030144,
          0.19453772820828144,
          1.187496676297169,
          0.03581789845398097,
          -0.7927403128027556,
          -0.3336644452097193,
          0.019625882267146913,
          -0.9924772268740895,
          1.0001100781242585,
          0.2111278540045392,
          0.40882434546640334,
          0.13323454904917018,
          -0.33733935475835186,
          0.7774545019837307,
          0.5577021693673793,
          0.09739797345406256,
          1.5373575058155147,
          -1.5082373496248003,
          1.586501833646212,
          -0.5294725172554345,
          -0.30998298825803655,
          -0.6788919317976443,
          1.672882536865222,
          -0.6660514206113448,
          -0.9345012367390731,
          -1.4669705466958005,
          0.07035789983529755,
          -1.4032505352807945,
          1.7689111968809879,
          -0.19844344560314478,
          -0.40038193016732043,
          0.04329104181436085,
          0.40083594554201213,
          1.3119613356546358,
          -0.6827434615000966,
          -0.7185051107281525,
          0.4205631782559048,
          0.10612500333978087,
          0.5336950914526908,
          2.1507113717848303,
          1.197182568034859
         ],
         "xaxis": "x7",
         "y": [
          -1.4196724829893959,
          0.6937772020980084,
          -0.4812846650690201,
          0.035158586908787745,
          -0.45017873068516073,
          -0.030059928365334238,
          -1.856233899690452,
          -0.5590337797075252,
          -0.5804073030280686,
          1.150854046333595,
          -0.6733858899708351,
          0.8266969326608955,
          1.7988410661820298,
          1.1778011802008324,
          0.10006808003616055,
          0.4809616447255042,
          1.287644232127595,
          1.836146110025685,
          -0.11151507322238065,
          -1.251458276052178,
          -1.4470616711917,
          0.10723640266054896,
          -0.9686962871440572,
          1.4393440412212073,
          0.13304099023488128,
          0.4908125547596066,
          0.5220823956304467,
          0.3507904194832665,
          0.2581747768061723,
          0.12205361739481664,
          -0.4198161734207942,
          -0.37561858442804985,
          -1.6277731441939807,
          1.2670489958455784,
          -0.8279945448260254,
          1.5243878128552988,
          -1.3063636827096152,
          -0.005083638785516138,
          0.5029272510206665,
          0.3076220408997537,
          -1.6764059119651478,
          -1.5851239702752005,
          -0.8117329131730747,
          -0.663458209419483,
          0.0856691449911914,
          0.3456908076693621,
          0.9819318143923648,
          -1.1238915488432348,
          0.07568901601486262,
          -0.6329608158228868,
          -0.04523711591711723,
          -0.8385342648127595,
          1.3551895570715595,
          1.1454304810086735,
          0.15400312415551504,
          0.5266222368882257,
          -1.6216902724729327,
          -1.1645414566296808,
          -1.3257935329411572,
          1.0928850861133592,
          0.4397168800217103,
          0.22162291000438433,
          -0.4214110310069617,
          1.359394341005347,
          0.755569142671456,
          -0.047668341509316696,
          1.618663837028353,
          0.07553200040376101,
          1.4332407885042495,
          -0.6812263824951286,
          0.4548067533565884,
          0.8378693195141234,
          0.7205082805758841,
          0.5173519389365746,
          0.16254471065118895,
          0.7989306048084983,
          -0.7530959571258489,
          0.792995916875926,
          -1.3084157648844408,
          -0.6948613980554555,
          -1.3657188199513584,
          -0.12912859493672632,
          1.4763979073116997,
          -1.2508979201194812,
          -0.520025141114111,
          -0.6953210758379533,
          0.5677098245114643,
          -0.2624853987239584,
          2.5523006410694515,
          0.6324875821159565,
          -0.1924944987687054,
          -0.5871756946439045,
          -0.02944436942818076,
          -1.9818632242606096,
          -1.5142323202732133,
          0.8230299179180144,
          -1.3975522801520963,
          -0.7152243646234195,
          0.34084939962171656,
          1.9520183792854542
         ],
         "yaxis": "y7"
        },
        {
         "line": {
          "color": "rgba(128, 128, 128, 1.0)",
          "dash": "solid",
          "shape": "linear",
          "width": 1.3
         },
         "marker": {
          "size": 2,
          "symbol": "circle"
         },
         "mode": "markers",
         "name": "B",
         "text": "",
         "type": "scatter",
         "x": [
          1.270781806067053,
          0.3154408424411026,
          -0.10526839163099147,
          2.5600192582589374,
          -1.2179187621860124,
          0.37129157767021215,
          1.0967997272360106,
          0.8923144777313083,
          -1.7037498944214629,
          -0.8630606486421002,
          0.43978025816466665,
          0.4723319142191631,
          0.649963633686165,
          0.6759233746855181,
          -1.2220584534626644,
          0.4666643127321919,
          0.02807325642432011,
          0.3644860935466444,
          -0.6789619122001068,
          -1.0054305129692656,
          0.12997294444060797,
          -1.269003841081698,
          -0.9796080810237936,
          -0.3088770264156233,
          1.241467021621208,
          0.8768681493842748,
          0.038222443558742145,
          -1.4702152961513721,
          -1.444907056140843,
          -0.471464690614252,
          0.05499541973541216,
          0.029655614181858934,
          -0.31039150868855475,
          -0.35952132643763735,
          -0.2037403878719324,
          -0.5575050452693112,
          0.00809725602635568,
          1.00624432044223,
          1.0303908909005464,
          0.054511986672174356,
          0.27648536166354826,
          1.1012620363177252,
          0.9947459191271949,
          -1.6124939641984772,
          -0.08764426899411765,
          0.4118193090522227,
          -1.6536965147305271,
          2.0252771466162196,
          0.7039547188679173,
          0.8785479558955114,
          -0.30029576401389074,
          -1.2757376192226533,
          -0.01265801454794506,
          -0.5466167455347981,
          1.520503081982652,
          1.7467407388411598,
          0.2576703116948325,
          1.1977205844782886,
          -1.3511300922923384,
          -1.0772764026873447,
          0.03369331835276964,
          -0.3330535138860441,
          -0.9659005560635886,
          -0.4947752346949864,
          0.6599549626639645,
          -1.5022983391146427,
          0.384469628806515,
          -1.821500409924272,
          -0.2634662097482622,
          0.4297261846783113,
          -1.138528339160372,
          -0.44815914132312556,
          0.35984201426264883,
          0.20612245764875556,
          1.1556461873420554,
          -0.1509426981768724,
          0.7511787767048612,
          0.7442448808676135,
          0.49051853867483497,
          -0.12589218799752233,
          -0.9426270376730208,
          -0.6386623781732003,
          0.2331736856222689,
          0.3793989075617643,
          -0.7514949933361587,
          -1.1395063263361749,
          2.678874662810904,
          -0.41387971473063473,
          0.014884534437804397,
          0.19504162801801575,
          -1.9668312470895433,
          -1.8011735460987088,
          1.2357113224299532,
          -0.6143704271613246,
          0.932425234835989,
          0.6791046831283395,
          1.07047868424384,
          -2.102912433957582,
          -0.9225001532946917,
          1.5186496161278766
         ],
         "xaxis": "x8",
         "y": [
          -1.4196724829893959,
          0.6937772020980084,
          -0.4812846650690201,
          0.035158586908787745,
          -0.45017873068516073,
          -0.030059928365334238,
          -1.856233899690452,
          -0.5590337797075252,
          -0.5804073030280686,
          1.150854046333595,
          -0.6733858899708351,
          0.8266969326608955,
          1.7988410661820298,
          1.1778011802008324,
          0.10006808003616055,
          0.4809616447255042,
          1.287644232127595,
          1.836146110025685,
          -0.11151507322238065,
          -1.251458276052178,
          -1.4470616711917,
          0.10723640266054896,
          -0.9686962871440572,
          1.4393440412212073,
          0.13304099023488128,
          0.4908125547596066,
          0.5220823956304467,
          0.3507904194832665,
          0.2581747768061723,
          0.12205361739481664,
          -0.4198161734207942,
          -0.37561858442804985,
          -1.6277731441939807,
          1.2670489958455784,
          -0.8279945448260254,
          1.5243878128552988,
          -1.3063636827096152,
          -0.005083638785516138,
          0.5029272510206665,
          0.3076220408997537,
          -1.6764059119651478,
          -1.5851239702752005,
          -0.8117329131730747,
          -0.663458209419483,
          0.0856691449911914,
          0.3456908076693621,
          0.9819318143923648,
          -1.1238915488432348,
          0.07568901601486262,
          -0.6329608158228868,
          -0.04523711591711723,
          -0.8385342648127595,
          1.3551895570715595,
          1.1454304810086735,
          0.15400312415551504,
          0.5266222368882257,
          -1.6216902724729327,
          -1.1645414566296808,
          -1.3257935329411572,
          1.0928850861133592,
          0.4397168800217103,
          0.22162291000438433,
          -0.4214110310069617,
          1.359394341005347,
          0.755569142671456,
          -0.047668341509316696,
          1.618663837028353,
          0.07553200040376101,
          1.4332407885042495,
          -0.6812263824951286,
          0.4548067533565884,
          0.8378693195141234,
          0.7205082805758841,
          0.5173519389365746,
          0.16254471065118895,
          0.7989306048084983,
          -0.7530959571258489,
          0.792995916875926,
          -1.3084157648844408,
          -0.6948613980554555,
          -1.3657188199513584,
          -0.12912859493672632,
          1.4763979073116997,
          -1.2508979201194812,
          -0.520025141114111,
          -0.6953210758379533,
          0.5677098245114643,
          -0.2624853987239584,
          2.5523006410694515,
          0.6324875821159565,
          -0.1924944987687054,
          -0.5871756946439045,
          -0.02944436942818076,
          -1.9818632242606096,
          -1.5142323202732133,
          0.8230299179180144,
          -1.3975522801520963,
          -0.7152243646234195,
          0.34084939962171656,
          1.9520183792854542
         ],
         "yaxis": "y8"
        },
        {
         "line": {
          "color": "rgba(128, 128, 128, 1.0)",
          "dash": "solid",
          "shape": "linear",
          "width": 1.3
         },
         "marker": {
          "size": 2,
          "symbol": "circle"
         },
         "mode": "markers",
         "name": "C",
         "text": "",
         "type": "scatter",
         "x": [
          -1.3706341634977999,
          -0.44464357298030577,
          0.21194758281043072,
          0.12188250469054568,
          0.23109750834636394,
          -2.078611900510734,
          -1.4125718461065768,
          1.3226301173678356,
          2.210811587319438,
          0.36723881015481563,
          0.7050702807104442,
          -0.905428803606851,
          -0.7375841040593092,
          -0.4226064027471685,
          0.6645102742651933,
          -0.08735652306256615,
          -0.5813580330962289,
          0.0716254537297011,
          0.15204193295013044,
          1.2331156163625931,
          0.3672451559975761,
          -1.0078492704142434,
          -0.500538082300995,
          0.4229458212448693,
          0.6464313705076554,
          0.2139423481071675,
          0.1714393729772546,
          1.9948550663201299,
          0.4321704238991509,
          0.7392842450688996,
          0.541413784244687,
          0.31978830459683383,
          -0.017365148471931328,
          -1.0857775822469622,
          -1.193103742314076,
          1.099979033425753,
          2.2056855426999866,
          -1.6669638663240616,
          -0.08506313981755931,
          -0.02951404577227692,
          0.4881199025094287,
          -0.528706652714251,
          0.3110493410602627,
          -0.994407222597656,
          -0.28465817230024915,
          0.25556787422035,
          -1.956154522801279,
          0.3883869966365133,
          1.102046149073705,
          -0.4215054879821377,
          0.24423815726095943,
          0.4649265831057877,
          0.4866105838030112,
          0.7258641462406561,
          0.66621179780112,
          2.3012047560973246,
          0.510448614366747,
          -0.0672027437684564,
          0.9902492665119011,
          0.995358276938806,
          -0.3609097311021256,
          -0.8462895865163238,
          2.02343599829043,
          -1.9395551757350018,
          -0.09964614142319132,
          -0.6415266032082034,
          0.09126807042650653,
          -0.7604286997610876,
          -1.4705671870066,
          -1.7726401934108293,
          0.7123922422852348,
          0.8179562452087664,
          0.1397851465613479,
          -1.1900951296743383,
          1.3545683824031913,
          -0.9862518332678586,
          0.07713600519368458,
          0.9665930002866592,
          -0.8836743785929374,
          0.031183626981489555,
          -0.4541590764346655,
          -0.3059995675381995,
          -0.31819475456499857,
          -0.829947107638954,
          0.5502331119843076,
          -2.2427912701229795,
          0.9643634596297002,
          0.4082628205500436,
          -0.472746067463226,
          0.15807422758994447,
          -1.2478598233983356,
          0.9421325113086404,
          0.07985387835658049,
          1.377428942663169,
          -0.17424251486922068,
          -0.8619395928622705,
          -0.7438063014346141,
          1.0724948530588314,
          -0.2917142520456285,
          -0.4723161335846429
         ],
         "xaxis": "x9",
         "y": [
          -0.26746978994900555,
          2.3564687792981025,
          0.9181394123452596,
          0.6222507870671455,
          1.582638642834771,
          -0.24615722818260605,
          2.4380488659753934,
          0.9767449241238326,
          -0.2698621373104807,
          0.9744394754800235,
          -0.8225843088846546,
          -1.0368531598599837,
          2.5880721618925047,
          0.08748524044269824,
          -0.2494050612545062,
          -1.5283833204592536,
          1.1265142577492033,
          -0.8164542323621912,
          -0.3397840134675861,
          -0.010003535979367569,
          0.012291095492325934,
          -0.2959295883512938,
          1.4719794587638853,
          0.5156996984149198,
          0.9402598027304149,
          -0.6133157750171416,
          -0.3342519403060851,
          1.867659538516592,
          -0.13614359738634726,
          1.6538217851304051,
          -0.5399792444678289,
          0.8231754660788133,
          -0.6845452566505845,
          1.6315740318328997,
          0.862164461446557,
          0.3755760247132678,
          0.6269662213934344,
          -1.7017816920270734,
          1.1570783646027152,
          0.14800634363582788,
          -1.8993759579560812,
          0.3222762134504421,
          -0.07470995872587621,
          -0.024133779889820677,
          -0.12713423385337635,
          -0.585649804599596,
          1.3867501799354642,
          -1.6477621492077392,
          -1.7473889786572288,
          -0.9322736946725885,
          0.863261635570091,
          1.368550896007332,
          0.3028554107303457,
          -0.2318497635636668,
          -1.0637903210653838,
          0.8715935971481547,
          -0.666432582526232,
          -1.4978946173319956,
          0.24867008285154873,
          1.2240571933030144,
          0.19453772820828144,
          1.187496676297169,
          0.03581789845398097,
          -0.7927403128027556,
          -0.3336644452097193,
          0.019625882267146913,
          -0.9924772268740895,
          1.0001100781242585,
          0.2111278540045392,
          0.40882434546640334,
          0.13323454904917018,
          -0.33733935475835186,
          0.7774545019837307,
          0.5577021693673793,
          0.09739797345406256,
          1.5373575058155147,
          -1.5082373496248003,
          1.586501833646212,
          -0.5294725172554345,
          -0.30998298825803655,
          -0.6788919317976443,
          1.672882536865222,
          -0.6660514206113448,
          -0.9345012367390731,
          -1.4669705466958005,
          0.07035789983529755,
          -1.4032505352807945,
          1.7689111968809879,
          -0.19844344560314478,
          -0.40038193016732043,
          0.04329104181436085,
          0.40083594554201213,
          1.3119613356546358,
          -0.6827434615000966,
          -0.7185051107281525,
          0.4205631782559048,
          0.10612500333978087,
          0.5336950914526908,
          2.1507113717848303,
          1.197182568034859
         ],
         "yaxis": "y9"
        },
        {
         "line": {
          "color": "rgba(128, 128, 128, 1.0)",
          "dash": "solid",
          "shape": "linear",
          "width": 1.3
         },
         "marker": {
          "size": 2,
          "symbol": "circle"
         },
         "mode": "markers",
         "name": "C",
         "text": "",
         "type": "scatter",
         "x": [
          -1.4196724829893959,
          0.6937772020980084,
          -0.4812846650690201,
          0.035158586908787745,
          -0.45017873068516073,
          -0.030059928365334238,
          -1.856233899690452,
          -0.5590337797075252,
          -0.5804073030280686,
          1.150854046333595,
          -0.6733858899708351,
          0.8266969326608955,
          1.7988410661820298,
          1.1778011802008324,
          0.10006808003616055,
          0.4809616447255042,
          1.287644232127595,
          1.836146110025685,
          -0.11151507322238065,
          -1.251458276052178,
          -1.4470616711917,
          0.10723640266054896,
          -0.9686962871440572,
          1.4393440412212073,
          0.13304099023488128,
          0.4908125547596066,
          0.5220823956304467,
          0.3507904194832665,
          0.2581747768061723,
          0.12205361739481664,
          -0.4198161734207942,
          -0.37561858442804985,
          -1.6277731441939807,
          1.2670489958455784,
          -0.8279945448260254,
          1.5243878128552988,
          -1.3063636827096152,
          -0.005083638785516138,
          0.5029272510206665,
          0.3076220408997537,
          -1.6764059119651478,
          -1.5851239702752005,
          -0.8117329131730747,
          -0.663458209419483,
          0.0856691449911914,
          0.3456908076693621,
          0.9819318143923648,
          -1.1238915488432348,
          0.07568901601486262,
          -0.6329608158228868,
          -0.04523711591711723,
          -0.8385342648127595,
          1.3551895570715595,
          1.1454304810086735,
          0.15400312415551504,
          0.5266222368882257,
          -1.6216902724729327,
          -1.1645414566296808,
          -1.3257935329411572,
          1.0928850861133592,
          0.4397168800217103,
          0.22162291000438433,
          -0.4214110310069617,
          1.359394341005347,
          0.755569142671456,
          -0.047668341509316696,
          1.618663837028353,
          0.07553200040376101,
          1.4332407885042495,
          -0.6812263824951286,
          0.4548067533565884,
          0.8378693195141234,
          0.7205082805758841,
          0.5173519389365746,
          0.16254471065118895,
          0.7989306048084983,
          -0.7530959571258489,
          0.792995916875926,
          -1.3084157648844408,
          -0.6948613980554555,
          -1.3657188199513584,
          -0.12912859493672632,
          1.4763979073116997,
          -1.2508979201194812,
          -0.520025141114111,
          -0.6953210758379533,
          0.5677098245114643,
          -0.2624853987239584,
          2.5523006410694515,
          0.6324875821159565,
          -0.1924944987687054,
          -0.5871756946439045,
          -0.02944436942818076,
          -1.9818632242606096,
          -1.5142323202732133,
          0.8230299179180144,
          -1.3975522801520963,
          -0.7152243646234195,
          0.34084939962171656,
          1.9520183792854542
         ],
         "xaxis": "x10",
         "y": [
          -0.26746978994900555,
          2.3564687792981025,
          0.9181394123452596,
          0.6222507870671455,
          1.582638642834771,
          -0.24615722818260605,
          2.4380488659753934,
          0.9767449241238326,
          -0.2698621373104807,
          0.9744394754800235,
          -0.8225843088846546,
          -1.0368531598599837,
          2.5880721618925047,
          0.08748524044269824,
          -0.2494050612545062,
          -1.5283833204592536,
          1.1265142577492033,
          -0.8164542323621912,
          -0.3397840134675861,
          -0.010003535979367569,
          0.012291095492325934,
          -0.2959295883512938,
          1.4719794587638853,
          0.5156996984149198,
          0.9402598027304149,
          -0.6133157750171416,
          -0.3342519403060851,
          1.867659538516592,
          -0.13614359738634726,
          1.6538217851304051,
          -0.5399792444678289,
          0.8231754660788133,
          -0.6845452566505845,
          1.6315740318328997,
          0.862164461446557,
          0.3755760247132678,
          0.6269662213934344,
          -1.7017816920270734,
          1.1570783646027152,
          0.14800634363582788,
          -1.8993759579560812,
          0.3222762134504421,
          -0.07470995872587621,
          -0.024133779889820677,
          -0.12713423385337635,
          -0.585649804599596,
          1.3867501799354642,
          -1.6477621492077392,
          -1.7473889786572288,
          -0.9322736946725885,
          0.863261635570091,
          1.368550896007332,
          0.3028554107303457,
          -0.2318497635636668,
          -1.0637903210653838,
          0.8715935971481547,
          -0.666432582526232,
          -1.4978946173319956,
          0.24867008285154873,
          1.2240571933030144,
          0.19453772820828144,
          1.187496676297169,
          0.03581789845398097,
          -0.7927403128027556,
          -0.3336644452097193,
          0.019625882267146913,
          -0.9924772268740895,
          1.0001100781242585,
          0.2111278540045392,
          0.40882434546640334,
          0.13323454904917018,
          -0.33733935475835186,
          0.7774545019837307,
          0.5577021693673793,
          0.09739797345406256,
          1.5373575058155147,
          -1.5082373496248003,
          1.586501833646212,
          -0.5294725172554345,
          -0.30998298825803655,
          -0.6788919317976443,
          1.672882536865222,
          -0.6660514206113448,
          -0.9345012367390731,
          -1.4669705466958005,
          0.07035789983529755,
          -1.4032505352807945,
          1.7689111968809879,
          -0.19844344560314478,
          -0.40038193016732043,
          0.04329104181436085,
          0.40083594554201213,
          1.3119613356546358,
          -0.6827434615000966,
          -0.7185051107281525,
          0.4205631782559048,
          0.10612500333978087,
          0.5336950914526908,
          2.1507113717848303,
          1.197182568034859
         ],
         "yaxis": "y10"
        },
        {
         "histfunc": "count",
         "histnorm": "",
         "marker": {
          "color": "rgba(50, 171, 96, 1.0)",
          "line": {
           "color": "#4D5663",
           "width": 1.3
          }
         },
         "name": "C",
         "nbinsx": 10,
         "opacity": 0.8,
         "orientation": "v",
         "type": "histogram",
         "x": [
          -0.26746978994900555,
          2.3564687792981025,
          0.9181394123452596,
          0.6222507870671455,
          1.582638642834771,
          -0.24615722818260605,
          2.4380488659753934,
          0.9767449241238326,
          -0.2698621373104807,
          0.9744394754800235,
          -0.8225843088846546,
          -1.0368531598599837,
          2.5880721618925047,
          0.08748524044269824,
          -0.2494050612545062,
          -1.5283833204592536,
          1.1265142577492033,
          -0.8164542323621912,
          -0.3397840134675861,
          -0.010003535979367569,
          0.012291095492325934,
          -0.2959295883512938,
          1.4719794587638853,
          0.5156996984149198,
          0.9402598027304149,
          -0.6133157750171416,
          -0.3342519403060851,
          1.867659538516592,
          -0.13614359738634726,
          1.6538217851304051,
          -0.5399792444678289,
          0.8231754660788133,
          -0.6845452566505845,
          1.6315740318328997,
          0.862164461446557,
          0.3755760247132678,
          0.6269662213934344,
          -1.7017816920270734,
          1.1570783646027152,
          0.14800634363582788,
          -1.8993759579560812,
          0.3222762134504421,
          -0.07470995872587621,
          -0.024133779889820677,
          -0.12713423385337635,
          -0.585649804599596,
          1.3867501799354642,
          -1.6477621492077392,
          -1.7473889786572288,
          -0.9322736946725885,
          0.863261635570091,
          1.368550896007332,
          0.3028554107303457,
          -0.2318497635636668,
          -1.0637903210653838,
          0.8715935971481547,
          -0.666432582526232,
          -1.4978946173319956,
          0.24867008285154873,
          1.2240571933030144,
          0.19453772820828144,
          1.187496676297169,
          0.03581789845398097,
          -0.7927403128027556,
          -0.3336644452097193,
          0.019625882267146913,
          -0.9924772268740895,
          1.0001100781242585,
          0.2111278540045392,
          0.40882434546640334,
          0.13323454904917018,
          -0.33733935475835186,
          0.7774545019837307,
          0.5577021693673793,
          0.09739797345406256,
          1.5373575058155147,
          -1.5082373496248003,
          1.586501833646212,
          -0.5294725172554345,
          -0.30998298825803655,
          -0.6788919317976443,
          1.672882536865222,
          -0.6660514206113448,
          -0.9345012367390731,
          -1.4669705466958005,
          0.07035789983529755,
          -1.4032505352807945,
          1.7689111968809879,
          -0.19844344560314478,
          -0.40038193016732043,
          0.04329104181436085,
          0.40083594554201213,
          1.3119613356546358,
          -0.6827434615000966,
          -0.7185051107281525,
          0.4205631782559048,
          0.10612500333978087,
          0.5336950914526908,
          2.1507113717848303,
          1.197182568034859
         ],
         "xaxis": "x11",
         "yaxis": "y11"
        },
        {
         "line": {
          "color": "rgba(128, 128, 128, 1.0)",
          "dash": "solid",
          "shape": "linear",
          "width": 1.3
         },
         "marker": {
          "size": 2,
          "symbol": "circle"
         },
         "mode": "markers",
         "name": "C",
         "text": "",
         "type": "scatter",
         "x": [
          1.270781806067053,
          0.3154408424411026,
          -0.10526839163099147,
          2.5600192582589374,
          -1.2179187621860124,
          0.37129157767021215,
          1.0967997272360106,
          0.8923144777313083,
          -1.7037498944214629,
          -0.8630606486421002,
          0.43978025816466665,
          0.4723319142191631,
          0.649963633686165,
          0.6759233746855181,
          -1.2220584534626644,
          0.4666643127321919,
          0.02807325642432011,
          0.3644860935466444,
          -0.6789619122001068,
          -1.0054305129692656,
          0.12997294444060797,
          -1.269003841081698,
          -0.9796080810237936,
          -0.3088770264156233,
          1.241467021621208,
          0.8768681493842748,
          0.038222443558742145,
          -1.4702152961513721,
          -1.444907056140843,
          -0.471464690614252,
          0.05499541973541216,
          0.029655614181858934,
          -0.31039150868855475,
          -0.35952132643763735,
          -0.2037403878719324,
          -0.5575050452693112,
          0.00809725602635568,
          1.00624432044223,
          1.0303908909005464,
          0.054511986672174356,
          0.27648536166354826,
          1.1012620363177252,
          0.9947459191271949,
          -1.6124939641984772,
          -0.08764426899411765,
          0.4118193090522227,
          -1.6536965147305271,
          2.0252771466162196,
          0.7039547188679173,
          0.8785479558955114,
          -0.30029576401389074,
          -1.2757376192226533,
          -0.01265801454794506,
          -0.5466167455347981,
          1.520503081982652,
          1.7467407388411598,
          0.2576703116948325,
          1.1977205844782886,
          -1.3511300922923384,
          -1.0772764026873447,
          0.03369331835276964,
          -0.3330535138860441,
          -0.9659005560635886,
          -0.4947752346949864,
          0.6599549626639645,
          -1.5022983391146427,
          0.384469628806515,
          -1.821500409924272,
          -0.2634662097482622,
          0.4297261846783113,
          -1.138528339160372,
          -0.44815914132312556,
          0.35984201426264883,
          0.20612245764875556,
          1.1556461873420554,
          -0.1509426981768724,
          0.7511787767048612,
          0.7442448808676135,
          0.49051853867483497,
          -0.12589218799752233,
          -0.9426270376730208,
          -0.6386623781732003,
          0.2331736856222689,
          0.3793989075617643,
          -0.7514949933361587,
          -1.1395063263361749,
          2.678874662810904,
          -0.41387971473063473,
          0.014884534437804397,
          0.19504162801801575,
          -1.9668312470895433,
          -1.8011735460987088,
          1.2357113224299532,
          -0.6143704271613246,
          0.932425234835989,
          0.6791046831283395,
          1.07047868424384,
          -2.102912433957582,
          -0.9225001532946917,
          1.5186496161278766
         ],
         "xaxis": "x12",
         "y": [
          -0.26746978994900555,
          2.3564687792981025,
          0.9181394123452596,
          0.6222507870671455,
          1.582638642834771,
          -0.24615722818260605,
          2.4380488659753934,
          0.9767449241238326,
          -0.2698621373104807,
          0.9744394754800235,
          -0.8225843088846546,
          -1.0368531598599837,
          2.5880721618925047,
          0.08748524044269824,
          -0.2494050612545062,
          -1.5283833204592536,
          1.1265142577492033,
          -0.8164542323621912,
          -0.3397840134675861,
          -0.010003535979367569,
          0.012291095492325934,
          -0.2959295883512938,
          1.4719794587638853,
          0.5156996984149198,
          0.9402598027304149,
          -0.6133157750171416,
          -0.3342519403060851,
          1.867659538516592,
          -0.13614359738634726,
          1.6538217851304051,
          -0.5399792444678289,
          0.8231754660788133,
          -0.6845452566505845,
          1.6315740318328997,
          0.862164461446557,
          0.3755760247132678,
          0.6269662213934344,
          -1.7017816920270734,
          1.1570783646027152,
          0.14800634363582788,
          -1.8993759579560812,
          0.3222762134504421,
          -0.07470995872587621,
          -0.024133779889820677,
          -0.12713423385337635,
          -0.585649804599596,
          1.3867501799354642,
          -1.6477621492077392,
          -1.7473889786572288,
          -0.9322736946725885,
          0.863261635570091,
          1.368550896007332,
          0.3028554107303457,
          -0.2318497635636668,
          -1.0637903210653838,
          0.8715935971481547,
          -0.666432582526232,
          -1.4978946173319956,
          0.24867008285154873,
          1.2240571933030144,
          0.19453772820828144,
          1.187496676297169,
          0.03581789845398097,
          -0.7927403128027556,
          -0.3336644452097193,
          0.019625882267146913,
          -0.9924772268740895,
          1.0001100781242585,
          0.2111278540045392,
          0.40882434546640334,
          0.13323454904917018,
          -0.33733935475835186,
          0.7774545019837307,
          0.5577021693673793,
          0.09739797345406256,
          1.5373575058155147,
          -1.5082373496248003,
          1.586501833646212,
          -0.5294725172554345,
          -0.30998298825803655,
          -0.6788919317976443,
          1.672882536865222,
          -0.6660514206113448,
          -0.9345012367390731,
          -1.4669705466958005,
          0.07035789983529755,
          -1.4032505352807945,
          1.7689111968809879,
          -0.19844344560314478,
          -0.40038193016732043,
          0.04329104181436085,
          0.40083594554201213,
          1.3119613356546358,
          -0.6827434615000966,
          -0.7185051107281525,
          0.4205631782559048,
          0.10612500333978087,
          0.5336950914526908,
          2.1507113717848303,
          1.197182568034859
         ],
         "yaxis": "y12"
        },
        {
         "line": {
          "color": "rgba(128, 128, 128, 1.0)",
          "dash": "solid",
          "shape": "linear",
          "width": 1.3
         },
         "marker": {
          "size": 2,
          "symbol": "circle"
         },
         "mode": "markers",
         "name": "D",
         "text": "",
         "type": "scatter",
         "x": [
          -1.3706341634977999,
          -0.44464357298030577,
          0.21194758281043072,
          0.12188250469054568,
          0.23109750834636394,
          -2.078611900510734,
          -1.4125718461065768,
          1.3226301173678356,
          2.210811587319438,
          0.36723881015481563,
          0.7050702807104442,
          -0.905428803606851,
          -0.7375841040593092,
          -0.4226064027471685,
          0.6645102742651933,
          -0.08735652306256615,
          -0.5813580330962289,
          0.0716254537297011,
          0.15204193295013044,
          1.2331156163625931,
          0.3672451559975761,
          -1.0078492704142434,
          -0.500538082300995,
          0.4229458212448693,
          0.6464313705076554,
          0.2139423481071675,
          0.1714393729772546,
          1.9948550663201299,
          0.4321704238991509,
          0.7392842450688996,
          0.541413784244687,
          0.31978830459683383,
          -0.017365148471931328,
          -1.0857775822469622,
          -1.193103742314076,
          1.099979033425753,
          2.2056855426999866,
          -1.6669638663240616,
          -0.08506313981755931,
          -0.02951404577227692,
          0.4881199025094287,
          -0.528706652714251,
          0.3110493410602627,
          -0.994407222597656,
          -0.28465817230024915,
          0.25556787422035,
          -1.956154522801279,
          0.3883869966365133,
          1.102046149073705,
          -0.4215054879821377,
          0.24423815726095943,
          0.4649265831057877,
          0.4866105838030112,
          0.7258641462406561,
          0.66621179780112,
          2.3012047560973246,
          0.510448614366747,
          -0.0672027437684564,
          0.9902492665119011,
          0.995358276938806,
          -0.3609097311021256,
          -0.8462895865163238,
          2.02343599829043,
          -1.9395551757350018,
          -0.09964614142319132,
          -0.6415266032082034,
          0.09126807042650653,
          -0.7604286997610876,
          -1.4705671870066,
          -1.7726401934108293,
          0.7123922422852348,
          0.8179562452087664,
          0.1397851465613479,
          -1.1900951296743383,
          1.3545683824031913,
          -0.9862518332678586,
          0.07713600519368458,
          0.9665930002866592,
          -0.8836743785929374,
          0.031183626981489555,
          -0.4541590764346655,
          -0.3059995675381995,
          -0.31819475456499857,
          -0.829947107638954,
          0.5502331119843076,
          -2.2427912701229795,
          0.9643634596297002,
          0.4082628205500436,
          -0.472746067463226,
          0.15807422758994447,
          -1.2478598233983356,
          0.9421325113086404,
          0.07985387835658049,
          1.377428942663169,
          -0.17424251486922068,
          -0.8619395928622705,
          -0.7438063014346141,
          1.0724948530588314,
          -0.2917142520456285,
          -0.4723161335846429
         ],
         "xaxis": "x13",
         "y": [
          1.270781806067053,
          0.3154408424411026,
          -0.10526839163099147,
          2.5600192582589374,
          -1.2179187621860124,
          0.37129157767021215,
          1.0967997272360106,
          0.8923144777313083,
          -1.7037498944214629,
          -0.8630606486421002,
          0.43978025816466665,
          0.4723319142191631,
          0.649963633686165,
          0.6759233746855181,
          -1.2220584534626644,
          0.4666643127321919,
          0.02807325642432011,
          0.3644860935466444,
          -0.6789619122001068,
          -1.0054305129692656,
          0.12997294444060797,
          -1.269003841081698,
          -0.9796080810237936,
          -0.3088770264156233,
          1.241467021621208,
          0.8768681493842748,
          0.038222443558742145,
          -1.4702152961513721,
          -1.444907056140843,
          -0.471464690614252,
          0.05499541973541216,
          0.029655614181858934,
          -0.31039150868855475,
          -0.35952132643763735,
          -0.2037403878719324,
          -0.5575050452693112,
          0.00809725602635568,
          1.00624432044223,
          1.0303908909005464,
          0.054511986672174356,
          0.27648536166354826,
          1.1012620363177252,
          0.9947459191271949,
          -1.6124939641984772,
          -0.08764426899411765,
          0.4118193090522227,
          -1.6536965147305271,
          2.0252771466162196,
          0.7039547188679173,
          0.8785479558955114,
          -0.30029576401389074,
          -1.2757376192226533,
          -0.01265801454794506,
          -0.5466167455347981,
          1.520503081982652,
          1.7467407388411598,
          0.2576703116948325,
          1.1977205844782886,
          -1.3511300922923384,
          -1.0772764026873447,
          0.03369331835276964,
          -0.3330535138860441,
          -0.9659005560635886,
          -0.4947752346949864,
          0.6599549626639645,
          -1.5022983391146427,
          0.384469628806515,
          -1.821500409924272,
          -0.2634662097482622,
          0.4297261846783113,
          -1.138528339160372,
          -0.44815914132312556,
          0.35984201426264883,
          0.20612245764875556,
          1.1556461873420554,
          -0.1509426981768724,
          0.7511787767048612,
          0.7442448808676135,
          0.49051853867483497,
          -0.12589218799752233,
          -0.9426270376730208,
          -0.6386623781732003,
          0.2331736856222689,
          0.3793989075617643,
          -0.7514949933361587,
          -1.1395063263361749,
          2.678874662810904,
          -0.41387971473063473,
          0.014884534437804397,
          0.19504162801801575,
          -1.9668312470895433,
          -1.8011735460987088,
          1.2357113224299532,
          -0.6143704271613246,
          0.932425234835989,
          0.6791046831283395,
          1.07047868424384,
          -2.102912433957582,
          -0.9225001532946917,
          1.5186496161278766
         ],
         "yaxis": "y13"
        },
        {
         "line": {
          "color": "rgba(128, 128, 128, 1.0)",
          "dash": "solid",
          "shape": "linear",
          "width": 1.3
         },
         "marker": {
          "size": 2,
          "symbol": "circle"
         },
         "mode": "markers",
         "name": "D",
         "text": "",
         "type": "scatter",
         "x": [
          -1.4196724829893959,
          0.6937772020980084,
          -0.4812846650690201,
          0.035158586908787745,
          -0.45017873068516073,
          -0.030059928365334238,
          -1.856233899690452,
          -0.5590337797075252,
          -0.5804073030280686,
          1.150854046333595,
          -0.6733858899708351,
          0.8266969326608955,
          1.7988410661820298,
          1.1778011802008324,
          0.10006808003616055,
          0.4809616447255042,
          1.287644232127595,
          1.836146110025685,
          -0.11151507322238065,
          -1.251458276052178,
          -1.4470616711917,
          0.10723640266054896,
          -0.9686962871440572,
          1.4393440412212073,
          0.13304099023488128,
          0.4908125547596066,
          0.5220823956304467,
          0.3507904194832665,
          0.2581747768061723,
          0.12205361739481664,
          -0.4198161734207942,
          -0.37561858442804985,
          -1.6277731441939807,
          1.2670489958455784,
          -0.8279945448260254,
          1.5243878128552988,
          -1.3063636827096152,
          -0.005083638785516138,
          0.5029272510206665,
          0.3076220408997537,
          -1.6764059119651478,
          -1.5851239702752005,
          -0.8117329131730747,
          -0.663458209419483,
          0.0856691449911914,
          0.3456908076693621,
          0.9819318143923648,
          -1.1238915488432348,
          0.07568901601486262,
          -0.6329608158228868,
          -0.04523711591711723,
          -0.8385342648127595,
          1.3551895570715595,
          1.1454304810086735,
          0.15400312415551504,
          0.5266222368882257,
          -1.6216902724729327,
          -1.1645414566296808,
          -1.3257935329411572,
          1.0928850861133592,
          0.4397168800217103,
          0.22162291000438433,
          -0.4214110310069617,
          1.359394341005347,
          0.755569142671456,
          -0.047668341509316696,
          1.618663837028353,
          0.07553200040376101,
          1.4332407885042495,
          -0.6812263824951286,
          0.4548067533565884,
          0.8378693195141234,
          0.7205082805758841,
          0.5173519389365746,
          0.16254471065118895,
          0.7989306048084983,
          -0.7530959571258489,
          0.792995916875926,
          -1.3084157648844408,
          -0.6948613980554555,
          -1.3657188199513584,
          -0.12912859493672632,
          1.4763979073116997,
          -1.2508979201194812,
          -0.520025141114111,
          -0.6953210758379533,
          0.5677098245114643,
          -0.2624853987239584,
          2.5523006410694515,
          0.6324875821159565,
          -0.1924944987687054,
          -0.5871756946439045,
          -0.02944436942818076,
          -1.9818632242606096,
          -1.5142323202732133,
          0.8230299179180144,
          -1.3975522801520963,
          -0.7152243646234195,
          0.34084939962171656,
          1.9520183792854542
         ],
         "xaxis": "x14",
         "y": [
          1.270781806067053,
          0.3154408424411026,
          -0.10526839163099147,
          2.5600192582589374,
          -1.2179187621860124,
          0.37129157767021215,
          1.0967997272360106,
          0.8923144777313083,
          -1.7037498944214629,
          -0.8630606486421002,
          0.43978025816466665,
          0.4723319142191631,
          0.649963633686165,
          0.6759233746855181,
          -1.2220584534626644,
          0.4666643127321919,
          0.02807325642432011,
          0.3644860935466444,
          -0.6789619122001068,
          -1.0054305129692656,
          0.12997294444060797,
          -1.269003841081698,
          -0.9796080810237936,
          -0.3088770264156233,
          1.241467021621208,
          0.8768681493842748,
          0.038222443558742145,
          -1.4702152961513721,
          -1.444907056140843,
          -0.471464690614252,
          0.05499541973541216,
          0.029655614181858934,
          -0.31039150868855475,
          -0.35952132643763735,
          -0.2037403878719324,
          -0.5575050452693112,
          0.00809725602635568,
          1.00624432044223,
          1.0303908909005464,
          0.054511986672174356,
          0.27648536166354826,
          1.1012620363177252,
          0.9947459191271949,
          -1.6124939641984772,
          -0.08764426899411765,
          0.4118193090522227,
          -1.6536965147305271,
          2.0252771466162196,
          0.7039547188679173,
          0.8785479558955114,
          -0.30029576401389074,
          -1.2757376192226533,
          -0.01265801454794506,
          -0.5466167455347981,
          1.520503081982652,
          1.7467407388411598,
          0.2576703116948325,
          1.1977205844782886,
          -1.3511300922923384,
          -1.0772764026873447,
          0.03369331835276964,
          -0.3330535138860441,
          -0.9659005560635886,
          -0.4947752346949864,
          0.6599549626639645,
          -1.5022983391146427,
          0.384469628806515,
          -1.821500409924272,
          -0.2634662097482622,
          0.4297261846783113,
          -1.138528339160372,
          -0.44815914132312556,
          0.35984201426264883,
          0.20612245764875556,
          1.1556461873420554,
          -0.1509426981768724,
          0.7511787767048612,
          0.7442448808676135,
          0.49051853867483497,
          -0.12589218799752233,
          -0.9426270376730208,
          -0.6386623781732003,
          0.2331736856222689,
          0.3793989075617643,
          -0.7514949933361587,
          -1.1395063263361749,
          2.678874662810904,
          -0.41387971473063473,
          0.014884534437804397,
          0.19504162801801575,
          -1.9668312470895433,
          -1.8011735460987088,
          1.2357113224299532,
          -0.6143704271613246,
          0.932425234835989,
          0.6791046831283395,
          1.07047868424384,
          -2.102912433957582,
          -0.9225001532946917,
          1.5186496161278766
         ],
         "yaxis": "y14"
        },
        {
         "line": {
          "color": "rgba(128, 128, 128, 1.0)",
          "dash": "solid",
          "shape": "linear",
          "width": 1.3
         },
         "marker": {
          "size": 2,
          "symbol": "circle"
         },
         "mode": "markers",
         "name": "D",
         "text": "",
         "type": "scatter",
         "x": [
          -0.26746978994900555,
          2.3564687792981025,
          0.9181394123452596,
          0.6222507870671455,
          1.582638642834771,
          -0.24615722818260605,
          2.4380488659753934,
          0.9767449241238326,
          -0.2698621373104807,
          0.9744394754800235,
          -0.8225843088846546,
          -1.0368531598599837,
          2.5880721618925047,
          0.08748524044269824,
          -0.2494050612545062,
          -1.5283833204592536,
          1.1265142577492033,
          -0.8164542323621912,
          -0.3397840134675861,
          -0.010003535979367569,
          0.012291095492325934,
          -0.2959295883512938,
          1.4719794587638853,
          0.5156996984149198,
          0.9402598027304149,
          -0.6133157750171416,
          -0.3342519403060851,
          1.867659538516592,
          -0.13614359738634726,
          1.6538217851304051,
          -0.5399792444678289,
          0.8231754660788133,
          -0.6845452566505845,
          1.6315740318328997,
          0.862164461446557,
          0.3755760247132678,
          0.6269662213934344,
          -1.7017816920270734,
          1.1570783646027152,
          0.14800634363582788,
          -1.8993759579560812,
          0.3222762134504421,
          -0.07470995872587621,
          -0.024133779889820677,
          -0.12713423385337635,
          -0.585649804599596,
          1.3867501799354642,
          -1.6477621492077392,
          -1.7473889786572288,
          -0.9322736946725885,
          0.863261635570091,
          1.368550896007332,
          0.3028554107303457,
          -0.2318497635636668,
          -1.0637903210653838,
          0.8715935971481547,
          -0.666432582526232,
          -1.4978946173319956,
          0.24867008285154873,
          1.2240571933030144,
          0.19453772820828144,
          1.187496676297169,
          0.03581789845398097,
          -0.7927403128027556,
          -0.3336644452097193,
          0.019625882267146913,
          -0.9924772268740895,
          1.0001100781242585,
          0.2111278540045392,
          0.40882434546640334,
          0.13323454904917018,
          -0.33733935475835186,
          0.7774545019837307,
          0.5577021693673793,
          0.09739797345406256,
          1.5373575058155147,
          -1.5082373496248003,
          1.586501833646212,
          -0.5294725172554345,
          -0.30998298825803655,
          -0.6788919317976443,
          1.672882536865222,
          -0.6660514206113448,
          -0.9345012367390731,
          -1.4669705466958005,
          0.07035789983529755,
          -1.4032505352807945,
          1.7689111968809879,
          -0.19844344560314478,
          -0.40038193016732043,
          0.04329104181436085,
          0.40083594554201213,
          1.3119613356546358,
          -0.6827434615000966,
          -0.7185051107281525,
          0.4205631782559048,
          0.10612500333978087,
          0.5336950914526908,
          2.1507113717848303,
          1.197182568034859
         ],
         "xaxis": "x15",
         "y": [
          1.270781806067053,
          0.3154408424411026,
          -0.10526839163099147,
          2.5600192582589374,
          -1.2179187621860124,
          0.37129157767021215,
          1.0967997272360106,
          0.8923144777313083,
          -1.7037498944214629,
          -0.8630606486421002,
          0.43978025816466665,
          0.4723319142191631,
          0.649963633686165,
          0.6759233746855181,
          -1.2220584534626644,
          0.4666643127321919,
          0.02807325642432011,
          0.3644860935466444,
          -0.6789619122001068,
          -1.0054305129692656,
          0.12997294444060797,
          -1.269003841081698,
          -0.9796080810237936,
          -0.3088770264156233,
          1.241467021621208,
          0.8768681493842748,
          0.038222443558742145,
          -1.4702152961513721,
          -1.444907056140843,
          -0.471464690614252,
          0.05499541973541216,
          0.029655614181858934,
          -0.31039150868855475,
          -0.35952132643763735,
          -0.2037403878719324,
          -0.5575050452693112,
          0.00809725602635568,
          1.00624432044223,
          1.0303908909005464,
          0.054511986672174356,
          0.27648536166354826,
          1.1012620363177252,
          0.9947459191271949,
          -1.6124939641984772,
          -0.08764426899411765,
          0.4118193090522227,
          -1.6536965147305271,
          2.0252771466162196,
          0.7039547188679173,
          0.8785479558955114,
          -0.30029576401389074,
          -1.2757376192226533,
          -0.01265801454794506,
          -0.5466167455347981,
          1.520503081982652,
          1.7467407388411598,
          0.2576703116948325,
          1.1977205844782886,
          -1.3511300922923384,
          -1.0772764026873447,
          0.03369331835276964,
          -0.3330535138860441,
          -0.9659005560635886,
          -0.4947752346949864,
          0.6599549626639645,
          -1.5022983391146427,
          0.384469628806515,
          -1.821500409924272,
          -0.2634662097482622,
          0.4297261846783113,
          -1.138528339160372,
          -0.44815914132312556,
          0.35984201426264883,
          0.20612245764875556,
          1.1556461873420554,
          -0.1509426981768724,
          0.7511787767048612,
          0.7442448808676135,
          0.49051853867483497,
          -0.12589218799752233,
          -0.9426270376730208,
          -0.6386623781732003,
          0.2331736856222689,
          0.3793989075617643,
          -0.7514949933361587,
          -1.1395063263361749,
          2.678874662810904,
          -0.41387971473063473,
          0.014884534437804397,
          0.19504162801801575,
          -1.9668312470895433,
          -1.8011735460987088,
          1.2357113224299532,
          -0.6143704271613246,
          0.932425234835989,
          0.6791046831283395,
          1.07047868424384,
          -2.102912433957582,
          -0.9225001532946917,
          1.5186496161278766
         ],
         "yaxis": "y15"
        },
        {
         "histfunc": "count",
         "histnorm": "",
         "marker": {
          "color": "rgba(128, 0, 128, 1.0)",
          "line": {
           "color": "#4D5663",
           "width": 1.3
          }
         },
         "name": "D",
         "nbinsx": 10,
         "opacity": 0.8,
         "orientation": "v",
         "type": "histogram",
         "x": [
          1.270781806067053,
          0.3154408424411026,
          -0.10526839163099147,
          2.5600192582589374,
          -1.2179187621860124,
          0.37129157767021215,
          1.0967997272360106,
          0.8923144777313083,
          -1.7037498944214629,
          -0.8630606486421002,
          0.43978025816466665,
          0.4723319142191631,
          0.649963633686165,
          0.6759233746855181,
          -1.2220584534626644,
          0.4666643127321919,
          0.02807325642432011,
          0.3644860935466444,
          -0.6789619122001068,
          -1.0054305129692656,
          0.12997294444060797,
          -1.269003841081698,
          -0.9796080810237936,
          -0.3088770264156233,
          1.241467021621208,
          0.8768681493842748,
          0.038222443558742145,
          -1.4702152961513721,
          -1.444907056140843,
          -0.471464690614252,
          0.05499541973541216,
          0.029655614181858934,
          -0.31039150868855475,
          -0.35952132643763735,
          -0.2037403878719324,
          -0.5575050452693112,
          0.00809725602635568,
          1.00624432044223,
          1.0303908909005464,
          0.054511986672174356,
          0.27648536166354826,
          1.1012620363177252,
          0.9947459191271949,
          -1.6124939641984772,
          -0.08764426899411765,
          0.4118193090522227,
          -1.6536965147305271,
          2.0252771466162196,
          0.7039547188679173,
          0.8785479558955114,
          -0.30029576401389074,
          -1.2757376192226533,
          -0.01265801454794506,
          -0.5466167455347981,
          1.520503081982652,
          1.7467407388411598,
          0.2576703116948325,
          1.1977205844782886,
          -1.3511300922923384,
          -1.0772764026873447,
          0.03369331835276964,
          -0.3330535138860441,
          -0.9659005560635886,
          -0.4947752346949864,
          0.6599549626639645,
          -1.5022983391146427,
          0.384469628806515,
          -1.821500409924272,
          -0.2634662097482622,
          0.4297261846783113,
          -1.138528339160372,
          -0.44815914132312556,
          0.35984201426264883,
          0.20612245764875556,
          1.1556461873420554,
          -0.1509426981768724,
          0.7511787767048612,
          0.7442448808676135,
          0.49051853867483497,
          -0.12589218799752233,
          -0.9426270376730208,
          -0.6386623781732003,
          0.2331736856222689,
          0.3793989075617643,
          -0.7514949933361587,
          -1.1395063263361749,
          2.678874662810904,
          -0.41387971473063473,
          0.014884534437804397,
          0.19504162801801575,
          -1.9668312470895433,
          -1.8011735460987088,
          1.2357113224299532,
          -0.6143704271613246,
          0.932425234835989,
          0.6791046831283395,
          1.07047868424384,
          -2.102912433957582,
          -0.9225001532946917,
          1.5186496161278766
         ],
         "xaxis": "x16",
         "yaxis": "y16"
        }
       ],
       "layout": {
        "bargap": 0.02,
        "legend": {
         "bgcolor": "#F5F6F9",
         "font": {
          "color": "#4D5663"
         }
        },
        "paper_bgcolor": "#F5F6F9",
        "plot_bgcolor": "#F5F6F9",
        "showlegend": false,
        "template": {
         "data": {
          "bar": [
           {
            "error_x": {
             "color": "#2a3f5f"
            },
            "error_y": {
             "color": "#2a3f5f"
            },
            "marker": {
             "line": {
              "color": "#E5ECF6",
              "width": 0.5
             }
            },
            "type": "bar"
           }
          ],
          "barpolar": [
           {
            "marker": {
             "line": {
              "color": "#E5ECF6",
              "width": 0.5
             }
            },
            "type": "barpolar"
           }
          ],
          "carpet": [
           {
            "aaxis": {
             "endlinecolor": "#2a3f5f",
             "gridcolor": "white",
             "linecolor": "white",
             "minorgridcolor": "white",
             "startlinecolor": "#2a3f5f"
            },
            "baxis": {
             "endlinecolor": "#2a3f5f",
             "gridcolor": "white",
             "linecolor": "white",
             "minorgridcolor": "white",
             "startlinecolor": "#2a3f5f"
            },
            "type": "carpet"
           }
          ],
          "choropleth": [
           {
            "colorbar": {
             "outlinewidth": 0,
             "ticks": ""
            },
            "type": "choropleth"
           }
          ],
          "contour": [
           {
            "colorbar": {
             "outlinewidth": 0,
             "ticks": ""
            },
            "colorscale": [
             [
              0,
              "#0d0887"
             ],
             [
              0.1111111111111111,
              "#46039f"
             ],
             [
              0.2222222222222222,
              "#7201a8"
             ],
             [
              0.3333333333333333,
              "#9c179e"
             ],
             [
              0.4444444444444444,
              "#bd3786"
             ],
             [
              0.5555555555555556,
              "#d8576b"
             ],
             [
              0.6666666666666666,
              "#ed7953"
             ],
             [
              0.7777777777777778,
              "#fb9f3a"
             ],
             [
              0.8888888888888888,
              "#fdca26"
             ],
             [
              1,
              "#f0f921"
             ]
            ],
            "type": "contour"
           }
          ],
          "contourcarpet": [
           {
            "colorbar": {
             "outlinewidth": 0,
             "ticks": ""
            },
            "type": "contourcarpet"
           }
          ],
          "heatmap": [
           {
            "colorbar": {
             "outlinewidth": 0,
             "ticks": ""
            },
            "colorscale": [
             [
              0,
              "#0d0887"
             ],
             [
              0.1111111111111111,
              "#46039f"
             ],
             [
              0.2222222222222222,
              "#7201a8"
             ],
             [
              0.3333333333333333,
              "#9c179e"
             ],
             [
              0.4444444444444444,
              "#bd3786"
             ],
             [
              0.5555555555555556,
              "#d8576b"
             ],
             [
              0.6666666666666666,
              "#ed7953"
             ],
             [
              0.7777777777777778,
              "#fb9f3a"
             ],
             [
              0.8888888888888888,
              "#fdca26"
             ],
             [
              1,
              "#f0f921"
             ]
            ],
            "type": "heatmap"
           }
          ],
          "heatmapgl": [
           {
            "colorbar": {
             "outlinewidth": 0,
             "ticks": ""
            },
            "colorscale": [
             [
              0,
              "#0d0887"
             ],
             [
              0.1111111111111111,
              "#46039f"
             ],
             [
              0.2222222222222222,
              "#7201a8"
             ],
             [
              0.3333333333333333,
              "#9c179e"
             ],
             [
              0.4444444444444444,
              "#bd3786"
             ],
             [
              0.5555555555555556,
              "#d8576b"
             ],
             [
              0.6666666666666666,
              "#ed7953"
             ],
             [
              0.7777777777777778,
              "#fb9f3a"
             ],
             [
              0.8888888888888888,
              "#fdca26"
             ],
             [
              1,
              "#f0f921"
             ]
            ],
            "type": "heatmapgl"
           }
          ],
          "histogram": [
           {
            "marker": {
             "colorbar": {
              "outlinewidth": 0,
              "ticks": ""
             }
            },
            "type": "histogram"
           }
          ],
          "histogram2d": [
           {
            "colorbar": {
             "outlinewidth": 0,
             "ticks": ""
            },
            "colorscale": [
             [
              0,
              "#0d0887"
             ],
             [
              0.1111111111111111,
              "#46039f"
             ],
             [
              0.2222222222222222,
              "#7201a8"
             ],
             [
              0.3333333333333333,
              "#9c179e"
             ],
             [
              0.4444444444444444,
              "#bd3786"
             ],
             [
              0.5555555555555556,
              "#d8576b"
             ],
             [
              0.6666666666666666,
              "#ed7953"
             ],
             [
              0.7777777777777778,
              "#fb9f3a"
             ],
             [
              0.8888888888888888,
              "#fdca26"
             ],
             [
              1,
              "#f0f921"
             ]
            ],
            "type": "histogram2d"
           }
          ],
          "histogram2dcontour": [
           {
            "colorbar": {
             "outlinewidth": 0,
             "ticks": ""
            },
            "colorscale": [
             [
              0,
              "#0d0887"
             ],
             [
              0.1111111111111111,
              "#46039f"
             ],
             [
              0.2222222222222222,
              "#7201a8"
             ],
             [
              0.3333333333333333,
              "#9c179e"
             ],
             [
              0.4444444444444444,
              "#bd3786"
             ],
             [
              0.5555555555555556,
              "#d8576b"
             ],
             [
              0.6666666666666666,
              "#ed7953"
             ],
             [
              0.7777777777777778,
              "#fb9f3a"
             ],
             [
              0.8888888888888888,
              "#fdca26"
             ],
             [
              1,
              "#f0f921"
             ]
            ],
            "type": "histogram2dcontour"
           }
          ],
          "mesh3d": [
           {
            "colorbar": {
             "outlinewidth": 0,
             "ticks": ""
            },
            "type": "mesh3d"
           }
          ],
          "parcoords": [
           {
            "line": {
             "colorbar": {
              "outlinewidth": 0,
              "ticks": ""
             }
            },
            "type": "parcoords"
           }
          ],
          "pie": [
           {
            "automargin": true,
            "type": "pie"
           }
          ],
          "scatter": [
           {
            "marker": {
             "colorbar": {
              "outlinewidth": 0,
              "ticks": ""
             }
            },
            "type": "scatter"
           }
          ],
          "scatter3d": [
           {
            "line": {
             "colorbar": {
              "outlinewidth": 0,
              "ticks": ""
             }
            },
            "marker": {
             "colorbar": {
              "outlinewidth": 0,
              "ticks": ""
             }
            },
            "type": "scatter3d"
           }
          ],
          "scattercarpet": [
           {
            "marker": {
             "colorbar": {
              "outlinewidth": 0,
              "ticks": ""
             }
            },
            "type": "scattercarpet"
           }
          ],
          "scattergeo": [
           {
            "marker": {
             "colorbar": {
              "outlinewidth": 0,
              "ticks": ""
             }
            },
            "type": "scattergeo"
           }
          ],
          "scattergl": [
           {
            "marker": {
             "colorbar": {
              "outlinewidth": 0,
              "ticks": ""
             }
            },
            "type": "scattergl"
           }
          ],
          "scattermapbox": [
           {
            "marker": {
             "colorbar": {
              "outlinewidth": 0,
              "ticks": ""
             }
            },
            "type": "scattermapbox"
           }
          ],
          "scatterpolar": [
           {
            "marker": {
             "colorbar": {
              "outlinewidth": 0,
              "ticks": ""
             }
            },
            "type": "scatterpolar"
           }
          ],
          "scatterpolargl": [
           {
            "marker": {
             "colorbar": {
              "outlinewidth": 0,
              "ticks": ""
             }
            },
            "type": "scatterpolargl"
           }
          ],
          "scatterternary": [
           {
            "marker": {
             "colorbar": {
              "outlinewidth": 0,
              "ticks": ""
             }
            },
            "type": "scatterternary"
           }
          ],
          "surface": [
           {
            "colorbar": {
             "outlinewidth": 0,
             "ticks": ""
            },
            "colorscale": [
             [
              0,
              "#0d0887"
             ],
             [
              0.1111111111111111,
              "#46039f"
             ],
             [
              0.2222222222222222,
              "#7201a8"
             ],
             [
              0.3333333333333333,
              "#9c179e"
             ],
             [
              0.4444444444444444,
              "#bd3786"
             ],
             [
              0.5555555555555556,
              "#d8576b"
             ],
             [
              0.6666666666666666,
              "#ed7953"
             ],
             [
              0.7777777777777778,
              "#fb9f3a"
             ],
             [
              0.8888888888888888,
              "#fdca26"
             ],
             [
              1,
              "#f0f921"
             ]
            ],
            "type": "surface"
           }
          ],
          "table": [
           {
            "cells": {
             "fill": {
              "color": "#EBF0F8"
             },
             "line": {
              "color": "white"
             }
            },
            "header": {
             "fill": {
              "color": "#C8D4E3"
             },
             "line": {
              "color": "white"
             }
            },
            "type": "table"
           }
          ]
         },
         "layout": {
          "annotationdefaults": {
           "arrowcolor": "#2a3f5f",
           "arrowhead": 0,
           "arrowwidth": 1
          },
          "autotypenumbers": "strict",
          "coloraxis": {
           "colorbar": {
            "outlinewidth": 0,
            "ticks": ""
           }
          },
          "colorscale": {
           "diverging": [
            [
             0,
             "#8e0152"
            ],
            [
             0.1,
             "#c51b7d"
            ],
            [
             0.2,
             "#de77ae"
            ],
            [
             0.3,
             "#f1b6da"
            ],
            [
             0.4,
             "#fde0ef"
            ],
            [
             0.5,
             "#f7f7f7"
            ],
            [
             0.6,
             "#e6f5d0"
            ],
            [
             0.7,
             "#b8e186"
            ],
            [
             0.8,
             "#7fbc41"
            ],
            [
             0.9,
             "#4d9221"
            ],
            [
             1,
             "#276419"
            ]
           ],
           "sequential": [
            [
             0,
             "#0d0887"
            ],
            [
             0.1111111111111111,
             "#46039f"
            ],
            [
             0.2222222222222222,
             "#7201a8"
            ],
            [
             0.3333333333333333,
             "#9c179e"
            ],
            [
             0.4444444444444444,
             "#bd3786"
            ],
            [
             0.5555555555555556,
             "#d8576b"
            ],
            [
             0.6666666666666666,
             "#ed7953"
            ],
            [
             0.7777777777777778,
             "#fb9f3a"
            ],
            [
             0.8888888888888888,
             "#fdca26"
            ],
            [
             1,
             "#f0f921"
            ]
           ],
           "sequentialminus": [
            [
             0,
             "#0d0887"
            ],
            [
             0.1111111111111111,
             "#46039f"
            ],
            [
             0.2222222222222222,
             "#7201a8"
            ],
            [
             0.3333333333333333,
             "#9c179e"
            ],
            [
             0.4444444444444444,
             "#bd3786"
            ],
            [
             0.5555555555555556,
             "#d8576b"
            ],
            [
             0.6666666666666666,
             "#ed7953"
            ],
            [
             0.7777777777777778,
             "#fb9f3a"
            ],
            [
             0.8888888888888888,
             "#fdca26"
            ],
            [
             1,
             "#f0f921"
            ]
           ]
          },
          "colorway": [
           "#636efa",
           "#EF553B",
           "#00cc96",
           "#ab63fa",
           "#FFA15A",
           "#19d3f3",
           "#FF6692",
           "#B6E880",
           "#FF97FF",
           "#FECB52"
          ],
          "font": {
           "color": "#2a3f5f"
          },
          "geo": {
           "bgcolor": "white",
           "lakecolor": "white",
           "landcolor": "#E5ECF6",
           "showlakes": true,
           "showland": true,
           "subunitcolor": "white"
          },
          "hoverlabel": {
           "align": "left"
          },
          "hovermode": "closest",
          "mapbox": {
           "style": "light"
          },
          "paper_bgcolor": "white",
          "plot_bgcolor": "#E5ECF6",
          "polar": {
           "angularaxis": {
            "gridcolor": "white",
            "linecolor": "white",
            "ticks": ""
           },
           "bgcolor": "#E5ECF6",
           "radialaxis": {
            "gridcolor": "white",
            "linecolor": "white",
            "ticks": ""
           }
          },
          "scene": {
           "xaxis": {
            "backgroundcolor": "#E5ECF6",
            "gridcolor": "white",
            "gridwidth": 2,
            "linecolor": "white",
            "showbackground": true,
            "ticks": "",
            "zerolinecolor": "white"
           },
           "yaxis": {
            "backgroundcolor": "#E5ECF6",
            "gridcolor": "white",
            "gridwidth": 2,
            "linecolor": "white",
            "showbackground": true,
            "ticks": "",
            "zerolinecolor": "white"
           },
           "zaxis": {
            "backgroundcolor": "#E5ECF6",
            "gridcolor": "white",
            "gridwidth": 2,
            "linecolor": "white",
            "showbackground": true,
            "ticks": "",
            "zerolinecolor": "white"
           }
          },
          "shapedefaults": {
           "line": {
            "color": "#2a3f5f"
           }
          },
          "ternary": {
           "aaxis": {
            "gridcolor": "white",
            "linecolor": "white",
            "ticks": ""
           },
           "baxis": {
            "gridcolor": "white",
            "linecolor": "white",
            "ticks": ""
           },
           "bgcolor": "#E5ECF6",
           "caxis": {
            "gridcolor": "white",
            "linecolor": "white",
            "ticks": ""
           }
          },
          "title": {
           "x": 0.05
          },
          "xaxis": {
           "automargin": true,
           "gridcolor": "white",
           "linecolor": "white",
           "ticks": "",
           "title": {
            "standoff": 15
           },
           "zerolinecolor": "white",
           "zerolinewidth": 2
          },
          "yaxis": {
           "automargin": true,
           "gridcolor": "white",
           "linecolor": "white",
           "ticks": "",
           "title": {
            "standoff": 15
           },
           "zerolinecolor": "white",
           "zerolinewidth": 2
          }
         }
        },
        "title": {
         "font": {
          "color": "#4D5663"
         }
        },
        "xaxis": {
         "anchor": "y",
         "domain": [
          0,
          0.2125
         ],
         "gridcolor": "#E1E5ED",
         "showgrid": false,
         "tickfont": {
          "color": "#4D5663"
         },
         "title": {
          "font": {
           "color": "#4D5663"
          },
          "text": ""
         },
         "zerolinecolor": "#E1E5ED"
        },
        "xaxis10": {
         "anchor": "y10",
         "domain": [
          0.2625,
          0.475
         ],
         "gridcolor": "#E1E5ED",
         "showgrid": false,
         "tickfont": {
          "color": "#4D5663"
         },
         "title": {
          "font": {
           "color": "#4D5663"
          },
          "text": ""
         },
         "zerolinecolor": "#E1E5ED"
        },
        "xaxis11": {
         "anchor": "y11",
         "domain": [
          0.525,
          0.7375
         ],
         "gridcolor": "#E1E5ED",
         "showgrid": false,
         "tickfont": {
          "color": "#4D5663"
         },
         "title": {
          "font": {
           "color": "#4D5663"
          },
          "text": ""
         },
         "zerolinecolor": "#E1E5ED"
        },
        "xaxis12": {
         "anchor": "y12",
         "domain": [
          0.7875,
          1
         ],
         "gridcolor": "#E1E5ED",
         "showgrid": false,
         "tickfont": {
          "color": "#4D5663"
         },
         "title": {
          "font": {
           "color": "#4D5663"
          },
          "text": ""
         },
         "zerolinecolor": "#E1E5ED"
        },
        "xaxis13": {
         "anchor": "y13",
         "domain": [
          0,
          0.2125
         ],
         "gridcolor": "#E1E5ED",
         "showgrid": false,
         "tickfont": {
          "color": "#4D5663"
         },
         "title": {
          "font": {
           "color": "#4D5663"
          },
          "text": ""
         },
         "zerolinecolor": "#E1E5ED"
        },
        "xaxis14": {
         "anchor": "y14",
         "domain": [
          0.2625,
          0.475
         ],
         "gridcolor": "#E1E5ED",
         "showgrid": false,
         "tickfont": {
          "color": "#4D5663"
         },
         "title": {
          "font": {
           "color": "#4D5663"
          },
          "text": ""
         },
         "zerolinecolor": "#E1E5ED"
        },
        "xaxis15": {
         "anchor": "y15",
         "domain": [
          0.525,
          0.7375
         ],
         "gridcolor": "#E1E5ED",
         "showgrid": false,
         "tickfont": {
          "color": "#4D5663"
         },
         "title": {
          "font": {
           "color": "#4D5663"
          },
          "text": ""
         },
         "zerolinecolor": "#E1E5ED"
        },
        "xaxis16": {
         "anchor": "y16",
         "domain": [
          0.7875,
          1
         ],
         "gridcolor": "#E1E5ED",
         "showgrid": false,
         "tickfont": {
          "color": "#4D5663"
         },
         "title": {
          "font": {
           "color": "#4D5663"
          },
          "text": ""
         },
         "zerolinecolor": "#E1E5ED"
        },
        "xaxis2": {
         "anchor": "y2",
         "domain": [
          0.2625,
          0.475
         ],
         "gridcolor": "#E1E5ED",
         "showgrid": false,
         "tickfont": {
          "color": "#4D5663"
         },
         "title": {
          "font": {
           "color": "#4D5663"
          },
          "text": ""
         },
         "zerolinecolor": "#E1E5ED"
        },
        "xaxis3": {
         "anchor": "y3",
         "domain": [
          0.525,
          0.7375
         ],
         "gridcolor": "#E1E5ED",
         "showgrid": false,
         "tickfont": {
          "color": "#4D5663"
         },
         "title": {
          "font": {
           "color": "#4D5663"
          },
          "text": ""
         },
         "zerolinecolor": "#E1E5ED"
        },
        "xaxis4": {
         "anchor": "y4",
         "domain": [
          0.7875,
          1
         ],
         "gridcolor": "#E1E5ED",
         "showgrid": false,
         "tickfont": {
          "color": "#4D5663"
         },
         "title": {
          "font": {
           "color": "#4D5663"
          },
          "text": ""
         },
         "zerolinecolor": "#E1E5ED"
        },
        "xaxis5": {
         "anchor": "y5",
         "domain": [
          0,
          0.2125
         ],
         "gridcolor": "#E1E5ED",
         "showgrid": false,
         "tickfont": {
          "color": "#4D5663"
         },
         "title": {
          "font": {
           "color": "#4D5663"
          },
          "text": ""
         },
         "zerolinecolor": "#E1E5ED"
        },
        "xaxis6": {
         "anchor": "y6",
         "domain": [
          0.2625,
          0.475
         ],
         "gridcolor": "#E1E5ED",
         "showgrid": false,
         "tickfont": {
          "color": "#4D5663"
         },
         "title": {
          "font": {
           "color": "#4D5663"
          },
          "text": ""
         },
         "zerolinecolor": "#E1E5ED"
        },
        "xaxis7": {
         "anchor": "y7",
         "domain": [
          0.525,
          0.7375
         ],
         "gridcolor": "#E1E5ED",
         "showgrid": false,
         "tickfont": {
          "color": "#4D5663"
         },
         "title": {
          "font": {
           "color": "#4D5663"
          },
          "text": ""
         },
         "zerolinecolor": "#E1E5ED"
        },
        "xaxis8": {
         "anchor": "y8",
         "domain": [
          0.7875,
          1
         ],
         "gridcolor": "#E1E5ED",
         "showgrid": false,
         "tickfont": {
          "color": "#4D5663"
         },
         "title": {
          "font": {
           "color": "#4D5663"
          },
          "text": ""
         },
         "zerolinecolor": "#E1E5ED"
        },
        "xaxis9": {
         "anchor": "y9",
         "domain": [
          0,
          0.2125
         ],
         "gridcolor": "#E1E5ED",
         "showgrid": false,
         "tickfont": {
          "color": "#4D5663"
         },
         "title": {
          "font": {
           "color": "#4D5663"
          },
          "text": ""
         },
         "zerolinecolor": "#E1E5ED"
        },
        "yaxis": {
         "anchor": "x",
         "domain": [
          0.8025,
          1
         ],
         "gridcolor": "#E1E5ED",
         "showgrid": false,
         "tickfont": {
          "color": "#4D5663"
         },
         "title": {
          "font": {
           "color": "#4D5663"
          },
          "text": ""
         },
         "zerolinecolor": "#E1E5ED"
        },
        "yaxis10": {
         "anchor": "x10",
         "domain": [
          0.2675,
          0.465
         ],
         "gridcolor": "#E1E5ED",
         "showgrid": false,
         "tickfont": {
          "color": "#4D5663"
         },
         "title": {
          "font": {
           "color": "#4D5663"
          },
          "text": ""
         },
         "zerolinecolor": "#E1E5ED"
        },
        "yaxis11": {
         "anchor": "x11",
         "domain": [
          0.2675,
          0.465
         ],
         "gridcolor": "#E1E5ED",
         "showgrid": false,
         "tickfont": {
          "color": "#4D5663"
         },
         "title": {
          "font": {
           "color": "#4D5663"
          },
          "text": ""
         },
         "zerolinecolor": "#E1E5ED"
        },
        "yaxis12": {
         "anchor": "x12",
         "domain": [
          0.2675,
          0.465
         ],
         "gridcolor": "#E1E5ED",
         "showgrid": false,
         "tickfont": {
          "color": "#4D5663"
         },
         "title": {
          "font": {
           "color": "#4D5663"
          },
          "text": ""
         },
         "zerolinecolor": "#E1E5ED"
        },
        "yaxis13": {
         "anchor": "x13",
         "domain": [
          0,
          0.1975
         ],
         "gridcolor": "#E1E5ED",
         "showgrid": false,
         "tickfont": {
          "color": "#4D5663"
         },
         "title": {
          "font": {
           "color": "#4D5663"
          },
          "text": ""
         },
         "zerolinecolor": "#E1E5ED"
        },
        "yaxis14": {
         "anchor": "x14",
         "domain": [
          0,
          0.1975
         ],
         "gridcolor": "#E1E5ED",
         "showgrid": false,
         "tickfont": {
          "color": "#4D5663"
         },
         "title": {
          "font": {
           "color": "#4D5663"
          },
          "text": ""
         },
         "zerolinecolor": "#E1E5ED"
        },
        "yaxis15": {
         "anchor": "x15",
         "domain": [
          0,
          0.1975
         ],
         "gridcolor": "#E1E5ED",
         "showgrid": false,
         "tickfont": {
          "color": "#4D5663"
         },
         "title": {
          "font": {
           "color": "#4D5663"
          },
          "text": ""
         },
         "zerolinecolor": "#E1E5ED"
        },
        "yaxis16": {
         "anchor": "x16",
         "domain": [
          0,
          0.1975
         ],
         "gridcolor": "#E1E5ED",
         "showgrid": false,
         "tickfont": {
          "color": "#4D5663"
         },
         "title": {
          "font": {
           "color": "#4D5663"
          },
          "text": ""
         },
         "zerolinecolor": "#E1E5ED"
        },
        "yaxis2": {
         "anchor": "x2",
         "domain": [
          0.8025,
          1
         ],
         "gridcolor": "#E1E5ED",
         "showgrid": false,
         "tickfont": {
          "color": "#4D5663"
         },
         "title": {
          "font": {
           "color": "#4D5663"
          },
          "text": ""
         },
         "zerolinecolor": "#E1E5ED"
        },
        "yaxis3": {
         "anchor": "x3",
         "domain": [
          0.8025,
          1
         ],
         "gridcolor": "#E1E5ED",
         "showgrid": false,
         "tickfont": {
          "color": "#4D5663"
         },
         "title": {
          "font": {
           "color": "#4D5663"
          },
          "text": ""
         },
         "zerolinecolor": "#E1E5ED"
        },
        "yaxis4": {
         "anchor": "x4",
         "domain": [
          0.8025,
          1
         ],
         "gridcolor": "#E1E5ED",
         "showgrid": false,
         "tickfont": {
          "color": "#4D5663"
         },
         "title": {
          "font": {
           "color": "#4D5663"
          },
          "text": ""
         },
         "zerolinecolor": "#E1E5ED"
        },
        "yaxis5": {
         "anchor": "x5",
         "domain": [
          0.535,
          0.7325
         ],
         "gridcolor": "#E1E5ED",
         "showgrid": false,
         "tickfont": {
          "color": "#4D5663"
         },
         "title": {
          "font": {
           "color": "#4D5663"
          },
          "text": ""
         },
         "zerolinecolor": "#E1E5ED"
        },
        "yaxis6": {
         "anchor": "x6",
         "domain": [
          0.535,
          0.7325
         ],
         "gridcolor": "#E1E5ED",
         "showgrid": false,
         "tickfont": {
          "color": "#4D5663"
         },
         "title": {
          "font": {
           "color": "#4D5663"
          },
          "text": ""
         },
         "zerolinecolor": "#E1E5ED"
        },
        "yaxis7": {
         "anchor": "x7",
         "domain": [
          0.535,
          0.7325
         ],
         "gridcolor": "#E1E5ED",
         "showgrid": false,
         "tickfont": {
          "color": "#4D5663"
         },
         "title": {
          "font": {
           "color": "#4D5663"
          },
          "text": ""
         },
         "zerolinecolor": "#E1E5ED"
        },
        "yaxis8": {
         "anchor": "x8",
         "domain": [
          0.535,
          0.7325
         ],
         "gridcolor": "#E1E5ED",
         "showgrid": false,
         "tickfont": {
          "color": "#4D5663"
         },
         "title": {
          "font": {
           "color": "#4D5663"
          },
          "text": ""
         },
         "zerolinecolor": "#E1E5ED"
        },
        "yaxis9": {
         "anchor": "x9",
         "domain": [
          0.2675,
          0.465
         ],
         "gridcolor": "#E1E5ED",
         "showgrid": false,
         "tickfont": {
          "color": "#4D5663"
         },
         "title": {
          "font": {
           "color": "#4D5663"
          },
          "text": ""
         },
         "zerolinecolor": "#E1E5ED"
        }
       }
      },
      "text/html": [
       "<div>                            <div id=\"1b8fa6d6-1312-4607-9ed8-68223ec51d33\" class=\"plotly-graph-div\" style=\"height:525px; width:100%;\"></div>            <script type=\"text/javascript\">                require([\"plotly\"], function(Plotly) {                    window.PLOTLYENV=window.PLOTLYENV || {};\n",
       "                    window.PLOTLYENV.BASE_URL='https://plot.ly';                                    if (document.getElementById(\"1b8fa6d6-1312-4607-9ed8-68223ec51d33\")) {                    Plotly.newPlot(                        \"1b8fa6d6-1312-4607-9ed8-68223ec51d33\",                        [{\"histfunc\": \"count\", \"histnorm\": \"\", \"marker\": {\"color\": \"rgba(255, 153, 51, 1.0)\", \"line\": {\"color\": \"#4D5663\", \"width\": 1.3}}, \"name\": \"A\", \"nbinsx\": 10, \"opacity\": 0.8, \"orientation\": \"v\", \"type\": \"histogram\", \"x\": [-1.3706341634977999, -0.44464357298030577, 0.21194758281043072, 0.12188250469054568, 0.23109750834636394, -2.078611900510734, -1.4125718461065768, 1.3226301173678356, 2.210811587319438, 0.36723881015481563, 0.7050702807104442, -0.905428803606851, -0.7375841040593092, -0.4226064027471685, 0.6645102742651933, -0.08735652306256615, -0.5813580330962289, 0.0716254537297011, 0.15204193295013044, 1.2331156163625931, 0.3672451559975761, -1.0078492704142434, -0.500538082300995, 0.4229458212448693, 0.6464313705076554, 0.2139423481071675, 0.1714393729772546, 1.9948550663201299, 0.4321704238991509, 0.7392842450688996, 0.541413784244687, 0.31978830459683383, -0.017365148471931328, -1.0857775822469622, -1.193103742314076, 1.099979033425753, 2.2056855426999866, -1.6669638663240616, -0.08506313981755931, -0.02951404577227692, 0.4881199025094287, -0.528706652714251, 0.3110493410602627, -0.994407222597656, -0.28465817230024915, 0.25556787422035, -1.956154522801279, 0.3883869966365133, 1.102046149073705, -0.4215054879821377, 0.24423815726095943, 0.4649265831057877, 0.4866105838030112, 0.7258641462406561, 0.66621179780112, 2.3012047560973246, 0.510448614366747, -0.0672027437684564, 0.9902492665119011, 0.995358276938806, -0.3609097311021256, -0.8462895865163238, 2.02343599829043, -1.9395551757350018, -0.09964614142319132, -0.6415266032082034, 0.09126807042650653, -0.7604286997610876, -1.4705671870066, -1.7726401934108293, 0.7123922422852348, 0.8179562452087664, 0.1397851465613479, -1.1900951296743383, 1.3545683824031913, -0.9862518332678586, 0.07713600519368458, 0.9665930002866592, -0.8836743785929374, 0.031183626981489555, -0.4541590764346655, -0.3059995675381995, -0.31819475456499857, -0.829947107638954, 0.5502331119843076, -2.2427912701229795, 0.9643634596297002, 0.4082628205500436, -0.472746067463226, 0.15807422758994447, -1.2478598233983356, 0.9421325113086404, 0.07985387835658049, 1.377428942663169, -0.17424251486922068, -0.8619395928622705, -0.7438063014346141, 1.0724948530588314, -0.2917142520456285, -0.4723161335846429], \"xaxis\": \"x\", \"yaxis\": \"y\"}, {\"line\": {\"color\": \"rgba(128, 128, 128, 1.0)\", \"dash\": \"solid\", \"shape\": \"linear\", \"width\": 1.3}, \"marker\": {\"size\": 2, \"symbol\": \"circle\"}, \"mode\": \"markers\", \"name\": \"A\", \"text\": \"\", \"type\": \"scatter\", \"x\": [-1.4196724829893959, 0.6937772020980084, -0.4812846650690201, 0.035158586908787745, -0.45017873068516073, -0.030059928365334238, -1.856233899690452, -0.5590337797075252, -0.5804073030280686, 1.150854046333595, -0.6733858899708351, 0.8266969326608955, 1.7988410661820298, 1.1778011802008324, 0.10006808003616055, 0.4809616447255042, 1.287644232127595, 1.836146110025685, -0.11151507322238065, -1.251458276052178, -1.4470616711917, 0.10723640266054896, -0.9686962871440572, 1.4393440412212073, 0.13304099023488128, 0.4908125547596066, 0.5220823956304467, 0.3507904194832665, 0.2581747768061723, 0.12205361739481664, -0.4198161734207942, -0.37561858442804985, -1.6277731441939807, 1.2670489958455784, -0.8279945448260254, 1.5243878128552988, -1.3063636827096152, -0.005083638785516138, 0.5029272510206665, 0.3076220408997537, -1.6764059119651478, -1.5851239702752005, -0.8117329131730747, -0.663458209419483, 0.0856691449911914, 0.3456908076693621, 0.9819318143923648, -1.1238915488432348, 0.07568901601486262, -0.6329608158228868, -0.04523711591711723, -0.8385342648127595, 1.3551895570715595, 1.1454304810086735, 0.15400312415551504, 0.5266222368882257, -1.6216902724729327, -1.1645414566296808, -1.3257935329411572, 1.0928850861133592, 0.4397168800217103, 0.22162291000438433, -0.4214110310069617, 1.359394341005347, 0.755569142671456, -0.047668341509316696, 1.618663837028353, 0.07553200040376101, 1.4332407885042495, -0.6812263824951286, 0.4548067533565884, 0.8378693195141234, 0.7205082805758841, 0.5173519389365746, 0.16254471065118895, 0.7989306048084983, -0.7530959571258489, 0.792995916875926, -1.3084157648844408, -0.6948613980554555, -1.3657188199513584, -0.12912859493672632, 1.4763979073116997, -1.2508979201194812, -0.520025141114111, -0.6953210758379533, 0.5677098245114643, -0.2624853987239584, 2.5523006410694515, 0.6324875821159565, -0.1924944987687054, -0.5871756946439045, -0.02944436942818076, -1.9818632242606096, -1.5142323202732133, 0.8230299179180144, -1.3975522801520963, -0.7152243646234195, 0.34084939962171656, 1.9520183792854542], \"xaxis\": \"x2\", \"y\": [-1.3706341634977999, -0.44464357298030577, 0.21194758281043072, 0.12188250469054568, 0.23109750834636394, -2.078611900510734, -1.4125718461065768, 1.3226301173678356, 2.210811587319438, 0.36723881015481563, 0.7050702807104442, -0.905428803606851, -0.7375841040593092, -0.4226064027471685, 0.6645102742651933, -0.08735652306256615, -0.5813580330962289, 0.0716254537297011, 0.15204193295013044, 1.2331156163625931, 0.3672451559975761, -1.0078492704142434, -0.500538082300995, 0.4229458212448693, 0.6464313705076554, 0.2139423481071675, 0.1714393729772546, 1.9948550663201299, 0.4321704238991509, 0.7392842450688996, 0.541413784244687, 0.31978830459683383, -0.017365148471931328, -1.0857775822469622, -1.193103742314076, 1.099979033425753, 2.2056855426999866, -1.6669638663240616, -0.08506313981755931, -0.02951404577227692, 0.4881199025094287, -0.528706652714251, 0.3110493410602627, -0.994407222597656, -0.28465817230024915, 0.25556787422035, -1.956154522801279, 0.3883869966365133, 1.102046149073705, -0.4215054879821377, 0.24423815726095943, 0.4649265831057877, 0.4866105838030112, 0.7258641462406561, 0.66621179780112, 2.3012047560973246, 0.510448614366747, -0.0672027437684564, 0.9902492665119011, 0.995358276938806, -0.3609097311021256, -0.8462895865163238, 2.02343599829043, -1.9395551757350018, -0.09964614142319132, -0.6415266032082034, 0.09126807042650653, -0.7604286997610876, -1.4705671870066, -1.7726401934108293, 0.7123922422852348, 0.8179562452087664, 0.1397851465613479, -1.1900951296743383, 1.3545683824031913, -0.9862518332678586, 0.07713600519368458, 0.9665930002866592, -0.8836743785929374, 0.031183626981489555, -0.4541590764346655, -0.3059995675381995, -0.31819475456499857, -0.829947107638954, 0.5502331119843076, -2.2427912701229795, 0.9643634596297002, 0.4082628205500436, -0.472746067463226, 0.15807422758994447, -1.2478598233983356, 0.9421325113086404, 0.07985387835658049, 1.377428942663169, -0.17424251486922068, -0.8619395928622705, -0.7438063014346141, 1.0724948530588314, -0.2917142520456285, -0.4723161335846429], \"yaxis\": \"y2\"}, {\"line\": {\"color\": \"rgba(128, 128, 128, 1.0)\", \"dash\": \"solid\", \"shape\": \"linear\", \"width\": 1.3}, \"marker\": {\"size\": 2, \"symbol\": \"circle\"}, \"mode\": \"markers\", \"name\": \"A\", \"text\": \"\", \"type\": \"scatter\", \"x\": [-0.26746978994900555, 2.3564687792981025, 0.9181394123452596, 0.6222507870671455, 1.582638642834771, -0.24615722818260605, 2.4380488659753934, 0.9767449241238326, -0.2698621373104807, 0.9744394754800235, -0.8225843088846546, -1.0368531598599837, 2.5880721618925047, 0.08748524044269824, -0.2494050612545062, -1.5283833204592536, 1.1265142577492033, -0.8164542323621912, -0.3397840134675861, -0.010003535979367569, 0.012291095492325934, -0.2959295883512938, 1.4719794587638853, 0.5156996984149198, 0.9402598027304149, -0.6133157750171416, -0.3342519403060851, 1.867659538516592, -0.13614359738634726, 1.6538217851304051, -0.5399792444678289, 0.8231754660788133, -0.6845452566505845, 1.6315740318328997, 0.862164461446557, 0.3755760247132678, 0.6269662213934344, -1.7017816920270734, 1.1570783646027152, 0.14800634363582788, -1.8993759579560812, 0.3222762134504421, -0.07470995872587621, -0.024133779889820677, -0.12713423385337635, -0.585649804599596, 1.3867501799354642, -1.6477621492077392, -1.7473889786572288, -0.9322736946725885, 0.863261635570091, 1.368550896007332, 0.3028554107303457, -0.2318497635636668, -1.0637903210653838, 0.8715935971481547, -0.666432582526232, -1.4978946173319956, 0.24867008285154873, 1.2240571933030144, 0.19453772820828144, 1.187496676297169, 0.03581789845398097, -0.7927403128027556, -0.3336644452097193, 0.019625882267146913, -0.9924772268740895, 1.0001100781242585, 0.2111278540045392, 0.40882434546640334, 0.13323454904917018, -0.33733935475835186, 0.7774545019837307, 0.5577021693673793, 0.09739797345406256, 1.5373575058155147, -1.5082373496248003, 1.586501833646212, -0.5294725172554345, -0.30998298825803655, -0.6788919317976443, 1.672882536865222, -0.6660514206113448, -0.9345012367390731, -1.4669705466958005, 0.07035789983529755, -1.4032505352807945, 1.7689111968809879, -0.19844344560314478, -0.40038193016732043, 0.04329104181436085, 0.40083594554201213, 1.3119613356546358, -0.6827434615000966, -0.7185051107281525, 0.4205631782559048, 0.10612500333978087, 0.5336950914526908, 2.1507113717848303, 1.197182568034859], \"xaxis\": \"x3\", \"y\": [-1.3706341634977999, -0.44464357298030577, 0.21194758281043072, 0.12188250469054568, 0.23109750834636394, -2.078611900510734, -1.4125718461065768, 1.3226301173678356, 2.210811587319438, 0.36723881015481563, 0.7050702807104442, -0.905428803606851, -0.7375841040593092, -0.4226064027471685, 0.6645102742651933, -0.08735652306256615, -0.5813580330962289, 0.0716254537297011, 0.15204193295013044, 1.2331156163625931, 0.3672451559975761, -1.0078492704142434, -0.500538082300995, 0.4229458212448693, 0.6464313705076554, 0.2139423481071675, 0.1714393729772546, 1.9948550663201299, 0.4321704238991509, 0.7392842450688996, 0.541413784244687, 0.31978830459683383, -0.017365148471931328, -1.0857775822469622, -1.193103742314076, 1.099979033425753, 2.2056855426999866, -1.6669638663240616, -0.08506313981755931, -0.02951404577227692, 0.4881199025094287, -0.528706652714251, 0.3110493410602627, -0.994407222597656, -0.28465817230024915, 0.25556787422035, -1.956154522801279, 0.3883869966365133, 1.102046149073705, -0.4215054879821377, 0.24423815726095943, 0.4649265831057877, 0.4866105838030112, 0.7258641462406561, 0.66621179780112, 2.3012047560973246, 0.510448614366747, -0.0672027437684564, 0.9902492665119011, 0.995358276938806, -0.3609097311021256, -0.8462895865163238, 2.02343599829043, -1.9395551757350018, -0.09964614142319132, -0.6415266032082034, 0.09126807042650653, -0.7604286997610876, -1.4705671870066, -1.7726401934108293, 0.7123922422852348, 0.8179562452087664, 0.1397851465613479, -1.1900951296743383, 1.3545683824031913, -0.9862518332678586, 0.07713600519368458, 0.9665930002866592, -0.8836743785929374, 0.031183626981489555, -0.4541590764346655, -0.3059995675381995, -0.31819475456499857, -0.829947107638954, 0.5502331119843076, -2.2427912701229795, 0.9643634596297002, 0.4082628205500436, -0.472746067463226, 0.15807422758994447, -1.2478598233983356, 0.9421325113086404, 0.07985387835658049, 1.377428942663169, -0.17424251486922068, -0.8619395928622705, -0.7438063014346141, 1.0724948530588314, -0.2917142520456285, -0.4723161335846429], \"yaxis\": \"y3\"}, {\"line\": {\"color\": \"rgba(128, 128, 128, 1.0)\", \"dash\": \"solid\", \"shape\": \"linear\", \"width\": 1.3}, \"marker\": {\"size\": 2, \"symbol\": \"circle\"}, \"mode\": \"markers\", \"name\": \"A\", \"text\": \"\", \"type\": \"scatter\", \"x\": [1.270781806067053, 0.3154408424411026, -0.10526839163099147, 2.5600192582589374, -1.2179187621860124, 0.37129157767021215, 1.0967997272360106, 0.8923144777313083, -1.7037498944214629, -0.8630606486421002, 0.43978025816466665, 0.4723319142191631, 0.649963633686165, 0.6759233746855181, -1.2220584534626644, 0.4666643127321919, 0.02807325642432011, 0.3644860935466444, -0.6789619122001068, -1.0054305129692656, 0.12997294444060797, -1.269003841081698, -0.9796080810237936, -0.3088770264156233, 1.241467021621208, 0.8768681493842748, 0.038222443558742145, -1.4702152961513721, -1.444907056140843, -0.471464690614252, 0.05499541973541216, 0.029655614181858934, -0.31039150868855475, -0.35952132643763735, -0.2037403878719324, -0.5575050452693112, 0.00809725602635568, 1.00624432044223, 1.0303908909005464, 0.054511986672174356, 0.27648536166354826, 1.1012620363177252, 0.9947459191271949, -1.6124939641984772, -0.08764426899411765, 0.4118193090522227, -1.6536965147305271, 2.0252771466162196, 0.7039547188679173, 0.8785479558955114, -0.30029576401389074, -1.2757376192226533, -0.01265801454794506, -0.5466167455347981, 1.520503081982652, 1.7467407388411598, 0.2576703116948325, 1.1977205844782886, -1.3511300922923384, -1.0772764026873447, 0.03369331835276964, -0.3330535138860441, -0.9659005560635886, -0.4947752346949864, 0.6599549626639645, -1.5022983391146427, 0.384469628806515, -1.821500409924272, -0.2634662097482622, 0.4297261846783113, -1.138528339160372, -0.44815914132312556, 0.35984201426264883, 0.20612245764875556, 1.1556461873420554, -0.1509426981768724, 0.7511787767048612, 0.7442448808676135, 0.49051853867483497, -0.12589218799752233, -0.9426270376730208, -0.6386623781732003, 0.2331736856222689, 0.3793989075617643, -0.7514949933361587, -1.1395063263361749, 2.678874662810904, -0.41387971473063473, 0.014884534437804397, 0.19504162801801575, -1.9668312470895433, -1.8011735460987088, 1.2357113224299532, -0.6143704271613246, 0.932425234835989, 0.6791046831283395, 1.07047868424384, -2.102912433957582, -0.9225001532946917, 1.5186496161278766], \"xaxis\": \"x4\", \"y\": [-1.3706341634977999, -0.44464357298030577, 0.21194758281043072, 0.12188250469054568, 0.23109750834636394, -2.078611900510734, -1.4125718461065768, 1.3226301173678356, 2.210811587319438, 0.36723881015481563, 0.7050702807104442, -0.905428803606851, -0.7375841040593092, -0.4226064027471685, 0.6645102742651933, -0.08735652306256615, -0.5813580330962289, 0.0716254537297011, 0.15204193295013044, 1.2331156163625931, 0.3672451559975761, -1.0078492704142434, -0.500538082300995, 0.4229458212448693, 0.6464313705076554, 0.2139423481071675, 0.1714393729772546, 1.9948550663201299, 0.4321704238991509, 0.7392842450688996, 0.541413784244687, 0.31978830459683383, -0.017365148471931328, -1.0857775822469622, -1.193103742314076, 1.099979033425753, 2.2056855426999866, -1.6669638663240616, -0.08506313981755931, -0.02951404577227692, 0.4881199025094287, -0.528706652714251, 0.3110493410602627, -0.994407222597656, -0.28465817230024915, 0.25556787422035, -1.956154522801279, 0.3883869966365133, 1.102046149073705, -0.4215054879821377, 0.24423815726095943, 0.4649265831057877, 0.4866105838030112, 0.7258641462406561, 0.66621179780112, 2.3012047560973246, 0.510448614366747, -0.0672027437684564, 0.9902492665119011, 0.995358276938806, -0.3609097311021256, -0.8462895865163238, 2.02343599829043, -1.9395551757350018, -0.09964614142319132, -0.6415266032082034, 0.09126807042650653, -0.7604286997610876, -1.4705671870066, -1.7726401934108293, 0.7123922422852348, 0.8179562452087664, 0.1397851465613479, -1.1900951296743383, 1.3545683824031913, -0.9862518332678586, 0.07713600519368458, 0.9665930002866592, -0.8836743785929374, 0.031183626981489555, -0.4541590764346655, -0.3059995675381995, -0.31819475456499857, -0.829947107638954, 0.5502331119843076, -2.2427912701229795, 0.9643634596297002, 0.4082628205500436, -0.472746067463226, 0.15807422758994447, -1.2478598233983356, 0.9421325113086404, 0.07985387835658049, 1.377428942663169, -0.17424251486922068, -0.8619395928622705, -0.7438063014346141, 1.0724948530588314, -0.2917142520456285, -0.4723161335846429], \"yaxis\": \"y4\"}, {\"line\": {\"color\": \"rgba(128, 128, 128, 1.0)\", \"dash\": \"solid\", \"shape\": \"linear\", \"width\": 1.3}, \"marker\": {\"size\": 2, \"symbol\": \"circle\"}, \"mode\": \"markers\", \"name\": \"B\", \"text\": \"\", \"type\": \"scatter\", \"x\": [-1.3706341634977999, -0.44464357298030577, 0.21194758281043072, 0.12188250469054568, 0.23109750834636394, -2.078611900510734, -1.4125718461065768, 1.3226301173678356, 2.210811587319438, 0.36723881015481563, 0.7050702807104442, -0.905428803606851, -0.7375841040593092, -0.4226064027471685, 0.6645102742651933, -0.08735652306256615, -0.5813580330962289, 0.0716254537297011, 0.15204193295013044, 1.2331156163625931, 0.3672451559975761, -1.0078492704142434, -0.500538082300995, 0.4229458212448693, 0.6464313705076554, 0.2139423481071675, 0.1714393729772546, 1.9948550663201299, 0.4321704238991509, 0.7392842450688996, 0.541413784244687, 0.31978830459683383, -0.017365148471931328, -1.0857775822469622, -1.193103742314076, 1.099979033425753, 2.2056855426999866, -1.6669638663240616, -0.08506313981755931, -0.02951404577227692, 0.4881199025094287, -0.528706652714251, 0.3110493410602627, -0.994407222597656, -0.28465817230024915, 0.25556787422035, -1.956154522801279, 0.3883869966365133, 1.102046149073705, -0.4215054879821377, 0.24423815726095943, 0.4649265831057877, 0.4866105838030112, 0.7258641462406561, 0.66621179780112, 2.3012047560973246, 0.510448614366747, -0.0672027437684564, 0.9902492665119011, 0.995358276938806, -0.3609097311021256, -0.8462895865163238, 2.02343599829043, -1.9395551757350018, -0.09964614142319132, -0.6415266032082034, 0.09126807042650653, -0.7604286997610876, -1.4705671870066, -1.7726401934108293, 0.7123922422852348, 0.8179562452087664, 0.1397851465613479, -1.1900951296743383, 1.3545683824031913, -0.9862518332678586, 0.07713600519368458, 0.9665930002866592, -0.8836743785929374, 0.031183626981489555, -0.4541590764346655, -0.3059995675381995, -0.31819475456499857, -0.829947107638954, 0.5502331119843076, -2.2427912701229795, 0.9643634596297002, 0.4082628205500436, -0.472746067463226, 0.15807422758994447, -1.2478598233983356, 0.9421325113086404, 0.07985387835658049, 1.377428942663169, -0.17424251486922068, -0.8619395928622705, -0.7438063014346141, 1.0724948530588314, -0.2917142520456285, -0.4723161335846429], \"xaxis\": \"x5\", \"y\": [-1.4196724829893959, 0.6937772020980084, -0.4812846650690201, 0.035158586908787745, -0.45017873068516073, -0.030059928365334238, -1.856233899690452, -0.5590337797075252, -0.5804073030280686, 1.150854046333595, -0.6733858899708351, 0.8266969326608955, 1.7988410661820298, 1.1778011802008324, 0.10006808003616055, 0.4809616447255042, 1.287644232127595, 1.836146110025685, -0.11151507322238065, -1.251458276052178, -1.4470616711917, 0.10723640266054896, -0.9686962871440572, 1.4393440412212073, 0.13304099023488128, 0.4908125547596066, 0.5220823956304467, 0.3507904194832665, 0.2581747768061723, 0.12205361739481664, -0.4198161734207942, -0.37561858442804985, -1.6277731441939807, 1.2670489958455784, -0.8279945448260254, 1.5243878128552988, -1.3063636827096152, -0.005083638785516138, 0.5029272510206665, 0.3076220408997537, -1.6764059119651478, -1.5851239702752005, -0.8117329131730747, -0.663458209419483, 0.0856691449911914, 0.3456908076693621, 0.9819318143923648, -1.1238915488432348, 0.07568901601486262, -0.6329608158228868, -0.04523711591711723, -0.8385342648127595, 1.3551895570715595, 1.1454304810086735, 0.15400312415551504, 0.5266222368882257, -1.6216902724729327, -1.1645414566296808, -1.3257935329411572, 1.0928850861133592, 0.4397168800217103, 0.22162291000438433, -0.4214110310069617, 1.359394341005347, 0.755569142671456, -0.047668341509316696, 1.618663837028353, 0.07553200040376101, 1.4332407885042495, -0.6812263824951286, 0.4548067533565884, 0.8378693195141234, 0.7205082805758841, 0.5173519389365746, 0.16254471065118895, 0.7989306048084983, -0.7530959571258489, 0.792995916875926, -1.3084157648844408, -0.6948613980554555, -1.3657188199513584, -0.12912859493672632, 1.4763979073116997, -1.2508979201194812, -0.520025141114111, -0.6953210758379533, 0.5677098245114643, -0.2624853987239584, 2.5523006410694515, 0.6324875821159565, -0.1924944987687054, -0.5871756946439045, -0.02944436942818076, -1.9818632242606096, -1.5142323202732133, 0.8230299179180144, -1.3975522801520963, -0.7152243646234195, 0.34084939962171656, 1.9520183792854542], \"yaxis\": \"y5\"}, {\"histfunc\": \"count\", \"histnorm\": \"\", \"marker\": {\"color\": \"rgba(55, 128, 191, 1.0)\", \"line\": {\"color\": \"#4D5663\", \"width\": 1.3}}, \"name\": \"B\", \"nbinsx\": 10, \"opacity\": 0.8, \"orientation\": \"v\", \"type\": \"histogram\", \"x\": [-1.4196724829893959, 0.6937772020980084, -0.4812846650690201, 0.035158586908787745, -0.45017873068516073, -0.030059928365334238, -1.856233899690452, -0.5590337797075252, -0.5804073030280686, 1.150854046333595, -0.6733858899708351, 0.8266969326608955, 1.7988410661820298, 1.1778011802008324, 0.10006808003616055, 0.4809616447255042, 1.287644232127595, 1.836146110025685, -0.11151507322238065, -1.251458276052178, -1.4470616711917, 0.10723640266054896, -0.9686962871440572, 1.4393440412212073, 0.13304099023488128, 0.4908125547596066, 0.5220823956304467, 0.3507904194832665, 0.2581747768061723, 0.12205361739481664, -0.4198161734207942, -0.37561858442804985, -1.6277731441939807, 1.2670489958455784, -0.8279945448260254, 1.5243878128552988, -1.3063636827096152, -0.005083638785516138, 0.5029272510206665, 0.3076220408997537, -1.6764059119651478, -1.5851239702752005, -0.8117329131730747, -0.663458209419483, 0.0856691449911914, 0.3456908076693621, 0.9819318143923648, -1.1238915488432348, 0.07568901601486262, -0.6329608158228868, -0.04523711591711723, -0.8385342648127595, 1.3551895570715595, 1.1454304810086735, 0.15400312415551504, 0.5266222368882257, -1.6216902724729327, -1.1645414566296808, -1.3257935329411572, 1.0928850861133592, 0.4397168800217103, 0.22162291000438433, -0.4214110310069617, 1.359394341005347, 0.755569142671456, -0.047668341509316696, 1.618663837028353, 0.07553200040376101, 1.4332407885042495, -0.6812263824951286, 0.4548067533565884, 0.8378693195141234, 0.7205082805758841, 0.5173519389365746, 0.16254471065118895, 0.7989306048084983, -0.7530959571258489, 0.792995916875926, -1.3084157648844408, -0.6948613980554555, -1.3657188199513584, -0.12912859493672632, 1.4763979073116997, -1.2508979201194812, -0.520025141114111, -0.6953210758379533, 0.5677098245114643, -0.2624853987239584, 2.5523006410694515, 0.6324875821159565, -0.1924944987687054, -0.5871756946439045, -0.02944436942818076, -1.9818632242606096, -1.5142323202732133, 0.8230299179180144, -1.3975522801520963, -0.7152243646234195, 0.34084939962171656, 1.9520183792854542], \"xaxis\": \"x6\", \"yaxis\": \"y6\"}, {\"line\": {\"color\": \"rgba(128, 128, 128, 1.0)\", \"dash\": \"solid\", \"shape\": \"linear\", \"width\": 1.3}, \"marker\": {\"size\": 2, \"symbol\": \"circle\"}, \"mode\": \"markers\", \"name\": \"B\", \"text\": \"\", \"type\": \"scatter\", \"x\": [-0.26746978994900555, 2.3564687792981025, 0.9181394123452596, 0.6222507870671455, 1.582638642834771, -0.24615722818260605, 2.4380488659753934, 0.9767449241238326, -0.2698621373104807, 0.9744394754800235, -0.8225843088846546, -1.0368531598599837, 2.5880721618925047, 0.08748524044269824, -0.2494050612545062, -1.5283833204592536, 1.1265142577492033, -0.8164542323621912, -0.3397840134675861, -0.010003535979367569, 0.012291095492325934, -0.2959295883512938, 1.4719794587638853, 0.5156996984149198, 0.9402598027304149, -0.6133157750171416, -0.3342519403060851, 1.867659538516592, -0.13614359738634726, 1.6538217851304051, -0.5399792444678289, 0.8231754660788133, -0.6845452566505845, 1.6315740318328997, 0.862164461446557, 0.3755760247132678, 0.6269662213934344, -1.7017816920270734, 1.1570783646027152, 0.14800634363582788, -1.8993759579560812, 0.3222762134504421, -0.07470995872587621, -0.024133779889820677, -0.12713423385337635, -0.585649804599596, 1.3867501799354642, -1.6477621492077392, -1.7473889786572288, -0.9322736946725885, 0.863261635570091, 1.368550896007332, 0.3028554107303457, -0.2318497635636668, -1.0637903210653838, 0.8715935971481547, -0.666432582526232, -1.4978946173319956, 0.24867008285154873, 1.2240571933030144, 0.19453772820828144, 1.187496676297169, 0.03581789845398097, -0.7927403128027556, -0.3336644452097193, 0.019625882267146913, -0.9924772268740895, 1.0001100781242585, 0.2111278540045392, 0.40882434546640334, 0.13323454904917018, -0.33733935475835186, 0.7774545019837307, 0.5577021693673793, 0.09739797345406256, 1.5373575058155147, -1.5082373496248003, 1.586501833646212, -0.5294725172554345, -0.30998298825803655, -0.6788919317976443, 1.672882536865222, -0.6660514206113448, -0.9345012367390731, -1.4669705466958005, 0.07035789983529755, -1.4032505352807945, 1.7689111968809879, -0.19844344560314478, -0.40038193016732043, 0.04329104181436085, 0.40083594554201213, 1.3119613356546358, -0.6827434615000966, -0.7185051107281525, 0.4205631782559048, 0.10612500333978087, 0.5336950914526908, 2.1507113717848303, 1.197182568034859], \"xaxis\": \"x7\", \"y\": [-1.4196724829893959, 0.6937772020980084, -0.4812846650690201, 0.035158586908787745, -0.45017873068516073, -0.030059928365334238, -1.856233899690452, -0.5590337797075252, -0.5804073030280686, 1.150854046333595, -0.6733858899708351, 0.8266969326608955, 1.7988410661820298, 1.1778011802008324, 0.10006808003616055, 0.4809616447255042, 1.287644232127595, 1.836146110025685, -0.11151507322238065, -1.251458276052178, -1.4470616711917, 0.10723640266054896, -0.9686962871440572, 1.4393440412212073, 0.13304099023488128, 0.4908125547596066, 0.5220823956304467, 0.3507904194832665, 0.2581747768061723, 0.12205361739481664, -0.4198161734207942, -0.37561858442804985, -1.6277731441939807, 1.2670489958455784, -0.8279945448260254, 1.5243878128552988, -1.3063636827096152, -0.005083638785516138, 0.5029272510206665, 0.3076220408997537, -1.6764059119651478, -1.5851239702752005, -0.8117329131730747, -0.663458209419483, 0.0856691449911914, 0.3456908076693621, 0.9819318143923648, -1.1238915488432348, 0.07568901601486262, -0.6329608158228868, -0.04523711591711723, -0.8385342648127595, 1.3551895570715595, 1.1454304810086735, 0.15400312415551504, 0.5266222368882257, -1.6216902724729327, -1.1645414566296808, -1.3257935329411572, 1.0928850861133592, 0.4397168800217103, 0.22162291000438433, -0.4214110310069617, 1.359394341005347, 0.755569142671456, -0.047668341509316696, 1.618663837028353, 0.07553200040376101, 1.4332407885042495, -0.6812263824951286, 0.4548067533565884, 0.8378693195141234, 0.7205082805758841, 0.5173519389365746, 0.16254471065118895, 0.7989306048084983, -0.7530959571258489, 0.792995916875926, -1.3084157648844408, -0.6948613980554555, -1.3657188199513584, -0.12912859493672632, 1.4763979073116997, -1.2508979201194812, -0.520025141114111, -0.6953210758379533, 0.5677098245114643, -0.2624853987239584, 2.5523006410694515, 0.6324875821159565, -0.1924944987687054, -0.5871756946439045, -0.02944436942818076, -1.9818632242606096, -1.5142323202732133, 0.8230299179180144, -1.3975522801520963, -0.7152243646234195, 0.34084939962171656, 1.9520183792854542], \"yaxis\": \"y7\"}, {\"line\": {\"color\": \"rgba(128, 128, 128, 1.0)\", \"dash\": \"solid\", \"shape\": \"linear\", \"width\": 1.3}, \"marker\": {\"size\": 2, \"symbol\": \"circle\"}, \"mode\": \"markers\", \"name\": \"B\", \"text\": \"\", \"type\": \"scatter\", \"x\": [1.270781806067053, 0.3154408424411026, -0.10526839163099147, 2.5600192582589374, -1.2179187621860124, 0.37129157767021215, 1.0967997272360106, 0.8923144777313083, -1.7037498944214629, -0.8630606486421002, 0.43978025816466665, 0.4723319142191631, 0.649963633686165, 0.6759233746855181, -1.2220584534626644, 0.4666643127321919, 0.02807325642432011, 0.3644860935466444, -0.6789619122001068, -1.0054305129692656, 0.12997294444060797, -1.269003841081698, -0.9796080810237936, -0.3088770264156233, 1.241467021621208, 0.8768681493842748, 0.038222443558742145, -1.4702152961513721, -1.444907056140843, -0.471464690614252, 0.05499541973541216, 0.029655614181858934, -0.31039150868855475, -0.35952132643763735, -0.2037403878719324, -0.5575050452693112, 0.00809725602635568, 1.00624432044223, 1.0303908909005464, 0.054511986672174356, 0.27648536166354826, 1.1012620363177252, 0.9947459191271949, -1.6124939641984772, -0.08764426899411765, 0.4118193090522227, -1.6536965147305271, 2.0252771466162196, 0.7039547188679173, 0.8785479558955114, -0.30029576401389074, -1.2757376192226533, -0.01265801454794506, -0.5466167455347981, 1.520503081982652, 1.7467407388411598, 0.2576703116948325, 1.1977205844782886, -1.3511300922923384, -1.0772764026873447, 0.03369331835276964, -0.3330535138860441, -0.9659005560635886, -0.4947752346949864, 0.6599549626639645, -1.5022983391146427, 0.384469628806515, -1.821500409924272, -0.2634662097482622, 0.4297261846783113, -1.138528339160372, -0.44815914132312556, 0.35984201426264883, 0.20612245764875556, 1.1556461873420554, -0.1509426981768724, 0.7511787767048612, 0.7442448808676135, 0.49051853867483497, -0.12589218799752233, -0.9426270376730208, -0.6386623781732003, 0.2331736856222689, 0.3793989075617643, -0.7514949933361587, -1.1395063263361749, 2.678874662810904, -0.41387971473063473, 0.014884534437804397, 0.19504162801801575, -1.9668312470895433, -1.8011735460987088, 1.2357113224299532, -0.6143704271613246, 0.932425234835989, 0.6791046831283395, 1.07047868424384, -2.102912433957582, -0.9225001532946917, 1.5186496161278766], \"xaxis\": \"x8\", \"y\": [-1.4196724829893959, 0.6937772020980084, -0.4812846650690201, 0.035158586908787745, -0.45017873068516073, -0.030059928365334238, -1.856233899690452, -0.5590337797075252, -0.5804073030280686, 1.150854046333595, -0.6733858899708351, 0.8266969326608955, 1.7988410661820298, 1.1778011802008324, 0.10006808003616055, 0.4809616447255042, 1.287644232127595, 1.836146110025685, -0.11151507322238065, -1.251458276052178, -1.4470616711917, 0.10723640266054896, -0.9686962871440572, 1.4393440412212073, 0.13304099023488128, 0.4908125547596066, 0.5220823956304467, 0.3507904194832665, 0.2581747768061723, 0.12205361739481664, -0.4198161734207942, -0.37561858442804985, -1.6277731441939807, 1.2670489958455784, -0.8279945448260254, 1.5243878128552988, -1.3063636827096152, -0.005083638785516138, 0.5029272510206665, 0.3076220408997537, -1.6764059119651478, -1.5851239702752005, -0.8117329131730747, -0.663458209419483, 0.0856691449911914, 0.3456908076693621, 0.9819318143923648, -1.1238915488432348, 0.07568901601486262, -0.6329608158228868, -0.04523711591711723, -0.8385342648127595, 1.3551895570715595, 1.1454304810086735, 0.15400312415551504, 0.5266222368882257, -1.6216902724729327, -1.1645414566296808, -1.3257935329411572, 1.0928850861133592, 0.4397168800217103, 0.22162291000438433, -0.4214110310069617, 1.359394341005347, 0.755569142671456, -0.047668341509316696, 1.618663837028353, 0.07553200040376101, 1.4332407885042495, -0.6812263824951286, 0.4548067533565884, 0.8378693195141234, 0.7205082805758841, 0.5173519389365746, 0.16254471065118895, 0.7989306048084983, -0.7530959571258489, 0.792995916875926, -1.3084157648844408, -0.6948613980554555, -1.3657188199513584, -0.12912859493672632, 1.4763979073116997, -1.2508979201194812, -0.520025141114111, -0.6953210758379533, 0.5677098245114643, -0.2624853987239584, 2.5523006410694515, 0.6324875821159565, -0.1924944987687054, -0.5871756946439045, -0.02944436942818076, -1.9818632242606096, -1.5142323202732133, 0.8230299179180144, -1.3975522801520963, -0.7152243646234195, 0.34084939962171656, 1.9520183792854542], \"yaxis\": \"y8\"}, {\"line\": {\"color\": \"rgba(128, 128, 128, 1.0)\", \"dash\": \"solid\", \"shape\": \"linear\", \"width\": 1.3}, \"marker\": {\"size\": 2, \"symbol\": \"circle\"}, \"mode\": \"markers\", \"name\": \"C\", \"text\": \"\", \"type\": \"scatter\", \"x\": [-1.3706341634977999, -0.44464357298030577, 0.21194758281043072, 0.12188250469054568, 0.23109750834636394, -2.078611900510734, -1.4125718461065768, 1.3226301173678356, 2.210811587319438, 0.36723881015481563, 0.7050702807104442, -0.905428803606851, -0.7375841040593092, -0.4226064027471685, 0.6645102742651933, -0.08735652306256615, -0.5813580330962289, 0.0716254537297011, 0.15204193295013044, 1.2331156163625931, 0.3672451559975761, -1.0078492704142434, -0.500538082300995, 0.4229458212448693, 0.6464313705076554, 0.2139423481071675, 0.1714393729772546, 1.9948550663201299, 0.4321704238991509, 0.7392842450688996, 0.541413784244687, 0.31978830459683383, -0.017365148471931328, -1.0857775822469622, -1.193103742314076, 1.099979033425753, 2.2056855426999866, -1.6669638663240616, -0.08506313981755931, -0.02951404577227692, 0.4881199025094287, -0.528706652714251, 0.3110493410602627, -0.994407222597656, -0.28465817230024915, 0.25556787422035, -1.956154522801279, 0.3883869966365133, 1.102046149073705, -0.4215054879821377, 0.24423815726095943, 0.4649265831057877, 0.4866105838030112, 0.7258641462406561, 0.66621179780112, 2.3012047560973246, 0.510448614366747, -0.0672027437684564, 0.9902492665119011, 0.995358276938806, -0.3609097311021256, -0.8462895865163238, 2.02343599829043, -1.9395551757350018, -0.09964614142319132, -0.6415266032082034, 0.09126807042650653, -0.7604286997610876, -1.4705671870066, -1.7726401934108293, 0.7123922422852348, 0.8179562452087664, 0.1397851465613479, -1.1900951296743383, 1.3545683824031913, -0.9862518332678586, 0.07713600519368458, 0.9665930002866592, -0.8836743785929374, 0.031183626981489555, -0.4541590764346655, -0.3059995675381995, -0.31819475456499857, -0.829947107638954, 0.5502331119843076, -2.2427912701229795, 0.9643634596297002, 0.4082628205500436, -0.472746067463226, 0.15807422758994447, -1.2478598233983356, 0.9421325113086404, 0.07985387835658049, 1.377428942663169, -0.17424251486922068, -0.8619395928622705, -0.7438063014346141, 1.0724948530588314, -0.2917142520456285, -0.4723161335846429], \"xaxis\": \"x9\", \"y\": [-0.26746978994900555, 2.3564687792981025, 0.9181394123452596, 0.6222507870671455, 1.582638642834771, -0.24615722818260605, 2.4380488659753934, 0.9767449241238326, -0.2698621373104807, 0.9744394754800235, -0.8225843088846546, -1.0368531598599837, 2.5880721618925047, 0.08748524044269824, -0.2494050612545062, -1.5283833204592536, 1.1265142577492033, -0.8164542323621912, -0.3397840134675861, -0.010003535979367569, 0.012291095492325934, -0.2959295883512938, 1.4719794587638853, 0.5156996984149198, 0.9402598027304149, -0.6133157750171416, -0.3342519403060851, 1.867659538516592, -0.13614359738634726, 1.6538217851304051, -0.5399792444678289, 0.8231754660788133, -0.6845452566505845, 1.6315740318328997, 0.862164461446557, 0.3755760247132678, 0.6269662213934344, -1.7017816920270734, 1.1570783646027152, 0.14800634363582788, -1.8993759579560812, 0.3222762134504421, -0.07470995872587621, -0.024133779889820677, -0.12713423385337635, -0.585649804599596, 1.3867501799354642, -1.6477621492077392, -1.7473889786572288, -0.9322736946725885, 0.863261635570091, 1.368550896007332, 0.3028554107303457, -0.2318497635636668, -1.0637903210653838, 0.8715935971481547, -0.666432582526232, -1.4978946173319956, 0.24867008285154873, 1.2240571933030144, 0.19453772820828144, 1.187496676297169, 0.03581789845398097, -0.7927403128027556, -0.3336644452097193, 0.019625882267146913, -0.9924772268740895, 1.0001100781242585, 0.2111278540045392, 0.40882434546640334, 0.13323454904917018, -0.33733935475835186, 0.7774545019837307, 0.5577021693673793, 0.09739797345406256, 1.5373575058155147, -1.5082373496248003, 1.586501833646212, -0.5294725172554345, -0.30998298825803655, -0.6788919317976443, 1.672882536865222, -0.6660514206113448, -0.9345012367390731, -1.4669705466958005, 0.07035789983529755, -1.4032505352807945, 1.7689111968809879, -0.19844344560314478, -0.40038193016732043, 0.04329104181436085, 0.40083594554201213, 1.3119613356546358, -0.6827434615000966, -0.7185051107281525, 0.4205631782559048, 0.10612500333978087, 0.5336950914526908, 2.1507113717848303, 1.197182568034859], \"yaxis\": \"y9\"}, {\"line\": {\"color\": \"rgba(128, 128, 128, 1.0)\", \"dash\": \"solid\", \"shape\": \"linear\", \"width\": 1.3}, \"marker\": {\"size\": 2, \"symbol\": \"circle\"}, \"mode\": \"markers\", \"name\": \"C\", \"text\": \"\", \"type\": \"scatter\", \"x\": [-1.4196724829893959, 0.6937772020980084, -0.4812846650690201, 0.035158586908787745, -0.45017873068516073, -0.030059928365334238, -1.856233899690452, -0.5590337797075252, -0.5804073030280686, 1.150854046333595, -0.6733858899708351, 0.8266969326608955, 1.7988410661820298, 1.1778011802008324, 0.10006808003616055, 0.4809616447255042, 1.287644232127595, 1.836146110025685, -0.11151507322238065, -1.251458276052178, -1.4470616711917, 0.10723640266054896, -0.9686962871440572, 1.4393440412212073, 0.13304099023488128, 0.4908125547596066, 0.5220823956304467, 0.3507904194832665, 0.2581747768061723, 0.12205361739481664, -0.4198161734207942, -0.37561858442804985, -1.6277731441939807, 1.2670489958455784, -0.8279945448260254, 1.5243878128552988, -1.3063636827096152, -0.005083638785516138, 0.5029272510206665, 0.3076220408997537, -1.6764059119651478, -1.5851239702752005, -0.8117329131730747, -0.663458209419483, 0.0856691449911914, 0.3456908076693621, 0.9819318143923648, -1.1238915488432348, 0.07568901601486262, -0.6329608158228868, -0.04523711591711723, -0.8385342648127595, 1.3551895570715595, 1.1454304810086735, 0.15400312415551504, 0.5266222368882257, -1.6216902724729327, -1.1645414566296808, -1.3257935329411572, 1.0928850861133592, 0.4397168800217103, 0.22162291000438433, -0.4214110310069617, 1.359394341005347, 0.755569142671456, -0.047668341509316696, 1.618663837028353, 0.07553200040376101, 1.4332407885042495, -0.6812263824951286, 0.4548067533565884, 0.8378693195141234, 0.7205082805758841, 0.5173519389365746, 0.16254471065118895, 0.7989306048084983, -0.7530959571258489, 0.792995916875926, -1.3084157648844408, -0.6948613980554555, -1.3657188199513584, -0.12912859493672632, 1.4763979073116997, -1.2508979201194812, -0.520025141114111, -0.6953210758379533, 0.5677098245114643, -0.2624853987239584, 2.5523006410694515, 0.6324875821159565, -0.1924944987687054, -0.5871756946439045, -0.02944436942818076, -1.9818632242606096, -1.5142323202732133, 0.8230299179180144, -1.3975522801520963, -0.7152243646234195, 0.34084939962171656, 1.9520183792854542], \"xaxis\": \"x10\", \"y\": [-0.26746978994900555, 2.3564687792981025, 0.9181394123452596, 0.6222507870671455, 1.582638642834771, -0.24615722818260605, 2.4380488659753934, 0.9767449241238326, -0.2698621373104807, 0.9744394754800235, -0.8225843088846546, -1.0368531598599837, 2.5880721618925047, 0.08748524044269824, -0.2494050612545062, -1.5283833204592536, 1.1265142577492033, -0.8164542323621912, -0.3397840134675861, -0.010003535979367569, 0.012291095492325934, -0.2959295883512938, 1.4719794587638853, 0.5156996984149198, 0.9402598027304149, -0.6133157750171416, -0.3342519403060851, 1.867659538516592, -0.13614359738634726, 1.6538217851304051, -0.5399792444678289, 0.8231754660788133, -0.6845452566505845, 1.6315740318328997, 0.862164461446557, 0.3755760247132678, 0.6269662213934344, -1.7017816920270734, 1.1570783646027152, 0.14800634363582788, -1.8993759579560812, 0.3222762134504421, -0.07470995872587621, -0.024133779889820677, -0.12713423385337635, -0.585649804599596, 1.3867501799354642, -1.6477621492077392, -1.7473889786572288, -0.9322736946725885, 0.863261635570091, 1.368550896007332, 0.3028554107303457, -0.2318497635636668, -1.0637903210653838, 0.8715935971481547, -0.666432582526232, -1.4978946173319956, 0.24867008285154873, 1.2240571933030144, 0.19453772820828144, 1.187496676297169, 0.03581789845398097, -0.7927403128027556, -0.3336644452097193, 0.019625882267146913, -0.9924772268740895, 1.0001100781242585, 0.2111278540045392, 0.40882434546640334, 0.13323454904917018, -0.33733935475835186, 0.7774545019837307, 0.5577021693673793, 0.09739797345406256, 1.5373575058155147, -1.5082373496248003, 1.586501833646212, -0.5294725172554345, -0.30998298825803655, -0.6788919317976443, 1.672882536865222, -0.6660514206113448, -0.9345012367390731, -1.4669705466958005, 0.07035789983529755, -1.4032505352807945, 1.7689111968809879, -0.19844344560314478, -0.40038193016732043, 0.04329104181436085, 0.40083594554201213, 1.3119613356546358, -0.6827434615000966, -0.7185051107281525, 0.4205631782559048, 0.10612500333978087, 0.5336950914526908, 2.1507113717848303, 1.197182568034859], \"yaxis\": \"y10\"}, {\"histfunc\": \"count\", \"histnorm\": \"\", \"marker\": {\"color\": \"rgba(50, 171, 96, 1.0)\", \"line\": {\"color\": \"#4D5663\", \"width\": 1.3}}, \"name\": \"C\", \"nbinsx\": 10, \"opacity\": 0.8, \"orientation\": \"v\", \"type\": \"histogram\", \"x\": [-0.26746978994900555, 2.3564687792981025, 0.9181394123452596, 0.6222507870671455, 1.582638642834771, -0.24615722818260605, 2.4380488659753934, 0.9767449241238326, -0.2698621373104807, 0.9744394754800235, -0.8225843088846546, -1.0368531598599837, 2.5880721618925047, 0.08748524044269824, -0.2494050612545062, -1.5283833204592536, 1.1265142577492033, -0.8164542323621912, -0.3397840134675861, -0.010003535979367569, 0.012291095492325934, -0.2959295883512938, 1.4719794587638853, 0.5156996984149198, 0.9402598027304149, -0.6133157750171416, -0.3342519403060851, 1.867659538516592, -0.13614359738634726, 1.6538217851304051, -0.5399792444678289, 0.8231754660788133, -0.6845452566505845, 1.6315740318328997, 0.862164461446557, 0.3755760247132678, 0.6269662213934344, -1.7017816920270734, 1.1570783646027152, 0.14800634363582788, -1.8993759579560812, 0.3222762134504421, -0.07470995872587621, -0.024133779889820677, -0.12713423385337635, -0.585649804599596, 1.3867501799354642, -1.6477621492077392, -1.7473889786572288, -0.9322736946725885, 0.863261635570091, 1.368550896007332, 0.3028554107303457, -0.2318497635636668, -1.0637903210653838, 0.8715935971481547, -0.666432582526232, -1.4978946173319956, 0.24867008285154873, 1.2240571933030144, 0.19453772820828144, 1.187496676297169, 0.03581789845398097, -0.7927403128027556, -0.3336644452097193, 0.019625882267146913, -0.9924772268740895, 1.0001100781242585, 0.2111278540045392, 0.40882434546640334, 0.13323454904917018, -0.33733935475835186, 0.7774545019837307, 0.5577021693673793, 0.09739797345406256, 1.5373575058155147, -1.5082373496248003, 1.586501833646212, -0.5294725172554345, -0.30998298825803655, -0.6788919317976443, 1.672882536865222, -0.6660514206113448, -0.9345012367390731, -1.4669705466958005, 0.07035789983529755, -1.4032505352807945, 1.7689111968809879, -0.19844344560314478, -0.40038193016732043, 0.04329104181436085, 0.40083594554201213, 1.3119613356546358, -0.6827434615000966, -0.7185051107281525, 0.4205631782559048, 0.10612500333978087, 0.5336950914526908, 2.1507113717848303, 1.197182568034859], \"xaxis\": \"x11\", \"yaxis\": \"y11\"}, {\"line\": {\"color\": \"rgba(128, 128, 128, 1.0)\", \"dash\": \"solid\", \"shape\": \"linear\", \"width\": 1.3}, \"marker\": {\"size\": 2, \"symbol\": \"circle\"}, \"mode\": \"markers\", \"name\": \"C\", \"text\": \"\", \"type\": \"scatter\", \"x\": [1.270781806067053, 0.3154408424411026, -0.10526839163099147, 2.5600192582589374, -1.2179187621860124, 0.37129157767021215, 1.0967997272360106, 0.8923144777313083, -1.7037498944214629, -0.8630606486421002, 0.43978025816466665, 0.4723319142191631, 0.649963633686165, 0.6759233746855181, -1.2220584534626644, 0.4666643127321919, 0.02807325642432011, 0.3644860935466444, -0.6789619122001068, -1.0054305129692656, 0.12997294444060797, -1.269003841081698, -0.9796080810237936, -0.3088770264156233, 1.241467021621208, 0.8768681493842748, 0.038222443558742145, -1.4702152961513721, -1.444907056140843, -0.471464690614252, 0.05499541973541216, 0.029655614181858934, -0.31039150868855475, -0.35952132643763735, -0.2037403878719324, -0.5575050452693112, 0.00809725602635568, 1.00624432044223, 1.0303908909005464, 0.054511986672174356, 0.27648536166354826, 1.1012620363177252, 0.9947459191271949, -1.6124939641984772, -0.08764426899411765, 0.4118193090522227, -1.6536965147305271, 2.0252771466162196, 0.7039547188679173, 0.8785479558955114, -0.30029576401389074, -1.2757376192226533, -0.01265801454794506, -0.5466167455347981, 1.520503081982652, 1.7467407388411598, 0.2576703116948325, 1.1977205844782886, -1.3511300922923384, -1.0772764026873447, 0.03369331835276964, -0.3330535138860441, -0.9659005560635886, -0.4947752346949864, 0.6599549626639645, -1.5022983391146427, 0.384469628806515, -1.821500409924272, -0.2634662097482622, 0.4297261846783113, -1.138528339160372, -0.44815914132312556, 0.35984201426264883, 0.20612245764875556, 1.1556461873420554, -0.1509426981768724, 0.7511787767048612, 0.7442448808676135, 0.49051853867483497, -0.12589218799752233, -0.9426270376730208, -0.6386623781732003, 0.2331736856222689, 0.3793989075617643, -0.7514949933361587, -1.1395063263361749, 2.678874662810904, -0.41387971473063473, 0.014884534437804397, 0.19504162801801575, -1.9668312470895433, -1.8011735460987088, 1.2357113224299532, -0.6143704271613246, 0.932425234835989, 0.6791046831283395, 1.07047868424384, -2.102912433957582, -0.9225001532946917, 1.5186496161278766], \"xaxis\": \"x12\", \"y\": [-0.26746978994900555, 2.3564687792981025, 0.9181394123452596, 0.6222507870671455, 1.582638642834771, -0.24615722818260605, 2.4380488659753934, 0.9767449241238326, -0.2698621373104807, 0.9744394754800235, -0.8225843088846546, -1.0368531598599837, 2.5880721618925047, 0.08748524044269824, -0.2494050612545062, -1.5283833204592536, 1.1265142577492033, -0.8164542323621912, -0.3397840134675861, -0.010003535979367569, 0.012291095492325934, -0.2959295883512938, 1.4719794587638853, 0.5156996984149198, 0.9402598027304149, -0.6133157750171416, -0.3342519403060851, 1.867659538516592, -0.13614359738634726, 1.6538217851304051, -0.5399792444678289, 0.8231754660788133, -0.6845452566505845, 1.6315740318328997, 0.862164461446557, 0.3755760247132678, 0.6269662213934344, -1.7017816920270734, 1.1570783646027152, 0.14800634363582788, -1.8993759579560812, 0.3222762134504421, -0.07470995872587621, -0.024133779889820677, -0.12713423385337635, -0.585649804599596, 1.3867501799354642, -1.6477621492077392, -1.7473889786572288, -0.9322736946725885, 0.863261635570091, 1.368550896007332, 0.3028554107303457, -0.2318497635636668, -1.0637903210653838, 0.8715935971481547, -0.666432582526232, -1.4978946173319956, 0.24867008285154873, 1.2240571933030144, 0.19453772820828144, 1.187496676297169, 0.03581789845398097, -0.7927403128027556, -0.3336644452097193, 0.019625882267146913, -0.9924772268740895, 1.0001100781242585, 0.2111278540045392, 0.40882434546640334, 0.13323454904917018, -0.33733935475835186, 0.7774545019837307, 0.5577021693673793, 0.09739797345406256, 1.5373575058155147, -1.5082373496248003, 1.586501833646212, -0.5294725172554345, -0.30998298825803655, -0.6788919317976443, 1.672882536865222, -0.6660514206113448, -0.9345012367390731, -1.4669705466958005, 0.07035789983529755, -1.4032505352807945, 1.7689111968809879, -0.19844344560314478, -0.40038193016732043, 0.04329104181436085, 0.40083594554201213, 1.3119613356546358, -0.6827434615000966, -0.7185051107281525, 0.4205631782559048, 0.10612500333978087, 0.5336950914526908, 2.1507113717848303, 1.197182568034859], \"yaxis\": \"y12\"}, {\"line\": {\"color\": \"rgba(128, 128, 128, 1.0)\", \"dash\": \"solid\", \"shape\": \"linear\", \"width\": 1.3}, \"marker\": {\"size\": 2, \"symbol\": \"circle\"}, \"mode\": \"markers\", \"name\": \"D\", \"text\": \"\", \"type\": \"scatter\", \"x\": [-1.3706341634977999, -0.44464357298030577, 0.21194758281043072, 0.12188250469054568, 0.23109750834636394, -2.078611900510734, -1.4125718461065768, 1.3226301173678356, 2.210811587319438, 0.36723881015481563, 0.7050702807104442, -0.905428803606851, -0.7375841040593092, -0.4226064027471685, 0.6645102742651933, -0.08735652306256615, -0.5813580330962289, 0.0716254537297011, 0.15204193295013044, 1.2331156163625931, 0.3672451559975761, -1.0078492704142434, -0.500538082300995, 0.4229458212448693, 0.6464313705076554, 0.2139423481071675, 0.1714393729772546, 1.9948550663201299, 0.4321704238991509, 0.7392842450688996, 0.541413784244687, 0.31978830459683383, -0.017365148471931328, -1.0857775822469622, -1.193103742314076, 1.099979033425753, 2.2056855426999866, -1.6669638663240616, -0.08506313981755931, -0.02951404577227692, 0.4881199025094287, -0.528706652714251, 0.3110493410602627, -0.994407222597656, -0.28465817230024915, 0.25556787422035, -1.956154522801279, 0.3883869966365133, 1.102046149073705, -0.4215054879821377, 0.24423815726095943, 0.4649265831057877, 0.4866105838030112, 0.7258641462406561, 0.66621179780112, 2.3012047560973246, 0.510448614366747, -0.0672027437684564, 0.9902492665119011, 0.995358276938806, -0.3609097311021256, -0.8462895865163238, 2.02343599829043, -1.9395551757350018, -0.09964614142319132, -0.6415266032082034, 0.09126807042650653, -0.7604286997610876, -1.4705671870066, -1.7726401934108293, 0.7123922422852348, 0.8179562452087664, 0.1397851465613479, -1.1900951296743383, 1.3545683824031913, -0.9862518332678586, 0.07713600519368458, 0.9665930002866592, -0.8836743785929374, 0.031183626981489555, -0.4541590764346655, -0.3059995675381995, -0.31819475456499857, -0.829947107638954, 0.5502331119843076, -2.2427912701229795, 0.9643634596297002, 0.4082628205500436, -0.472746067463226, 0.15807422758994447, -1.2478598233983356, 0.9421325113086404, 0.07985387835658049, 1.377428942663169, -0.17424251486922068, -0.8619395928622705, -0.7438063014346141, 1.0724948530588314, -0.2917142520456285, -0.4723161335846429], \"xaxis\": \"x13\", \"y\": [1.270781806067053, 0.3154408424411026, -0.10526839163099147, 2.5600192582589374, -1.2179187621860124, 0.37129157767021215, 1.0967997272360106, 0.8923144777313083, -1.7037498944214629, -0.8630606486421002, 0.43978025816466665, 0.4723319142191631, 0.649963633686165, 0.6759233746855181, -1.2220584534626644, 0.4666643127321919, 0.02807325642432011, 0.3644860935466444, -0.6789619122001068, -1.0054305129692656, 0.12997294444060797, -1.269003841081698, -0.9796080810237936, -0.3088770264156233, 1.241467021621208, 0.8768681493842748, 0.038222443558742145, -1.4702152961513721, -1.444907056140843, -0.471464690614252, 0.05499541973541216, 0.029655614181858934, -0.31039150868855475, -0.35952132643763735, -0.2037403878719324, -0.5575050452693112, 0.00809725602635568, 1.00624432044223, 1.0303908909005464, 0.054511986672174356, 0.27648536166354826, 1.1012620363177252, 0.9947459191271949, -1.6124939641984772, -0.08764426899411765, 0.4118193090522227, -1.6536965147305271, 2.0252771466162196, 0.7039547188679173, 0.8785479558955114, -0.30029576401389074, -1.2757376192226533, -0.01265801454794506, -0.5466167455347981, 1.520503081982652, 1.7467407388411598, 0.2576703116948325, 1.1977205844782886, -1.3511300922923384, -1.0772764026873447, 0.03369331835276964, -0.3330535138860441, -0.9659005560635886, -0.4947752346949864, 0.6599549626639645, -1.5022983391146427, 0.384469628806515, -1.821500409924272, -0.2634662097482622, 0.4297261846783113, -1.138528339160372, -0.44815914132312556, 0.35984201426264883, 0.20612245764875556, 1.1556461873420554, -0.1509426981768724, 0.7511787767048612, 0.7442448808676135, 0.49051853867483497, -0.12589218799752233, -0.9426270376730208, -0.6386623781732003, 0.2331736856222689, 0.3793989075617643, -0.7514949933361587, -1.1395063263361749, 2.678874662810904, -0.41387971473063473, 0.014884534437804397, 0.19504162801801575, -1.9668312470895433, -1.8011735460987088, 1.2357113224299532, -0.6143704271613246, 0.932425234835989, 0.6791046831283395, 1.07047868424384, -2.102912433957582, -0.9225001532946917, 1.5186496161278766], \"yaxis\": \"y13\"}, {\"line\": {\"color\": \"rgba(128, 128, 128, 1.0)\", \"dash\": \"solid\", \"shape\": \"linear\", \"width\": 1.3}, \"marker\": {\"size\": 2, \"symbol\": \"circle\"}, \"mode\": \"markers\", \"name\": \"D\", \"text\": \"\", \"type\": \"scatter\", \"x\": [-1.4196724829893959, 0.6937772020980084, -0.4812846650690201, 0.035158586908787745, -0.45017873068516073, -0.030059928365334238, -1.856233899690452, -0.5590337797075252, -0.5804073030280686, 1.150854046333595, -0.6733858899708351, 0.8266969326608955, 1.7988410661820298, 1.1778011802008324, 0.10006808003616055, 0.4809616447255042, 1.287644232127595, 1.836146110025685, -0.11151507322238065, -1.251458276052178, -1.4470616711917, 0.10723640266054896, -0.9686962871440572, 1.4393440412212073, 0.13304099023488128, 0.4908125547596066, 0.5220823956304467, 0.3507904194832665, 0.2581747768061723, 0.12205361739481664, -0.4198161734207942, -0.37561858442804985, -1.6277731441939807, 1.2670489958455784, -0.8279945448260254, 1.5243878128552988, -1.3063636827096152, -0.005083638785516138, 0.5029272510206665, 0.3076220408997537, -1.6764059119651478, -1.5851239702752005, -0.8117329131730747, -0.663458209419483, 0.0856691449911914, 0.3456908076693621, 0.9819318143923648, -1.1238915488432348, 0.07568901601486262, -0.6329608158228868, -0.04523711591711723, -0.8385342648127595, 1.3551895570715595, 1.1454304810086735, 0.15400312415551504, 0.5266222368882257, -1.6216902724729327, -1.1645414566296808, -1.3257935329411572, 1.0928850861133592, 0.4397168800217103, 0.22162291000438433, -0.4214110310069617, 1.359394341005347, 0.755569142671456, -0.047668341509316696, 1.618663837028353, 0.07553200040376101, 1.4332407885042495, -0.6812263824951286, 0.4548067533565884, 0.8378693195141234, 0.7205082805758841, 0.5173519389365746, 0.16254471065118895, 0.7989306048084983, -0.7530959571258489, 0.792995916875926, -1.3084157648844408, -0.6948613980554555, -1.3657188199513584, -0.12912859493672632, 1.4763979073116997, -1.2508979201194812, -0.520025141114111, -0.6953210758379533, 0.5677098245114643, -0.2624853987239584, 2.5523006410694515, 0.6324875821159565, -0.1924944987687054, -0.5871756946439045, -0.02944436942818076, -1.9818632242606096, -1.5142323202732133, 0.8230299179180144, -1.3975522801520963, -0.7152243646234195, 0.34084939962171656, 1.9520183792854542], \"xaxis\": \"x14\", \"y\": [1.270781806067053, 0.3154408424411026, -0.10526839163099147, 2.5600192582589374, -1.2179187621860124, 0.37129157767021215, 1.0967997272360106, 0.8923144777313083, -1.7037498944214629, -0.8630606486421002, 0.43978025816466665, 0.4723319142191631, 0.649963633686165, 0.6759233746855181, -1.2220584534626644, 0.4666643127321919, 0.02807325642432011, 0.3644860935466444, -0.6789619122001068, -1.0054305129692656, 0.12997294444060797, -1.269003841081698, -0.9796080810237936, -0.3088770264156233, 1.241467021621208, 0.8768681493842748, 0.038222443558742145, -1.4702152961513721, -1.444907056140843, -0.471464690614252, 0.05499541973541216, 0.029655614181858934, -0.31039150868855475, -0.35952132643763735, -0.2037403878719324, -0.5575050452693112, 0.00809725602635568, 1.00624432044223, 1.0303908909005464, 0.054511986672174356, 0.27648536166354826, 1.1012620363177252, 0.9947459191271949, -1.6124939641984772, -0.08764426899411765, 0.4118193090522227, -1.6536965147305271, 2.0252771466162196, 0.7039547188679173, 0.8785479558955114, -0.30029576401389074, -1.2757376192226533, -0.01265801454794506, -0.5466167455347981, 1.520503081982652, 1.7467407388411598, 0.2576703116948325, 1.1977205844782886, -1.3511300922923384, -1.0772764026873447, 0.03369331835276964, -0.3330535138860441, -0.9659005560635886, -0.4947752346949864, 0.6599549626639645, -1.5022983391146427, 0.384469628806515, -1.821500409924272, -0.2634662097482622, 0.4297261846783113, -1.138528339160372, -0.44815914132312556, 0.35984201426264883, 0.20612245764875556, 1.1556461873420554, -0.1509426981768724, 0.7511787767048612, 0.7442448808676135, 0.49051853867483497, -0.12589218799752233, -0.9426270376730208, -0.6386623781732003, 0.2331736856222689, 0.3793989075617643, -0.7514949933361587, -1.1395063263361749, 2.678874662810904, -0.41387971473063473, 0.014884534437804397, 0.19504162801801575, -1.9668312470895433, -1.8011735460987088, 1.2357113224299532, -0.6143704271613246, 0.932425234835989, 0.6791046831283395, 1.07047868424384, -2.102912433957582, -0.9225001532946917, 1.5186496161278766], \"yaxis\": \"y14\"}, {\"line\": {\"color\": \"rgba(128, 128, 128, 1.0)\", \"dash\": \"solid\", \"shape\": \"linear\", \"width\": 1.3}, \"marker\": {\"size\": 2, \"symbol\": \"circle\"}, \"mode\": \"markers\", \"name\": \"D\", \"text\": \"\", \"type\": \"scatter\", \"x\": [-0.26746978994900555, 2.3564687792981025, 0.9181394123452596, 0.6222507870671455, 1.582638642834771, -0.24615722818260605, 2.4380488659753934, 0.9767449241238326, -0.2698621373104807, 0.9744394754800235, -0.8225843088846546, -1.0368531598599837, 2.5880721618925047, 0.08748524044269824, -0.2494050612545062, -1.5283833204592536, 1.1265142577492033, -0.8164542323621912, -0.3397840134675861, -0.010003535979367569, 0.012291095492325934, -0.2959295883512938, 1.4719794587638853, 0.5156996984149198, 0.9402598027304149, -0.6133157750171416, -0.3342519403060851, 1.867659538516592, -0.13614359738634726, 1.6538217851304051, -0.5399792444678289, 0.8231754660788133, -0.6845452566505845, 1.6315740318328997, 0.862164461446557, 0.3755760247132678, 0.6269662213934344, -1.7017816920270734, 1.1570783646027152, 0.14800634363582788, -1.8993759579560812, 0.3222762134504421, -0.07470995872587621, -0.024133779889820677, -0.12713423385337635, -0.585649804599596, 1.3867501799354642, -1.6477621492077392, -1.7473889786572288, -0.9322736946725885, 0.863261635570091, 1.368550896007332, 0.3028554107303457, -0.2318497635636668, -1.0637903210653838, 0.8715935971481547, -0.666432582526232, -1.4978946173319956, 0.24867008285154873, 1.2240571933030144, 0.19453772820828144, 1.187496676297169, 0.03581789845398097, -0.7927403128027556, -0.3336644452097193, 0.019625882267146913, -0.9924772268740895, 1.0001100781242585, 0.2111278540045392, 0.40882434546640334, 0.13323454904917018, -0.33733935475835186, 0.7774545019837307, 0.5577021693673793, 0.09739797345406256, 1.5373575058155147, -1.5082373496248003, 1.586501833646212, -0.5294725172554345, -0.30998298825803655, -0.6788919317976443, 1.672882536865222, -0.6660514206113448, -0.9345012367390731, -1.4669705466958005, 0.07035789983529755, -1.4032505352807945, 1.7689111968809879, -0.19844344560314478, -0.40038193016732043, 0.04329104181436085, 0.40083594554201213, 1.3119613356546358, -0.6827434615000966, -0.7185051107281525, 0.4205631782559048, 0.10612500333978087, 0.5336950914526908, 2.1507113717848303, 1.197182568034859], \"xaxis\": \"x15\", \"y\": [1.270781806067053, 0.3154408424411026, -0.10526839163099147, 2.5600192582589374, -1.2179187621860124, 0.37129157767021215, 1.0967997272360106, 0.8923144777313083, -1.7037498944214629, -0.8630606486421002, 0.43978025816466665, 0.4723319142191631, 0.649963633686165, 0.6759233746855181, -1.2220584534626644, 0.4666643127321919, 0.02807325642432011, 0.3644860935466444, -0.6789619122001068, -1.0054305129692656, 0.12997294444060797, -1.269003841081698, -0.9796080810237936, -0.3088770264156233, 1.241467021621208, 0.8768681493842748, 0.038222443558742145, -1.4702152961513721, -1.444907056140843, -0.471464690614252, 0.05499541973541216, 0.029655614181858934, -0.31039150868855475, -0.35952132643763735, -0.2037403878719324, -0.5575050452693112, 0.00809725602635568, 1.00624432044223, 1.0303908909005464, 0.054511986672174356, 0.27648536166354826, 1.1012620363177252, 0.9947459191271949, -1.6124939641984772, -0.08764426899411765, 0.4118193090522227, -1.6536965147305271, 2.0252771466162196, 0.7039547188679173, 0.8785479558955114, -0.30029576401389074, -1.2757376192226533, -0.01265801454794506, -0.5466167455347981, 1.520503081982652, 1.7467407388411598, 0.2576703116948325, 1.1977205844782886, -1.3511300922923384, -1.0772764026873447, 0.03369331835276964, -0.3330535138860441, -0.9659005560635886, -0.4947752346949864, 0.6599549626639645, -1.5022983391146427, 0.384469628806515, -1.821500409924272, -0.2634662097482622, 0.4297261846783113, -1.138528339160372, -0.44815914132312556, 0.35984201426264883, 0.20612245764875556, 1.1556461873420554, -0.1509426981768724, 0.7511787767048612, 0.7442448808676135, 0.49051853867483497, -0.12589218799752233, -0.9426270376730208, -0.6386623781732003, 0.2331736856222689, 0.3793989075617643, -0.7514949933361587, -1.1395063263361749, 2.678874662810904, -0.41387971473063473, 0.014884534437804397, 0.19504162801801575, -1.9668312470895433, -1.8011735460987088, 1.2357113224299532, -0.6143704271613246, 0.932425234835989, 0.6791046831283395, 1.07047868424384, -2.102912433957582, -0.9225001532946917, 1.5186496161278766], \"yaxis\": \"y15\"}, {\"histfunc\": \"count\", \"histnorm\": \"\", \"marker\": {\"color\": \"rgba(128, 0, 128, 1.0)\", \"line\": {\"color\": \"#4D5663\", \"width\": 1.3}}, \"name\": \"D\", \"nbinsx\": 10, \"opacity\": 0.8, \"orientation\": \"v\", \"type\": \"histogram\", \"x\": [1.270781806067053, 0.3154408424411026, -0.10526839163099147, 2.5600192582589374, -1.2179187621860124, 0.37129157767021215, 1.0967997272360106, 0.8923144777313083, -1.7037498944214629, -0.8630606486421002, 0.43978025816466665, 0.4723319142191631, 0.649963633686165, 0.6759233746855181, -1.2220584534626644, 0.4666643127321919, 0.02807325642432011, 0.3644860935466444, -0.6789619122001068, -1.0054305129692656, 0.12997294444060797, -1.269003841081698, -0.9796080810237936, -0.3088770264156233, 1.241467021621208, 0.8768681493842748, 0.038222443558742145, -1.4702152961513721, -1.444907056140843, -0.471464690614252, 0.05499541973541216, 0.029655614181858934, -0.31039150868855475, -0.35952132643763735, -0.2037403878719324, -0.5575050452693112, 0.00809725602635568, 1.00624432044223, 1.0303908909005464, 0.054511986672174356, 0.27648536166354826, 1.1012620363177252, 0.9947459191271949, -1.6124939641984772, -0.08764426899411765, 0.4118193090522227, -1.6536965147305271, 2.0252771466162196, 0.7039547188679173, 0.8785479558955114, -0.30029576401389074, -1.2757376192226533, -0.01265801454794506, -0.5466167455347981, 1.520503081982652, 1.7467407388411598, 0.2576703116948325, 1.1977205844782886, -1.3511300922923384, -1.0772764026873447, 0.03369331835276964, -0.3330535138860441, -0.9659005560635886, -0.4947752346949864, 0.6599549626639645, -1.5022983391146427, 0.384469628806515, -1.821500409924272, -0.2634662097482622, 0.4297261846783113, -1.138528339160372, -0.44815914132312556, 0.35984201426264883, 0.20612245764875556, 1.1556461873420554, -0.1509426981768724, 0.7511787767048612, 0.7442448808676135, 0.49051853867483497, -0.12589218799752233, -0.9426270376730208, -0.6386623781732003, 0.2331736856222689, 0.3793989075617643, -0.7514949933361587, -1.1395063263361749, 2.678874662810904, -0.41387971473063473, 0.014884534437804397, 0.19504162801801575, -1.9668312470895433, -1.8011735460987088, 1.2357113224299532, -0.6143704271613246, 0.932425234835989, 0.6791046831283395, 1.07047868424384, -2.102912433957582, -0.9225001532946917, 1.5186496161278766], \"xaxis\": \"x16\", \"yaxis\": \"y16\"}],                        {\"bargap\": 0.02, \"legend\": {\"bgcolor\": \"#F5F6F9\", \"font\": {\"color\": \"#4D5663\"}}, \"paper_bgcolor\": \"#F5F6F9\", \"plot_bgcolor\": \"#F5F6F9\", \"showlegend\": false, \"template\": {\"data\": {\"bar\": [{\"error_x\": {\"color\": \"#2a3f5f\"}, \"error_y\": {\"color\": \"#2a3f5f\"}, \"marker\": {\"line\": {\"color\": \"#E5ECF6\", \"width\": 0.5}}, \"type\": \"bar\"}], \"barpolar\": [{\"marker\": {\"line\": {\"color\": \"#E5ECF6\", \"width\": 0.5}}, \"type\": \"barpolar\"}], \"carpet\": [{\"aaxis\": {\"endlinecolor\": \"#2a3f5f\", \"gridcolor\": \"white\", \"linecolor\": \"white\", \"minorgridcolor\": \"white\", \"startlinecolor\": \"#2a3f5f\"}, \"baxis\": {\"endlinecolor\": \"#2a3f5f\", \"gridcolor\": \"white\", \"linecolor\": \"white\", \"minorgridcolor\": \"white\", \"startlinecolor\": \"#2a3f5f\"}, \"type\": \"carpet\"}], \"choropleth\": [{\"colorbar\": {\"outlinewidth\": 0, \"ticks\": \"\"}, \"type\": \"choropleth\"}], \"contour\": [{\"colorbar\": {\"outlinewidth\": 0, \"ticks\": \"\"}, \"colorscale\": [[0.0, \"#0d0887\"], [0.1111111111111111, \"#46039f\"], [0.2222222222222222, \"#7201a8\"], [0.3333333333333333, \"#9c179e\"], [0.4444444444444444, \"#bd3786\"], [0.5555555555555556, \"#d8576b\"], [0.6666666666666666, \"#ed7953\"], [0.7777777777777778, \"#fb9f3a\"], [0.8888888888888888, \"#fdca26\"], [1.0, \"#f0f921\"]], \"type\": \"contour\"}], \"contourcarpet\": [{\"colorbar\": {\"outlinewidth\": 0, \"ticks\": \"\"}, \"type\": \"contourcarpet\"}], \"heatmap\": [{\"colorbar\": {\"outlinewidth\": 0, \"ticks\": \"\"}, \"colorscale\": [[0.0, \"#0d0887\"], [0.1111111111111111, \"#46039f\"], [0.2222222222222222, \"#7201a8\"], [0.3333333333333333, \"#9c179e\"], [0.4444444444444444, \"#bd3786\"], [0.5555555555555556, \"#d8576b\"], [0.6666666666666666, \"#ed7953\"], [0.7777777777777778, \"#fb9f3a\"], [0.8888888888888888, \"#fdca26\"], [1.0, \"#f0f921\"]], \"type\": \"heatmap\"}], \"heatmapgl\": [{\"colorbar\": {\"outlinewidth\": 0, \"ticks\": \"\"}, \"colorscale\": [[0.0, \"#0d0887\"], [0.1111111111111111, \"#46039f\"], [0.2222222222222222, \"#7201a8\"], [0.3333333333333333, \"#9c179e\"], [0.4444444444444444, \"#bd3786\"], [0.5555555555555556, \"#d8576b\"], [0.6666666666666666, \"#ed7953\"], [0.7777777777777778, \"#fb9f3a\"], [0.8888888888888888, \"#fdca26\"], [1.0, \"#f0f921\"]], \"type\": \"heatmapgl\"}], \"histogram\": [{\"marker\": {\"colorbar\": {\"outlinewidth\": 0, \"ticks\": \"\"}}, \"type\": \"histogram\"}], \"histogram2d\": [{\"colorbar\": {\"outlinewidth\": 0, \"ticks\": \"\"}, \"colorscale\": [[0.0, \"#0d0887\"], [0.1111111111111111, \"#46039f\"], [0.2222222222222222, \"#7201a8\"], [0.3333333333333333, \"#9c179e\"], [0.4444444444444444, \"#bd3786\"], [0.5555555555555556, \"#d8576b\"], [0.6666666666666666, \"#ed7953\"], [0.7777777777777778, \"#fb9f3a\"], [0.8888888888888888, \"#fdca26\"], [1.0, \"#f0f921\"]], \"type\": \"histogram2d\"}], \"histogram2dcontour\": [{\"colorbar\": {\"outlinewidth\": 0, \"ticks\": \"\"}, \"colorscale\": [[0.0, \"#0d0887\"], [0.1111111111111111, \"#46039f\"], [0.2222222222222222, \"#7201a8\"], [0.3333333333333333, \"#9c179e\"], [0.4444444444444444, \"#bd3786\"], [0.5555555555555556, \"#d8576b\"], [0.6666666666666666, \"#ed7953\"], [0.7777777777777778, \"#fb9f3a\"], [0.8888888888888888, \"#fdca26\"], [1.0, \"#f0f921\"]], \"type\": \"histogram2dcontour\"}], \"mesh3d\": [{\"colorbar\": {\"outlinewidth\": 0, \"ticks\": \"\"}, \"type\": \"mesh3d\"}], \"parcoords\": [{\"line\": {\"colorbar\": {\"outlinewidth\": 0, \"ticks\": \"\"}}, \"type\": \"parcoords\"}], \"pie\": [{\"automargin\": true, \"type\": \"pie\"}], \"scatter\": [{\"marker\": {\"colorbar\": {\"outlinewidth\": 0, \"ticks\": \"\"}}, \"type\": \"scatter\"}], \"scatter3d\": [{\"line\": {\"colorbar\": {\"outlinewidth\": 0, \"ticks\": \"\"}}, \"marker\": {\"colorbar\": {\"outlinewidth\": 0, \"ticks\": \"\"}}, \"type\": \"scatter3d\"}], \"scattercarpet\": [{\"marker\": {\"colorbar\": {\"outlinewidth\": 0, \"ticks\": \"\"}}, \"type\": \"scattercarpet\"}], \"scattergeo\": [{\"marker\": {\"colorbar\": {\"outlinewidth\": 0, \"ticks\": \"\"}}, \"type\": \"scattergeo\"}], \"scattergl\": [{\"marker\": {\"colorbar\": {\"outlinewidth\": 0, \"ticks\": \"\"}}, \"type\": \"scattergl\"}], \"scattermapbox\": [{\"marker\": {\"colorbar\": {\"outlinewidth\": 0, \"ticks\": \"\"}}, \"type\": \"scattermapbox\"}], \"scatterpolar\": [{\"marker\": {\"colorbar\": {\"outlinewidth\": 0, \"ticks\": \"\"}}, \"type\": \"scatterpolar\"}], \"scatterpolargl\": [{\"marker\": {\"colorbar\": {\"outlinewidth\": 0, \"ticks\": \"\"}}, \"type\": \"scatterpolargl\"}], \"scatterternary\": [{\"marker\": {\"colorbar\": {\"outlinewidth\": 0, \"ticks\": \"\"}}, \"type\": \"scatterternary\"}], \"surface\": [{\"colorbar\": {\"outlinewidth\": 0, \"ticks\": \"\"}, \"colorscale\": [[0.0, \"#0d0887\"], [0.1111111111111111, \"#46039f\"], [0.2222222222222222, \"#7201a8\"], [0.3333333333333333, \"#9c179e\"], [0.4444444444444444, \"#bd3786\"], [0.5555555555555556, \"#d8576b\"], [0.6666666666666666, \"#ed7953\"], [0.7777777777777778, \"#fb9f3a\"], [0.8888888888888888, \"#fdca26\"], [1.0, \"#f0f921\"]], \"type\": \"surface\"}], \"table\": [{\"cells\": {\"fill\": {\"color\": \"#EBF0F8\"}, \"line\": {\"color\": \"white\"}}, \"header\": {\"fill\": {\"color\": \"#C8D4E3\"}, \"line\": {\"color\": \"white\"}}, \"type\": \"table\"}]}, \"layout\": {\"annotationdefaults\": {\"arrowcolor\": \"#2a3f5f\", \"arrowhead\": 0, \"arrowwidth\": 1}, \"autotypenumbers\": \"strict\", \"coloraxis\": {\"colorbar\": {\"outlinewidth\": 0, \"ticks\": \"\"}}, \"colorscale\": {\"diverging\": [[0, \"#8e0152\"], [0.1, \"#c51b7d\"], [0.2, \"#de77ae\"], [0.3, \"#f1b6da\"], [0.4, \"#fde0ef\"], [0.5, \"#f7f7f7\"], [0.6, \"#e6f5d0\"], [0.7, \"#b8e186\"], [0.8, \"#7fbc41\"], [0.9, \"#4d9221\"], [1, \"#276419\"]], \"sequential\": [[0.0, \"#0d0887\"], [0.1111111111111111, \"#46039f\"], [0.2222222222222222, \"#7201a8\"], [0.3333333333333333, \"#9c179e\"], [0.4444444444444444, \"#bd3786\"], [0.5555555555555556, \"#d8576b\"], [0.6666666666666666, \"#ed7953\"], [0.7777777777777778, \"#fb9f3a\"], [0.8888888888888888, \"#fdca26\"], [1.0, \"#f0f921\"]], \"sequentialminus\": [[0.0, \"#0d0887\"], [0.1111111111111111, \"#46039f\"], [0.2222222222222222, \"#7201a8\"], [0.3333333333333333, \"#9c179e\"], [0.4444444444444444, \"#bd3786\"], [0.5555555555555556, \"#d8576b\"], [0.6666666666666666, \"#ed7953\"], [0.7777777777777778, \"#fb9f3a\"], [0.8888888888888888, \"#fdca26\"], [1.0, \"#f0f921\"]]}, \"colorway\": [\"#636efa\", \"#EF553B\", \"#00cc96\", \"#ab63fa\", \"#FFA15A\", \"#19d3f3\", \"#FF6692\", \"#B6E880\", \"#FF97FF\", \"#FECB52\"], \"font\": {\"color\": \"#2a3f5f\"}, \"geo\": {\"bgcolor\": \"white\", \"lakecolor\": \"white\", \"landcolor\": \"#E5ECF6\", \"showlakes\": true, \"showland\": true, \"subunitcolor\": \"white\"}, \"hoverlabel\": {\"align\": \"left\"}, \"hovermode\": \"closest\", \"mapbox\": {\"style\": \"light\"}, \"paper_bgcolor\": \"white\", \"plot_bgcolor\": \"#E5ECF6\", \"polar\": {\"angularaxis\": {\"gridcolor\": \"white\", \"linecolor\": \"white\", \"ticks\": \"\"}, \"bgcolor\": \"#E5ECF6\", \"radialaxis\": {\"gridcolor\": \"white\", \"linecolor\": \"white\", \"ticks\": \"\"}}, \"scene\": {\"xaxis\": {\"backgroundcolor\": \"#E5ECF6\", \"gridcolor\": \"white\", \"gridwidth\": 2, \"linecolor\": \"white\", \"showbackground\": true, \"ticks\": \"\", \"zerolinecolor\": \"white\"}, \"yaxis\": {\"backgroundcolor\": \"#E5ECF6\", \"gridcolor\": \"white\", \"gridwidth\": 2, \"linecolor\": \"white\", \"showbackground\": true, \"ticks\": \"\", \"zerolinecolor\": \"white\"}, \"zaxis\": {\"backgroundcolor\": \"#E5ECF6\", \"gridcolor\": \"white\", \"gridwidth\": 2, \"linecolor\": \"white\", \"showbackground\": true, \"ticks\": \"\", \"zerolinecolor\": \"white\"}}, \"shapedefaults\": {\"line\": {\"color\": \"#2a3f5f\"}}, \"ternary\": {\"aaxis\": {\"gridcolor\": \"white\", \"linecolor\": \"white\", \"ticks\": \"\"}, \"baxis\": {\"gridcolor\": \"white\", \"linecolor\": \"white\", \"ticks\": \"\"}, \"bgcolor\": \"#E5ECF6\", \"caxis\": {\"gridcolor\": \"white\", \"linecolor\": \"white\", \"ticks\": \"\"}}, \"title\": {\"x\": 0.05}, \"xaxis\": {\"automargin\": true, \"gridcolor\": \"white\", \"linecolor\": \"white\", \"ticks\": \"\", \"title\": {\"standoff\": 15}, \"zerolinecolor\": \"white\", \"zerolinewidth\": 2}, \"yaxis\": {\"automargin\": true, \"gridcolor\": \"white\", \"linecolor\": \"white\", \"ticks\": \"\", \"title\": {\"standoff\": 15}, \"zerolinecolor\": \"white\", \"zerolinewidth\": 2}}}, \"title\": {\"font\": {\"color\": \"#4D5663\"}}, \"xaxis\": {\"anchor\": \"y\", \"domain\": [0.0, 0.2125], \"gridcolor\": \"#E1E5ED\", \"showgrid\": false, \"tickfont\": {\"color\": \"#4D5663\"}, \"title\": {\"font\": {\"color\": \"#4D5663\"}, \"text\": \"\"}, \"zerolinecolor\": \"#E1E5ED\"}, \"xaxis10\": {\"anchor\": \"y10\", \"domain\": [0.2625, 0.475], \"gridcolor\": \"#E1E5ED\", \"showgrid\": false, \"tickfont\": {\"color\": \"#4D5663\"}, \"title\": {\"font\": {\"color\": \"#4D5663\"}, \"text\": \"\"}, \"zerolinecolor\": \"#E1E5ED\"}, \"xaxis11\": {\"anchor\": \"y11\", \"domain\": [0.525, 0.7375], \"gridcolor\": \"#E1E5ED\", \"showgrid\": false, \"tickfont\": {\"color\": \"#4D5663\"}, \"title\": {\"font\": {\"color\": \"#4D5663\"}, \"text\": \"\"}, \"zerolinecolor\": \"#E1E5ED\"}, \"xaxis12\": {\"anchor\": \"y12\", \"domain\": [0.7875, 1.0], \"gridcolor\": \"#E1E5ED\", \"showgrid\": false, \"tickfont\": {\"color\": \"#4D5663\"}, \"title\": {\"font\": {\"color\": \"#4D5663\"}, \"text\": \"\"}, \"zerolinecolor\": \"#E1E5ED\"}, \"xaxis13\": {\"anchor\": \"y13\", \"domain\": [0.0, 0.2125], \"gridcolor\": \"#E1E5ED\", \"showgrid\": false, \"tickfont\": {\"color\": \"#4D5663\"}, \"title\": {\"font\": {\"color\": \"#4D5663\"}, \"text\": \"\"}, \"zerolinecolor\": \"#E1E5ED\"}, \"xaxis14\": {\"anchor\": \"y14\", \"domain\": [0.2625, 0.475], \"gridcolor\": \"#E1E5ED\", \"showgrid\": false, \"tickfont\": {\"color\": \"#4D5663\"}, \"title\": {\"font\": {\"color\": \"#4D5663\"}, \"text\": \"\"}, \"zerolinecolor\": \"#E1E5ED\"}, \"xaxis15\": {\"anchor\": \"y15\", \"domain\": [0.525, 0.7375], \"gridcolor\": \"#E1E5ED\", \"showgrid\": false, \"tickfont\": {\"color\": \"#4D5663\"}, \"title\": {\"font\": {\"color\": \"#4D5663\"}, \"text\": \"\"}, \"zerolinecolor\": \"#E1E5ED\"}, \"xaxis16\": {\"anchor\": \"y16\", \"domain\": [0.7875, 1.0], \"gridcolor\": \"#E1E5ED\", \"showgrid\": false, \"tickfont\": {\"color\": \"#4D5663\"}, \"title\": {\"font\": {\"color\": \"#4D5663\"}, \"text\": \"\"}, \"zerolinecolor\": \"#E1E5ED\"}, \"xaxis2\": {\"anchor\": \"y2\", \"domain\": [0.2625, 0.475], \"gridcolor\": \"#E1E5ED\", \"showgrid\": false, \"tickfont\": {\"color\": \"#4D5663\"}, \"title\": {\"font\": {\"color\": \"#4D5663\"}, \"text\": \"\"}, \"zerolinecolor\": \"#E1E5ED\"}, \"xaxis3\": {\"anchor\": \"y3\", \"domain\": [0.525, 0.7375], \"gridcolor\": \"#E1E5ED\", \"showgrid\": false, \"tickfont\": {\"color\": \"#4D5663\"}, \"title\": {\"font\": {\"color\": \"#4D5663\"}, \"text\": \"\"}, \"zerolinecolor\": \"#E1E5ED\"}, \"xaxis4\": {\"anchor\": \"y4\", \"domain\": [0.7875, 1.0], \"gridcolor\": \"#E1E5ED\", \"showgrid\": false, \"tickfont\": {\"color\": \"#4D5663\"}, \"title\": {\"font\": {\"color\": \"#4D5663\"}, \"text\": \"\"}, \"zerolinecolor\": \"#E1E5ED\"}, \"xaxis5\": {\"anchor\": \"y5\", \"domain\": [0.0, 0.2125], \"gridcolor\": \"#E1E5ED\", \"showgrid\": false, \"tickfont\": {\"color\": \"#4D5663\"}, \"title\": {\"font\": {\"color\": \"#4D5663\"}, \"text\": \"\"}, \"zerolinecolor\": \"#E1E5ED\"}, \"xaxis6\": {\"anchor\": \"y6\", \"domain\": [0.2625, 0.475], \"gridcolor\": \"#E1E5ED\", \"showgrid\": false, \"tickfont\": {\"color\": \"#4D5663\"}, \"title\": {\"font\": {\"color\": \"#4D5663\"}, \"text\": \"\"}, \"zerolinecolor\": \"#E1E5ED\"}, \"xaxis7\": {\"anchor\": \"y7\", \"domain\": [0.525, 0.7375], \"gridcolor\": \"#E1E5ED\", \"showgrid\": false, \"tickfont\": {\"color\": \"#4D5663\"}, \"title\": {\"font\": {\"color\": \"#4D5663\"}, \"text\": \"\"}, \"zerolinecolor\": \"#E1E5ED\"}, \"xaxis8\": {\"anchor\": \"y8\", \"domain\": [0.7875, 1.0], \"gridcolor\": \"#E1E5ED\", \"showgrid\": false, \"tickfont\": {\"color\": \"#4D5663\"}, \"title\": {\"font\": {\"color\": \"#4D5663\"}, \"text\": \"\"}, \"zerolinecolor\": \"#E1E5ED\"}, \"xaxis9\": {\"anchor\": \"y9\", \"domain\": [0.0, 0.2125], \"gridcolor\": \"#E1E5ED\", \"showgrid\": false, \"tickfont\": {\"color\": \"#4D5663\"}, \"title\": {\"font\": {\"color\": \"#4D5663\"}, \"text\": \"\"}, \"zerolinecolor\": \"#E1E5ED\"}, \"yaxis\": {\"anchor\": \"x\", \"domain\": [0.8025, 1.0], \"gridcolor\": \"#E1E5ED\", \"showgrid\": false, \"tickfont\": {\"color\": \"#4D5663\"}, \"title\": {\"font\": {\"color\": \"#4D5663\"}, \"text\": \"\"}, \"zerolinecolor\": \"#E1E5ED\"}, \"yaxis10\": {\"anchor\": \"x10\", \"domain\": [0.2675, 0.465], \"gridcolor\": \"#E1E5ED\", \"showgrid\": false, \"tickfont\": {\"color\": \"#4D5663\"}, \"title\": {\"font\": {\"color\": \"#4D5663\"}, \"text\": \"\"}, \"zerolinecolor\": \"#E1E5ED\"}, \"yaxis11\": {\"anchor\": \"x11\", \"domain\": [0.2675, 0.465], \"gridcolor\": \"#E1E5ED\", \"showgrid\": false, \"tickfont\": {\"color\": \"#4D5663\"}, \"title\": {\"font\": {\"color\": \"#4D5663\"}, \"text\": \"\"}, \"zerolinecolor\": \"#E1E5ED\"}, \"yaxis12\": {\"anchor\": \"x12\", \"domain\": [0.2675, 0.465], \"gridcolor\": \"#E1E5ED\", \"showgrid\": false, \"tickfont\": {\"color\": \"#4D5663\"}, \"title\": {\"font\": {\"color\": \"#4D5663\"}, \"text\": \"\"}, \"zerolinecolor\": \"#E1E5ED\"}, \"yaxis13\": {\"anchor\": \"x13\", \"domain\": [0.0, 0.1975], \"gridcolor\": \"#E1E5ED\", \"showgrid\": false, \"tickfont\": {\"color\": \"#4D5663\"}, \"title\": {\"font\": {\"color\": \"#4D5663\"}, \"text\": \"\"}, \"zerolinecolor\": \"#E1E5ED\"}, \"yaxis14\": {\"anchor\": \"x14\", \"domain\": [0.0, 0.1975], \"gridcolor\": \"#E1E5ED\", \"showgrid\": false, \"tickfont\": {\"color\": \"#4D5663\"}, \"title\": {\"font\": {\"color\": \"#4D5663\"}, \"text\": \"\"}, \"zerolinecolor\": \"#E1E5ED\"}, \"yaxis15\": {\"anchor\": \"x15\", \"domain\": [0.0, 0.1975], \"gridcolor\": \"#E1E5ED\", \"showgrid\": false, \"tickfont\": {\"color\": \"#4D5663\"}, \"title\": {\"font\": {\"color\": \"#4D5663\"}, \"text\": \"\"}, \"zerolinecolor\": \"#E1E5ED\"}, \"yaxis16\": {\"anchor\": \"x16\", \"domain\": [0.0, 0.1975], \"gridcolor\": \"#E1E5ED\", \"showgrid\": false, \"tickfont\": {\"color\": \"#4D5663\"}, \"title\": {\"font\": {\"color\": \"#4D5663\"}, \"text\": \"\"}, \"zerolinecolor\": \"#E1E5ED\"}, \"yaxis2\": {\"anchor\": \"x2\", \"domain\": [0.8025, 1.0], \"gridcolor\": \"#E1E5ED\", \"showgrid\": false, \"tickfont\": {\"color\": \"#4D5663\"}, \"title\": {\"font\": {\"color\": \"#4D5663\"}, \"text\": \"\"}, \"zerolinecolor\": \"#E1E5ED\"}, \"yaxis3\": {\"anchor\": \"x3\", \"domain\": [0.8025, 1.0], \"gridcolor\": \"#E1E5ED\", \"showgrid\": false, \"tickfont\": {\"color\": \"#4D5663\"}, \"title\": {\"font\": {\"color\": \"#4D5663\"}, \"text\": \"\"}, \"zerolinecolor\": \"#E1E5ED\"}, \"yaxis4\": {\"anchor\": \"x4\", \"domain\": [0.8025, 1.0], \"gridcolor\": \"#E1E5ED\", \"showgrid\": false, \"tickfont\": {\"color\": \"#4D5663\"}, \"title\": {\"font\": {\"color\": \"#4D5663\"}, \"text\": \"\"}, \"zerolinecolor\": \"#E1E5ED\"}, \"yaxis5\": {\"anchor\": \"x5\", \"domain\": [0.535, 0.7325], \"gridcolor\": \"#E1E5ED\", \"showgrid\": false, \"tickfont\": {\"color\": \"#4D5663\"}, \"title\": {\"font\": {\"color\": \"#4D5663\"}, \"text\": \"\"}, \"zerolinecolor\": \"#E1E5ED\"}, \"yaxis6\": {\"anchor\": \"x6\", \"domain\": [0.535, 0.7325], \"gridcolor\": \"#E1E5ED\", \"showgrid\": false, \"tickfont\": {\"color\": \"#4D5663\"}, \"title\": {\"font\": {\"color\": \"#4D5663\"}, \"text\": \"\"}, \"zerolinecolor\": \"#E1E5ED\"}, \"yaxis7\": {\"anchor\": \"x7\", \"domain\": [0.535, 0.7325], \"gridcolor\": \"#E1E5ED\", \"showgrid\": false, \"tickfont\": {\"color\": \"#4D5663\"}, \"title\": {\"font\": {\"color\": \"#4D5663\"}, \"text\": \"\"}, \"zerolinecolor\": \"#E1E5ED\"}, \"yaxis8\": {\"anchor\": \"x8\", \"domain\": [0.535, 0.7325], \"gridcolor\": \"#E1E5ED\", \"showgrid\": false, \"tickfont\": {\"color\": \"#4D5663\"}, \"title\": {\"font\": {\"color\": \"#4D5663\"}, \"text\": \"\"}, \"zerolinecolor\": \"#E1E5ED\"}, \"yaxis9\": {\"anchor\": \"x9\", \"domain\": [0.2675, 0.465], \"gridcolor\": \"#E1E5ED\", \"showgrid\": false, \"tickfont\": {\"color\": \"#4D5663\"}, \"title\": {\"font\": {\"color\": \"#4D5663\"}, \"text\": \"\"}, \"zerolinecolor\": \"#E1E5ED\"}},                        {\"showLink\": true, \"linkText\": \"Export to plot.ly\", \"plotlyServerURL\": \"https://plot.ly\", \"responsive\": true}                    ).then(function(){\n",
       "                            \n",
       "var gd = document.getElementById('1b8fa6d6-1312-4607-9ed8-68223ec51d33');\n",
       "var x = new MutationObserver(function (mutations, observer) {{\n",
       "        var display = window.getComputedStyle(gd).display;\n",
       "        if (!display || display === 'none') {{\n",
       "            console.log([gd, 'removed!']);\n",
       "            Plotly.purge(gd);\n",
       "            observer.disconnect();\n",
       "        }}\n",
       "}});\n",
       "\n",
       "// Listen for the removal of the full notebook cells\n",
       "var notebookContainer = gd.closest('#notebook-container');\n",
       "if (notebookContainer) {{\n",
       "    x.observe(notebookContainer, {childList: true});\n",
       "}}\n",
       "\n",
       "// Listen for the clearing of the current output cell\n",
       "var outputEl = gd.closest('.output');\n",
       "if (outputEl) {{\n",
       "    x.observe(outputEl, {childList: true});\n",
       "}}\n",
       "\n",
       "                        })                };                });            </script>        </div>"
      ]
     },
     "metadata": {},
     "output_type": "display_data"
    }
   ],
   "source": [
    "df.scatter_matrix()"
   ]
  },
  {
   "cell_type": "markdown",
   "metadata": {
    "collapsed": true
   },
   "source": [
    "# Great Job!"
   ]
  }
 ],
 "metadata": {
  "kernelspec": {
   "display_name": "Python 3",
   "language": "python",
   "name": "python3"
  },
  "language_info": {
   "codemirror_mode": {
    "name": "ipython",
    "version": 3
   },
   "file_extension": ".py",
   "mimetype": "text/x-python",
   "name": "python",
   "nbconvert_exporter": "python",
   "pygments_lexer": "ipython3",
   "version": "3.8.5"
  }
 },
 "nbformat": 4,
 "nbformat_minor": 1
}
